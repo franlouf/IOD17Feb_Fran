{
  "cells": [
    {
      "cell_type": "markdown",
      "metadata": {
        "id": "XXUiceLiLNOv"
      },
      "source": [
        "<div>\n",
        "<img src=https://www.institutedata.com/wp-content/uploads/2019/10/iod_h_tp_primary_c.svg width=\"300\">\n",
        "</div>"
      ]
    },
    {
      "cell_type": "markdown",
      "metadata": {
        "id": "SmJwFqq5LNOx"
      },
      "source": [
        "# Lab 8.2: Working with Text\n",
        "- Using [NLTK](http://www.nltk.org) (Natural Language Toolkit)\n",
        "- Using [spaCy](https://spacy.io)\n",
        "\n",
        "INSTRUCTIONS:\n",
        "- Run the cells\n",
        "- Observe and understand the results\n",
        "- Answer the questions"
      ]
    },
    {
      "cell_type": "markdown",
      "metadata": {
        "id": "I83eiiJqLNO0"
      },
      "source": [
        "## Import libraries"
      ]
    },
    {
      "cell_type": "code",
      "execution_count": 1,
      "metadata": {
        "colab": {
          "base_uri": "https://localhost:8080/"
        },
        "id": "UXFHD_re0K-H",
        "outputId": "d6e0ad03-97fd-4c58-ed79-d13112df8492"
      },
      "outputs": [
        {
          "output_type": "stream",
          "name": "stdout",
          "text": [
            "Requirement already satisfied: spacy in /usr/local/lib/python3.11/dist-packages (3.8.7)\n",
            "Requirement already satisfied: spacy-legacy<3.1.0,>=3.0.11 in /usr/local/lib/python3.11/dist-packages (from spacy) (3.0.12)\n",
            "Requirement already satisfied: spacy-loggers<2.0.0,>=1.0.0 in /usr/local/lib/python3.11/dist-packages (from spacy) (1.0.5)\n",
            "Requirement already satisfied: murmurhash<1.1.0,>=0.28.0 in /usr/local/lib/python3.11/dist-packages (from spacy) (1.0.13)\n",
            "Requirement already satisfied: cymem<2.1.0,>=2.0.2 in /usr/local/lib/python3.11/dist-packages (from spacy) (2.0.11)\n",
            "Requirement already satisfied: preshed<3.1.0,>=3.0.2 in /usr/local/lib/python3.11/dist-packages (from spacy) (3.0.10)\n",
            "Requirement already satisfied: thinc<8.4.0,>=8.3.4 in /usr/local/lib/python3.11/dist-packages (from spacy) (8.3.6)\n",
            "Requirement already satisfied: wasabi<1.2.0,>=0.9.1 in /usr/local/lib/python3.11/dist-packages (from spacy) (1.1.3)\n",
            "Requirement already satisfied: srsly<3.0.0,>=2.4.3 in /usr/local/lib/python3.11/dist-packages (from spacy) (2.5.1)\n",
            "Requirement already satisfied: catalogue<2.1.0,>=2.0.6 in /usr/local/lib/python3.11/dist-packages (from spacy) (2.0.10)\n",
            "Requirement already satisfied: weasel<0.5.0,>=0.1.0 in /usr/local/lib/python3.11/dist-packages (from spacy) (0.4.1)\n",
            "Requirement already satisfied: typer<1.0.0,>=0.3.0 in /usr/local/lib/python3.11/dist-packages (from spacy) (0.16.0)\n",
            "Requirement already satisfied: tqdm<5.0.0,>=4.38.0 in /usr/local/lib/python3.11/dist-packages (from spacy) (4.67.1)\n",
            "Requirement already satisfied: numpy>=1.19.0 in /usr/local/lib/python3.11/dist-packages (from spacy) (2.0.2)\n",
            "Requirement already satisfied: requests<3.0.0,>=2.13.0 in /usr/local/lib/python3.11/dist-packages (from spacy) (2.32.3)\n",
            "Requirement already satisfied: pydantic!=1.8,!=1.8.1,<3.0.0,>=1.7.4 in /usr/local/lib/python3.11/dist-packages (from spacy) (2.11.7)\n",
            "Requirement already satisfied: jinja2 in /usr/local/lib/python3.11/dist-packages (from spacy) (3.1.6)\n",
            "Requirement already satisfied: setuptools in /usr/local/lib/python3.11/dist-packages (from spacy) (75.2.0)\n",
            "Requirement already satisfied: packaging>=20.0 in /usr/local/lib/python3.11/dist-packages (from spacy) (24.2)\n",
            "Requirement already satisfied: langcodes<4.0.0,>=3.2.0 in /usr/local/lib/python3.11/dist-packages (from spacy) (3.5.0)\n",
            "Requirement already satisfied: language-data>=1.2 in /usr/local/lib/python3.11/dist-packages (from langcodes<4.0.0,>=3.2.0->spacy) (1.3.0)\n",
            "Requirement already satisfied: annotated-types>=0.6.0 in /usr/local/lib/python3.11/dist-packages (from pydantic!=1.8,!=1.8.1,<3.0.0,>=1.7.4->spacy) (0.7.0)\n",
            "Requirement already satisfied: pydantic-core==2.33.2 in /usr/local/lib/python3.11/dist-packages (from pydantic!=1.8,!=1.8.1,<3.0.0,>=1.7.4->spacy) (2.33.2)\n",
            "Requirement already satisfied: typing-extensions>=4.12.2 in /usr/local/lib/python3.11/dist-packages (from pydantic!=1.8,!=1.8.1,<3.0.0,>=1.7.4->spacy) (4.14.1)\n",
            "Requirement already satisfied: typing-inspection>=0.4.0 in /usr/local/lib/python3.11/dist-packages (from pydantic!=1.8,!=1.8.1,<3.0.0,>=1.7.4->spacy) (0.4.1)\n",
            "Requirement already satisfied: charset-normalizer<4,>=2 in /usr/local/lib/python3.11/dist-packages (from requests<3.0.0,>=2.13.0->spacy) (3.4.2)\n",
            "Requirement already satisfied: idna<4,>=2.5 in /usr/local/lib/python3.11/dist-packages (from requests<3.0.0,>=2.13.0->spacy) (3.10)\n",
            "Requirement already satisfied: urllib3<3,>=1.21.1 in /usr/local/lib/python3.11/dist-packages (from requests<3.0.0,>=2.13.0->spacy) (2.4.0)\n",
            "Requirement already satisfied: certifi>=2017.4.17 in /usr/local/lib/python3.11/dist-packages (from requests<3.0.0,>=2.13.0->spacy) (2025.7.9)\n",
            "Requirement already satisfied: blis<1.4.0,>=1.3.0 in /usr/local/lib/python3.11/dist-packages (from thinc<8.4.0,>=8.3.4->spacy) (1.3.0)\n",
            "Requirement already satisfied: confection<1.0.0,>=0.0.1 in /usr/local/lib/python3.11/dist-packages (from thinc<8.4.0,>=8.3.4->spacy) (0.1.5)\n",
            "Requirement already satisfied: click>=8.0.0 in /usr/local/lib/python3.11/dist-packages (from typer<1.0.0,>=0.3.0->spacy) (8.2.1)\n",
            "Requirement already satisfied: shellingham>=1.3.0 in /usr/local/lib/python3.11/dist-packages (from typer<1.0.0,>=0.3.0->spacy) (1.5.4)\n",
            "Requirement already satisfied: rich>=10.11.0 in /usr/local/lib/python3.11/dist-packages (from typer<1.0.0,>=0.3.0->spacy) (13.9.4)\n",
            "Requirement already satisfied: cloudpathlib<1.0.0,>=0.7.0 in /usr/local/lib/python3.11/dist-packages (from weasel<0.5.0,>=0.1.0->spacy) (0.21.1)\n",
            "Requirement already satisfied: smart-open<8.0.0,>=5.2.1 in /usr/local/lib/python3.11/dist-packages (from weasel<0.5.0,>=0.1.0->spacy) (7.3.0.post1)\n",
            "Requirement already satisfied: MarkupSafe>=2.0 in /usr/local/lib/python3.11/dist-packages (from jinja2->spacy) (3.0.2)\n",
            "Requirement already satisfied: marisa-trie>=1.1.0 in /usr/local/lib/python3.11/dist-packages (from language-data>=1.2->langcodes<4.0.0,>=3.2.0->spacy) (1.2.1)\n",
            "Requirement already satisfied: markdown-it-py>=2.2.0 in /usr/local/lib/python3.11/dist-packages (from rich>=10.11.0->typer<1.0.0,>=0.3.0->spacy) (3.0.0)\n",
            "Requirement already satisfied: pygments<3.0.0,>=2.13.0 in /usr/local/lib/python3.11/dist-packages (from rich>=10.11.0->typer<1.0.0,>=0.3.0->spacy) (2.19.2)\n",
            "Requirement already satisfied: wrapt in /usr/local/lib/python3.11/dist-packages (from smart-open<8.0.0,>=5.2.1->weasel<0.5.0,>=0.1.0->spacy) (1.17.2)\n",
            "Requirement already satisfied: mdurl~=0.1 in /usr/local/lib/python3.11/dist-packages (from markdown-it-py>=2.2.0->rich>=10.11.0->typer<1.0.0,>=0.3.0->spacy) (0.1.2)\n"
          ]
        }
      ],
      "source": [
        "!pip install spacy"
      ]
    },
    {
      "cell_type": "code",
      "execution_count": 2,
      "metadata": {
        "ExecuteTime": {
          "end_time": "2019-06-17T01:17:23.125143Z",
          "start_time": "2019-06-17T01:17:20.625946Z"
        },
        "id": "-ecJn_1MLNO4"
      },
      "outputs": [],
      "source": [
        "## Import Libraries\n",
        "%matplotlib inline\n",
        "import matplotlib.pyplot as plt\n",
        "from collections import Counter\n",
        "\n",
        "import regex as re\n",
        "import spacy\n",
        "#import nltk"
      ]
    },
    {
      "cell_type": "code",
      "execution_count": 3,
      "metadata": {
        "colab": {
          "base_uri": "https://localhost:8080/",
          "height": 35
        },
        "id": "dvk--wpQ0K-I",
        "outputId": "1f1d7982-1bf4-46d5-b56b-a1a940937e3e"
      },
      "outputs": [
        {
          "output_type": "execute_result",
          "data": {
            "text/plain": [
              "'2.0.2'"
            ],
            "application/vnd.google.colaboratory.intrinsic+json": {
              "type": "string"
            }
          },
          "metadata": {},
          "execution_count": 3
        }
      ],
      "source": [
        "import numpy\n",
        "numpy.version.version"
      ]
    },
    {
      "cell_type": "markdown",
      "metadata": {
        "id": "OsSgzr8MLNO9"
      },
      "source": [
        "## Load data"
      ]
    },
    {
      "cell_type": "code",
      "source": [
        "from google.colab import files\n",
        "uploaded = files.upload()\n"
      ],
      "metadata": {
        "colab": {
          "base_uri": "https://localhost:8080/",
          "height": 74
        },
        "id": "JjQwq0yv1jtJ",
        "outputId": "a50438d8-7cfb-4bbc-80f8-082b12b027df"
      },
      "execution_count": 5,
      "outputs": [
        {
          "output_type": "display_data",
          "data": {
            "text/plain": [
              "<IPython.core.display.HTML object>"
            ],
            "text/html": [
              "\n",
              "     <input type=\"file\" id=\"files-6f284499-154f-4a42-ade8-a791e3174707\" name=\"files[]\" multiple disabled\n",
              "        style=\"border:none\" />\n",
              "     <output id=\"result-6f284499-154f-4a42-ade8-a791e3174707\">\n",
              "      Upload widget is only available when the cell has been executed in the\n",
              "      current browser session. Please rerun this cell to enable.\n",
              "      </output>\n",
              "      <script>// Copyright 2017 Google LLC\n",
              "//\n",
              "// Licensed under the Apache License, Version 2.0 (the \"License\");\n",
              "// you may not use this file except in compliance with the License.\n",
              "// You may obtain a copy of the License at\n",
              "//\n",
              "//      http://www.apache.org/licenses/LICENSE-2.0\n",
              "//\n",
              "// Unless required by applicable law or agreed to in writing, software\n",
              "// distributed under the License is distributed on an \"AS IS\" BASIS,\n",
              "// WITHOUT WARRANTIES OR CONDITIONS OF ANY KIND, either express or implied.\n",
              "// See the License for the specific language governing permissions and\n",
              "// limitations under the License.\n",
              "\n",
              "/**\n",
              " * @fileoverview Helpers for google.colab Python module.\n",
              " */\n",
              "(function(scope) {\n",
              "function span(text, styleAttributes = {}) {\n",
              "  const element = document.createElement('span');\n",
              "  element.textContent = text;\n",
              "  for (const key of Object.keys(styleAttributes)) {\n",
              "    element.style[key] = styleAttributes[key];\n",
              "  }\n",
              "  return element;\n",
              "}\n",
              "\n",
              "// Max number of bytes which will be uploaded at a time.\n",
              "const MAX_PAYLOAD_SIZE = 100 * 1024;\n",
              "\n",
              "function _uploadFiles(inputId, outputId) {\n",
              "  const steps = uploadFilesStep(inputId, outputId);\n",
              "  const outputElement = document.getElementById(outputId);\n",
              "  // Cache steps on the outputElement to make it available for the next call\n",
              "  // to uploadFilesContinue from Python.\n",
              "  outputElement.steps = steps;\n",
              "\n",
              "  return _uploadFilesContinue(outputId);\n",
              "}\n",
              "\n",
              "// This is roughly an async generator (not supported in the browser yet),\n",
              "// where there are multiple asynchronous steps and the Python side is going\n",
              "// to poll for completion of each step.\n",
              "// This uses a Promise to block the python side on completion of each step,\n",
              "// then passes the result of the previous step as the input to the next step.\n",
              "function _uploadFilesContinue(outputId) {\n",
              "  const outputElement = document.getElementById(outputId);\n",
              "  const steps = outputElement.steps;\n",
              "\n",
              "  const next = steps.next(outputElement.lastPromiseValue);\n",
              "  return Promise.resolve(next.value.promise).then((value) => {\n",
              "    // Cache the last promise value to make it available to the next\n",
              "    // step of the generator.\n",
              "    outputElement.lastPromiseValue = value;\n",
              "    return next.value.response;\n",
              "  });\n",
              "}\n",
              "\n",
              "/**\n",
              " * Generator function which is called between each async step of the upload\n",
              " * process.\n",
              " * @param {string} inputId Element ID of the input file picker element.\n",
              " * @param {string} outputId Element ID of the output display.\n",
              " * @return {!Iterable<!Object>} Iterable of next steps.\n",
              " */\n",
              "function* uploadFilesStep(inputId, outputId) {\n",
              "  const inputElement = document.getElementById(inputId);\n",
              "  inputElement.disabled = false;\n",
              "\n",
              "  const outputElement = document.getElementById(outputId);\n",
              "  outputElement.innerHTML = '';\n",
              "\n",
              "  const pickedPromise = new Promise((resolve) => {\n",
              "    inputElement.addEventListener('change', (e) => {\n",
              "      resolve(e.target.files);\n",
              "    });\n",
              "  });\n",
              "\n",
              "  const cancel = document.createElement('button');\n",
              "  inputElement.parentElement.appendChild(cancel);\n",
              "  cancel.textContent = 'Cancel upload';\n",
              "  const cancelPromise = new Promise((resolve) => {\n",
              "    cancel.onclick = () => {\n",
              "      resolve(null);\n",
              "    };\n",
              "  });\n",
              "\n",
              "  // Wait for the user to pick the files.\n",
              "  const files = yield {\n",
              "    promise: Promise.race([pickedPromise, cancelPromise]),\n",
              "    response: {\n",
              "      action: 'starting',\n",
              "    }\n",
              "  };\n",
              "\n",
              "  cancel.remove();\n",
              "\n",
              "  // Disable the input element since further picks are not allowed.\n",
              "  inputElement.disabled = true;\n",
              "\n",
              "  if (!files) {\n",
              "    return {\n",
              "      response: {\n",
              "        action: 'complete',\n",
              "      }\n",
              "    };\n",
              "  }\n",
              "\n",
              "  for (const file of files) {\n",
              "    const li = document.createElement('li');\n",
              "    li.append(span(file.name, {fontWeight: 'bold'}));\n",
              "    li.append(span(\n",
              "        `(${file.type || 'n/a'}) - ${file.size} bytes, ` +\n",
              "        `last modified: ${\n",
              "            file.lastModifiedDate ? file.lastModifiedDate.toLocaleDateString() :\n",
              "                                    'n/a'} - `));\n",
              "    const percent = span('0% done');\n",
              "    li.appendChild(percent);\n",
              "\n",
              "    outputElement.appendChild(li);\n",
              "\n",
              "    const fileDataPromise = new Promise((resolve) => {\n",
              "      const reader = new FileReader();\n",
              "      reader.onload = (e) => {\n",
              "        resolve(e.target.result);\n",
              "      };\n",
              "      reader.readAsArrayBuffer(file);\n",
              "    });\n",
              "    // Wait for the data to be ready.\n",
              "    let fileData = yield {\n",
              "      promise: fileDataPromise,\n",
              "      response: {\n",
              "        action: 'continue',\n",
              "      }\n",
              "    };\n",
              "\n",
              "    // Use a chunked sending to avoid message size limits. See b/62115660.\n",
              "    let position = 0;\n",
              "    do {\n",
              "      const length = Math.min(fileData.byteLength - position, MAX_PAYLOAD_SIZE);\n",
              "      const chunk = new Uint8Array(fileData, position, length);\n",
              "      position += length;\n",
              "\n",
              "      const base64 = btoa(String.fromCharCode.apply(null, chunk));\n",
              "      yield {\n",
              "        response: {\n",
              "          action: 'append',\n",
              "          file: file.name,\n",
              "          data: base64,\n",
              "        },\n",
              "      };\n",
              "\n",
              "      let percentDone = fileData.byteLength === 0 ?\n",
              "          100 :\n",
              "          Math.round((position / fileData.byteLength) * 100);\n",
              "      percent.textContent = `${percentDone}% done`;\n",
              "\n",
              "    } while (position < fileData.byteLength);\n",
              "  }\n",
              "\n",
              "  // All done.\n",
              "  yield {\n",
              "    response: {\n",
              "      action: 'complete',\n",
              "    }\n",
              "  };\n",
              "}\n",
              "\n",
              "scope.google = scope.google || {};\n",
              "scope.google.colab = scope.google.colab || {};\n",
              "scope.google.colab._files = {\n",
              "  _uploadFiles,\n",
              "  _uploadFilesContinue,\n",
              "};\n",
              "})(self);\n",
              "</script> "
            ]
          },
          "metadata": {}
        },
        {
          "output_type": "stream",
          "name": "stdout",
          "text": [
            "Saving ncc-1701-D.txt to ncc-1701-D.txt\n"
          ]
        }
      ]
    },
    {
      "cell_type": "code",
      "execution_count": 7,
      "metadata": {
        "ExecuteTime": {
          "end_time": "2019-06-17T01:17:24.800475Z",
          "start_time": "2019-06-17T01:17:24.784516Z"
        },
        "id": "HvyU9ZbtLNPA"
      },
      "outputs": [],
      "source": [
        "## Loading the data\n",
        "\n",
        "\n",
        "with open('ncc-1701-D.txt', 'r') as f:\n",
        "    text = f.read()"
      ]
    },
    {
      "cell_type": "markdown",
      "metadata": {
        "id": "KF9gBdpALNPE"
      },
      "source": [
        "## Inspect the data"
      ]
    },
    {
      "cell_type": "code",
      "execution_count": 8,
      "metadata": {
        "ExecuteTime": {
          "end_time": "2019-06-17T01:17:28.662206Z",
          "start_time": "2019-06-17T01:17:28.656190Z"
        },
        "id": "-JImxUzrLNPG",
        "outputId": "a4e51eb8-bb4d-4c23-8e00-cedac102286e",
        "scrolled": true,
        "colab": {
          "base_uri": "https://localhost:8080/"
        }
      },
      "outputs": [
        {
          "output_type": "stream",
          "name": "stdout",
          "text": [
            "USS Enterprise (NCC-1701-D)\n",
            "\n",
            "\"For five hundred years, every ship that has borne the name of the Enterprise has become a legend. This one is no different.\"\n",
            "\n",
            "The USS Enterprise (NCC-1701-D) was a 24th century United Federation of Planets Galaxy Class starship operated by Starfleet, and the fifth Federation ship to bear the name Enterprise. During her career, the Enterprise served as the Federation flagship. The Enterprise was destroyed during the Battle of Veridian III in 2371.\n",
            "\n",
            "==History==\n",
            "===Construction and launch===\n",
            "The Enterprise was built at Utopia Planitia Fleet Yards orbiting Mars in the Solar system. The construction was a massive undertaking, involving thousands of people across disciplines. Construction was supervised by Commander Orfil Quinteros. Dr. Leah Brahms was responsible for much of the Enterprise's warp propulsion system design. Some of the Enterprise's components were derived from technology originally developed on the USS Pegasus.\n",
            "\n",
            "One of the ship's nacelle tube was\n"
          ]
        }
      ],
      "source": [
        "print(text[:1000])"
      ]
    },
    {
      "cell_type": "markdown",
      "metadata": {
        "id": "H5ePf_5bLNPK"
      },
      "source": [
        "## Work the data\n",
        "- if necessary or desired\n",
        "    - remove text or content, e.g. quotes (\") or metadata (===)\n",
        "    - add content or markers, e.g. (#FLAG, --NAME--)\n",
        "    - remove or convert special symbols, e.g. \"é\" to \"e\"\n",
        "    - remove or convert emoticons"
      ]
    },
    {
      "cell_type": "code",
      "execution_count": 11,
      "metadata": {
        "colab": {
          "base_uri": "https://localhost:8080/"
        },
        "id": "xz2DWwzm0K-J",
        "outputId": "67a7662e-6401-46d2-8d47-121ef68b2002"
      },
      "outputs": [
        {
          "output_type": "stream",
          "name": "stdout",
          "text": [
            "Requirement already satisfied: emoji in /usr/local/lib/python3.11/dist-packages (2.14.1)\n",
            "Collecting unidecode\n",
            "  Downloading Unidecode-1.4.0-py3-none-any.whl.metadata (13 kB)\n",
            "Downloading Unidecode-1.4.0-py3-none-any.whl (235 kB)\n",
            "\u001b[2K   \u001b[90m━━━━━━━━━━━━━━━━━━━━━━━━━━━━━━━━━━━━━━━━\u001b[0m \u001b[32m235.8/235.8 kB\u001b[0m \u001b[31m7.5 MB/s\u001b[0m eta \u001b[36m0:00:00\u001b[0m\n",
            "\u001b[?25hInstalling collected packages: unidecode\n",
            "Successfully installed unidecode-1.4.0\n"
          ]
        }
      ],
      "source": [
        "!pip install emoji\n",
        "!pip install unidecode"
      ]
    },
    {
      "cell_type": "code",
      "execution_count": 12,
      "metadata": {
        "ExecuteTime": {
          "end_time": "2019-06-17T01:18:07.223561Z",
          "start_time": "2019-06-17T01:18:07.219572Z"
        },
        "id": "BRq7VfoOLNPM",
        "colab": {
          "base_uri": "https://localhost:8080/"
        },
        "outputId": "f0535b46-aba2-4fa2-fc10-1fe57b13c432"
      },
      "outputs": [
        {
          "output_type": "stream",
          "name": "stdout",
          "text": [
            "USS Enterprise (NCC-1701-D)\n",
            "\n",
            "\"For five hundred years, every ship that has borne the name of the Enterprise has become a legend. This one is no different.\"\n",
            "\n",
            "The USS Enterprise (NCC-1701-D) was a 24th century United Federation of Planets Galaxy Class starship operated by Starfleet, and the fifth Federation ship to bear the name Enterprise. During her career, the Enterprise served as the Federation flagship. The Enterprise was destroyed during the Battle of Veridian III in 2371.\n",
            "\n",
            "==History==\n",
            "===Construction and launch===\n",
            "The Enterprise was built at Utopia Planitia Fleet Yards orbiting Mars in the Solar system. The construction was a massive undertaking, involving thousands of people across disciplines. Construction was supervised by Commander Orfil Quinteros. Dr. Leah Brahms was responsible for much of the Enterprise's warp propulsion system design. Some of the Enterprise's components were derived from technology originally developed on the USS Pegasus.\n",
            "\n",
            "One of the ship's nacelle tube was the site of a multiple murder-suicide while she was still under construction at Utopia Planitia. A member of the construction team, Walter Pierce, became jealous of a former lover's new relationship. He killed the two officers, Marla Finn and William Hodges, then disposed of their bodies in the plasma stream. Pierce committed suicide in the same manner, leaving a telepathic imprint in a bulkhead that was not discovered until 2370.\n",
            "\n",
            "On stardate 40759.5, in the year 2363, the Enterprise was launched from Mars. On stardate 41025.5, the Enterprise was commissioned.\n",
            "\n",
            "These stardates weren't mentioned in dialog; they were from the Enterprise dedication plaque.\n",
            "\n",
            "Final systems completion and shakedown was conducted at Earth Station McKinley. Captain Jean-Luc Picard took command of the ship on stardate 41148 at the order of Rear Admiral Norah Satie.\n",
            "\n",
            "===Legacy===\n",
            "Commander Riker was upset over the loss of the Enterprise. Having hoped he would one day command the ship, he was disappointed that \n"
          ]
        }
      ],
      "source": [
        "# ANSWER\n",
        "import re\n",
        "import emoji\n",
        "from unidecode import unidecode\n",
        "\n",
        "def preprocess_text(text):\n",
        "    # Step 1: REMOVE QUOTES & METADATA\n",
        "    text = re.sub(r'[\"“”]', '', text)                     # Remove double quotes\n",
        "    text = re.sub(r'={2,}.*?={2,}', '', text)             # Remove metadata between ===...===\n",
        "\n",
        "    # Step 2: ADD MARKERS\n",
        "    text = re.sub(r'\\b[A-Z]{2,}\\b', r'#FLAG \\g<0>', text) # Tag ALLCAPS words\n",
        "    text = re.sub(r'\\b(John|Maria|Alice)\\b', r'--NAME--\\1--NAME--', text)  # Tag example names\n",
        "\n",
        "    # Step 3: CONVERT SPECIAL CHARACTERS\n",
        "    text = unidecode(text)                                # Normalize accents (é → e, ñ → n)\n",
        "\n",
        "    # Step 4: REMOVE/REPLACE EMOJIS\n",
        "    text = emoji.replace_emoji(text, replace='')          # Remove emojis\n",
        "\n",
        "    # Step 5: REMOVE ASCII EMOTICONS\n",
        "    emoticon_pattern = r'[:;=8][\\-o\\*\\']?[\\)\\]\\(\\[dDpP/\\:\\}\\{@\\|\\\\]'\n",
        "    text = re.sub(emoticon_pattern, '', text)\n",
        "\n",
        "    # Optional: remove extra spaces\n",
        "    text = re.sub(r'\\s+', ' ', text).strip()\n",
        "\n",
        "    return text\n",
        "\n",
        "print(text[:2000])"
      ]
    },
    {
      "cell_type": "markdown",
      "metadata": {
        "id": "xMG9Yim0LNPP"
      },
      "source": [
        "## Helper method"
      ]
    },
    {
      "cell_type": "code",
      "execution_count": 33,
      "metadata": {
        "ExecuteTime": {
          "end_time": "2019-06-17T01:18:44.351070Z",
          "start_time": "2019-06-17T01:18:44.330126Z"
        },
        "id": "3oIPRH3gLNPQ",
        "colab": {
          "base_uri": "https://localhost:8080/",
          "height": 539
        },
        "outputId": "3fe3bc26-46fd-469e-c171-1b76537d8fe3"
      },
      "outputs": [
        {
          "output_type": "display_data",
          "data": {
            "text/plain": [
              "<Figure size 1600x600 with 1 Axes>"
            ],
            "image/png": "[encoded data removed]"
          },
          "metadata": {}
        }
      ],
      "source": [
        "# create a bar chart of the frequency of the words in the text\n",
        "def plot_words(tokens, top = 5):\n",
        "    tokens_counter = Counter(tokens)\n",
        "    tok = [t for (t, _) in tokens_counter.most_common()]\n",
        "    val = [v for (_, v) in tokens_counter.most_common()]\n",
        "\n",
        "    plt.figure(figsize = (16, 6))\n",
        "    plt.bar(tok[:top], val[:top])\n",
        "    plt.title('Number of terms: %d' % len(tokens_counter))\n",
        "    plt.xticks(rotation = 90)\n",
        "\n",
        "    for i, label in enumerate(val[:top]):\n",
        "        plt.text(i, label, label, ha='center', va='bottom')\n",
        "\n",
        "    plt.show()\n",
        "\n",
        "plot_words(text, top=10)"
      ]
    },
    {
      "cell_type": "markdown",
      "metadata": {
        "id": "U1FsFC6yLNPS"
      },
      "source": [
        "## spaCy model invocation and text processing\n",
        "spaCy does the processing of the text as part of the reading of the data."
      ]
    },
    {
      "cell_type": "code",
      "source": [
        "!pip install -U spacy\n",
        "!python -m spacy download en_core_web_sm\n"
      ],
      "metadata": {
        "colab": {
          "base_uri": "https://localhost:8080/"
        },
        "id": "hGmWJuMx0zvK",
        "outputId": "071ed950-1970-4ad2-cc82-3a5e1d5cc302"
      },
      "execution_count": 15,
      "outputs": [
        {
          "output_type": "stream",
          "name": "stdout",
          "text": [
            "Requirement already satisfied: spacy in /usr/local/lib/python3.11/dist-packages (3.8.7)\n",
            "Requirement already satisfied: spacy-legacy<3.1.0,>=3.0.11 in /usr/local/lib/python3.11/dist-packages (from spacy) (3.0.12)\n",
            "Requirement already satisfied: spacy-loggers<2.0.0,>=1.0.0 in /usr/local/lib/python3.11/dist-packages (from spacy) (1.0.5)\n",
            "Requirement already satisfied: murmurhash<1.1.0,>=0.28.0 in /usr/local/lib/python3.11/dist-packages (from spacy) (1.0.13)\n",
            "Requirement already satisfied: cymem<2.1.0,>=2.0.2 in /usr/local/lib/python3.11/dist-packages (from spacy) (2.0.11)\n",
            "Requirement already satisfied: preshed<3.1.0,>=3.0.2 in /usr/local/lib/python3.11/dist-packages (from spacy) (3.0.10)\n",
            "Requirement already satisfied: thinc<8.4.0,>=8.3.4 in /usr/local/lib/python3.11/dist-packages (from spacy) (8.3.6)\n",
            "Requirement already satisfied: wasabi<1.2.0,>=0.9.1 in /usr/local/lib/python3.11/dist-packages (from spacy) (1.1.3)\n",
            "Requirement already satisfied: srsly<3.0.0,>=2.4.3 in /usr/local/lib/python3.11/dist-packages (from spacy) (2.5.1)\n",
            "Requirement already satisfied: catalogue<2.1.0,>=2.0.6 in /usr/local/lib/python3.11/dist-packages (from spacy) (2.0.10)\n",
            "Requirement already satisfied: weasel<0.5.0,>=0.1.0 in /usr/local/lib/python3.11/dist-packages (from spacy) (0.4.1)\n",
            "Requirement already satisfied: typer<1.0.0,>=0.3.0 in /usr/local/lib/python3.11/dist-packages (from spacy) (0.16.0)\n",
            "Requirement already satisfied: tqdm<5.0.0,>=4.38.0 in /usr/local/lib/python3.11/dist-packages (from spacy) (4.67.1)\n",
            "Requirement already satisfied: numpy>=1.19.0 in /usr/local/lib/python3.11/dist-packages (from spacy) (2.0.2)\n",
            "Requirement already satisfied: requests<3.0.0,>=2.13.0 in /usr/local/lib/python3.11/dist-packages (from spacy) (2.32.3)\n",
            "Requirement already satisfied: pydantic!=1.8,!=1.8.1,<3.0.0,>=1.7.4 in /usr/local/lib/python3.11/dist-packages (from spacy) (2.11.7)\n",
            "Requirement already satisfied: jinja2 in /usr/local/lib/python3.11/dist-packages (from spacy) (3.1.6)\n",
            "Requirement already satisfied: setuptools in /usr/local/lib/python3.11/dist-packages (from spacy) (75.2.0)\n",
            "Requirement already satisfied: packaging>=20.0 in /usr/local/lib/python3.11/dist-packages (from spacy) (24.2)\n",
            "Requirement already satisfied: langcodes<4.0.0,>=3.2.0 in /usr/local/lib/python3.11/dist-packages (from spacy) (3.5.0)\n",
            "Requirement already satisfied: language-data>=1.2 in /usr/local/lib/python3.11/dist-packages (from langcodes<4.0.0,>=3.2.0->spacy) (1.3.0)\n",
            "Requirement already satisfied: annotated-types>=0.6.0 in /usr/local/lib/python3.11/dist-packages (from pydantic!=1.8,!=1.8.1,<3.0.0,>=1.7.4->spacy) (0.7.0)\n",
            "Requirement already satisfied: pydantic-core==2.33.2 in /usr/local/lib/python3.11/dist-packages (from pydantic!=1.8,!=1.8.1,<3.0.0,>=1.7.4->spacy) (2.33.2)\n",
            "Requirement already satisfied: typing-extensions>=4.12.2 in /usr/local/lib/python3.11/dist-packages (from pydantic!=1.8,!=1.8.1,<3.0.0,>=1.7.4->spacy) (4.14.1)\n",
            "Requirement already satisfied: typing-inspection>=0.4.0 in /usr/local/lib/python3.11/dist-packages (from pydantic!=1.8,!=1.8.1,<3.0.0,>=1.7.4->spacy) (0.4.1)\n",
            "Requirement already satisfied: charset-normalizer<4,>=2 in /usr/local/lib/python3.11/dist-packages (from requests<3.0.0,>=2.13.0->spacy) (3.4.2)\n",
            "Requirement already satisfied: idna<4,>=2.5 in /usr/local/lib/python3.11/dist-packages (from requests<3.0.0,>=2.13.0->spacy) (3.10)\n",
            "Requirement already satisfied: urllib3<3,>=1.21.1 in /usr/local/lib/python3.11/dist-packages (from requests<3.0.0,>=2.13.0->spacy) (2.4.0)\n",
            "Requirement already satisfied: certifi>=2017.4.17 in /usr/local/lib/python3.11/dist-packages (from requests<3.0.0,>=2.13.0->spacy) (2025.7.9)\n",
            "Requirement already satisfied: blis<1.4.0,>=1.3.0 in /usr/local/lib/python3.11/dist-packages (from thinc<8.4.0,>=8.3.4->spacy) (1.3.0)\n",
            "Requirement already satisfied: confection<1.0.0,>=0.0.1 in /usr/local/lib/python3.11/dist-packages (from thinc<8.4.0,>=8.3.4->spacy) (0.1.5)\n",
            "Requirement already satisfied: click>=8.0.0 in /usr/local/lib/python3.11/dist-packages (from typer<1.0.0,>=0.3.0->spacy) (8.2.1)\n",
            "Requirement already satisfied: shellingham>=1.3.0 in /usr/local/lib/python3.11/dist-packages (from typer<1.0.0,>=0.3.0->spacy) (1.5.4)\n",
            "Requirement already satisfied: rich>=10.11.0 in /usr/local/lib/python3.11/dist-packages (from typer<1.0.0,>=0.3.0->spacy) (13.9.4)\n",
            "Requirement already satisfied: cloudpathlib<1.0.0,>=0.7.0 in /usr/local/lib/python3.11/dist-packages (from weasel<0.5.0,>=0.1.0->spacy) (0.21.1)\n",
            "Requirement already satisfied: smart-open<8.0.0,>=5.2.1 in /usr/local/lib/python3.11/dist-packages (from weasel<0.5.0,>=0.1.0->spacy) (7.3.0.post1)\n",
            "Requirement already satisfied: MarkupSafe>=2.0 in /usr/local/lib/python3.11/dist-packages (from jinja2->spacy) (3.0.2)\n",
            "Requirement already satisfied: marisa-trie>=1.1.0 in /usr/local/lib/python3.11/dist-packages (from language-data>=1.2->langcodes<4.0.0,>=3.2.0->spacy) (1.2.1)\n",
            "Requirement already satisfied: markdown-it-py>=2.2.0 in /usr/local/lib/python3.11/dist-packages (from rich>=10.11.0->typer<1.0.0,>=0.3.0->spacy) (3.0.0)\n",
            "Requirement already satisfied: pygments<3.0.0,>=2.13.0 in /usr/local/lib/python3.11/dist-packages (from rich>=10.11.0->typer<1.0.0,>=0.3.0->spacy) (2.19.2)\n",
            "Requirement already satisfied: wrapt in /usr/local/lib/python3.11/dist-packages (from smart-open<8.0.0,>=5.2.1->weasel<0.5.0,>=0.1.0->spacy) (1.17.2)\n",
            "Requirement already satisfied: mdurl~=0.1 in /usr/local/lib/python3.11/dist-packages (from markdown-it-py>=2.2.0->rich>=10.11.0->typer<1.0.0,>=0.3.0->spacy) (0.1.2)\n",
            "Collecting en-core-web-sm==3.8.0\n",
            "  Downloading https://github.com/explosion/spacy-models/releases/download/en_core_web_sm-3.8.0/en_core_web_sm-3.8.0-py3-none-any.whl (12.8 MB)\n",
            "\u001b[2K     \u001b[90m━━━━━━━━━━━━━━━━━━━━━━━━━━━━━━━━━━━━━━━━\u001b[0m \u001b[32m12.8/12.8 MB\u001b[0m \u001b[31m67.1 MB/s\u001b[0m eta \u001b[36m0:00:00\u001b[0m\n",
            "\u001b[?25h\u001b[38;5;2m✔ Download and installation successful\u001b[0m\n",
            "You can now load the package via spacy.load('en_core_web_sm')\n",
            "\u001b[38;5;3m⚠ Restart to reload dependencies\u001b[0m\n",
            "If you are in a Jupyter or Colab notebook, you may need to restart Python in\n",
            "order to load all the package's dependencies. You can do this by selecting the\n",
            "'Restart kernel' or 'Restart runtime' option.\n"
          ]
        }
      ]
    },
    {
      "cell_type": "code",
      "execution_count": 16,
      "metadata": {
        "ExecuteTime": {
          "end_time": "2019-06-17T01:18:18.119766Z",
          "start_time": "2019-06-17T01:18:16.984471Z"
        },
        "id": "JgM48u-dLNPU",
        "colab": {
          "base_uri": "https://localhost:8080/"
        },
        "outputId": "f97e8226-0ea5-42fa-90c1-04ae78ec449f"
      },
      "outputs": [
        {
          "output_type": "stream",
          "name": "stdout",
          "text": [
            "Collecting en-core-web-sm==3.8.0\n",
            "  Downloading https://github.com/explosion/spacy-models/releases/download/en_core_web_sm-3.8.0/en_core_web_sm-3.8.0-py3-none-any.whl (12.8 MB)\n",
            "\u001b[2K     \u001b[90m━━━━━━━━━━━━━━━━━━━━━━━━━━━━━━━━━━━━━━━━\u001b[0m \u001b[32m12.8/12.8 MB\u001b[0m \u001b[31m41.0 MB/s\u001b[0m eta \u001b[36m0:00:00\u001b[0m\n",
            "\u001b[?25h\u001b[38;5;2m✔ Download and installation successful\u001b[0m\n",
            "You can now load the package via spacy.load('en_core_web_sm')\n",
            "\u001b[38;5;3m⚠ Restart to reload dependencies\u001b[0m\n",
            "If you are in a Jupyter or Colab notebook, you may need to restart Python in\n",
            "order to load all the package's dependencies. You can do this by selecting the\n",
            "'Restart kernel' or 'Restart runtime' option.\n"
          ]
        }
      ],
      "source": [
        "# load spaCy and the English model\n",
        "!python -m spacy download en_core_web_sm\n",
        "nlp = spacy.load('en_core_web_sm')\n",
        "\n",
        "# process the text\n",
        "doc = nlp(text)"
      ]
    },
    {
      "cell_type": "markdown",
      "metadata": {
        "id": "z8--KeYzLNPW"
      },
      "source": [
        "## Tokenise"
      ]
    },
    {
      "cell_type": "code",
      "execution_count": 18,
      "metadata": {
        "ExecuteTime": {
          "end_time": "2019-06-17T01:18:58.447329Z",
          "start_time": "2019-06-17T01:18:58.401479Z"
        },
        "id": "-7lVWo5DLNPe",
        "outputId": "ea7a31ad-194d-479a-ec0f-0f370e7e49c2",
        "colab": {
          "base_uri": "https://localhost:8080/"
        }
      },
      "outputs": [
        {
          "output_type": "stream",
          "name": "stdout",
          "text": [
            " 1| 'USS'\n",
            " 2| 'Enterprise'\n",
            " 3| '('\n",
            " 4| 'NCC-1701'\n",
            " 5| '-'\n",
            " 6| 'D'\n",
            " 7| ')'\n",
            " 8| '\\n\\n'\n",
            " 9| '\"'\n",
            "10| 'For'\n",
            "11| 'five'\n",
            "12| 'hundred'\n",
            "13| 'years'\n",
            "14| ','\n",
            "15| 'every'\n",
            "16| 'ship'\n",
            "17| 'that'\n",
            "18| 'has'\n",
            "19| 'borne'\n",
            "20| 'the'\n",
            "21| 'name'\n",
            "22| 'of'\n",
            "23| 'the'\n",
            "24| 'Enterprise'\n",
            "25| 'has'\n",
            "26| 'become'\n",
            "27| 'a'\n",
            "28| 'legend'\n",
            "29| '.'\n"
          ]
        }
      ],
      "source": [
        "# only show the results\n",
        "# spaCy has done it already\n",
        "for i, t in enumerate(doc):\n",
        "    print('%2d| %r' % (i+1, t.text))\n",
        "    if t.text == '.':\n",
        "        break"
      ]
    },
    {
      "cell_type": "markdown",
      "metadata": {
        "id": "iAtMzEZTLNPj"
      },
      "source": [
        "### Stop Words"
      ]
    },
    {
      "cell_type": "code",
      "execution_count": 21,
      "metadata": {
        "ExecuteTime": {
          "end_time": "2019-06-17T01:24:08.828052Z",
          "start_time": "2019-06-17T01:24:08.777179Z"
        },
        "id": "zOzudmrILNPq",
        "outputId": "3420f933-a10b-4384-cadf-db8439444a8c",
        "colab": {
          "base_uri": "https://localhost:8080/"
        }
      },
      "outputs": [
        {
          "output_type": "stream",
          "name": "stdout",
          "text": [
            "i | with stop words without\n",
            "--| --------------- ------------\n",
            " 1| 'USS'           'USS'\n",
            " 2| 'Enterprise'    'Enterprise'\n",
            " 3| '('             '('\n",
            " 4| 'NCC-1701'      'NCC-1701'\n",
            " 5| '-'             '-'\n",
            " 6| 'D'             'D'\n",
            " 7| ')'             ')'\n",
            " 8| '\\n\\n'          '\\n\\n'\n",
            " 9| '\"'             '\"'\n",
            "10| 'For'           ''\n",
            "11| 'five'          ''\n",
            "12| 'hundred'       ''\n",
            "13| 'years'         'years'\n",
            "14| ','             ','\n",
            "15| 'every'         ''\n",
            "16| 'ship'          'ship'\n",
            "17| 'that'          ''\n",
            "18| 'has'           ''\n",
            "19| 'borne'         'borne'\n",
            "20| 'the'           ''\n",
            "21| 'name'          ''\n",
            "22| 'of'            ''\n",
            "23| 'the'           ''\n",
            "24| 'Enterprise'    'Enterprise'\n",
            "25| 'has'           ''\n",
            "26| 'become'        ''\n",
            "27| 'a'             ''\n",
            "28| 'legend'        'legend'\n",
            "29| '.'             '.'\n"
          ]
        }
      ],
      "source": [
        "## spaCy\n",
        "print('i | with stop words without')\n",
        "print('--| --------------- ------------')\n",
        "\n",
        "# for all the tokens\n",
        "for i, t in enumerate(doc):\n",
        "    print('%2d| %-15r %r' % (i+1, t.text, ('' if t.is_stop else t.text)))\n",
        "\n",
        "    # break after the first sentence\n",
        "    if t.text == '.':\n",
        "        break"
      ]
    },
    {
      "cell_type": "code",
      "source": [
        "print(type(text))  # <class 'str'> expected\n"
      ],
      "metadata": {
        "colab": {
          "base_uri": "https://localhost:8080/"
        },
        "id": "uxQL1ULY3wZT",
        "outputId": "2d7e8948-7c25-4371-842d-b5120e834dff"
      },
      "execution_count": 23,
      "outputs": [
        {
          "output_type": "stream",
          "name": "stdout",
          "text": [
            "<class 'str'>\n"
          ]
        }
      ]
    },
    {
      "cell_type": "code",
      "source": [
        "plot_words([t.text.lower() for t in doc if not (t.is_stop or t.is_punct)])\n"
      ],
      "metadata": {
        "colab": {
          "base_uri": "https://localhost:8080/",
          "height": 602
        },
        "id": "k3C6n4RQ49vG",
        "outputId": "7c8fad5d-a6bd-463a-adee-b4d508033c71"
      },
      "execution_count": 34,
      "outputs": [
        {
          "output_type": "display_data",
          "data": {
            "text/plain": [
              "<Figure size 1600x600 with 1 Axes>"
            ],
            "image/png": "[encoded data removed]"
          },
          "metadata": {}
        }
      ]
    },
    {
      "cell_type": "markdown",
      "metadata": {
        "id": "9uqME12uLNPu"
      },
      "source": [
        "### Check Part of Speech"
      ]
    },
    {
      "cell_type": "code",
      "execution_count": 35,
      "metadata": {
        "ExecuteTime": {
          "end_time": "2019-06-17T01:22:17.213316Z",
          "start_time": "2019-06-17T01:22:17.169434Z"
        },
        "id": "vD-BrcLALNPz",
        "outputId": "048cabf0-916a-4ef7-da7d-1943c42463f0",
        "colab": {
          "base_uri": "https://localhost:8080/"
        }
      },
      "outputs": [
        {
          "output_type": "stream",
          "name": "stdout",
          "text": [
            " 1|'USS'        : PROPN NNP\n",
            " 2|'Enterprise' : PROPN NNP\n",
            " 3|'('          : PUNCT -LRB-\n",
            " 4|'NCC-1701'   : PROPN NNP\n",
            " 5|'-'          : PUNCT HYPH\n",
            " 6|'D'          : NOUN  NN\n",
            " 7|')'          : PUNCT -RRB-\n",
            " 8|'\\n\\n'       : SPACE _SP\n",
            " 9|'\"'          : PUNCT ``\n",
            "10|'For'        : ADP   IN\n",
            "11|'five'       : NUM   CD\n",
            "12|'hundred'    : NUM   CD\n",
            "13|'years'      : NOUN  NNS\n",
            "14|','          : PUNCT ,\n",
            "15|'every'      : DET   DT\n",
            "16|'ship'       : NOUN  NN\n",
            "17|'that'       : PRON  WDT\n",
            "18|'has'        : AUX   VBZ\n",
            "19|'borne'      : VERB  VBN\n",
            "20|'the'        : DET   DT\n",
            "21|'name'       : NOUN  NN\n",
            "22|'of'         : ADP   IN\n",
            "23|'the'        : DET   DT\n",
            "24|'Enterprise' : NOUN  NN\n",
            "25|'has'        : AUX   VBZ\n",
            "26|'become'     : VERB  VBN\n",
            "27|'a'          : DET   DT\n",
            "28|'legend'     : NOUN  NN\n",
            "29|'.'          : PUNCT .\n"
          ]
        }
      ],
      "source": [
        "## spaCy\n",
        "for i, t in enumerate(doc):\n",
        "    print('%2d|%-12r : %-5s %s' % (i+1, t.text, t.pos_, t.tag_))\n",
        "    if t.text == '.':\n",
        "        break"
      ]
    },
    {
      "cell_type": "markdown",
      "metadata": {
        "id": "IvQ_UG7fUH3P"
      },
      "source": [
        "### Lemmatisation"
      ]
    },
    {
      "cell_type": "code",
      "execution_count": 36,
      "metadata": {
        "ExecuteTime": {
          "end_time": "2019-06-17T01:22:53.270758Z",
          "start_time": "2019-06-17T01:22:53.220888Z"
        },
        "id": "448zp9_vLNQC",
        "outputId": "2df3b32b-9a65-4d88-c02e-166313e5ce6e",
        "colab": {
          "base_uri": "https://localhost:8080/"
        }
      },
      "outputs": [
        {
          "output_type": "stream",
          "name": "stdout",
          "text": [
            "i | Token        Lemma\n",
            "--| ------------ ------------\n",
            " 1| 'USS'        'USS'\n",
            " 2| 'Enterprise' 'Enterprise'\n",
            " 3| '('          '('\n",
            " 4| 'NCC-1701'   'NCC-1701'\n",
            " 5| '-'          '-'\n",
            " 6| 'D'          'd'\n",
            " 7| ')'          ')'\n",
            " 8| '\\n\\n'       '\\n\\n'\n",
            " 9| '\"'          '\"'\n",
            "10| 'For'        'for'\n",
            "11| 'five'       'five'\n",
            "12| 'hundred'    'hundred'\n",
            "13| 'years'      'year'\n",
            "14| ','          ','\n",
            "15| 'every'      'every'\n",
            "16| 'ship'       'ship'\n",
            "17| 'that'       'that'\n",
            "18| 'has'        'have'\n",
            "19| 'borne'      'bear'\n",
            "20| 'the'        'the'\n",
            "21| 'name'       'name'\n",
            "22| 'of'         'of'\n",
            "23| 'the'        'the'\n",
            "24| 'Enterprise' 'enterprise'\n",
            "25| 'has'        'have'\n",
            "26| 'become'     'become'\n",
            "27| 'a'          'a'\n",
            "28| 'legend'     'legend'\n",
            "29| '.'          '.'\n"
          ]
        }
      ],
      "source": [
        "## spaCy\n",
        "print('i | Token        Lemma')\n",
        "print('--| ------------ ------------')\n",
        "for i, t in enumerate(doc):\n",
        "    print('%2d| %-12r %r' % (i+1, t.text, t.lemma_))\n",
        "    if t.text == '.':\n",
        "        break"
      ]
    },
    {
      "cell_type": "code",
      "execution_count": 37,
      "metadata": {
        "ExecuteTime": {
          "end_time": "2019-06-17T01:22:56.143434Z",
          "start_time": "2019-06-17T01:22:55.839376Z"
        },
        "id": "i-7pqVMxLNQD",
        "outputId": "2c93c713-c019-47f1-d4e3-c7958faf9bb3",
        "colab": {
          "base_uri": "https://localhost:8080/",
          "height": 610
        }
      },
      "outputs": [
        {
          "output_type": "display_data",
          "data": {
            "text/plain": [
              "<Figure size 1600x600 with 1 Axes>"
            ],
            "image/png": "[encoded data removed]"
          },
          "metadata": {}
        }
      ],
      "source": [
        "plot_words(['%r' % t.lemma_ for t in doc if not (t.is_stop | t.is_punct)])"
      ]
    },
    {
      "cell_type": "markdown",
      "metadata": {
        "id": "RHUdgHM7LNQF"
      },
      "source": [
        "### Entity Recognition"
      ]
    },
    {
      "cell_type": "code",
      "execution_count": 38,
      "metadata": {
        "ExecuteTime": {
          "end_time": "2019-06-17T01:23:02.688863Z",
          "start_time": "2019-06-17T01:23:02.464460Z"
        },
        "id": "yyOrZ42oLNQH",
        "outputId": "19034992-6fbf-45cb-da22-8fa21c8bf544",
        "colab": {
          "base_uri": "https://localhost:8080/"
        }
      },
      "outputs": [
        {
          "output_type": "stream",
          "name": "stdout",
          "text": [
            " 0: USS Enterprise (NCC-1701-D)\"For five hundred years, every ship that has borne the name of the Enterprise has become a legend.\n",
            "--------------------------------------------------------------------------------\n",
            "ORG        : USS Enterprise\n",
            "DATE       : five hundred years\n",
            "ORG        : Enterprise\n",
            "================================================================================\n",
            " 1: This one is no different.\n",
            "================================================================================\n",
            " 2: \"The USS Enterprise (NCC-1701-D) was a 24th century United Federation of Planets Galaxy Class starship operated by Starfleet, and the fifth Federation ship to bear the name Enterprise.\n",
            "--------------------------------------------------------------------------------\n",
            "ORG        : The USS Enterprise\n",
            "DATE       : a 24th century\n",
            "ORG        : United Federation of Planets Galaxy\n",
            "ORDINAL    : fifth\n",
            "================================================================================\n",
            " 3: During her career, the Enterprise served as the Federation flagship.\n",
            "--------------------------------------------------------------------------------\n",
            "ORG        : Enterprise\n",
            "ORG        : Federation\n",
            "================================================================================\n",
            " 4: The Enterprise was destroyed during the Battle of Veridian III in 2371.\n",
            "--------------------------------------------------------------------------------\n",
            "EVENT      : the Battle of Veridian III\n",
            "DATE       : 2371\n",
            "================================================================================\n",
            " 5: ==History=====Construction and launch===The Enterprise was built at Utopia Planitia Fleet Yards orbiting Mars in the Solar system.\n",
            "--------------------------------------------------------------------------------\n",
            "LOC        : Mars\n",
            "ORG        : Solar\n",
            "================================================================================\n",
            " 6: The construction was a massive undertaking, involving thousands of people across disciplines.\n",
            "--------------------------------------------------------------------------------\n",
            "CARDINAL   : thousands\n",
            "================================================================================\n",
            " 7: Construction was supervised by Commander Orfil Quinteros.\n",
            "--------------------------------------------------------------------------------\n",
            "PERSON     : Orfil Quinteros\n",
            "================================================================================\n",
            " 8: Dr. Leah Brahms was responsible for much of the Enterprise's warp propulsion system design.\n",
            "--------------------------------------------------------------------------------\n",
            "PERSON     : Leah Brahms\n",
            "ORG        : Enterprise\n",
            "================================================================================\n",
            " 9: Some of the Enterprise's components were derived from technology originally developed on the USS Pegasus.\n",
            "--------------------------------------------------------------------------------\n",
            "PRODUCT    : the USS Pegasus\n",
            "================================================================================\n",
            "10: One of the ship's nacelle tube was the site of a multiple murder-suicide while she was still under construction at Utopia Planitia.\n",
            "--------------------------------------------------------------------------------\n",
            "CARDINAL   : One\n",
            "PERSON     : nacelle tube\n",
            "PERSON     : Planitia\n",
            "================================================================================\n",
            "11: A member of the construction team, Walter Pierce, became jealous of a former lover's new relationship.\n",
            "--------------------------------------------------------------------------------\n",
            "PERSON     : Walter Pierce\n",
            "================================================================================\n",
            "12: He killed the two officers, Marla Finn and William Hodges, then disposed of their bodies in the plasma stream.\n",
            "--------------------------------------------------------------------------------\n",
            "CARDINAL   : two\n",
            "PERSON     : Marla Finn\n",
            "PERSON     : William Hodges\n",
            "================================================================================\n",
            "13: Pierce committed suicide in the same manner, leaving a telepathic imprint in a bulkhead that was not discovered until 2370.\n",
            "--------------------------------------------------------------------------------\n",
            "DATE       : 2370\n",
            "================================================================================\n",
            "14: On stardate 40759.5, in the year 2363, the Enterprise was launched from Mars.\n",
            "--------------------------------------------------------------------------------\n",
            "CARDINAL   : 40759.5\n",
            "DATE       : the year 2363\n",
            "ORG        : Enterprise\n",
            "LOC        : Mars\n",
            "================================================================================\n",
            "15: On stardate 41025.5, the Enterprise was commissioned.\n",
            "--------------------------------------------------------------------------------\n",
            "CARDINAL   : 41025.5\n",
            "ORG        : Enterprise\n",
            "================================================================================\n",
            "16: These stardates weren't mentioned in dialog; they were from the Enterprise dedication plaque.\n",
            "--------------------------------------------------------------------------------\n",
            "ORG        : Enterprise\n",
            "================================================================================\n",
            "17: Final systems completion and shakedown was conducted at Earth Station McKinley.\n",
            "--------------------------------------------------------------------------------\n",
            "FAC        : Earth Station McKinley\n",
            "================================================================================\n",
            "18: Captain Jean-Luc Picard took command of the ship on stardate 41148 at the order of Rear Admiral Norah Satie.\n",
            "--------------------------------------------------------------------------------\n",
            "PERSON     : Jean-Luc Picard\n",
            "DATE       : 41148\n",
            "ORG        : Rear Admiral\n",
            "PERSON     : Norah Satie\n",
            "================================================================================\n",
            "19: ===Legacy===Commander Riker was upset over the loss of the Enterprise.\n",
            "--------------------------------------------------------------------------------\n",
            "PERSON     : Legacy===\n",
            "PERSON     : Riker\n",
            "================================================================================\n",
            "20: Having hoped he would one day command the ship, he was disappointed that he never got that opportunity.\n",
            "--------------------------------------------------------------------------------\n",
            "DATE       : one day\n",
            "================================================================================\n",
            "21: However, Picard expressed doubt that the Enterprise-D would be the last vessel to carry the name.\n",
            "--------------------------------------------------------------------------------\n",
            "PERSON     : Picard\n",
            "================================================================================\n",
            "22: The Enterprise was so dear to Worf that, shortly after being reassigned to Deep Space 9 in 2372, he briefly considered resigning from Starfleet.\n",
            "--------------------------------------------------------------------------------\n",
            "PERSON     : Worf\n",
            "WORK_OF_ART: Deep Space 9\n",
            "DATE       : 2372\n",
            "GPE        : Starfleet\n",
            "================================================================================\n",
            "23: Station commander Captain Benjamin Sisko expressed regret on the loss of the Enterprise and offered his condolences over the destruction of the ship to Worf, saying the Enterprise \"was a good ship.\n",
            "--------------------------------------------------------------------------------\n",
            "PERSON     : Benjamin Sisko\n",
            "ORG        : Enterprise\n",
            "PERSON     : Worf\n",
            "================================================================================\n",
            "24: \"Captain Picard's belief that the Enterprise-D would not be the final ship to bear the name was borne out with the christening of the Class Sovereign USS Enterprise NCC-1701-E, later the same year.\n",
            "--------------------------------------------------------------------------------\n",
            "PERSON     : Picard\n",
            "DATE       : later the same year\n",
            "================================================================================\n",
            "25: In that instance, the legacy of the Enterprise continued with Picard reprising his role as CO and selecting most of the former crew from the Enterprise-D, with the notable exception of Worf due to his most recent assignment to DS9 (though he temporarily joined the Enterprise-E crew on several of their more notable missions).\n",
            "--------------------------------------------------------------------------------\n",
            "ORG        : Enterprise\n",
            "PERSON     : Picard\n",
            "ORG        : CO\n",
            "PERSON     : Worf\n",
            "================================================================================\n"
          ]
        }
      ],
      "source": [
        "## spaCy\n",
        "for i, s in enumerate(doc.sents):\n",
        "    print('%2d: %s' % (i, re.sub(r'\\n+', '', s.text)))\n",
        "    if s.as_doc().ents:\n",
        "        print('-'*80)\n",
        "        for e in s.as_doc().ents:\n",
        "            print('%-11s: %s' % (e.label_, re.sub(r'\\n+', '', e.text)))\n",
        "    print('='*80)"
      ]
    },
    {
      "cell_type": "markdown",
      "metadata": {
        "id": "YSNoDKpMUH3S"
      },
      "source": [
        "## Extra: Using NLTK for NLP\n",
        "\n",
        "### Tokenise"
      ]
    },
    {
      "cell_type": "code",
      "source": [
        "import nltk\n",
        "nltk.download('punkt_tab')"
      ],
      "metadata": {
        "colab": {
          "base_uri": "https://localhost:8080/"
        },
        "id": "zst-kOqc5vhR",
        "outputId": "8f0ae07d-9f58-458e-e0c3-da4be870cb82"
      },
      "execution_count": 44,
      "outputs": [
        {
          "output_type": "stream",
          "name": "stderr",
          "text": [
            "[nltk_data] Downloading package punkt_tab to /root/nltk_data...\n",
            "[nltk_data]   Unzipping tokenizers/punkt_tab.zip.\n"
          ]
        },
        {
          "output_type": "execute_result",
          "data": {
            "text/plain": [
              "True"
            ]
          },
          "metadata": {},
          "execution_count": 44
        }
      ]
    },
    {
      "cell_type": "code",
      "source": [
        "doc = nlp(text)"
      ],
      "metadata": {
        "id": "9Rold0IU7l5d"
      },
      "execution_count": 56,
      "outputs": []
    },
    {
      "cell_type": "code",
      "execution_count": 57,
      "metadata": {
        "ExecuteTime": {
          "end_time": "2019-06-17T01:18:26.276966Z",
          "start_time": "2019-06-17T01:18:26.186212Z"
        },
        "id": "pML63M9KLNPX",
        "outputId": "8eb95636-bdbd-4d67-e969-6e1d6559b5af",
        "scrolled": true,
        "colab": {
          "base_uri": "https://localhost:8080/"
        }
      },
      "outputs": [
        {
          "output_type": "stream",
          "name": "stdout",
          "text": [
            " 1| 'U'\n",
            " 2| 'S'\n",
            " 3| 'S'\n",
            " 4| 'E'\n",
            " 5| 'n'\n",
            " 6| 't'\n",
            " 7| 'e'\n",
            " 8| 'r'\n",
            " 9| 'p'\n",
            "10| 'r'\n",
            "11| 'i'\n",
            "12| 's'\n",
            "13| 'e'\n",
            "14| '('\n",
            "15| 'N'\n",
            "16| 'C'\n",
            "17| 'C'\n",
            "18| '-'\n",
            "19| '1'\n",
            "20| '7'\n",
            "21| '0'\n",
            "22| '1'\n",
            "23| '-'\n",
            "24| 'D'\n",
            "25| ')'\n"
          ]
        }
      ],
      "source": [
        "# use nltk to find tokens\n",
        "tokens = nltk.word_tokenize(text)\n",
        "\n",
        "for i, t in enumerate(tokens[:25]):\n",
        "    print('%2d| %r' % (i+1, t))"
      ]
    },
    {
      "cell_type": "code",
      "execution_count": 46,
      "metadata": {
        "ExecuteTime": {
          "end_time": "2019-06-17T01:18:48.978316Z",
          "start_time": "2019-06-17T01:18:48.686799Z"
        },
        "id": "G5C3ituYLNPZ",
        "outputId": "2bcdac35-4bba-44e9-dec2-dcf7d13c874c",
        "colab": {
          "base_uri": "https://localhost:8080/",
          "height": 539
        }
      },
      "outputs": [
        {
          "output_type": "display_data",
          "data": {
            "text/plain": [
              "<Figure size 1600x600 with 1 Axes>"
            ],
            "image/png": "[encoded data removed]"
          },
          "metadata": {}
        }
      ],
      "source": [
        "plot_words(tokens)"
      ]
    },
    {
      "cell_type": "markdown",
      "metadata": {
        "id": "pUFtNsjhUH3T"
      },
      "source": [
        "### Stop words"
      ]
    },
    {
      "cell_type": "code",
      "source": [
        "nltk.download('stopwords')"
      ],
      "metadata": {
        "colab": {
          "base_uri": "https://localhost:8080/"
        },
        "id": "MBKoz1MU6Igi",
        "outputId": "9d9507d3-261b-4189-b478-fb058125c571"
      },
      "execution_count": 48,
      "outputs": [
        {
          "output_type": "stream",
          "name": "stderr",
          "text": [
            "[nltk_data] Downloading package stopwords to /root/nltk_data...\n",
            "[nltk_data]   Unzipping corpora/stopwords.zip.\n"
          ]
        },
        {
          "output_type": "execute_result",
          "data": {
            "text/plain": [
              "True"
            ]
          },
          "metadata": {},
          "execution_count": 48
        }
      ]
    },
    {
      "cell_type": "code",
      "execution_count": 49,
      "metadata": {
        "ExecuteTime": {
          "end_time": "2019-06-17T01:20:00.638483Z",
          "start_time": "2019-06-17T01:20:00.617539Z"
        },
        "id": "BnY2rFzuLNPj",
        "outputId": "d6b83425-a173-4188-d145-a8f2611b9e91",
        "scrolled": true,
        "colab": {
          "base_uri": "https://localhost:8080/"
        }
      },
      "outputs": [
        {
          "output_type": "stream",
          "name": "stdout",
          "text": [
            "a, about, above, after, again, against, ain, all, am, an, and, any, are, aren, aren't, as, at, be, because, been, before, being, below, between, both, but, by, can, couldn, couldn't, d, did, didn, didn't, do, does, doesn, doesn't, doing, don, don't, down, during, each, few, for, from, further, had, hadn, hadn't, has, hasn, hasn't, have, haven, haven't, having, he, he'd, he'll, he's, her, here, hers, herself, him, himself, his, how, i, i'd, i'll, i'm, i've, if, in, into, is, isn, isn't, it, it'd, it'll, it's, its, itself, just, ll, m, ma, me, mightn, mightn't, more, most, mustn, mustn't, my, myself, needn, needn't, no, nor, not, now, o, of, off, on, once, only, or, other, our, ours, ourselves, out, over, own, re, s, same, shan, shan't, she, she'd, she'll, she's, should, should've, shouldn, shouldn't, so, some, such, t, than, that, that'll, the, their, theirs, them, themselves, then, there, these, they, they'd, they'll, they're, they've, this, those, through, to, too, under, until, up, ve, very, was, wasn, wasn't, we, we'd, we'll, we're, we've, were, weren, weren't, what, when, where, which, while, who, whom, why, will, with, won, won't, wouldn, wouldn't, y, you, you'd, you'll, you're, you've, your, yours, yourself, yourselves\n"
          ]
        }
      ],
      "source": [
        "stopWords = nltk.corpus.stopwords.words('english')\n",
        "\n",
        "stopWords.sort()\n",
        "print(', '.join(stopWords))"
      ]
    },
    {
      "cell_type": "code",
      "execution_count": 59,
      "metadata": {
        "id": "dksPJF7YcI1o",
        "colab": {
          "base_uri": "https://localhost:8080/"
        },
        "outputId": "9f4bd67a-92fd-4c43-ee5a-140aa03f436c"
      },
      "outputs": [
        {
          "output_type": "stream",
          "name": "stderr",
          "text": [
            "[nltk_data] Downloading package punkt to /root/nltk_data...\n",
            "[nltk_data]   Unzipping tokenizers/punkt.zip.\n"
          ]
        },
        {
          "output_type": "stream",
          "name": "stdout",
          "text": [
            "['u', 'e', 'n', 'e', 'r', 'p', 'r', 'e', 'n', 'c', 'c', 'f', 'r', 'f', 'v', 'e', 'h', 'u', 'n', 'r', 'e', 'e', 'r', 'e', 'v', 'e', 'r', 'h', 'p', 'h', 'h', 'b', 'r', 'n', 'e', 'h', 'e', 'n', 'e', 'f', 'h', 'e', 'e', 'n', 'e', 'r', 'p', 'r', 'e', 'h', 'b', 'e', 'c', 'e', 'l', 'e', 'g', 'e', 'n', 'h', 'n', 'e', 'n', 'f', 'f', 'e', 'r', 'e', 'n', 'h', 'e', 'u', 'e', 'n', 'e', 'r', 'p', 'r', 'e', 'n', 'c', 'c', 'w', 'h', 'c', 'e', 'n', 'u', 'r', 'u', 'n', 'e', 'f', 'e', 'e', 'r', 'n', 'f', 'p', 'l', 'n', 'e', 'g', 'l', 'x', 'c', 'l', 'r', 'h', 'p', 'p', 'e', 'r', 'e', 'b', 'r', 'f', 'l', 'e', 'e', 'n', 'h', 'e', 'f', 'f', 'h', 'f', 'e', 'e', 'r', 'n', 'h', 'p', 'b', 'e', 'r', 'h', 'e', 'n', 'e', 'e', 'n', 'e', 'r', 'p', 'r', 'e', 'u', 'r', 'n', 'g', 'h', 'e', 'r', 'c', 'r', 'e', 'e', 'r', 'h', 'e', 'e', 'n', 'e', 'r', 'p', 'r', 'e', 'e', 'r', 'v', 'e', 'h', 'e', 'f', 'e', 'e', 'r', 'n', 'f', 'l', 'g', 'h', 'p', 'h', 'e', 'e', 'n', 'e', 'r', 'p', 'r', 'e', 'w', 'e', 'r', 'e', 'u', 'r', 'n', 'g', 'h', 'e', 'b', 'l', 'e', 'f', 'v', 'e', 'r', 'n', 'n', 'h', 'r', 'c', 'n', 'r', 'u', 'c', 'n', 'n', 'l', 'u', 'n', 'c', 'h', 'h', 'e', 'e', 'n', 'e', 'r', 'p', 'r', 'e', 'w', 'b', 'u', 'l', 'u', 'p', 'p', 'l', 'n', 'f', 'l', 'e', 'e', 'r', 'r', 'b', 'n', 'g', 'r', 'n', 'h', 'e', 'l', 'r', 'e', 'h', 'e', 'c', 'n', 'r', 'u', 'c', 'n', 'w', 'v', 'e', 'u', 'n', 'e', 'r', 'k', 'n', 'g', 'n', 'v', 'l', 'v', 'n', 'g', 'h', 'u', 'n', 'f', 'p', 'e', 'p', 'l', 'e', 'c', 'r', 'c', 'p', 'l', 'n', 'e', 'c', 'n', 'r', 'u', 'c', 'n', 'w', 'u', 'p', 'e', 'r', 'v', 'e', 'b', 'c', 'n', 'e', 'r', 'r', 'f', 'l', 'q', 'u', 'n', 'e', 'r', 'r', 'l', 'e', 'h', 'b', 'r', 'h', 'w', 'r', 'e', 'p', 'n', 'b', 'l', 'e', 'f', 'r', 'u', 'c', 'h', 'f', 'h', 'e', 'e', 'n', 'e', 'r', 'p', 'r', 'e', 'w', 'r', 'p', 'p', 'r', 'p', 'u', 'l', 'n', 'e', 'e', 'g', 'n', 'e', 'f', 'h', 'e', 'e', 'n', 'e', 'r', 'p', 'r', 'e', 'c', 'p', 'n', 'e', 'n', 'w', 'e', 'r', 'e', 'e', 'r', 'v', 'e', 'f', 'r', 'e', 'c', 'h', 'n', 'l', 'g', 'r', 'g', 'n', 'l', 'l', 'e', 'v', 'e', 'l', 'p', 'e', 'n', 'h', 'e', 'u', 'p', 'e', 'g', 'u', 'n', 'e', 'f', 'h', 'e', 'h', 'p', 'n', 'c', 'e', 'l', 'l', 'e', 'u', 'b', 'e', 'w', 'h', 'e', 'e', 'f', 'u', 'l', 'p', 'l', 'e', 'u', 'r', 'e', 'r', 'u', 'c', 'e', 'w', 'h', 'l', 'e', 'h', 'e', 'w', 'l', 'l', 'u', 'n', 'e', 'r', 'c', 'n', 'r', 'u', 'c', 'n', 'u', 'p', 'p', 'l', 'n', 'e', 'b', 'e', 'r', 'f', 'h', 'e', 'c', 'n', 'r', 'u', 'c', 'n', 'e', 'w', 'l', 'e', 'r', 'p', 'e', 'r', 'c', 'e', 'b', 'e', 'c', 'e', 'j', 'e', 'l', 'u', 'f', 'f', 'r', 'e', 'r', 'l', 'v', 'e', 'r', 'n', 'e', 'w', 'r', 'e', 'l', 'n', 'h', 'p', 'h', 'e', 'k', 'l', 'l', 'e', 'h', 'e', 'w', 'f', 'f', 'c', 'e', 'r', 'r', 'l', 'f', 'n', 'n', 'n', 'w', 'l', 'l', 'h', 'g', 'e', 'h', 'e', 'n', 'p', 'e', 'f', 'h', 'e', 'r', 'b', 'e', 'n', 'h', 'e', 'p', 'l', 'r', 'e', 'p', 'e', 'r', 'c', 'e', 'c', 'e', 'u', 'c', 'e', 'n', 'h', 'e', 'e', 'n', 'n', 'e', 'r', 'l', 'e', 'v', 'n', 'g', 'e', 'l', 'e', 'p', 'h', 'c', 'p', 'r', 'n', 'n', 'b', 'u', 'l', 'k', 'h', 'e', 'h', 'w', 'n', 'c', 'v', 'e', 'r', 'e', 'u', 'n', 'l', 'n', 'r', 'e', 'n', 'h', 'e', 'e', 'r', 'h', 'e', 'e', 'n', 'e', 'r', 'p', 'r', 'e', 'w', 'l', 'u', 'n', 'c', 'h', 'e', 'f', 'r', 'r', 'n', 'r', 'e', 'h', 'e', 'e', 'n', 'e', 'r', 'p', 'r', 'e', 'w', 'c', 'n', 'e', 'h', 'e', 'e', 'r', 'e', 'w', 'e', 'r', 'e', 'n', 'e', 'n', 'n', 'e', 'n', 'l', 'g', 'h', 'e', 'w', 'e', 'r', 'e', 'f', 'r', 'h', 'e', 'e', 'n', 'e', 'r', 'p', 'r', 'e', 'e', 'c', 'n', 'p', 'l', 'q', 'u', 'e', 'f', 'n', 'l', 'e', 'c', 'p', 'l', 'e', 'n', 'n', 'h', 'k', 'e', 'w', 'n', 'w', 'c', 'n', 'u', 'c', 'e', 'e', 'r', 'h', 'n', 'c', 'k', 'n', 'l', 'e', 'c', 'p', 'n', 'j', 'e', 'n', 'l', 'u', 'c', 'p', 'c', 'r', 'k', 'c', 'n', 'f', 'h', 'e', 'h', 'p', 'n', 'r', 'e', 'h', 'e', 'r', 'e', 'r', 'f', 'r', 'e', 'r', 'r', 'l', 'n', 'r', 'h', 'e', 'l', 'e', 'g', 'c', 'c', 'n', 'e', 'r', 'r', 'k', 'e', 'r', 'w', 'u', 'p', 'e', 'v', 'e', 'r', 'h', 'e', 'l', 'f', 'h', 'e', 'e', 'n', 'e', 'r', 'p', 'r', 'e', 'h', 'v', 'n', 'g', 'h', 'p', 'e', 'h', 'e', 'w', 'u', 'l', 'n', 'e', 'c', 'n', 'h', 'e', 'h', 'p', 'h', 'e', 'w', 'p', 'p', 'n', 'e', 'h', 'h', 'e', 'n', 'e', 'v', 'e', 'r', 'g', 'h', 'p', 'p', 'r', 'u', 'n', 'h', 'w', 'e', 'v', 'e', 'r', 'p', 'c', 'r', 'e', 'x', 'p', 'r', 'e', 'e', 'u', 'b', 'h', 'h', 'e', 'e', 'n', 'e', 'r', 'p', 'r', 'e', 'w', 'u', 'l', 'b', 'e', 'h', 'e', 'l', 'v', 'e', 'e', 'l', 'c', 'r', 'r', 'h', 'e', 'n', 'e', 'h', 'e', 'e', 'n', 'e', 'r', 'p', 'r', 'e', 'w', 'e', 'r', 'w', 'r', 'f', 'h', 'h', 'r', 'l', 'f', 'e', 'r', 'b', 'e', 'n', 'g', 'r', 'e', 'g', 'n', 'e', 'e', 'e', 'p', 'p', 'c', 'e', 'n', 'h', 'e', 'b', 'r', 'e', 'f', 'l', 'c', 'n', 'e', 'r', 'e', 'r', 'e', 'g', 'n', 'n', 'g', 'f', 'r', 'r', 'f', 'l', 'e', 'e', 'n', 'c', 'n', 'e', 'r', 'c', 'p', 'n', 'b', 'e', 'n', 'j', 'n', 'k', 'e', 'x', 'p', 'r', 'e', 'e', 'r', 'e', 'g', 'r', 'e', 'n', 'h', 'e', 'l', 'f', 'h', 'e', 'e', 'n', 'e', 'r', 'p', 'r', 'e', 'n', 'f', 'f', 'e', 'r', 'e', 'h', 'c', 'n', 'l', 'e', 'n', 'c', 'e', 'v', 'e', 'r', 'h', 'e', 'e', 'r', 'u', 'c', 'n', 'f', 'h', 'e', 'h', 'p', 'w', 'r', 'f', 'n', 'g', 'h', 'e', 'e', 'n', 'e', 'r', 'p', 'r', 'e', 'w', 'g', 'h', 'p', 'c', 'p', 'n', 'p', 'c', 'r', 'b', 'e', 'l', 'e', 'f', 'h', 'h', 'e', 'e', 'n', 'e', 'r', 'p', 'r', 'e', 'w', 'u', 'l', 'n', 'b', 'e', 'h', 'e', 'f', 'n', 'l', 'h', 'p', 'b', 'e', 'r', 'h', 'e', 'n', 'e', 'w', 'b', 'r', 'n', 'e', 'u', 'w', 'h', 'h', 'e', 'c', 'h', 'r', 'e', 'n', 'n', 'g', 'f', 'h', 'e', 'c', 'l', 'v', 'e', 'r', 'e', 'g', 'n', 'u', 'e', 'n', 'e', 'r', 'p', 'r', 'e', 'n', 'c', 'c', 'e', 'l', 'e', 'r', 'h', 'e', 'e', 'e', 'r', 'n', 'h', 'n', 'n', 'c', 'e', 'h', 'e', 'l', 'e', 'g', 'c', 'f', 'h', 'e', 'e', 'n', 'e', 'r', 'p', 'r', 'e', 'c', 'n', 'n', 'u', 'e', 'w', 'h', 'p', 'c', 'r', 'r', 'e', 'p', 'r', 'n', 'g', 'h', 'r', 'l', 'e', 'c', 'n', 'e', 'l', 'e', 'c', 'n', 'g', 'f', 'h', 'e', 'f', 'r', 'e', 'r', 'c', 'r', 'e', 'w', 'f', 'r', 'h', 'e', 'e', 'n', 'e', 'r', 'p', 'r', 'e', 'w', 'h', 'h', 'e', 'n', 'b', 'l', 'e', 'e', 'x', 'c', 'e', 'p', 'n', 'f', 'w', 'r', 'f', 'u', 'e', 'h', 'r', 'e', 'c', 'e', 'n', 'g', 'n', 'e', 'n', 'h', 'u', 'g', 'h', 'h', 'e', 'e', 'p', 'r', 'r', 'l', 'j', 'n', 'e', 'h', 'e', 'e', 'n', 'e', 'r', 'p', 'r', 'e', 'e', 'c', 'r', 'e', 'w', 'n', 'e', 'v', 'e', 'r', 'l', 'f', 'h', 'e', 'r', 'r', 'e', 'n', 'b', 'l', 'e', 'n']\n"
          ]
        },
        {
          "output_type": "stream",
          "name": "stderr",
          "text": [
            "[nltk_data] Downloading package stopwords to /root/nltk_data...\n",
            "[nltk_data]   Package stopwords is already up-to-date!\n"
          ]
        }
      ],
      "source": [
        "# ANSWER\n",
        "# NOTE: see the `.lower()` method applied to token\n",
        "import nltk\n",
        "from nltk.corpus import stopwords\n",
        "from nltk.tokenize import word_tokenize\n",
        "import string\n",
        "\n",
        "nltk.download('punkt')\n",
        "nltk.download('stopwords')\n",
        "\n",
        "# Tokenize the string\n",
        "tokens = word_tokenize(text)\n",
        "\n",
        "# Filter stopwords and punctuation\n",
        "stop_words = set(stopwords.words('english'))\n",
        "tokens_no_stop = [word.lower() for word in tokens if word.lower() not in stop_words and word.isalpha()]\n",
        "\n",
        "print(tokens_no_stop)\n"
      ]
    },
    {
      "cell_type": "code",
      "source": [
        "# Make sure everything is clean\n",
        "import nltk\n",
        "from nltk.tokenize import word_tokenize\n",
        "from nltk.corpus import stopwords\n",
        "import string\n",
        "\n",
        "# Download required NLTK resources\n",
        "nltk.download('punkt')\n",
        "nltk.download('stopwords')\n",
        "\n",
        "# Step 1: Your clean text string\n",
        "text = \"This is the captain of the USS Enterprise-D. Engage!\"\n",
        "\n",
        "# Step 2: Tokenize into words\n",
        "tokens = word_tokenize(text)\n",
        "\n",
        "# Step 3: Define stopwords and filter out punctuation & stopwords\n",
        "stop_words = set(stopwords.words('english'))\n",
        "tokens_no_stop = [word.lower() for word in tokens if word.lower() not in stop_words and word.isalpha()]\n",
        "\n",
        "# Step 4: Output the cleaned words\n",
        "print(\"✅ Tokens with stopwords removed:\")\n",
        "print(tokens_no_stop)\n"
      ],
      "metadata": {
        "colab": {
          "base_uri": "https://localhost:8080/"
        },
        "id": "p9NpeExW8qz2",
        "outputId": "211e490c-6d32-4bcb-9b9c-d070ffa12c45"
      },
      "execution_count": 64,
      "outputs": [
        {
          "output_type": "stream",
          "name": "stdout",
          "text": [
            "✅ Tokens with stopwords removed:\n",
            "['captain', 'uss', 'engage']\n"
          ]
        },
        {
          "output_type": "stream",
          "name": "stderr",
          "text": [
            "[nltk_data] Downloading package punkt to /root/nltk_data...\n",
            "[nltk_data]   Package punkt is already up-to-date!\n",
            "[nltk_data] Downloading package stopwords to /root/nltk_data...\n",
            "[nltk_data]   Package stopwords is already up-to-date!\n"
          ]
        }
      ]
    },
    {
      "cell_type": "code",
      "source": [
        "print(\"type of text:\", type(text))\n",
        "print(\"type of tokens:\", type(tokens))\n",
        "print(\"first 10 tokens:\", tokens[:10])\n"
      ],
      "metadata": {
        "colab": {
          "base_uri": "https://localhost:8080/"
        },
        "id": "yPX2Ky8o8zIq",
        "outputId": "33a502cb-5f4e-46f8-ff25-22543db3a662"
      },
      "execution_count": 65,
      "outputs": [
        {
          "output_type": "stream",
          "name": "stdout",
          "text": [
            "type of text: <class 'str'>\n",
            "type of tokens: <class 'list'>\n",
            "first 10 tokens: ['This', 'is', 'the', 'captain', 'of', 'the', 'USS', 'Enterprise-D', '.', 'Engage']\n"
          ]
        }
      ]
    },
    {
      "cell_type": "code",
      "execution_count": 66,
      "metadata": {
        "ExecuteTime": {
          "end_time": "2019-06-17T01:21:23.469455Z",
          "start_time": "2019-06-17T01:21:23.412608Z"
        },
        "id": "a82KBILRLNPm",
        "outputId": "5e518fc4-678f-41ed-e3cb-d8633bb6c617",
        "colab": {
          "base_uri": "https://localhost:8080/"
        }
      },
      "outputs": [
        {
          "output_type": "stream",
          "name": "stdout",
          "text": [
            "i | with stop words without\n",
            "--| --------------- ------------\n",
            " 1| 'This'         \n",
            " 2| 'is'           \n",
            " 3| 'the'          \n",
            " 4| 'captain'       'captain'\n",
            " 5| 'of'           \n",
            " 6| 'the'          \n",
            " 7| 'USS'          \n",
            " 8| 'Enterprise-D' \n",
            " 9| '.'            \n"
          ]
        }
      ],
      "source": [
        "## NLTK\n",
        "i = 0\n",
        "j = 0\n",
        "\n",
        "print('i | with stop words without')\n",
        "print('--| --------------- ------------')\n",
        "\n",
        "# for all the tokens\n",
        "while i < len(tokens):\n",
        "    # same word\n",
        "    if tokens[i] == tokens_no_stop[j]:\n",
        "        print('%2d| %-15r %r' % (i+1, tokens[i], tokens_no_stop[j]))\n",
        "        j += 1\n",
        "    # not the same word\n",
        "    else:\n",
        "        print('%2d| %-15r' % (i+1, tokens[i]))\n",
        "\n",
        "    # next word\n",
        "    i += 1\n",
        "    # break after the first sentence\n",
        "    if tokens[i-1] == '.':\n",
        "        break"
      ]
    },
    {
      "cell_type": "code",
      "execution_count": 67,
      "metadata": {
        "ExecuteTime": {
          "end_time": "2019-06-17T01:24:39.503538Z",
          "start_time": "2019-06-17T01:24:39.498514Z"
        },
        "id": "uPtOoiwuLNPo",
        "colab": {
          "base_uri": "https://localhost:8080/",
          "height": 583
        },
        "outputId": "9497e52c-daf4-4b4f-8d05-575cf1164fab"
      },
      "outputs": [
        {
          "output_type": "display_data",
          "data": {
            "text/plain": [
              "<Figure size 1600x600 with 1 Axes>"
            ],
            "image/png": "[encoded data removed]"
          },
          "metadata": {}
        }
      ],
      "source": [
        "# Create plot of words without stopword\n",
        "# ANSWER\n",
        "\n",
        "plot_words(tokens_no_stop)"
      ]
    },
    {
      "cell_type": "markdown",
      "metadata": {
        "id": "newokHfzUH3V"
      },
      "source": [
        "### Check Part of Speech"
      ]
    },
    {
      "cell_type": "code",
      "execution_count": 68,
      "metadata": {
        "ExecuteTime": {
          "end_time": "2019-06-17T01:22:10.130223Z",
          "start_time": "2019-06-17T01:22:10.100306Z"
        },
        "id": "KRupju0sLNPv"
      },
      "outputs": [],
      "source": [
        "# define PoS\n",
        "pos_list = {\n",
        "    'CC':   'coordinating conjunction',\n",
        "    'CD':   'cardinal digit',\n",
        "    'DT':   'determiner',\n",
        "    'EX':   'existential there (like: \"there is\" ... think of it like \"there exists\")',\n",
        "    'FW':   'foreign word',\n",
        "    'IN':   'preposition/subordinating conjunction',\n",
        "    'JJ':   'adjective \"big\"',\n",
        "    'JJR':  'adjective, comparative \"bigger\"',\n",
        "    'JJS':  'adjective, superlative \"biggest\"',\n",
        "    'LS':   'list marker 1)',\n",
        "    'MD':   'modal could, will',\n",
        "    'NN':   'noun, singular \"desk\"',\n",
        "    'NNS':  'noun plural \"desks\"',\n",
        "    'NNP':  'proper noun, singular \"Harrison\"',\n",
        "    'NNPS': 'proper noun, plural \"Americans\"',\n",
        "    'PDT':  'predeterminer \"all the kids\"',\n",
        "    'POS':  'possessive ending parent\"s',\n",
        "    'PRP':  'personal pronoun I, he, she',\n",
        "    'PRP$': 'possessive pronoun my, his, hers',\n",
        "    'RB':   'adverb very, silently,',\n",
        "    'RBR':  'adverb, comparative better',\n",
        "    'RBS':  'adverb, superlative best',\n",
        "    'RP':   'particle give up',\n",
        "    'TO':   'to go \"to\" the store.',\n",
        "    'UH':   'interjection errrrrrrrm',\n",
        "    'VB':   'verb, base form take',\n",
        "    'VBD':  'verb, past tense took',\n",
        "    'VBG':  'verb, gerund/present participle taking',\n",
        "    'VBN':  'verb, past participle taken',\n",
        "    'VBP':  'verb, sing. present, non-3d take',\n",
        "    'VBZ':  'verb, 3rd person sing. present takes',\n",
        "    'WDT':  'wh-determiner which',\n",
        "    'WP':   'wh-pronoun who, what',\n",
        "    'WP$':  'possessive wh-pronoun whose',\n",
        "    'WRB':  'wh-abverb where, when',\n",
        "}"
      ]
    },
    {
      "cell_type": "code",
      "source": [
        "nltk.download('averaged_perceptron_tagger_eng')"
      ],
      "metadata": {
        "colab": {
          "base_uri": "https://localhost:8080/"
        },
        "id": "DTnJIJGf9SAe",
        "outputId": "4a182204-dd41-49e9-bfe7-53d7117fe07a"
      },
      "execution_count": 70,
      "outputs": [
        {
          "output_type": "stream",
          "name": "stderr",
          "text": [
            "[nltk_data] Downloading package averaged_perceptron_tagger_eng to\n",
            "[nltk_data]     /root/nltk_data...\n",
            "[nltk_data]   Unzipping taggers/averaged_perceptron_tagger_eng.zip.\n"
          ]
        },
        {
          "output_type": "execute_result",
          "data": {
            "text/plain": [
              "True"
            ]
          },
          "metadata": {},
          "execution_count": 70
        }
      ]
    },
    {
      "cell_type": "code",
      "execution_count": 71,
      "metadata": {
        "ExecuteTime": {
          "end_time": "2019-06-17T01:22:13.969590Z",
          "start_time": "2019-06-17T01:22:13.665232Z"
        },
        "id": "asqUoCHgLNPx",
        "outputId": "2f8e6547-8999-413b-9783-e19a203c09ad",
        "colab": {
          "base_uri": "https://localhost:8080/"
        }
      },
      "outputs": [
        {
          "output_type": "stream",
          "name": "stdout",
          "text": [
            " 1|'This'       : DT   determiner\n",
            " 2|'is'         : VBZ  verb, 3rd person sing. present takes\n",
            " 3|'the'        : DT   determiner\n",
            " 4|'captain'    : NN   noun, singular \"desk\"\n",
            " 5|'of'         : IN   preposition/subordinating conjunction\n",
            " 6|'the'        : DT   determiner\n",
            " 7|'USS'        : NNP  proper noun, singular \"Harrison\"\n",
            " 8|'Enterprise-D' : NNP  proper noun, singular \"Harrison\"\n",
            " 9|'.'          : .    -\n",
            "10|'Engage'     : NN   noun, singular \"desk\"\n",
            "11|'!'          : .    -\n"
          ]
        }
      ],
      "source": [
        "## nltk\n",
        "tagged = nltk.pos_tag(tokens)\n",
        "\n",
        "for i, t in enumerate(tagged[:25]):\n",
        "    print('%2d|%-12r : %-4s %s' % (i+1, t[0], t[1], (pos_list[t[1]] if t[1] in pos_list else '-')))"
      ]
    },
    {
      "cell_type": "markdown",
      "metadata": {
        "id": "_n9qMgyULNP1"
      },
      "source": [
        "### Stemming"
      ]
    },
    {
      "cell_type": "code",
      "execution_count": 72,
      "metadata": {
        "ExecuteTime": {
          "end_time": "2019-06-17T01:22:29.259531Z",
          "start_time": "2019-06-17T01:22:29.243588Z"
        },
        "id": "pL1vRUzxLNP2"
      },
      "outputs": [],
      "source": [
        "## nltk\n",
        "ps = nltk.porter.PorterStemmer()\n",
        "stemmed = ' '.join([ps.stem(word) for word in text.split()])"
      ]
    },
    {
      "cell_type": "markdown",
      "metadata": {
        "id": "2d9a6QazLNP4"
      },
      "source": [
        "### Lemmatisation"
      ]
    },
    {
      "cell_type": "code",
      "source": [
        "nltk.download('wordnet')"
      ],
      "metadata": {
        "colab": {
          "base_uri": "https://localhost:8080/"
        },
        "id": "bB-efqM29Z1P",
        "outputId": "108718b9-dfec-495e-bde8-24d9f7ddc3c4"
      },
      "execution_count": 74,
      "outputs": [
        {
          "output_type": "stream",
          "name": "stderr",
          "text": [
            "[nltk_data] Downloading package wordnet to /root/nltk_data...\n"
          ]
        },
        {
          "output_type": "execute_result",
          "data": {
            "text/plain": [
              "True"
            ]
          },
          "metadata": {},
          "execution_count": 74
        }
      ]
    },
    {
      "cell_type": "code",
      "execution_count": 76,
      "metadata": {
        "ExecuteTime": {
          "end_time": "2019-06-17T01:22:33.219077Z",
          "start_time": "2019-06-17T01:22:31.251647Z"
        },
        "id": "OAbriUsXLNP7",
        "scrolled": true
      },
      "outputs": [],
      "source": [
        "## nltk\n",
        "wl = nltk.stem.WordNetLemmatizer()\n",
        "lemma = ' '.join([wl.lemmatize(word) for word in text.split()])"
      ]
    },
    {
      "cell_type": "code",
      "execution_count": 77,
      "metadata": {
        "ExecuteTime": {
          "end_time": "2019-06-17T01:22:40.296601Z",
          "start_time": "2019-06-17T01:22:40.251721Z"
        },
        "id": "yVIqX7HBLNP9",
        "outputId": "43cdbd2e-5d76-471c-b196-04a1ca764e41",
        "colab": {
          "base_uri": "https://localhost:8080/"
        }
      },
      "outputs": [
        {
          "output_type": "stream",
          "name": "stdout",
          "text": [
            "i | Stem           Lemma\n",
            "--| -------------- ------------\n",
            " 1| 'thi'          'This'      \n",
            " 2| 'is'           'is'        \n",
            " 3| 'the'          'the'       \n",
            " 4| 'captain'      'captain'   \n",
            " 5| 'of'           'of'        \n",
            " 6| 'the'          'the'       \n",
            " 7| 'uss'          'USS'       \n",
            " 8| 'enterprise-d.'   'Enterprise-D.'\n"
          ]
        }
      ],
      "source": [
        "## nltk\n",
        "dot = stemmed.find('.') + 1\n",
        "sl = stemmed[:dot].split()\n",
        "dot = lemma.find('.') + 1\n",
        "ll = lemma[:dot].split()\n",
        "\n",
        "print('i | Stem           Lemma')\n",
        "print('--| -------------- ------------')\n",
        "for i, p in enumerate(zip(sl, ll)):\n",
        "    print('%2d| %-12r   %-12r' % (i+1, p[0], p[1]))"
      ]
    },
    {
      "cell_type": "code",
      "execution_count": 78,
      "metadata": {
        "ExecuteTime": {
          "end_time": "2019-06-17T01:22:47.305414Z",
          "start_time": "2019-06-17T01:22:47.017187Z"
        },
        "id": "eG4yOgwVLNP-",
        "outputId": "e77a3945-1780-407b-ca61-969ef714a8e0",
        "colab": {
          "base_uri": "https://localhost:8080/",
          "height": 582
        }
      },
      "outputs": [
        {
          "output_type": "display_data",
          "data": {
            "text/plain": [
              "<Figure size 1600x600 with 1 Axes>"
            ],
            "image/png": "[encoded data removed]"
          },
          "metadata": {}
        }
      ],
      "source": [
        "plot_words(stemmed.split())"
      ]
    },
    {
      "cell_type": "code",
      "execution_count": 79,
      "metadata": {
        "ExecuteTime": {
          "end_time": "2019-06-17T01:22:50.433861Z",
          "start_time": "2019-06-17T01:22:50.144603Z"
        },
        "id": "uEJR57TYLNQA",
        "outputId": "0a6e0280-2267-406f-a6ac-44a68d211a51",
        "scrolled": true,
        "colab": {
          "base_uri": "https://localhost:8080/",
          "height": 582
        }
      },
      "outputs": [
        {
          "output_type": "display_data",
          "data": {
            "text/plain": [
              "<Figure size 1600x600 with 1 Axes>"
            ],
            "image/png": "[encoded data removed]"
          },
          "metadata": {}
        }
      ],
      "source": [
        "plot_words(lemma.split())"
      ]
    },
    {
      "cell_type": "markdown",
      "metadata": {
        "id": "Y_g-Oy2VUH3Z"
      },
      "source": [
        "### Entity recognition"
      ]
    },
    {
      "cell_type": "code",
      "source": [
        "nltk.download('maxent_ne_chunker_tab')"
      ],
      "metadata": {
        "colab": {
          "base_uri": "https://localhost:8080/"
        },
        "id": "FgKDzrcs9mQT",
        "outputId": "62aa7aaa-73eb-446b-db13-59bed52a9354"
      },
      "execution_count": 81,
      "outputs": [
        {
          "output_type": "stream",
          "name": "stderr",
          "text": [
            "[nltk_data] Downloading package maxent_ne_chunker_tab to\n",
            "[nltk_data]     /root/nltk_data...\n",
            "[nltk_data]   Unzipping chunkers/maxent_ne_chunker_tab.zip.\n"
          ]
        },
        {
          "output_type": "execute_result",
          "data": {
            "text/plain": [
              "True"
            ]
          },
          "metadata": {},
          "execution_count": 81
        }
      ]
    },
    {
      "cell_type": "code",
      "source": [
        "nltk.download('words')"
      ],
      "metadata": {
        "colab": {
          "base_uri": "https://localhost:8080/"
        },
        "id": "saRBq0sO9rZc",
        "outputId": "f570f557-b528-49e8-c127-7387106f64f4"
      },
      "execution_count": 83,
      "outputs": [
        {
          "output_type": "stream",
          "name": "stderr",
          "text": [
            "[nltk_data] Downloading package words to /root/nltk_data...\n",
            "[nltk_data]   Unzipping corpora/words.zip.\n"
          ]
        },
        {
          "output_type": "execute_result",
          "data": {
            "text/plain": [
              "True"
            ]
          },
          "metadata": {},
          "execution_count": 83
        }
      ]
    },
    {
      "cell_type": "code",
      "execution_count": 84,
      "metadata": {
        "ExecuteTime": {
          "end_time": "2019-06-17T01:22:59.142869Z",
          "start_time": "2019-06-17T01:22:58.754906Z"
        },
        "id": "sw6fYdgXLNQG",
        "outputId": "4aaf2cae-8c84-4ced-b3c9-ba3ef4ec188b",
        "colab": {
          "base_uri": "https://localhost:8080/"
        }
      },
      "outputs": [
        {
          "output_type": "stream",
          "name": "stdout",
          "text": [
            "ORGANIZATION: USS\n"
          ]
        }
      ],
      "source": [
        "## nltk\n",
        "entities = nltk.chunk.ne_chunk(tagged)\n",
        "\n",
        "for e in entities:\n",
        "    s = re.sub(r'[\\(\\)]', '', str(e))\n",
        "    if s.find('/NNP') > 0:\n",
        "        t = s.split()[0]\n",
        "        n = ' '.join([re.sub(r'/NNP', '', x) for x in s.split()[1:]])\n",
        "        print('%-12s: %s' % (t, n))"
      ]
    },
    {
      "cell_type": "markdown",
      "metadata": {
        "id": "RERADKgNFq9T"
      },
      "source": [
        "\n",
        "\n",
        "---\n",
        "\n",
        "\n",
        "\n",
        "---\n",
        "\n",
        "\n",
        "\n",
        "> > > > > > > > > © 2025 Institute of Data\n",
        "\n",
        "\n",
        "---\n",
        "\n",
        "\n",
        "\n",
        "---\n",
        "\n",
        "\n",
        "\n"
      ]
    }
  ],
  "metadata": {
    "colab": {
      "provenance": []
    },
    "kernelspec": {
      "display_name": "Python [conda env:base] *",
      "language": "python",
      "name": "conda-base-py"
    },
    "language_info": {
      "codemirror_mode": {
        "name": "ipython",
        "version": 3
      },
      "file_extension": ".py",
      "mimetype": "text/x-python",
      "name": "python",
      "nbconvert_exporter": "python",
      "pygments_lexer": "ipython3",
      "version": "3.12.7"
    },
    "varInspector": {
      "cols": {
        "lenName": 16,
        "lenType": 16,
        "lenVar": 40
      },
      "kernels_config": {
        "python": {
          "delete_cmd_postfix": "",
          "delete_cmd_prefix": "del ",
          "library": "var_list.py",
          "varRefreshCmd": "print(var_dic_list())"
        },
        "r": {
          "delete_cmd_postfix": ") ",
          "delete_cmd_prefix": "rm(",
          "library": "var_list.r",
          "varRefreshCmd": "cat(var_dic_list()) "
        }
      },
      "types_to_exclude": [
        "module",
        "function",
        "builtin_function_or_method",
        "instance",
        "_Feature"
      ],
      "window_display": false
    }
  },
  "nbformat": 4,
  "nbformat_minor": 0
}