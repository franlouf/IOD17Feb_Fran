{
  "cells": [
    {
      "cell_type": "markdown",
      "metadata": {
        "id": "Nji1a9ULLtCA"
      },
      "source": [
        "<div>\n",
        "<img src=https://www.institutedata.com/wp-content/uploads/2019/10/iod_h_tp_primary_c.svg width=\"300\">\n",
        "</div>"
      ]
    },
    {
      "cell_type": "markdown",
      "metadata": {
        "id": "fnsX1AWKLtCE"
      },
      "source": [
        "# Lab 8.4: Text Classification\n",
        "\n",
        "In this lab you will implement different types of feature engineering for text classification:\n",
        "* Count vectors\n",
        "* TF-IDF vectors (word level, n-gram level, character level)\n",
        "* Text/NLP based features\n",
        "* Topic models\n",
        "  \n",
        "The following classification algorithms will be applied to the count and TF-IDF vector features:\n",
        "* Naïve Bayes\n",
        "* Logistic Regression\n",
        "* Support Vector Machine\n",
        "* Random Forest\n",
        "* Gradient Boosting"
      ]
    },
    {
      "cell_type": "markdown",
      "metadata": {
        "id": "6pm8PttyLtCI"
      },
      "source": [
        "## Import libraries"
      ]
    },
    {
      "cell_type": "code",
      "execution_count": 1,
      "metadata": {
        "ExecuteTime": {
          "end_time": "2019-06-17T01:38:33.182995Z",
          "start_time": "2019-06-17T01:38:30.045388Z"
        },
        "id": "EUANiH6zLtCK"
      },
      "outputs": [],
      "source": [
        "## Import Libraries\n",
        "import numpy as np\n",
        "import pandas as pd\n",
        "\n",
        "import string\n",
        "import spacy\n",
        "\n",
        "from collections import Counter\n",
        "\n",
        "from sklearn.decomposition import LatentDirichletAllocation\n",
        "from sklearn.ensemble import GradientBoostingClassifier\n",
        "from sklearn.ensemble import RandomForestClassifier\n",
        "from sklearn.feature_extraction.text import CountVectorizer\n",
        "from sklearn.feature_extraction.text import TfidfVectorizer\n",
        "from sklearn.linear_model import LogisticRegression\n",
        "from sklearn.metrics import accuracy_score\n",
        "from sklearn.model_selection import train_test_split\n",
        "from sklearn.naive_bayes import MultinomialNB\n",
        "from sklearn.svm import LinearSVC\n",
        "\n",
        "# import warnings\n",
        "# warnings.filterwarnings('ignore')"
      ]
    },
    {
      "cell_type": "markdown",
      "metadata": {
        "id": "58bUNQA0LtCV"
      },
      "source": [
        "## Load data"
      ]
    },
    {
      "cell_type": "markdown",
      "metadata": {
        "id": "UqU7d_qcLtCX"
      },
      "source": [
        "Sample:\n",
        "\n",
        "    __label__2 Stuning even for the non-gamer: This sound ...\n",
        "    __label__2 The best soundtrack ever to anything.: I'm ...\n",
        "    __label__2 Amazing!: This soundtrack is my favorite m ...\n",
        "    __label__2 Excellent Soundtrack: I truly like this so ...\n",
        "    __label__2 Remember, Pull Your Jaw Off The Floor Afte ...\n",
        "    __label__2 an absolute masterpiece: I am quite sure a ...\n",
        "    __label__1 Buyer beware: This is a self-published boo ...\n",
        "    . . .\n",
        "    \n",
        "There are only two **labels**:\n",
        "- `__label__1`\n",
        "- `__label__2`"
      ]
    },
    {
      "cell_type": "code",
      "source": [
        "from google.colab import files\n",
        "\n",
        "uploaded = files.upload()\n"
      ],
      "metadata": {
        "colab": {
          "base_uri": "https://localhost:8080/",
          "height": 74
        },
        "id": "-zAg-U4KFZrt",
        "outputId": "7a989110-6e7f-4ad7-fd50-aaaa1da0db0a"
      },
      "execution_count": 2,
      "outputs": [
        {
          "output_type": "display_data",
          "data": {
            "text/plain": [
              "<IPython.core.display.HTML object>"
            ],
            "text/html": [
              "\n",
              "     <input type=\"file\" id=\"files-955e511b-ae40-4a5b-80bd-e5d163af8b65\" name=\"files[]\" multiple disabled\n",
              "        style=\"border:none\" />\n",
              "     <output id=\"result-955e511b-ae40-4a5b-80bd-e5d163af8b65\">\n",
              "      Upload widget is only available when the cell has been executed in the\n",
              "      current browser session. Please rerun this cell to enable.\n",
              "      </output>\n",
              "      <script>// Copyright 2017 Google LLC\n",
              "//\n",
              "// Licensed under the Apache License, Version 2.0 (the \"License\");\n",
              "// you may not use this file except in compliance with the License.\n",
              "// You may obtain a copy of the License at\n",
              "//\n",
              "//      http://www.apache.org/licenses/LICENSE-2.0\n",
              "//\n",
              "// Unless required by applicable law or agreed to in writing, software\n",
              "// distributed under the License is distributed on an \"AS IS\" BASIS,\n",
              "// WITHOUT WARRANTIES OR CONDITIONS OF ANY KIND, either express or implied.\n",
              "// See the License for the specific language governing permissions and\n",
              "// limitations under the License.\n",
              "\n",
              "/**\n",
              " * @fileoverview Helpers for google.colab Python module.\n",
              " */\n",
              "(function(scope) {\n",
              "function span(text, styleAttributes = {}) {\n",
              "  const element = document.createElement('span');\n",
              "  element.textContent = text;\n",
              "  for (const key of Object.keys(styleAttributes)) {\n",
              "    element.style[key] = styleAttributes[key];\n",
              "  }\n",
              "  return element;\n",
              "}\n",
              "\n",
              "// Max number of bytes which will be uploaded at a time.\n",
              "const MAX_PAYLOAD_SIZE = 100 * 1024;\n",
              "\n",
              "function _uploadFiles(inputId, outputId) {\n",
              "  const steps = uploadFilesStep(inputId, outputId);\n",
              "  const outputElement = document.getElementById(outputId);\n",
              "  // Cache steps on the outputElement to make it available for the next call\n",
              "  // to uploadFilesContinue from Python.\n",
              "  outputElement.steps = steps;\n",
              "\n",
              "  return _uploadFilesContinue(outputId);\n",
              "}\n",
              "\n",
              "// This is roughly an async generator (not supported in the browser yet),\n",
              "// where there are multiple asynchronous steps and the Python side is going\n",
              "// to poll for completion of each step.\n",
              "// This uses a Promise to block the python side on completion of each step,\n",
              "// then passes the result of the previous step as the input to the next step.\n",
              "function _uploadFilesContinue(outputId) {\n",
              "  const outputElement = document.getElementById(outputId);\n",
              "  const steps = outputElement.steps;\n",
              "\n",
              "  const next = steps.next(outputElement.lastPromiseValue);\n",
              "  return Promise.resolve(next.value.promise).then((value) => {\n",
              "    // Cache the last promise value to make it available to the next\n",
              "    // step of the generator.\n",
              "    outputElement.lastPromiseValue = value;\n",
              "    return next.value.response;\n",
              "  });\n",
              "}\n",
              "\n",
              "/**\n",
              " * Generator function which is called between each async step of the upload\n",
              " * process.\n",
              " * @param {string} inputId Element ID of the input file picker element.\n",
              " * @param {string} outputId Element ID of the output display.\n",
              " * @return {!Iterable<!Object>} Iterable of next steps.\n",
              " */\n",
              "function* uploadFilesStep(inputId, outputId) {\n",
              "  const inputElement = document.getElementById(inputId);\n",
              "  inputElement.disabled = false;\n",
              "\n",
              "  const outputElement = document.getElementById(outputId);\n",
              "  outputElement.innerHTML = '';\n",
              "\n",
              "  const pickedPromise = new Promise((resolve) => {\n",
              "    inputElement.addEventListener('change', (e) => {\n",
              "      resolve(e.target.files);\n",
              "    });\n",
              "  });\n",
              "\n",
              "  const cancel = document.createElement('button');\n",
              "  inputElement.parentElement.appendChild(cancel);\n",
              "  cancel.textContent = 'Cancel upload';\n",
              "  const cancelPromise = new Promise((resolve) => {\n",
              "    cancel.onclick = () => {\n",
              "      resolve(null);\n",
              "    };\n",
              "  });\n",
              "\n",
              "  // Wait for the user to pick the files.\n",
              "  const files = yield {\n",
              "    promise: Promise.race([pickedPromise, cancelPromise]),\n",
              "    response: {\n",
              "      action: 'starting',\n",
              "    }\n",
              "  };\n",
              "\n",
              "  cancel.remove();\n",
              "\n",
              "  // Disable the input element since further picks are not allowed.\n",
              "  inputElement.disabled = true;\n",
              "\n",
              "  if (!files) {\n",
              "    return {\n",
              "      response: {\n",
              "        action: 'complete',\n",
              "      }\n",
              "    };\n",
              "  }\n",
              "\n",
              "  for (const file of files) {\n",
              "    const li = document.createElement('li');\n",
              "    li.append(span(file.name, {fontWeight: 'bold'}));\n",
              "    li.append(span(\n",
              "        `(${file.type || 'n/a'}) - ${file.size} bytes, ` +\n",
              "        `last modified: ${\n",
              "            file.lastModifiedDate ? file.lastModifiedDate.toLocaleDateString() :\n",
              "                                    'n/a'} - `));\n",
              "    const percent = span('0% done');\n",
              "    li.appendChild(percent);\n",
              "\n",
              "    outputElement.appendChild(li);\n",
              "\n",
              "    const fileDataPromise = new Promise((resolve) => {\n",
              "      const reader = new FileReader();\n",
              "      reader.onload = (e) => {\n",
              "        resolve(e.target.result);\n",
              "      };\n",
              "      reader.readAsArrayBuffer(file);\n",
              "    });\n",
              "    // Wait for the data to be ready.\n",
              "    let fileData = yield {\n",
              "      promise: fileDataPromise,\n",
              "      response: {\n",
              "        action: 'continue',\n",
              "      }\n",
              "    };\n",
              "\n",
              "    // Use a chunked sending to avoid message size limits. See b/62115660.\n",
              "    let position = 0;\n",
              "    do {\n",
              "      const length = Math.min(fileData.byteLength - position, MAX_PAYLOAD_SIZE);\n",
              "      const chunk = new Uint8Array(fileData, position, length);\n",
              "      position += length;\n",
              "\n",
              "      const base64 = btoa(String.fromCharCode.apply(null, chunk));\n",
              "      yield {\n",
              "        response: {\n",
              "          action: 'append',\n",
              "          file: file.name,\n",
              "          data: base64,\n",
              "        },\n",
              "      };\n",
              "\n",
              "      let percentDone = fileData.byteLength === 0 ?\n",
              "          100 :\n",
              "          Math.round((position / fileData.byteLength) * 100);\n",
              "      percent.textContent = `${percentDone}% done`;\n",
              "\n",
              "    } while (position < fileData.byteLength);\n",
              "  }\n",
              "\n",
              "  // All done.\n",
              "  yield {\n",
              "    response: {\n",
              "      action: 'complete',\n",
              "    }\n",
              "  };\n",
              "}\n",
              "\n",
              "scope.google = scope.google || {};\n",
              "scope.google.colab = scope.google.colab || {};\n",
              "scope.google.colab._files = {\n",
              "  _uploadFiles,\n",
              "  _uploadFilesContinue,\n",
              "};\n",
              "})(self);\n",
              "</script> "
            ]
          },
          "metadata": {}
        },
        {
          "output_type": "stream",
          "name": "stdout",
          "text": [
            "Saving corpus.txt to corpus.txt\n"
          ]
        }
      ]
    },
    {
      "cell_type": "code",
      "execution_count": 3,
      "metadata": {
        "ExecuteTime": {
          "end_time": "2019-06-17T01:38:42.024845Z",
          "start_time": "2019-06-17T01:38:41.896098Z"
        },
        "id": "rwWFJprZLtCZ"
      },
      "outputs": [],
      "source": [
        "## Loading the data\n",
        "\n",
        "df_corpus = pd.read_fwf(\n",
        "    filepath_or_buffer = 'corpus.txt',\n",
        "    colspecs = [(9, 10),   # label: get only the numbers 1 or 2\n",
        "                (11, 9000) # text: makes the it big enough to get to the end of the line\n",
        "               ],\n",
        "    header = 0,\n",
        "    names = ['label', 'text'],\n",
        "    lineterminator = '\\n'\n",
        ")\n",
        "\n",
        "# convert label from [1, 2] to [0, 1]\n",
        "df_corpus['label'] = df_corpus['label'] - 1"
      ]
    },
    {
      "cell_type": "markdown",
      "metadata": {
        "id": "mILVIHomLtCf"
      },
      "source": [
        "## Inspect the data"
      ]
    },
    {
      "cell_type": "code",
      "execution_count": 5,
      "metadata": {
        "ExecuteTime": {
          "end_time": "2019-06-17T01:39:24.213192Z",
          "start_time": "2019-06-17T01:39:24.209202Z"
        },
        "id": "G9_8RbOeLtCh",
        "colab": {
          "base_uri": "https://localhost:8080/"
        },
        "outputId": "bef31116-a458-4b6b-f767-548d3bce474c"
      },
      "outputs": [
        {
          "output_type": "stream",
          "name": "stdout",
          "text": [
            "<class 'pandas.core.frame.DataFrame'>\n",
            "RangeIndex: 9999 entries, 0 to 9998\n",
            "Data columns (total 2 columns):\n",
            " #   Column  Non-Null Count  Dtype \n",
            "---  ------  --------------  ----- \n",
            " 0   label   9999 non-null   int64 \n",
            " 1   text    9999 non-null   object\n",
            "dtypes: int64(1), object(1)\n",
            "memory usage: 156.4+ KB\n"
          ]
        }
      ],
      "source": [
        "# ANSWER\n",
        "\n",
        "df_corpus.info()"
      ]
    },
    {
      "cell_type": "code",
      "source": [
        "df_corpus"
      ],
      "metadata": {
        "colab": {
          "base_uri": "https://localhost:8080/",
          "height": 424
        },
        "id": "dxVCFWAyFsau",
        "outputId": "42a57814-6f3d-4ad0-a792-c7a83e1ac25e"
      },
      "execution_count": 6,
      "outputs": [
        {
          "output_type": "execute_result",
          "data": {
            "text/plain": [
              "      label                                               text\n",
              "0         1  The best soundtrack ever to anything.: I'm rea...\n",
              "1         1  Amazing!: This soundtrack is my favorite music...\n",
              "2         1  Excellent Soundtrack: I truly like this soundt...\n",
              "3         1  Remember, Pull Your Jaw Off The Floor After He...\n",
              "4         1  an absolute masterpiece: I am quite sure any o...\n",
              "...     ...                                                ...\n",
              "9994      1  A revelation of life in small town America in ...\n",
              "9995      1  Great biography of a very interesting journali...\n",
              "9996      0  Interesting Subject; Poor Presentation: You'd ...\n",
              "9997      0  Don't buy: The box looked used and it is obvio...\n",
              "9998      1  Beautiful Pen and Fast Delivery.: The pen was ...\n",
              "\n",
              "[9999 rows x 2 columns]"
            ],
            "text/html": [
              "\n",
              "  <div id=\"df-e172ece1-883e-4f7b-b290-077f2c421887\" class=\"colab-df-container\">\n",
              "    <div>\n",
              "<style scoped>\n",
              "    .dataframe tbody tr th:only-of-type {\n",
              "        vertical-align: middle;\n",
              "    }\n",
              "\n",
              "    .dataframe tbody tr th {\n",
              "        vertical-align: top;\n",
              "    }\n",
              "\n",
              "    .dataframe thead th {\n",
              "        text-align: right;\n",
              "    }\n",
              "</style>\n",
              "<table border=\"1\" class=\"dataframe\">\n",
              "  <thead>\n",
              "    <tr style=\"text-align: right;\">\n",
              "      <th></th>\n",
              "      <th>label</th>\n",
              "      <th>text</th>\n",
              "    </tr>\n",
              "  </thead>\n",
              "  <tbody>\n",
              "    <tr>\n",
              "      <th>0</th>\n",
              "      <td>1</td>\n",
              "      <td>The best soundtrack ever to anything.: I'm rea...</td>\n",
              "    </tr>\n",
              "    <tr>\n",
              "      <th>1</th>\n",
              "      <td>1</td>\n",
              "      <td>Amazing!: This soundtrack is my favorite music...</td>\n",
              "    </tr>\n",
              "    <tr>\n",
              "      <th>2</th>\n",
              "      <td>1</td>\n",
              "      <td>Excellent Soundtrack: I truly like this soundt...</td>\n",
              "    </tr>\n",
              "    <tr>\n",
              "      <th>3</th>\n",
              "      <td>1</td>\n",
              "      <td>Remember, Pull Your Jaw Off The Floor After He...</td>\n",
              "    </tr>\n",
              "    <tr>\n",
              "      <th>4</th>\n",
              "      <td>1</td>\n",
              "      <td>an absolute masterpiece: I am quite sure any o...</td>\n",
              "    </tr>\n",
              "    <tr>\n",
              "      <th>...</th>\n",
              "      <td>...</td>\n",
              "      <td>...</td>\n",
              "    </tr>\n",
              "    <tr>\n",
              "      <th>9994</th>\n",
              "      <td>1</td>\n",
              "      <td>A revelation of life in small town America in ...</td>\n",
              "    </tr>\n",
              "    <tr>\n",
              "      <th>9995</th>\n",
              "      <td>1</td>\n",
              "      <td>Great biography of a very interesting journali...</td>\n",
              "    </tr>\n",
              "    <tr>\n",
              "      <th>9996</th>\n",
              "      <td>0</td>\n",
              "      <td>Interesting Subject; Poor Presentation: You'd ...</td>\n",
              "    </tr>\n",
              "    <tr>\n",
              "      <th>9997</th>\n",
              "      <td>0</td>\n",
              "      <td>Don't buy: The box looked used and it is obvio...</td>\n",
              "    </tr>\n",
              "    <tr>\n",
              "      <th>9998</th>\n",
              "      <td>1</td>\n",
              "      <td>Beautiful Pen and Fast Delivery.: The pen was ...</td>\n",
              "    </tr>\n",
              "  </tbody>\n",
              "</table>\n",
              "<p>9999 rows × 2 columns</p>\n",
              "</div>\n",
              "    <div class=\"colab-df-buttons\">\n",
              "\n",
              "  <div class=\"colab-df-container\">\n",
              "    <button class=\"colab-df-convert\" onclick=\"convertToInteractive('df-e172ece1-883e-4f7b-b290-077f2c421887')\"\n",
              "            title=\"Convert this dataframe to an interactive table.\"\n",
              "            style=\"display:none;\">\n",
              "\n",
              "  <svg xmlns=\"http://www.w3.org/2000/svg\" height=\"24px\" viewBox=\"0 -960 960 960\">\n",
              "    <path d=\"M120-120v-720h720v720H120Zm60-500h600v-160H180v160Zm220 220h160v-160H400v160Zm0 220h160v-160H400v160ZM180-400h160v-160H180v160Zm440 0h160v-160H620v160ZM180-180h160v-160H180v160Zm440 0h160v-160H620v160Z\"/>\n",
              "  </svg>\n",
              "    </button>\n",
              "\n",
              "  <style>\n",
              "    .colab-df-container {\n",
              "      display:flex;\n",
              "      gap: 12px;\n",
              "    }\n",
              "\n",
              "    .colab-df-convert {\n",
              "      background-color: #E8F0FE;\n",
              "      border: none;\n",
              "      border-radius: 50%;\n",
              "      cursor: pointer;\n",
              "      display: none;\n",
              "      fill: #1967D2;\n",
              "      height: 32px;\n",
              "      padding: 0 0 0 0;\n",
              "      width: 32px;\n",
              "    }\n",
              "\n",
              "    .colab-df-convert:hover {\n",
              "      background-color: #E2EBFA;\n",
              "      box-shadow: 0px 1px 2px rgba(60, 64, 67, 0.3), 0px 1px 3px 1px rgba(60, 64, 67, 0.15);\n",
              "      fill: #174EA6;\n",
              "    }\n",
              "\n",
              "    .colab-df-buttons div {\n",
              "      margin-bottom: 4px;\n",
              "    }\n",
              "\n",
              "    [theme=dark] .colab-df-convert {\n",
              "      background-color: #3B4455;\n",
              "      fill: #D2E3FC;\n",
              "    }\n",
              "\n",
              "    [theme=dark] .colab-df-convert:hover {\n",
              "      background-color: #434B5C;\n",
              "      box-shadow: 0px 1px 3px 1px rgba(0, 0, 0, 0.15);\n",
              "      filter: drop-shadow(0px 1px 2px rgba(0, 0, 0, 0.3));\n",
              "      fill: #FFFFFF;\n",
              "    }\n",
              "  </style>\n",
              "\n",
              "    <script>\n",
              "      const buttonEl =\n",
              "        document.querySelector('#df-e172ece1-883e-4f7b-b290-077f2c421887 button.colab-df-convert');\n",
              "      buttonEl.style.display =\n",
              "        google.colab.kernel.accessAllowed ? 'block' : 'none';\n",
              "\n",
              "      async function convertToInteractive(key) {\n",
              "        const element = document.querySelector('#df-e172ece1-883e-4f7b-b290-077f2c421887');\n",
              "        const dataTable =\n",
              "          await google.colab.kernel.invokeFunction('convertToInteractive',\n",
              "                                                    [key], {});\n",
              "        if (!dataTable) return;\n",
              "\n",
              "        const docLinkHtml = 'Like what you see? Visit the ' +\n",
              "          '<a target=\"_blank\" href=https://colab.research.google.com/notebooks/data_table.ipynb>data table notebook</a>'\n",
              "          + ' to learn more about interactive tables.';\n",
              "        element.innerHTML = '';\n",
              "        dataTable['output_type'] = 'display_data';\n",
              "        await google.colab.output.renderOutput(dataTable, element);\n",
              "        const docLink = document.createElement('div');\n",
              "        docLink.innerHTML = docLinkHtml;\n",
              "        element.appendChild(docLink);\n",
              "      }\n",
              "    </script>\n",
              "  </div>\n",
              "\n",
              "\n",
              "    <div id=\"df-f3fe8593-8092-4906-82c1-f3eb669ac448\">\n",
              "      <button class=\"colab-df-quickchart\" onclick=\"quickchart('df-f3fe8593-8092-4906-82c1-f3eb669ac448')\"\n",
              "                title=\"Suggest charts\"\n",
              "                style=\"display:none;\">\n",
              "\n",
              "<svg xmlns=\"http://www.w3.org/2000/svg\" height=\"24px\"viewBox=\"0 0 24 24\"\n",
              "     width=\"24px\">\n",
              "    <g>\n",
              "        <path d=\"M19 3H5c-1.1 0-2 .9-2 2v14c0 1.1.9 2 2 2h14c1.1 0 2-.9 2-2V5c0-1.1-.9-2-2-2zM9 17H7v-7h2v7zm4 0h-2V7h2v10zm4 0h-2v-4h2v4z\"/>\n",
              "    </g>\n",
              "</svg>\n",
              "      </button>\n",
              "\n",
              "<style>\n",
              "  .colab-df-quickchart {\n",
              "      --bg-color: #E8F0FE;\n",
              "      --fill-color: #1967D2;\n",
              "      --hover-bg-color: #E2EBFA;\n",
              "      --hover-fill-color: #174EA6;\n",
              "      --disabled-fill-color: #AAA;\n",
              "      --disabled-bg-color: #DDD;\n",
              "  }\n",
              "\n",
              "  [theme=dark] .colab-df-quickchart {\n",
              "      --bg-color: #3B4455;\n",
              "      --fill-color: #D2E3FC;\n",
              "      --hover-bg-color: #434B5C;\n",
              "      --hover-fill-color: #FFFFFF;\n",
              "      --disabled-bg-color: #3B4455;\n",
              "      --disabled-fill-color: #666;\n",
              "  }\n",
              "\n",
              "  .colab-df-quickchart {\n",
              "    background-color: var(--bg-color);\n",
              "    border: none;\n",
              "    border-radius: 50%;\n",
              "    cursor: pointer;\n",
              "    display: none;\n",
              "    fill: var(--fill-color);\n",
              "    height: 32px;\n",
              "    padding: 0;\n",
              "    width: 32px;\n",
              "  }\n",
              "\n",
              "  .colab-df-quickchart:hover {\n",
              "    background-color: var(--hover-bg-color);\n",
              "    box-shadow: 0 1px 2px rgba(60, 64, 67, 0.3), 0 1px 3px 1px rgba(60, 64, 67, 0.15);\n",
              "    fill: var(--button-hover-fill-color);\n",
              "  }\n",
              "\n",
              "  .colab-df-quickchart-complete:disabled,\n",
              "  .colab-df-quickchart-complete:disabled:hover {\n",
              "    background-color: var(--disabled-bg-color);\n",
              "    fill: var(--disabled-fill-color);\n",
              "    box-shadow: none;\n",
              "  }\n",
              "\n",
              "  .colab-df-spinner {\n",
              "    border: 2px solid var(--fill-color);\n",
              "    border-color: transparent;\n",
              "    border-bottom-color: var(--fill-color);\n",
              "    animation:\n",
              "      spin 1s steps(1) infinite;\n",
              "  }\n",
              "\n",
              "  @keyframes spin {\n",
              "    0% {\n",
              "      border-color: transparent;\n",
              "      border-bottom-color: var(--fill-color);\n",
              "      border-left-color: var(--fill-color);\n",
              "    }\n",
              "    20% {\n",
              "      border-color: transparent;\n",
              "      border-left-color: var(--fill-color);\n",
              "      border-top-color: var(--fill-color);\n",
              "    }\n",
              "    30% {\n",
              "      border-color: transparent;\n",
              "      border-left-color: var(--fill-color);\n",
              "      border-top-color: var(--fill-color);\n",
              "      border-right-color: var(--fill-color);\n",
              "    }\n",
              "    40% {\n",
              "      border-color: transparent;\n",
              "      border-right-color: var(--fill-color);\n",
              "      border-top-color: var(--fill-color);\n",
              "    }\n",
              "    60% {\n",
              "      border-color: transparent;\n",
              "      border-right-color: var(--fill-color);\n",
              "    }\n",
              "    80% {\n",
              "      border-color: transparent;\n",
              "      border-right-color: var(--fill-color);\n",
              "      border-bottom-color: var(--fill-color);\n",
              "    }\n",
              "    90% {\n",
              "      border-color: transparent;\n",
              "      border-bottom-color: var(--fill-color);\n",
              "    }\n",
              "  }\n",
              "</style>\n",
              "\n",
              "      <script>\n",
              "        async function quickchart(key) {\n",
              "          const quickchartButtonEl =\n",
              "            document.querySelector('#' + key + ' button');\n",
              "          quickchartButtonEl.disabled = true;  // To prevent multiple clicks.\n",
              "          quickchartButtonEl.classList.add('colab-df-spinner');\n",
              "          try {\n",
              "            const charts = await google.colab.kernel.invokeFunction(\n",
              "                'suggestCharts', [key], {});\n",
              "          } catch (error) {\n",
              "            console.error('Error during call to suggestCharts:', error);\n",
              "          }\n",
              "          quickchartButtonEl.classList.remove('colab-df-spinner');\n",
              "          quickchartButtonEl.classList.add('colab-df-quickchart-complete');\n",
              "        }\n",
              "        (() => {\n",
              "          let quickchartButtonEl =\n",
              "            document.querySelector('#df-f3fe8593-8092-4906-82c1-f3eb669ac448 button');\n",
              "          quickchartButtonEl.style.display =\n",
              "            google.colab.kernel.accessAllowed ? 'block' : 'none';\n",
              "        })();\n",
              "      </script>\n",
              "    </div>\n",
              "\n",
              "  <div id=\"id_27a78e02-40c2-4654-82a7-cdd580cb1f27\">\n",
              "    <style>\n",
              "      .colab-df-generate {\n",
              "        background-color: #E8F0FE;\n",
              "        border: none;\n",
              "        border-radius: 50%;\n",
              "        cursor: pointer;\n",
              "        display: none;\n",
              "        fill: #1967D2;\n",
              "        height: 32px;\n",
              "        padding: 0 0 0 0;\n",
              "        width: 32px;\n",
              "      }\n",
              "\n",
              "      .colab-df-generate:hover {\n",
              "        background-color: #E2EBFA;\n",
              "        box-shadow: 0px 1px 2px rgba(60, 64, 67, 0.3), 0px 1px 3px 1px rgba(60, 64, 67, 0.15);\n",
              "        fill: #174EA6;\n",
              "      }\n",
              "\n",
              "      [theme=dark] .colab-df-generate {\n",
              "        background-color: #3B4455;\n",
              "        fill: #D2E3FC;\n",
              "      }\n",
              "\n",
              "      [theme=dark] .colab-df-generate:hover {\n",
              "        background-color: #434B5C;\n",
              "        box-shadow: 0px 1px 3px 1px rgba(0, 0, 0, 0.15);\n",
              "        filter: drop-shadow(0px 1px 2px rgba(0, 0, 0, 0.3));\n",
              "        fill: #FFFFFF;\n",
              "      }\n",
              "    </style>\n",
              "    <button class=\"colab-df-generate\" onclick=\"generateWithVariable('df_corpus')\"\n",
              "            title=\"Generate code using this dataframe.\"\n",
              "            style=\"display:none;\">\n",
              "\n",
              "  <svg xmlns=\"http://www.w3.org/2000/svg\" height=\"24px\"viewBox=\"0 0 24 24\"\n",
              "       width=\"24px\">\n",
              "    <path d=\"M7,19H8.4L18.45,9,17,7.55,7,17.6ZM5,21V16.75L18.45,3.32a2,2,0,0,1,2.83,0l1.4,1.43a1.91,1.91,0,0,1,.58,1.4,1.91,1.91,0,0,1-.58,1.4L9.25,21ZM18.45,9,17,7.55Zm-12,3A5.31,5.31,0,0,0,4.9,8.1,5.31,5.31,0,0,0,1,6.5,5.31,5.31,0,0,0,4.9,4.9,5.31,5.31,0,0,0,6.5,1,5.31,5.31,0,0,0,8.1,4.9,5.31,5.31,0,0,0,12,6.5,5.46,5.46,0,0,0,6.5,12Z\"/>\n",
              "  </svg>\n",
              "    </button>\n",
              "    <script>\n",
              "      (() => {\n",
              "      const buttonEl =\n",
              "        document.querySelector('#id_27a78e02-40c2-4654-82a7-cdd580cb1f27 button.colab-df-generate');\n",
              "      buttonEl.style.display =\n",
              "        google.colab.kernel.accessAllowed ? 'block' : 'none';\n",
              "\n",
              "      buttonEl.onclick = () => {\n",
              "        google.colab.notebook.generateWithVariable('df_corpus');\n",
              "      }\n",
              "      })();\n",
              "    </script>\n",
              "  </div>\n",
              "\n",
              "    </div>\n",
              "  </div>\n"
            ],
            "application/vnd.google.colaboratory.intrinsic+json": {
              "type": "dataframe",
              "variable_name": "df_corpus",
              "summary": "{\n  \"name\": \"df_corpus\",\n  \"rows\": 9999,\n  \"fields\": [\n    {\n      \"column\": \"label\",\n      \"properties\": {\n        \"dtype\": \"number\",\n        \"std\": 0,\n        \"min\": 0,\n        \"max\": 1,\n        \"num_unique_values\": 2,\n        \"samples\": [\n          0,\n          1\n        ],\n        \"semantic_type\": \"\",\n        \"description\": \"\"\n      }\n    },\n    {\n      \"column\": \"text\",\n      \"properties\": {\n        \"dtype\": \"string\",\n        \"num_unique_values\": 9999,\n        \"samples\": [\n          \"If you read the book, don't watch the movie!: I really enjoyed this book, but I was very disappointed by the movie. Rather than a story about the Italian countryside and the adventure of remodeling a home in a foreign country, this movie was about a divorced woman looking for love and her gay friend's dramatic life. Blah. I had wanted to see the charming Polish workers and the quaint Italian villages that were an important part of the original story. Oh well, this wasn't the movie for me.\",\n          \"Won't Recharge Anything: I bought this to recharge my phone, garmin, etc. It looks like the authentic Motorola recharger, but it won't recharge anything. Sure, it keeps the device working, almost, your device will run out of power eventually on this recharger, but slowly. However, I figured it would recharge the Garmin, etc, during use like my other rechargers did. I thought perhaps the LED light was using up too much power. I dismantled the thing after a great deal of effort and injury, and knocked out the light. It will now charge my Garmin very well. I don't recommend this product.\"\n        ],\n        \"semantic_type\": \"\",\n        \"description\": \"\"\n      }\n    }\n  ]\n}"
            }
          },
          "metadata": {},
          "execution_count": 6
        }
      ]
    },
    {
      "cell_type": "code",
      "source": [
        "df_corpus.shape"
      ],
      "metadata": {
        "colab": {
          "base_uri": "https://localhost:8080/"
        },
        "id": "q0i04QlIFxkH",
        "outputId": "88f1fca1-e790-4686-f18f-f68616c1e2e1"
      },
      "execution_count": 8,
      "outputs": [
        {
          "output_type": "execute_result",
          "data": {
            "text/plain": [
              "(9999, 2)"
            ]
          },
          "metadata": {},
          "execution_count": 8
        }
      ]
    },
    {
      "cell_type": "markdown",
      "metadata": {
        "id": "6YmYgG2pLtCu"
      },
      "source": [
        "## Split the data into train and test"
      ]
    },
    {
      "cell_type": "code",
      "execution_count": 9,
      "metadata": {
        "ExecuteTime": {
          "end_time": "2019-06-17T01:39:40.103737Z",
          "start_time": "2019-06-17T01:39:40.100739Z"
        },
        "id": "j5vErjWFLtCy"
      },
      "outputs": [],
      "source": [
        "## ANSWER\n",
        "## split the dataset\n",
        "\n",
        "X_train, X_test, y_train, y_test = train_test_split(\n",
        "    df_corpus['text'],\n",
        "    df_corpus['label'],\n",
        "    test_size = 0.2,\n",
        "    random_state = 42\n",
        ")"
      ]
    },
    {
      "cell_type": "markdown",
      "metadata": {
        "id": "6nUp6oDOLtC1"
      },
      "source": [
        "## Feature Engineering"
      ]
    },
    {
      "cell_type": "markdown",
      "metadata": {
        "id": "fKd9yTnyLtC2"
      },
      "source": [
        "### Count Vectors as features"
      ]
    },
    {
      "cell_type": "code",
      "execution_count": 10,
      "metadata": {
        "ExecuteTime": {
          "end_time": "2019-06-17T01:40:32.674674Z",
          "start_time": "2019-06-17T01:40:31.098889Z"
        },
        "id": "DU2RqqDjLtC3"
      },
      "outputs": [],
      "source": [
        "# create a count vectorizer object\n",
        "count_vect = CountVectorizer(token_pattern = r'\\w{1,}')\n",
        "\n",
        "# Learn a vocabulary dictionary of all tokens in the raw documents\n",
        "count_vect.fit(X_train)\n",
        "\n",
        "# Transform documents to document-term matrix.\n",
        "X_train_count = count_vect.transform(X_train)\n",
        "X_test_count = count_vect.transform(X_test)"
      ]
    },
    {
      "cell_type": "markdown",
      "metadata": {
        "id": "dJs6al0ILtC5"
      },
      "source": [
        "### TF-IDF Vectors as features\n",
        "- Word level\n",
        "- N-Gram level\n",
        "- Character level"
      ]
    },
    {
      "cell_type": "code",
      "execution_count": 11,
      "metadata": {
        "ExecuteTime": {
          "end_time": "2019-06-17T01:40:36.088730Z",
          "start_time": "2019-06-17T01:40:34.519925Z"
        },
        "id": "myjfdfP_LtC6",
        "colab": {
          "base_uri": "https://localhost:8080/"
        },
        "outputId": "f90ebf50-eb38-4555-b301-431c13146235"
      },
      "outputs": [
        {
          "output_type": "stream",
          "name": "stdout",
          "text": [
            "TfidfVectorizer(max_features=5000, token_pattern='\\\\w{1,}')\n",
            "CPU times: user 2.18 s, sys: 16.4 ms, total: 2.2 s\n",
            "Wall time: 5.43 s\n"
          ]
        }
      ],
      "source": [
        "%%time\n",
        "# word level tf-idf\n",
        "tfidf_vect = TfidfVectorizer(analyzer = 'word',\n",
        "                             token_pattern = r'\\w{1,}',\n",
        "                             max_features = 5000)\n",
        "print(tfidf_vect)\n",
        "\n",
        "tfidf_vect.fit(X_train)\n",
        "X_train_tfidf = tfidf_vect.transform(X_train)\n",
        "X_test_tfidf  = tfidf_vect.transform(X_test)"
      ]
    },
    {
      "cell_type": "code",
      "execution_count": 12,
      "metadata": {
        "ExecuteTime": {
          "end_time": "2019-06-17T01:40:57.505221Z",
          "start_time": "2019-06-17T01:40:49.387393Z"
        },
        "id": "-h16dUaVLtC_",
        "colab": {
          "base_uri": "https://localhost:8080/"
        },
        "outputId": "29e83e87-dbc6-4b06-f09b-544baa4cb2cb"
      },
      "outputs": [
        {
          "output_type": "stream",
          "name": "stdout",
          "text": [
            "TfidfVectorizer(max_features=5000, ngram_range=(2, 3), token_pattern='\\\\w{1,}')\n",
            "CPU times: user 7.61 s, sys: 238 ms, total: 7.85 s\n",
            "Wall time: 9.38 s\n"
          ]
        }
      ],
      "source": [
        "%%time\n",
        "# ngram level tf-idf\n",
        "tfidf_vect_ngram = TfidfVectorizer(analyzer = 'word',\n",
        "                                   token_pattern = r'\\w{1,}',\n",
        "                                   ngram_range = (2, 3),\n",
        "                                   max_features = 5000)\n",
        "print(tfidf_vect_ngram)\n",
        "\n",
        "tfidf_vect_ngram.fit(X_train)\n",
        "X_train_tfidf_ngram = tfidf_vect_ngram.transform(X_train)\n",
        "X_test_tfidf_ngram  = tfidf_vect_ngram.transform(X_test)"
      ]
    },
    {
      "cell_type": "code",
      "execution_count": 13,
      "metadata": {
        "ExecuteTime": {
          "end_time": "2019-06-17T01:41:10.209071Z",
          "start_time": "2019-06-17T01:40:59.211484Z"
        },
        "id": "Y7rmIt49LtDC",
        "colab": {
          "base_uri": "https://localhost:8080/"
        },
        "outputId": "4d329047-f48b-4fc5-8a90-5c63b65bb7fb"
      },
      "outputs": [
        {
          "output_type": "stream",
          "name": "stdout",
          "text": [
            "TfidfVectorizer(analyzer='char', max_features=5000, ngram_range=(2, 3))\n",
            "CPU times: user 9.29 s, sys: 76.5 ms, total: 9.37 s\n",
            "Wall time: 14 s\n"
          ]
        }
      ],
      "source": [
        "%%time\n",
        "# characters level tf-idf\n",
        "tfidf_vect_ngram_chars = TfidfVectorizer(analyzer = 'char',\n",
        "                                         ngram_range = (2, 3),\n",
        "                                         max_features = 5000)\n",
        "print(tfidf_vect_ngram_chars)\n",
        "\n",
        "tfidf_vect_ngram_chars.fit(X_train)\n",
        "X_train_tfidf_ngram_chars = tfidf_vect_ngram_chars.transform(X_train)\n",
        "X_test_tfidf_ngram_chars  = tfidf_vect_ngram_chars.transform(X_test)"
      ]
    },
    {
      "cell_type": "markdown",
      "metadata": {
        "id": "_Pck1cuvLtDH"
      },
      "source": [
        "### Text / NLP based features\n",
        "\n",
        "Create some other features.\n",
        "\n",
        "char_count = Number of Characters in Text\n",
        "\n",
        "word_count = Number of Words in Text\n",
        "\n",
        "word_density = Average Number of Char in Words\n",
        "\n",
        "punctuation_count = Number of Punctuation in Text\n",
        "\n",
        "title_word_count = Number of Words in Title\n",
        "\n",
        "uppercase_word_count = Number of Upperwords in Text\n"
      ]
    },
    {
      "cell_type": "code",
      "execution_count": 14,
      "metadata": {
        "ExecuteTime": {
          "end_time": "2019-06-17T01:43:52.813132Z",
          "start_time": "2019-06-17T01:43:52.806150Z"
        },
        "id": "4jebGm1gLtDH",
        "colab": {
          "base_uri": "https://localhost:8080/"
        },
        "outputId": "5367ad96-bc01-4209-e9f0-fbbc443bc916"
      },
      "outputs": [
        {
          "output_type": "stream",
          "name": "stdout",
          "text": [
            "CPU times: user 456 ms, sys: 2.78 ms, total: 459 ms\n",
            "Wall time: 458 ms\n"
          ]
        }
      ],
      "source": [
        "%%time\n",
        "# ANSWER\n",
        "df_corpus['char_count'] = df_corpus['text'].apply(len)\n",
        "df_corpus['word_count'] = df_corpus['text'].apply(lambda x: len(x.split()))\n",
        "df_corpus['word_density'] = df_corpus['char_count'] / (df_corpus['word_count'] + 1)\n",
        "df_corpus['punctuation_count'] = df_corpus['text'].apply(lambda x: len(''.join(_ for _ in x if _ in string.punctuation)))\n",
        "df_corpus['title_word_count'] = df_corpus['text'].apply(lambda x: len([w for w in x.split() if w.istitle()]))\n",
        "df_corpus['uppercase_word_count'] = df_corpus['text'].apply(lambda x: len([w for w in x.split() if w.isupper()]))"
      ]
    },
    {
      "cell_type": "code",
      "source": [
        "df_corpus"
      ],
      "metadata": {
        "colab": {
          "base_uri": "https://localhost:8080/",
          "height": 424
        },
        "id": "1FpjfHRUSicR",
        "outputId": "12b89da3-f62f-4b1e-cbd7-38ad5cd478c3"
      },
      "execution_count": 15,
      "outputs": [
        {
          "output_type": "execute_result",
          "data": {
            "text/plain": [
              "      label                                               text  char_count  \\\n",
              "0         1  The best soundtrack ever to anything.: I'm rea...         509   \n",
              "1         1  Amazing!: This soundtrack is my favorite music...         760   \n",
              "2         1  Excellent Soundtrack: I truly like this soundt...         743   \n",
              "3         1  Remember, Pull Your Jaw Off The Floor After He...         481   \n",
              "4         1  an absolute masterpiece: I am quite sure any o...         825   \n",
              "...     ...                                                ...         ...   \n",
              "9994      1  A revelation of life in small town America in ...         867   \n",
              "9995      1  Great biography of a very interesting journali...         861   \n",
              "9996      0  Interesting Subject; Poor Presentation: You'd ...         650   \n",
              "9997      0  Don't buy: The box looked used and it is obvio...         135   \n",
              "9998      1  Beautiful Pen and Fast Delivery.: The pen was ...         536   \n",
              "\n",
              "      word_count  word_density  punctuation_count  title_word_count  \\\n",
              "0             97      5.193878                 14                 7   \n",
              "1            129      5.846154                 40                24   \n",
              "2            118      6.243697                 33                52   \n",
              "3             87      5.465909                 22                30   \n",
              "4            142      5.769231                 35                14   \n",
              "...          ...           ...                ...               ...   \n",
              "9994         152      5.666667                 25                14   \n",
              "9995         141      6.063380                 14                16   \n",
              "9996         108      5.963303                 17                11   \n",
              "9997          27      4.821429                  6                 2   \n",
              "9998         103      5.153846                 13                23   \n",
              "\n",
              "      uppercase_word_count  \n",
              "0                        3  \n",
              "1                        4  \n",
              "2                        4  \n",
              "3                        0  \n",
              "4                        3  \n",
              "...                    ...  \n",
              "9994                     3  \n",
              "9995                     0  \n",
              "9996                     0  \n",
              "9997                     1  \n",
              "9998                     4  \n",
              "\n",
              "[9999 rows x 8 columns]"
            ],
            "text/html": [
              "\n",
              "  <div id=\"df-e149dccb-46fb-41bc-9ef0-6c0bf5e3534f\" class=\"colab-df-container\">\n",
              "    <div>\n",
              "<style scoped>\n",
              "    .dataframe tbody tr th:only-of-type {\n",
              "        vertical-align: middle;\n",
              "    }\n",
              "\n",
              "    .dataframe tbody tr th {\n",
              "        vertical-align: top;\n",
              "    }\n",
              "\n",
              "    .dataframe thead th {\n",
              "        text-align: right;\n",
              "    }\n",
              "</style>\n",
              "<table border=\"1\" class=\"dataframe\">\n",
              "  <thead>\n",
              "    <tr style=\"text-align: right;\">\n",
              "      <th></th>\n",
              "      <th>label</th>\n",
              "      <th>text</th>\n",
              "      <th>char_count</th>\n",
              "      <th>word_count</th>\n",
              "      <th>word_density</th>\n",
              "      <th>punctuation_count</th>\n",
              "      <th>title_word_count</th>\n",
              "      <th>uppercase_word_count</th>\n",
              "    </tr>\n",
              "  </thead>\n",
              "  <tbody>\n",
              "    <tr>\n",
              "      <th>0</th>\n",
              "      <td>1</td>\n",
              "      <td>The best soundtrack ever to anything.: I'm rea...</td>\n",
              "      <td>509</td>\n",
              "      <td>97</td>\n",
              "      <td>5.193878</td>\n",
              "      <td>14</td>\n",
              "      <td>7</td>\n",
              "      <td>3</td>\n",
              "    </tr>\n",
              "    <tr>\n",
              "      <th>1</th>\n",
              "      <td>1</td>\n",
              "      <td>Amazing!: This soundtrack is my favorite music...</td>\n",
              "      <td>760</td>\n",
              "      <td>129</td>\n",
              "      <td>5.846154</td>\n",
              "      <td>40</td>\n",
              "      <td>24</td>\n",
              "      <td>4</td>\n",
              "    </tr>\n",
              "    <tr>\n",
              "      <th>2</th>\n",
              "      <td>1</td>\n",
              "      <td>Excellent Soundtrack: I truly like this soundt...</td>\n",
              "      <td>743</td>\n",
              "      <td>118</td>\n",
              "      <td>6.243697</td>\n",
              "      <td>33</td>\n",
              "      <td>52</td>\n",
              "      <td>4</td>\n",
              "    </tr>\n",
              "    <tr>\n",
              "      <th>3</th>\n",
              "      <td>1</td>\n",
              "      <td>Remember, Pull Your Jaw Off The Floor After He...</td>\n",
              "      <td>481</td>\n",
              "      <td>87</td>\n",
              "      <td>5.465909</td>\n",
              "      <td>22</td>\n",
              "      <td>30</td>\n",
              "      <td>0</td>\n",
              "    </tr>\n",
              "    <tr>\n",
              "      <th>4</th>\n",
              "      <td>1</td>\n",
              "      <td>an absolute masterpiece: I am quite sure any o...</td>\n",
              "      <td>825</td>\n",
              "      <td>142</td>\n",
              "      <td>5.769231</td>\n",
              "      <td>35</td>\n",
              "      <td>14</td>\n",
              "      <td>3</td>\n",
              "    </tr>\n",
              "    <tr>\n",
              "      <th>...</th>\n",
              "      <td>...</td>\n",
              "      <td>...</td>\n",
              "      <td>...</td>\n",
              "      <td>...</td>\n",
              "      <td>...</td>\n",
              "      <td>...</td>\n",
              "      <td>...</td>\n",
              "      <td>...</td>\n",
              "    </tr>\n",
              "    <tr>\n",
              "      <th>9994</th>\n",
              "      <td>1</td>\n",
              "      <td>A revelation of life in small town America in ...</td>\n",
              "      <td>867</td>\n",
              "      <td>152</td>\n",
              "      <td>5.666667</td>\n",
              "      <td>25</td>\n",
              "      <td>14</td>\n",
              "      <td>3</td>\n",
              "    </tr>\n",
              "    <tr>\n",
              "      <th>9995</th>\n",
              "      <td>1</td>\n",
              "      <td>Great biography of a very interesting journali...</td>\n",
              "      <td>861</td>\n",
              "      <td>141</td>\n",
              "      <td>6.063380</td>\n",
              "      <td>14</td>\n",
              "      <td>16</td>\n",
              "      <td>0</td>\n",
              "    </tr>\n",
              "    <tr>\n",
              "      <th>9996</th>\n",
              "      <td>0</td>\n",
              "      <td>Interesting Subject; Poor Presentation: You'd ...</td>\n",
              "      <td>650</td>\n",
              "      <td>108</td>\n",
              "      <td>5.963303</td>\n",
              "      <td>17</td>\n",
              "      <td>11</td>\n",
              "      <td>0</td>\n",
              "    </tr>\n",
              "    <tr>\n",
              "      <th>9997</th>\n",
              "      <td>0</td>\n",
              "      <td>Don't buy: The box looked used and it is obvio...</td>\n",
              "      <td>135</td>\n",
              "      <td>27</td>\n",
              "      <td>4.821429</td>\n",
              "      <td>6</td>\n",
              "      <td>2</td>\n",
              "      <td>1</td>\n",
              "    </tr>\n",
              "    <tr>\n",
              "      <th>9998</th>\n",
              "      <td>1</td>\n",
              "      <td>Beautiful Pen and Fast Delivery.: The pen was ...</td>\n",
              "      <td>536</td>\n",
              "      <td>103</td>\n",
              "      <td>5.153846</td>\n",
              "      <td>13</td>\n",
              "      <td>23</td>\n",
              "      <td>4</td>\n",
              "    </tr>\n",
              "  </tbody>\n",
              "</table>\n",
              "<p>9999 rows × 8 columns</p>\n",
              "</div>\n",
              "    <div class=\"colab-df-buttons\">\n",
              "\n",
              "  <div class=\"colab-df-container\">\n",
              "    <button class=\"colab-df-convert\" onclick=\"convertToInteractive('df-e149dccb-46fb-41bc-9ef0-6c0bf5e3534f')\"\n",
              "            title=\"Convert this dataframe to an interactive table.\"\n",
              "            style=\"display:none;\">\n",
              "\n",
              "  <svg xmlns=\"http://www.w3.org/2000/svg\" height=\"24px\" viewBox=\"0 -960 960 960\">\n",
              "    <path d=\"M120-120v-720h720v720H120Zm60-500h600v-160H180v160Zm220 220h160v-160H400v160Zm0 220h160v-160H400v160ZM180-400h160v-160H180v160Zm440 0h160v-160H620v160ZM180-180h160v-160H180v160Zm440 0h160v-160H620v160Z\"/>\n",
              "  </svg>\n",
              "    </button>\n",
              "\n",
              "  <style>\n",
              "    .colab-df-container {\n",
              "      display:flex;\n",
              "      gap: 12px;\n",
              "    }\n",
              "\n",
              "    .colab-df-convert {\n",
              "      background-color: #E8F0FE;\n",
              "      border: none;\n",
              "      border-radius: 50%;\n",
              "      cursor: pointer;\n",
              "      display: none;\n",
              "      fill: #1967D2;\n",
              "      height: 32px;\n",
              "      padding: 0 0 0 0;\n",
              "      width: 32px;\n",
              "    }\n",
              "\n",
              "    .colab-df-convert:hover {\n",
              "      background-color: #E2EBFA;\n",
              "      box-shadow: 0px 1px 2px rgba(60, 64, 67, 0.3), 0px 1px 3px 1px rgba(60, 64, 67, 0.15);\n",
              "      fill: #174EA6;\n",
              "    }\n",
              "\n",
              "    .colab-df-buttons div {\n",
              "      margin-bottom: 4px;\n",
              "    }\n",
              "\n",
              "    [theme=dark] .colab-df-convert {\n",
              "      background-color: #3B4455;\n",
              "      fill: #D2E3FC;\n",
              "    }\n",
              "\n",
              "    [theme=dark] .colab-df-convert:hover {\n",
              "      background-color: #434B5C;\n",
              "      box-shadow: 0px 1px 3px 1px rgba(0, 0, 0, 0.15);\n",
              "      filter: drop-shadow(0px 1px 2px rgba(0, 0, 0, 0.3));\n",
              "      fill: #FFFFFF;\n",
              "    }\n",
              "  </style>\n",
              "\n",
              "    <script>\n",
              "      const buttonEl =\n",
              "        document.querySelector('#df-e149dccb-46fb-41bc-9ef0-6c0bf5e3534f button.colab-df-convert');\n",
              "      buttonEl.style.display =\n",
              "        google.colab.kernel.accessAllowed ? 'block' : 'none';\n",
              "\n",
              "      async function convertToInteractive(key) {\n",
              "        const element = document.querySelector('#df-e149dccb-46fb-41bc-9ef0-6c0bf5e3534f');\n",
              "        const dataTable =\n",
              "          await google.colab.kernel.invokeFunction('convertToInteractive',\n",
              "                                                    [key], {});\n",
              "        if (!dataTable) return;\n",
              "\n",
              "        const docLinkHtml = 'Like what you see? Visit the ' +\n",
              "          '<a target=\"_blank\" href=https://colab.research.google.com/notebooks/data_table.ipynb>data table notebook</a>'\n",
              "          + ' to learn more about interactive tables.';\n",
              "        element.innerHTML = '';\n",
              "        dataTable['output_type'] = 'display_data';\n",
              "        await google.colab.output.renderOutput(dataTable, element);\n",
              "        const docLink = document.createElement('div');\n",
              "        docLink.innerHTML = docLinkHtml;\n",
              "        element.appendChild(docLink);\n",
              "      }\n",
              "    </script>\n",
              "  </div>\n",
              "\n",
              "\n",
              "    <div id=\"df-156d16fd-90ab-46ff-a324-2d44407fe3ad\">\n",
              "      <button class=\"colab-df-quickchart\" onclick=\"quickchart('df-156d16fd-90ab-46ff-a324-2d44407fe3ad')\"\n",
              "                title=\"Suggest charts\"\n",
              "                style=\"display:none;\">\n",
              "\n",
              "<svg xmlns=\"http://www.w3.org/2000/svg\" height=\"24px\"viewBox=\"0 0 24 24\"\n",
              "     width=\"24px\">\n",
              "    <g>\n",
              "        <path d=\"M19 3H5c-1.1 0-2 .9-2 2v14c0 1.1.9 2 2 2h14c1.1 0 2-.9 2-2V5c0-1.1-.9-2-2-2zM9 17H7v-7h2v7zm4 0h-2V7h2v10zm4 0h-2v-4h2v4z\"/>\n",
              "    </g>\n",
              "</svg>\n",
              "      </button>\n",
              "\n",
              "<style>\n",
              "  .colab-df-quickchart {\n",
              "      --bg-color: #E8F0FE;\n",
              "      --fill-color: #1967D2;\n",
              "      --hover-bg-color: #E2EBFA;\n",
              "      --hover-fill-color: #174EA6;\n",
              "      --disabled-fill-color: #AAA;\n",
              "      --disabled-bg-color: #DDD;\n",
              "  }\n",
              "\n",
              "  [theme=dark] .colab-df-quickchart {\n",
              "      --bg-color: #3B4455;\n",
              "      --fill-color: #D2E3FC;\n",
              "      --hover-bg-color: #434B5C;\n",
              "      --hover-fill-color: #FFFFFF;\n",
              "      --disabled-bg-color: #3B4455;\n",
              "      --disabled-fill-color: #666;\n",
              "  }\n",
              "\n",
              "  .colab-df-quickchart {\n",
              "    background-color: var(--bg-color);\n",
              "    border: none;\n",
              "    border-radius: 50%;\n",
              "    cursor: pointer;\n",
              "    display: none;\n",
              "    fill: var(--fill-color);\n",
              "    height: 32px;\n",
              "    padding: 0;\n",
              "    width: 32px;\n",
              "  }\n",
              "\n",
              "  .colab-df-quickchart:hover {\n",
              "    background-color: var(--hover-bg-color);\n",
              "    box-shadow: 0 1px 2px rgba(60, 64, 67, 0.3), 0 1px 3px 1px rgba(60, 64, 67, 0.15);\n",
              "    fill: var(--button-hover-fill-color);\n",
              "  }\n",
              "\n",
              "  .colab-df-quickchart-complete:disabled,\n",
              "  .colab-df-quickchart-complete:disabled:hover {\n",
              "    background-color: var(--disabled-bg-color);\n",
              "    fill: var(--disabled-fill-color);\n",
              "    box-shadow: none;\n",
              "  }\n",
              "\n",
              "  .colab-df-spinner {\n",
              "    border: 2px solid var(--fill-color);\n",
              "    border-color: transparent;\n",
              "    border-bottom-color: var(--fill-color);\n",
              "    animation:\n",
              "      spin 1s steps(1) infinite;\n",
              "  }\n",
              "\n",
              "  @keyframes spin {\n",
              "    0% {\n",
              "      border-color: transparent;\n",
              "      border-bottom-color: var(--fill-color);\n",
              "      border-left-color: var(--fill-color);\n",
              "    }\n",
              "    20% {\n",
              "      border-color: transparent;\n",
              "      border-left-color: var(--fill-color);\n",
              "      border-top-color: var(--fill-color);\n",
              "    }\n",
              "    30% {\n",
              "      border-color: transparent;\n",
              "      border-left-color: var(--fill-color);\n",
              "      border-top-color: var(--fill-color);\n",
              "      border-right-color: var(--fill-color);\n",
              "    }\n",
              "    40% {\n",
              "      border-color: transparent;\n",
              "      border-right-color: var(--fill-color);\n",
              "      border-top-color: var(--fill-color);\n",
              "    }\n",
              "    60% {\n",
              "      border-color: transparent;\n",
              "      border-right-color: var(--fill-color);\n",
              "    }\n",
              "    80% {\n",
              "      border-color: transparent;\n",
              "      border-right-color: var(--fill-color);\n",
              "      border-bottom-color: var(--fill-color);\n",
              "    }\n",
              "    90% {\n",
              "      border-color: transparent;\n",
              "      border-bottom-color: var(--fill-color);\n",
              "    }\n",
              "  }\n",
              "</style>\n",
              "\n",
              "      <script>\n",
              "        async function quickchart(key) {\n",
              "          const quickchartButtonEl =\n",
              "            document.querySelector('#' + key + ' button');\n",
              "          quickchartButtonEl.disabled = true;  // To prevent multiple clicks.\n",
              "          quickchartButtonEl.classList.add('colab-df-spinner');\n",
              "          try {\n",
              "            const charts = await google.colab.kernel.invokeFunction(\n",
              "                'suggestCharts', [key], {});\n",
              "          } catch (error) {\n",
              "            console.error('Error during call to suggestCharts:', error);\n",
              "          }\n",
              "          quickchartButtonEl.classList.remove('colab-df-spinner');\n",
              "          quickchartButtonEl.classList.add('colab-df-quickchart-complete');\n",
              "        }\n",
              "        (() => {\n",
              "          let quickchartButtonEl =\n",
              "            document.querySelector('#df-156d16fd-90ab-46ff-a324-2d44407fe3ad button');\n",
              "          quickchartButtonEl.style.display =\n",
              "            google.colab.kernel.accessAllowed ? 'block' : 'none';\n",
              "        })();\n",
              "      </script>\n",
              "    </div>\n",
              "\n",
              "  <div id=\"id_5313d35b-e9dd-4d72-b6f8-d57f41042d01\">\n",
              "    <style>\n",
              "      .colab-df-generate {\n",
              "        background-color: #E8F0FE;\n",
              "        border: none;\n",
              "        border-radius: 50%;\n",
              "        cursor: pointer;\n",
              "        display: none;\n",
              "        fill: #1967D2;\n",
              "        height: 32px;\n",
              "        padding: 0 0 0 0;\n",
              "        width: 32px;\n",
              "      }\n",
              "\n",
              "      .colab-df-generate:hover {\n",
              "        background-color: #E2EBFA;\n",
              "        box-shadow: 0px 1px 2px rgba(60, 64, 67, 0.3), 0px 1px 3px 1px rgba(60, 64, 67, 0.15);\n",
              "        fill: #174EA6;\n",
              "      }\n",
              "\n",
              "      [theme=dark] .colab-df-generate {\n",
              "        background-color: #3B4455;\n",
              "        fill: #D2E3FC;\n",
              "      }\n",
              "\n",
              "      [theme=dark] .colab-df-generate:hover {\n",
              "        background-color: #434B5C;\n",
              "        box-shadow: 0px 1px 3px 1px rgba(0, 0, 0, 0.15);\n",
              "        filter: drop-shadow(0px 1px 2px rgba(0, 0, 0, 0.3));\n",
              "        fill: #FFFFFF;\n",
              "      }\n",
              "    </style>\n",
              "    <button class=\"colab-df-generate\" onclick=\"generateWithVariable('df_corpus')\"\n",
              "            title=\"Generate code using this dataframe.\"\n",
              "            style=\"display:none;\">\n",
              "\n",
              "  <svg xmlns=\"http://www.w3.org/2000/svg\" height=\"24px\"viewBox=\"0 0 24 24\"\n",
              "       width=\"24px\">\n",
              "    <path d=\"M7,19H8.4L18.45,9,17,7.55,7,17.6ZM5,21V16.75L18.45,3.32a2,2,0,0,1,2.83,0l1.4,1.43a1.91,1.91,0,0,1,.58,1.4,1.91,1.91,0,0,1-.58,1.4L9.25,21ZM18.45,9,17,7.55Zm-12,3A5.31,5.31,0,0,0,4.9,8.1,5.31,5.31,0,0,0,1,6.5,5.31,5.31,0,0,0,4.9,4.9,5.31,5.31,0,0,0,6.5,1,5.31,5.31,0,0,0,8.1,4.9,5.31,5.31,0,0,0,12,6.5,5.46,5.46,0,0,0,6.5,12Z\"/>\n",
              "  </svg>\n",
              "    </button>\n",
              "    <script>\n",
              "      (() => {\n",
              "      const buttonEl =\n",
              "        document.querySelector('#id_5313d35b-e9dd-4d72-b6f8-d57f41042d01 button.colab-df-generate');\n",
              "      buttonEl.style.display =\n",
              "        google.colab.kernel.accessAllowed ? 'block' : 'none';\n",
              "\n",
              "      buttonEl.onclick = () => {\n",
              "        google.colab.notebook.generateWithVariable('df_corpus');\n",
              "      }\n",
              "      })();\n",
              "    </script>\n",
              "  </div>\n",
              "\n",
              "    </div>\n",
              "  </div>\n"
            ],
            "application/vnd.google.colaboratory.intrinsic+json": {
              "type": "dataframe",
              "variable_name": "df_corpus",
              "summary": "{\n  \"name\": \"df_corpus\",\n  \"rows\": 9999,\n  \"fields\": [\n    {\n      \"column\": \"label\",\n      \"properties\": {\n        \"dtype\": \"number\",\n        \"std\": 0,\n        \"min\": 0,\n        \"max\": 1,\n        \"num_unique_values\": 2,\n        \"samples\": [\n          0,\n          1\n        ],\n        \"semantic_type\": \"\",\n        \"description\": \"\"\n      }\n    },\n    {\n      \"column\": \"text\",\n      \"properties\": {\n        \"dtype\": \"string\",\n        \"num_unique_values\": 9999,\n        \"samples\": [\n          \"If you read the book, don't watch the movie!: I really enjoyed this book, but I was very disappointed by the movie. Rather than a story about the Italian countryside and the adventure of remodeling a home in a foreign country, this movie was about a divorced woman looking for love and her gay friend's dramatic life. Blah. I had wanted to see the charming Polish workers and the quaint Italian villages that were an important part of the original story. Oh well, this wasn't the movie for me.\",\n          \"Won't Recharge Anything: I bought this to recharge my phone, garmin, etc. It looks like the authentic Motorola recharger, but it won't recharge anything. Sure, it keeps the device working, almost, your device will run out of power eventually on this recharger, but slowly. However, I figured it would recharge the Garmin, etc, during use like my other rechargers did. I thought perhaps the LED light was using up too much power. I dismantled the thing after a great deal of effort and injury, and knocked out the light. It will now charge my Garmin very well. I don't recommend this product.\"\n        ],\n        \"semantic_type\": \"\",\n        \"description\": \"\"\n      }\n    },\n    {\n      \"column\": \"char_count\",\n      \"properties\": {\n        \"dtype\": \"number\",\n        \"std\": 239,\n        \"min\": 101,\n        \"max\": 1015,\n        \"num_unique_values\": 914,\n        \"samples\": [\n          827,\n          737\n        ],\n        \"semantic_type\": \"\",\n        \"description\": \"\"\n      }\n    },\n    {\n      \"column\": \"word_count\",\n      \"properties\": {\n        \"dtype\": \"number\",\n        \"std\": 43,\n        \"min\": 14,\n        \"max\": 212,\n        \"num_unique_values\": 189,\n        \"samples\": [\n          205,\n          18\n        ],\n        \"semantic_type\": \"\",\n        \"description\": \"\"\n      }\n    },\n    {\n      \"column\": \"word_density\",\n      \"properties\": {\n        \"dtype\": \"number\",\n        \"std\": 0.44728856786889026,\n        \"min\": 3.966666666666667,\n        \"max\": 8.457142857142857,\n        \"num_unique_values\": 4839,\n        \"samples\": [\n          5.450980392156863,\n          6.553191489361702\n        ],\n        \"semantic_type\": \"\",\n        \"description\": \"\"\n      }\n    },\n    {\n      \"column\": \"punctuation_count\",\n      \"properties\": {\n        \"dtype\": \"number\",\n        \"std\": 9,\n        \"min\": 1,\n        \"max\": 229,\n        \"num_unique_values\": 71,\n        \"samples\": [\n          3,\n          14\n        ],\n        \"semantic_type\": \"\",\n        \"description\": \"\"\n      }\n    },\n    {\n      \"column\": \"title_word_count\",\n      \"properties\": {\n        \"dtype\": \"number\",\n        \"std\": 6,\n        \"min\": 0,\n        \"max\": 124,\n        \"num_unique_values\": 50,\n        \"samples\": [\n          12,\n          51\n        ],\n        \"semantic_type\": \"\",\n        \"description\": \"\"\n      }\n    },\n    {\n      \"column\": \"uppercase_word_count\",\n      \"properties\": {\n        \"dtype\": \"number\",\n        \"std\": 7,\n        \"min\": 0,\n        \"max\": 180,\n        \"num_unique_values\": 78,\n        \"samples\": [\n          25,\n          3\n        ],\n        \"semantic_type\": \"\",\n        \"description\": \"\"\n      }\n    }\n  ]\n}"
            }
          },
          "metadata": {},
          "execution_count": 15
        }
      ]
    },
    {
      "cell_type": "code",
      "execution_count": 16,
      "metadata": {
        "ExecuteTime": {
          "end_time": "2019-06-17T01:44:03.442730Z",
          "start_time": "2019-06-17T01:44:02.298791Z"
        },
        "id": "Z-l2iZcLLtDO"
      },
      "outputs": [],
      "source": [
        "## load spaCy\n",
        "nlp = spacy.load('en_core_web_sm')"
      ]
    },
    {
      "cell_type": "markdown",
      "metadata": {
        "id": "p-9d0G59LtDR"
      },
      "source": [
        "Part of Speech in **SpaCy**\n",
        "\n",
        "    POS   DESCRIPTION               EXAMPLES\n",
        "    ----- ------------------------- ---------------------------------------------\n",
        "    ADJ   adjective                 big, old, green, incomprehensible, first\n",
        "    ADP   adposition                in, to, during\n",
        "    ADV   adverb                    very, tomorrow, down, where, there\n",
        "    AUX   auxiliary                 is, has (done), will (do), should (do)\n",
        "    CONJ  conjunction               and, or, but\n",
        "    CCONJ coordinating conjunction  and, or, but\n",
        "    DET   determiner                a, an, the\n",
        "    INTJ  interjection              psst, ouch, bravo, hello\n",
        "    NOUN  noun                      girl, cat, tree, air, beauty\n",
        "    NUM   numeral                   1, 2017, one, seventy-seven, IV, MMXIV\n",
        "    PART  particle                  's, not,\n",
        "    PRON  pronoun                   I, you, he, she, myself, themselves, somebody\n",
        "    PROPN proper noun               Mary, John, London, NATO, HBO\n",
        "    PUNCT punctuation               ., (, ), ?\n",
        "    SCONJ subordinating conjunction if, while, that\n",
        "    SYM   symbol                    $, %, §, ©, +, −, ×, ÷, =, :), 😝\n",
        "    VERB  verb                      run, runs, running, eat, ate, eating\n",
        "    X     other                     sfpksdpsxmsa\n",
        "    SPACE space\n",
        "    \n",
        "Find out the number of Adjectives, Adverbs, Nouns, Numerals, Pronouns, Proper Nouns, Verbs.\n",
        "\n",
        "    Hint:\n",
        "    1. Convert text to spacy document\n",
        "    2. Use pos_\n",
        "    3. Use Counter"
      ]
    },
    {
      "cell_type": "code",
      "execution_count": 17,
      "metadata": {
        "ExecuteTime": {
          "end_time": "2019-06-17T01:50:15.900377Z",
          "start_time": "2019-06-17T01:50:15.889406Z"
        },
        "id": "NcxmvIOGLtDS"
      },
      "outputs": [],
      "source": [
        "# Initialise some columns for feature's counts\n",
        "df_corpus['adj_count'] = 0\n",
        "df_corpus['adv_count'] = 0\n",
        "df_corpus['noun_count'] = 0\n",
        "df_corpus['num_count'] = 0\n",
        "df_corpus['pron_count'] = 0\n",
        "df_corpus['propn_count'] = 0\n",
        "df_corpus['verb_count'] = 0"
      ]
    },
    {
      "cell_type": "code",
      "execution_count": 18,
      "metadata": {
        "ExecuteTime": {
          "end_time": "2019-06-17T01:52:39.611809Z",
          "start_time": "2019-06-17T01:52:39.608818Z"
        },
        "id": "1KfFtu1HcPwA"
      },
      "outputs": [],
      "source": [
        "# ANSWER\n",
        "# for each text\n",
        "for i in range(df_corpus.shape[0]):\n",
        "    # convert into a spaCy document\n",
        "    doc = nlp(df_corpus.iloc[i]['text'])\n",
        "    # initialise feature counters\n",
        "    c = Counter([t.pos_ for t in doc])\n",
        "\n",
        "    df_corpus.at[i, 'adj_count'] = c['ADJ']\n",
        "    df_corpus.at[i, 'adv_count'] = c['ADV']\n",
        "    df_corpus.at[i, 'noun_count'] = c['NOUN']\n",
        "    df_corpus.at[i, 'num_count'] = c['NUM']\n",
        "    df_corpus.at[i, 'pron_count'] = c['PRON']\n",
        "    df_corpus.at[i, 'propn_count'] = c['PROPN']\n",
        "    df_corpus.at[i, 'verb_count'] = c['VERB']"
      ]
    },
    {
      "cell_type": "code",
      "execution_count": 19,
      "metadata": {
        "ExecuteTime": {
          "end_time": "2019-06-17T01:59:42.424828Z",
          "start_time": "2019-06-17T01:59:42.390920Z"
        },
        "id": "DW1_LKP2LtDX",
        "colab": {
          "base_uri": "https://localhost:8080/",
          "height": 226
        },
        "outputId": "b0c6441b-90fd-4d20-a880-cc13a754633a"
      },
      "outputs": [
        {
          "output_type": "execute_result",
          "data": {
            "text/plain": [
              "      char_count  word_count  word_density  punctuation_count  \\\n",
              "3887         424          68      6.144928                 10   \n",
              "1924         406          73      5.486486                 16   \n",
              "576          242          49      4.840000                  4   \n",
              "556          250          53      4.629630                  7   \n",
              "9450         241          49      4.820000                  9   \n",
              "\n",
              "      title_word_count  uppercase_word_count  adj_count  adv_count  \\\n",
              "3887                14                     4         10          6   \n",
              "1924                10                     8          6          5   \n",
              "576                  3                     0          4          2   \n",
              "556                  0                     0          6          3   \n",
              "9450                 2                     1          4          5   \n",
              "\n",
              "      noun_count  num_count  pron_count  propn_count  verb_count  \n",
              "3887          10          0           9            8           4  \n",
              "1924          11          2          11            3          11  \n",
              "576            7          1           5            1           8  \n",
              "556            7          0          11            0           8  \n",
              "9450           8          0           8            1           4  "
            ],
            "text/html": [
              "\n",
              "  <div id=\"df-76fc5cec-efce-4866-b1c8-157ed997bcac\" class=\"colab-df-container\">\n",
              "    <div>\n",
              "<style scoped>\n",
              "    .dataframe tbody tr th:only-of-type {\n",
              "        vertical-align: middle;\n",
              "    }\n",
              "\n",
              "    .dataframe tbody tr th {\n",
              "        vertical-align: top;\n",
              "    }\n",
              "\n",
              "    .dataframe thead th {\n",
              "        text-align: right;\n",
              "    }\n",
              "</style>\n",
              "<table border=\"1\" class=\"dataframe\">\n",
              "  <thead>\n",
              "    <tr style=\"text-align: right;\">\n",
              "      <th></th>\n",
              "      <th>char_count</th>\n",
              "      <th>word_count</th>\n",
              "      <th>word_density</th>\n",
              "      <th>punctuation_count</th>\n",
              "      <th>title_word_count</th>\n",
              "      <th>uppercase_word_count</th>\n",
              "      <th>adj_count</th>\n",
              "      <th>adv_count</th>\n",
              "      <th>noun_count</th>\n",
              "      <th>num_count</th>\n",
              "      <th>pron_count</th>\n",
              "      <th>propn_count</th>\n",
              "      <th>verb_count</th>\n",
              "    </tr>\n",
              "  </thead>\n",
              "  <tbody>\n",
              "    <tr>\n",
              "      <th>3887</th>\n",
              "      <td>424</td>\n",
              "      <td>68</td>\n",
              "      <td>6.144928</td>\n",
              "      <td>10</td>\n",
              "      <td>14</td>\n",
              "      <td>4</td>\n",
              "      <td>10</td>\n",
              "      <td>6</td>\n",
              "      <td>10</td>\n",
              "      <td>0</td>\n",
              "      <td>9</td>\n",
              "      <td>8</td>\n",
              "      <td>4</td>\n",
              "    </tr>\n",
              "    <tr>\n",
              "      <th>1924</th>\n",
              "      <td>406</td>\n",
              "      <td>73</td>\n",
              "      <td>5.486486</td>\n",
              "      <td>16</td>\n",
              "      <td>10</td>\n",
              "      <td>8</td>\n",
              "      <td>6</td>\n",
              "      <td>5</td>\n",
              "      <td>11</td>\n",
              "      <td>2</td>\n",
              "      <td>11</td>\n",
              "      <td>3</td>\n",
              "      <td>11</td>\n",
              "    </tr>\n",
              "    <tr>\n",
              "      <th>576</th>\n",
              "      <td>242</td>\n",
              "      <td>49</td>\n",
              "      <td>4.840000</td>\n",
              "      <td>4</td>\n",
              "      <td>3</td>\n",
              "      <td>0</td>\n",
              "      <td>4</td>\n",
              "      <td>2</td>\n",
              "      <td>7</td>\n",
              "      <td>1</td>\n",
              "      <td>5</td>\n",
              "      <td>1</td>\n",
              "      <td>8</td>\n",
              "    </tr>\n",
              "    <tr>\n",
              "      <th>556</th>\n",
              "      <td>250</td>\n",
              "      <td>53</td>\n",
              "      <td>4.629630</td>\n",
              "      <td>7</td>\n",
              "      <td>0</td>\n",
              "      <td>0</td>\n",
              "      <td>6</td>\n",
              "      <td>3</td>\n",
              "      <td>7</td>\n",
              "      <td>0</td>\n",
              "      <td>11</td>\n",
              "      <td>0</td>\n",
              "      <td>8</td>\n",
              "    </tr>\n",
              "    <tr>\n",
              "      <th>9450</th>\n",
              "      <td>241</td>\n",
              "      <td>49</td>\n",
              "      <td>4.820000</td>\n",
              "      <td>9</td>\n",
              "      <td>2</td>\n",
              "      <td>1</td>\n",
              "      <td>4</td>\n",
              "      <td>5</td>\n",
              "      <td>8</td>\n",
              "      <td>0</td>\n",
              "      <td>8</td>\n",
              "      <td>1</td>\n",
              "      <td>4</td>\n",
              "    </tr>\n",
              "  </tbody>\n",
              "</table>\n",
              "</div>\n",
              "    <div class=\"colab-df-buttons\">\n",
              "\n",
              "  <div class=\"colab-df-container\">\n",
              "    <button class=\"colab-df-convert\" onclick=\"convertToInteractive('df-76fc5cec-efce-4866-b1c8-157ed997bcac')\"\n",
              "            title=\"Convert this dataframe to an interactive table.\"\n",
              "            style=\"display:none;\">\n",
              "\n",
              "  <svg xmlns=\"http://www.w3.org/2000/svg\" height=\"24px\" viewBox=\"0 -960 960 960\">\n",
              "    <path d=\"M120-120v-720h720v720H120Zm60-500h600v-160H180v160Zm220 220h160v-160H400v160Zm0 220h160v-160H400v160ZM180-400h160v-160H180v160Zm440 0h160v-160H620v160ZM180-180h160v-160H180v160Zm440 0h160v-160H620v160Z\"/>\n",
              "  </svg>\n",
              "    </button>\n",
              "\n",
              "  <style>\n",
              "    .colab-df-container {\n",
              "      display:flex;\n",
              "      gap: 12px;\n",
              "    }\n",
              "\n",
              "    .colab-df-convert {\n",
              "      background-color: #E8F0FE;\n",
              "      border: none;\n",
              "      border-radius: 50%;\n",
              "      cursor: pointer;\n",
              "      display: none;\n",
              "      fill: #1967D2;\n",
              "      height: 32px;\n",
              "      padding: 0 0 0 0;\n",
              "      width: 32px;\n",
              "    }\n",
              "\n",
              "    .colab-df-convert:hover {\n",
              "      background-color: #E2EBFA;\n",
              "      box-shadow: 0px 1px 2px rgba(60, 64, 67, 0.3), 0px 1px 3px 1px rgba(60, 64, 67, 0.15);\n",
              "      fill: #174EA6;\n",
              "    }\n",
              "\n",
              "    .colab-df-buttons div {\n",
              "      margin-bottom: 4px;\n",
              "    }\n",
              "\n",
              "    [theme=dark] .colab-df-convert {\n",
              "      background-color: #3B4455;\n",
              "      fill: #D2E3FC;\n",
              "    }\n",
              "\n",
              "    [theme=dark] .colab-df-convert:hover {\n",
              "      background-color: #434B5C;\n",
              "      box-shadow: 0px 1px 3px 1px rgba(0, 0, 0, 0.15);\n",
              "      filter: drop-shadow(0px 1px 2px rgba(0, 0, 0, 0.3));\n",
              "      fill: #FFFFFF;\n",
              "    }\n",
              "  </style>\n",
              "\n",
              "    <script>\n",
              "      const buttonEl =\n",
              "        document.querySelector('#df-76fc5cec-efce-4866-b1c8-157ed997bcac button.colab-df-convert');\n",
              "      buttonEl.style.display =\n",
              "        google.colab.kernel.accessAllowed ? 'block' : 'none';\n",
              "\n",
              "      async function convertToInteractive(key) {\n",
              "        const element = document.querySelector('#df-76fc5cec-efce-4866-b1c8-157ed997bcac');\n",
              "        const dataTable =\n",
              "          await google.colab.kernel.invokeFunction('convertToInteractive',\n",
              "                                                    [key], {});\n",
              "        if (!dataTable) return;\n",
              "\n",
              "        const docLinkHtml = 'Like what you see? Visit the ' +\n",
              "          '<a target=\"_blank\" href=https://colab.research.google.com/notebooks/data_table.ipynb>data table notebook</a>'\n",
              "          + ' to learn more about interactive tables.';\n",
              "        element.innerHTML = '';\n",
              "        dataTable['output_type'] = 'display_data';\n",
              "        await google.colab.output.renderOutput(dataTable, element);\n",
              "        const docLink = document.createElement('div');\n",
              "        docLink.innerHTML = docLinkHtml;\n",
              "        element.appendChild(docLink);\n",
              "      }\n",
              "    </script>\n",
              "  </div>\n",
              "\n",
              "\n",
              "    <div id=\"df-3ba360dd-653a-40b3-96f8-d7886e63069e\">\n",
              "      <button class=\"colab-df-quickchart\" onclick=\"quickchart('df-3ba360dd-653a-40b3-96f8-d7886e63069e')\"\n",
              "                title=\"Suggest charts\"\n",
              "                style=\"display:none;\">\n",
              "\n",
              "<svg xmlns=\"http://www.w3.org/2000/svg\" height=\"24px\"viewBox=\"0 0 24 24\"\n",
              "     width=\"24px\">\n",
              "    <g>\n",
              "        <path d=\"M19 3H5c-1.1 0-2 .9-2 2v14c0 1.1.9 2 2 2h14c1.1 0 2-.9 2-2V5c0-1.1-.9-2-2-2zM9 17H7v-7h2v7zm4 0h-2V7h2v10zm4 0h-2v-4h2v4z\"/>\n",
              "    </g>\n",
              "</svg>\n",
              "      </button>\n",
              "\n",
              "<style>\n",
              "  .colab-df-quickchart {\n",
              "      --bg-color: #E8F0FE;\n",
              "      --fill-color: #1967D2;\n",
              "      --hover-bg-color: #E2EBFA;\n",
              "      --hover-fill-color: #174EA6;\n",
              "      --disabled-fill-color: #AAA;\n",
              "      --disabled-bg-color: #DDD;\n",
              "  }\n",
              "\n",
              "  [theme=dark] .colab-df-quickchart {\n",
              "      --bg-color: #3B4455;\n",
              "      --fill-color: #D2E3FC;\n",
              "      --hover-bg-color: #434B5C;\n",
              "      --hover-fill-color: #FFFFFF;\n",
              "      --disabled-bg-color: #3B4455;\n",
              "      --disabled-fill-color: #666;\n",
              "  }\n",
              "\n",
              "  .colab-df-quickchart {\n",
              "    background-color: var(--bg-color);\n",
              "    border: none;\n",
              "    border-radius: 50%;\n",
              "    cursor: pointer;\n",
              "    display: none;\n",
              "    fill: var(--fill-color);\n",
              "    height: 32px;\n",
              "    padding: 0;\n",
              "    width: 32px;\n",
              "  }\n",
              "\n",
              "  .colab-df-quickchart:hover {\n",
              "    background-color: var(--hover-bg-color);\n",
              "    box-shadow: 0 1px 2px rgba(60, 64, 67, 0.3), 0 1px 3px 1px rgba(60, 64, 67, 0.15);\n",
              "    fill: var(--button-hover-fill-color);\n",
              "  }\n",
              "\n",
              "  .colab-df-quickchart-complete:disabled,\n",
              "  .colab-df-quickchart-complete:disabled:hover {\n",
              "    background-color: var(--disabled-bg-color);\n",
              "    fill: var(--disabled-fill-color);\n",
              "    box-shadow: none;\n",
              "  }\n",
              "\n",
              "  .colab-df-spinner {\n",
              "    border: 2px solid var(--fill-color);\n",
              "    border-color: transparent;\n",
              "    border-bottom-color: var(--fill-color);\n",
              "    animation:\n",
              "      spin 1s steps(1) infinite;\n",
              "  }\n",
              "\n",
              "  @keyframes spin {\n",
              "    0% {\n",
              "      border-color: transparent;\n",
              "      border-bottom-color: var(--fill-color);\n",
              "      border-left-color: var(--fill-color);\n",
              "    }\n",
              "    20% {\n",
              "      border-color: transparent;\n",
              "      border-left-color: var(--fill-color);\n",
              "      border-top-color: var(--fill-color);\n",
              "    }\n",
              "    30% {\n",
              "      border-color: transparent;\n",
              "      border-left-color: var(--fill-color);\n",
              "      border-top-color: var(--fill-color);\n",
              "      border-right-color: var(--fill-color);\n",
              "    }\n",
              "    40% {\n",
              "      border-color: transparent;\n",
              "      border-right-color: var(--fill-color);\n",
              "      border-top-color: var(--fill-color);\n",
              "    }\n",
              "    60% {\n",
              "      border-color: transparent;\n",
              "      border-right-color: var(--fill-color);\n",
              "    }\n",
              "    80% {\n",
              "      border-color: transparent;\n",
              "      border-right-color: var(--fill-color);\n",
              "      border-bottom-color: var(--fill-color);\n",
              "    }\n",
              "    90% {\n",
              "      border-color: transparent;\n",
              "      border-bottom-color: var(--fill-color);\n",
              "    }\n",
              "  }\n",
              "</style>\n",
              "\n",
              "      <script>\n",
              "        async function quickchart(key) {\n",
              "          const quickchartButtonEl =\n",
              "            document.querySelector('#' + key + ' button');\n",
              "          quickchartButtonEl.disabled = true;  // To prevent multiple clicks.\n",
              "          quickchartButtonEl.classList.add('colab-df-spinner');\n",
              "          try {\n",
              "            const charts = await google.colab.kernel.invokeFunction(\n",
              "                'suggestCharts', [key], {});\n",
              "          } catch (error) {\n",
              "            console.error('Error during call to suggestCharts:', error);\n",
              "          }\n",
              "          quickchartButtonEl.classList.remove('colab-df-spinner');\n",
              "          quickchartButtonEl.classList.add('colab-df-quickchart-complete');\n",
              "        }\n",
              "        (() => {\n",
              "          let quickchartButtonEl =\n",
              "            document.querySelector('#df-3ba360dd-653a-40b3-96f8-d7886e63069e button');\n",
              "          quickchartButtonEl.style.display =\n",
              "            google.colab.kernel.accessAllowed ? 'block' : 'none';\n",
              "        })();\n",
              "      </script>\n",
              "    </div>\n",
              "\n",
              "    </div>\n",
              "  </div>\n"
            ],
            "application/vnd.google.colaboratory.intrinsic+json": {
              "type": "dataframe",
              "summary": "{\n  \"name\": \"df_corpus[cols]\",\n  \"rows\": 5,\n  \"fields\": [\n    {\n      \"column\": \"char_count\",\n      \"properties\": {\n        \"dtype\": \"number\",\n        \"std\": 93,\n        \"min\": 241,\n        \"max\": 424,\n        \"num_unique_values\": 5,\n        \"samples\": [\n          406,\n          241,\n          242\n        ],\n        \"semantic_type\": \"\",\n        \"description\": \"\"\n      }\n    },\n    {\n      \"column\": \"word_count\",\n      \"properties\": {\n        \"dtype\": \"number\",\n        \"std\": 11,\n        \"min\": 49,\n        \"max\": 73,\n        \"num_unique_values\": 4,\n        \"samples\": [\n          73,\n          53,\n          68\n        ],\n        \"semantic_type\": \"\",\n        \"description\": \"\"\n      }\n    },\n    {\n      \"column\": \"word_density\",\n      \"properties\": {\n        \"dtype\": \"number\",\n        \"std\": 0.6271040771072522,\n        \"min\": 4.62962962962963,\n        \"max\": 6.144927536231884,\n        \"num_unique_values\": 5,\n        \"samples\": [\n          5.486486486486487,\n          4.82,\n          4.84\n        ],\n        \"semantic_type\": \"\",\n        \"description\": \"\"\n      }\n    },\n    {\n      \"column\": \"punctuation_count\",\n      \"properties\": {\n        \"dtype\": \"number\",\n        \"std\": 4,\n        \"min\": 4,\n        \"max\": 16,\n        \"num_unique_values\": 5,\n        \"samples\": [\n          16,\n          9,\n          4\n        ],\n        \"semantic_type\": \"\",\n        \"description\": \"\"\n      }\n    },\n    {\n      \"column\": \"title_word_count\",\n      \"properties\": {\n        \"dtype\": \"number\",\n        \"std\": 5,\n        \"min\": 0,\n        \"max\": 14,\n        \"num_unique_values\": 5,\n        \"samples\": [\n          10,\n          2,\n          3\n        ],\n        \"semantic_type\": \"\",\n        \"description\": \"\"\n      }\n    },\n    {\n      \"column\": \"uppercase_word_count\",\n      \"properties\": {\n        \"dtype\": \"number\",\n        \"std\": 3,\n        \"min\": 0,\n        \"max\": 8,\n        \"num_unique_values\": 4,\n        \"samples\": [\n          8,\n          1,\n          4\n        ],\n        \"semantic_type\": \"\",\n        \"description\": \"\"\n      }\n    },\n    {\n      \"column\": \"adj_count\",\n      \"properties\": {\n        \"dtype\": \"number\",\n        \"std\": 2,\n        \"min\": 4,\n        \"max\": 10,\n        \"num_unique_values\": 3,\n        \"samples\": [\n          10,\n          6,\n          4\n        ],\n        \"semantic_type\": \"\",\n        \"description\": \"\"\n      }\n    },\n    {\n      \"column\": \"adv_count\",\n      \"properties\": {\n        \"dtype\": \"number\",\n        \"std\": 1,\n        \"min\": 2,\n        \"max\": 6,\n        \"num_unique_values\": 4,\n        \"samples\": [\n          5,\n          3,\n          6\n        ],\n        \"semantic_type\": \"\",\n        \"description\": \"\"\n      }\n    },\n    {\n      \"column\": \"noun_count\",\n      \"properties\": {\n        \"dtype\": \"number\",\n        \"std\": 1,\n        \"min\": 7,\n        \"max\": 11,\n        \"num_unique_values\": 4,\n        \"samples\": [\n          11,\n          8,\n          10\n        ],\n        \"semantic_type\": \"\",\n        \"description\": \"\"\n      }\n    },\n    {\n      \"column\": \"num_count\",\n      \"properties\": {\n        \"dtype\": \"number\",\n        \"std\": 0,\n        \"min\": 0,\n        \"max\": 2,\n        \"num_unique_values\": 3,\n        \"samples\": [\n          0,\n          2,\n          1\n        ],\n        \"semantic_type\": \"\",\n        \"description\": \"\"\n      }\n    },\n    {\n      \"column\": \"pron_count\",\n      \"properties\": {\n        \"dtype\": \"number\",\n        \"std\": 2,\n        \"min\": 5,\n        \"max\": 11,\n        \"num_unique_values\": 4,\n        \"samples\": [\n          11,\n          8,\n          9\n        ],\n        \"semantic_type\": \"\",\n        \"description\": \"\"\n      }\n    },\n    {\n      \"column\": \"propn_count\",\n      \"properties\": {\n        \"dtype\": \"number\",\n        \"std\": 3,\n        \"min\": 0,\n        \"max\": 8,\n        \"num_unique_values\": 4,\n        \"samples\": [\n          3,\n          0,\n          8\n        ],\n        \"semantic_type\": \"\",\n        \"description\": \"\"\n      }\n    },\n    {\n      \"column\": \"verb_count\",\n      \"properties\": {\n        \"dtype\": \"number\",\n        \"std\": 3,\n        \"min\": 4,\n        \"max\": 11,\n        \"num_unique_values\": 3,\n        \"samples\": [\n          4,\n          11,\n          8\n        ],\n        \"semantic_type\": \"\",\n        \"description\": \"\"\n      }\n    }\n  ]\n}"
            }
          },
          "metadata": {},
          "execution_count": 19
        }
      ],
      "source": [
        "cols = [\n",
        "    'char_count', 'word_count', 'word_density',\n",
        "    'punctuation_count', 'title_word_count',\n",
        "    'uppercase_word_count', 'adj_count',\n",
        "    'adv_count', 'noun_count', 'num_count',\n",
        "    'pron_count', 'propn_count', 'verb_count']\n",
        "\n",
        "df_corpus[cols].sample(5)"
      ]
    },
    {
      "cell_type": "markdown",
      "metadata": {
        "id": "mQCAUFWYLtDb"
      },
      "source": [
        "### Topic Models as features"
      ]
    },
    {
      "cell_type": "code",
      "execution_count": 20,
      "metadata": {
        "ExecuteTime": {
          "end_time": "2019-06-17T02:27:09.442903Z",
          "start_time": "2019-06-17T02:24:45.531924Z"
        },
        "id": "wg2mAlkRLtDb",
        "colab": {
          "base_uri": "https://localhost:8080/"
        },
        "outputId": "d3d0ca9b-b237-4620-cef5-b0fd8c8f0369"
      },
      "outputs": [
        {
          "output_type": "stream",
          "name": "stdout",
          "text": [
            "CPU times: user 1min 18s, sys: 297 ms, total: 1min 19s\n",
            "Wall time: 1min 20s\n"
          ]
        }
      ],
      "source": [
        "%%time\n",
        "# train a LDA Model\n",
        "lda_model = LatentDirichletAllocation(n_components = 20, learning_method = 'online', max_iter = 20)\n",
        "\n",
        "X_topics = lda_model.fit_transform(X_train_count)\n",
        "topic_word = lda_model.components_\n",
        "vocab = count_vect.get_feature_names_out()"
      ]
    },
    {
      "cell_type": "code",
      "execution_count": 21,
      "metadata": {
        "ExecuteTime": {
          "end_time": "2019-06-17T02:28:11.804475Z",
          "start_time": "2019-06-17T02:28:10.978502Z"
        },
        "id": "_8dIDyHjLtDf",
        "colab": {
          "base_uri": "https://localhost:8080/"
        },
        "outputId": "e43fc960-a94d-4369-c0f0-98d433a9e344"
      },
      "outputs": [
        {
          "output_type": "stream",
          "name": "stdout",
          "text": [
            "Group Top Words\n",
            "----- --------------------------------------------------------------------------------\n",
            "    0 cap circuit stockings celiac steer aluminum anthology reduce plates exuviance\n",
            "    1 wild sings loving cities web label 20 superficial justice dying\n",
            "    2 exam version include catholic latest stage grammar spanish jimmy peter\n",
            "    3 the a and i to of this is it in\n",
            "    4 peace everest utterly tuscan foreign brothers gluten buddy san glasses\n",
            "    5 richard mothers balanced grandchildren knot boiling scent gameboy eyed degreez\n",
            "    6 captured anderson mistress dancers unfunny yoruba poets happenings captioning skilled\n",
            "    7 she her cave woman herself winston bear ayla clan receive\n",
            "    8 cute titanic strongly wanting discover occasionally arthur hd rose xbox\n",
            "    9 printer ink freud nudity porn cartridge slip prints theaters lighter\n",
            "   10 boots pair these boot shoes prefer hi smooth them waterproof\n",
            "   11 the of book and a in read his to he\n",
            "   12 henry wayne gibson restaurant www rome tim orleans tism miller\n",
            "   13 edition versions stephen tales gammell kate italy paperback offered link\n",
            "   14 ear fit cable jawbone 1 u fits sony 2 camcorder\n",
            "   15 cd album music song sound rock albums lyrics jazz guitar\n",
            "   16 authors presented worthy higgins formula ancient tomcat salt gay pepper\n",
            "   17 flight birds housing nuclear yea concerns borred tho incompetence alley\n",
            "   18 the i it to and a for this my not\n",
            "   19 la de y en el que con los un et\n"
          ]
        }
      ],
      "source": [
        "# view the topic models\n",
        "n_top_words = 10\n",
        "topic_summaries = []\n",
        "print('Group Top Words')\n",
        "print('-----', '-'*80)\n",
        "for i, topic_dist in enumerate(topic_word):\n",
        "    topic_words = np.array(vocab)[np.argsort(topic_dist)][:-(n_top_words+1):-1]\n",
        "    top_words = ' '.join(topic_words)\n",
        "    topic_summaries.append(top_words)\n",
        "    print('  %3d %s' % (i, top_words))"
      ]
    },
    {
      "cell_type": "markdown",
      "metadata": {
        "id": "TtfnK1jeLtDl"
      },
      "source": [
        "## Modelling"
      ]
    },
    {
      "cell_type": "markdown",
      "metadata": {
        "id": "uwwoZ6Qp3psC"
      },
      "source": [
        "Run the following cells to train a number of models on the count vector and TF-IDF vector feature sets generated above."
      ]
    },
    {
      "cell_type": "code",
      "execution_count": 22,
      "metadata": {
        "ExecuteTime": {
          "end_time": "2019-06-17T02:34:12.273365Z",
          "start_time": "2019-06-17T02:34:12.263393Z"
        },
        "id": "uwVaWSyTLtDm"
      },
      "outputs": [],
      "source": [
        "## helper function\n",
        "\n",
        "def train_model(classifier, feature_vector_train, label, feature_vector_valid):\n",
        "    # fit the training dataset on the classifier\n",
        "    classifier.fit(feature_vector_train, label)\n",
        "\n",
        "    # predict the labels on validation dataset\n",
        "    predictions = classifier.predict(feature_vector_valid)\n",
        "\n",
        "    return accuracy_score(predictions, y_test)"
      ]
    },
    {
      "cell_type": "code",
      "execution_count": 23,
      "metadata": {
        "ExecuteTime": {
          "end_time": "2019-06-17T02:34:14.900001Z",
          "start_time": "2019-06-17T02:34:14.894016Z"
        },
        "id": "f_onpqUkLtDo"
      },
      "outputs": [],
      "source": [
        "# Keep the results in a dataframe\n",
        "results = pd.DataFrame(columns = ['Count Vectors',\n",
        "                                  'WordLevel TF-IDF',\n",
        "                                  'N-Gram Vectors',\n",
        "                                  'CharLevel Vectors'])"
      ]
    },
    {
      "cell_type": "markdown",
      "metadata": {
        "id": "OXwLriDpLtDq"
      },
      "source": [
        "### Naive Bayes Classifier"
      ]
    },
    {
      "cell_type": "code",
      "execution_count": 34,
      "metadata": {
        "ExecuteTime": {
          "end_time": "2019-06-17T02:34:34.147043Z",
          "start_time": "2019-06-17T02:34:34.123096Z"
        },
        "id": "ZcU6IKyNLtDs",
        "colab": {
          "base_uri": "https://localhost:8080/"
        },
        "outputId": "5ad2b772-a9c9-4fa0-d7a6-f1c691806911"
      },
      "outputs": [
        {
          "output_type": "stream",
          "name": "stdout",
          "text": [
            "NB, Count Vectors    : 0.8520\n",
            "\n",
            "CPU times: user 10.1 ms, sys: 1 µs, total: 10.1 ms\n",
            "Wall time: 9.98 ms\n"
          ]
        }
      ],
      "source": [
        "%%time\n",
        "# Naive Bayes on Count Vectors\n",
        "accuracy1 = train_model(MultinomialNB(), X_train_count, y_train, X_test_count)\n",
        "print('NB, Count Vectors    : %.4f\\n' % accuracy1)"
      ]
    },
    {
      "cell_type": "code",
      "execution_count": 35,
      "metadata": {
        "ExecuteTime": {
          "end_time": "2019-06-17T02:34:36.399812Z",
          "start_time": "2019-06-17T02:34:36.381861Z"
        },
        "id": "zqEG_ByTLtDv",
        "colab": {
          "base_uri": "https://localhost:8080/"
        },
        "outputId": "b122c52a-56d5-4a26-aa8a-5cfa95d6ae20"
      },
      "outputs": [
        {
          "output_type": "stream",
          "name": "stdout",
          "text": [
            "NB, WordLevel TF-IDF : 0.8560\n",
            "\n",
            "CPU times: user 8.97 ms, sys: 952 µs, total: 9.93 ms\n",
            "Wall time: 9.5 ms\n"
          ]
        }
      ],
      "source": [
        "%%time\n",
        "# Naive Bayes on Word Level TF IDF Vectors\n",
        "accuracy2 = train_model(MultinomialNB(), X_train_tfidf, y_train, X_test_tfidf)\n",
        "print('NB, WordLevel TF-IDF : %.4f\\n' % accuracy2)"
      ]
    },
    {
      "cell_type": "code",
      "execution_count": 36,
      "metadata": {
        "ExecuteTime": {
          "end_time": "2019-06-17T02:34:39.076000Z",
          "start_time": "2019-06-17T02:34:39.059047Z"
        },
        "id": "uKEEPNi8LtDy",
        "colab": {
          "base_uri": "https://localhost:8080/"
        },
        "outputId": "763317da-9332-4d16-af90-3d8007655225"
      },
      "outputs": [
        {
          "output_type": "stream",
          "name": "stdout",
          "text": [
            "NB, N-Gram Vectors   : 0.8375\n",
            "\n",
            "CPU times: user 9.92 ms, sys: 0 ns, total: 9.92 ms\n",
            "Wall time: 9.14 ms\n"
          ]
        }
      ],
      "source": [
        "%%time\n",
        "# Naive Bayes on Ngram Level TF IDF Vectors\n",
        "accuracy3 = train_model(MultinomialNB(), X_train_tfidf_ngram, y_train, X_test_tfidf_ngram)\n",
        "print('NB, N-Gram Vectors   : %.4f\\n' % accuracy3)"
      ]
    },
    {
      "cell_type": "code",
      "execution_count": 37,
      "metadata": {
        "ExecuteTime": {
          "end_time": "2019-06-17T02:34:42.057019Z",
          "start_time": "2019-06-17T02:34:42.009151Z"
        },
        "id": "M9aIibkBLtD0",
        "colab": {
          "base_uri": "https://localhost:8080/"
        },
        "outputId": "043bc022-37fe-4d60-a0b2-5df0534f5660"
      },
      "outputs": [
        {
          "output_type": "stream",
          "name": "stdout",
          "text": [
            "NB, CharLevel Vectors: 0.8195\n",
            "\n",
            "CPU times: user 43.9 ms, sys: 975 µs, total: 44.9 ms\n",
            "Wall time: 46 ms\n"
          ]
        }
      ],
      "source": [
        "%%time\n",
        "# # Naive Bayes on Character Level TF IDF Vectors\n",
        "accuracy4 = train_model(MultinomialNB(), X_train_tfidf_ngram_chars, y_train, X_test_tfidf_ngram_chars)\n",
        "print('NB, CharLevel Vectors: %.4f\\n' % accuracy4)"
      ]
    },
    {
      "cell_type": "code",
      "execution_count": 39,
      "metadata": {
        "ExecuteTime": {
          "end_time": "2019-06-17T02:34:46.265712Z",
          "start_time": "2019-06-17T02:34:46.258734Z"
        },
        "id": "kkrodUzCLtD3"
      },
      "outputs": [],
      "source": [
        "results.loc['Naïve Bayes'] = {\n",
        "    'Count Vectors': accuracy1,\n",
        "    'WordLevel TF-IDF': accuracy2,\n",
        "    'N-Gram Vectors': accuracy3,\n",
        "    'CharLevel Vectors': accuracy4}"
      ]
    },
    {
      "cell_type": "markdown",
      "metadata": {
        "id": "-2oNfajULtD4"
      },
      "source": [
        "### Linear Classifier"
      ]
    },
    {
      "cell_type": "code",
      "execution_count": 40,
      "metadata": {
        "ExecuteTime": {
          "end_time": "2019-06-17T02:34:50.841687Z",
          "start_time": "2019-06-17T02:34:48.637032Z"
        },
        "id": "OFBhhPZ6LtD4",
        "colab": {
          "base_uri": "https://localhost:8080/"
        },
        "outputId": "749c4262-0c87-4c3e-cfeb-8c5db6ee09c6"
      },
      "outputs": [
        {
          "output_type": "stream",
          "name": "stdout",
          "text": [
            "LR, Count Vectors    : 0.8515\n",
            "\n",
            "CPU times: user 9.55 s, sys: 8.44 ms, total: 9.55 s\n",
            "Wall time: 4.97 s\n"
          ]
        }
      ],
      "source": [
        "%%time\n",
        "# Linear Classifier on Count Vectors\n",
        "accuracy1 = train_model(LogisticRegression(solver = 'lbfgs', max_iter = 350), X_train_count, y_train, X_test_count)\n",
        "print('LR, Count Vectors    : %.4f\\n' % accuracy1)"
      ]
    },
    {
      "cell_type": "code",
      "execution_count": 41,
      "metadata": {
        "ExecuteTime": {
          "end_time": "2019-06-17T02:34:51.310433Z",
          "start_time": "2019-06-17T02:34:51.214690Z"
        },
        "id": "C89hRhDiLtD6",
        "colab": {
          "base_uri": "https://localhost:8080/"
        },
        "outputId": "f3505e13-4ad4-407b-b2e6-efa154eaf71a"
      },
      "outputs": [
        {
          "output_type": "stream",
          "name": "stdout",
          "text": [
            "LR, WordLevel TF-IDF : 0.8710\n",
            "\n",
            "CPU times: user 64.4 ms, sys: 0 ns, total: 64.4 ms\n",
            "Wall time: 40 ms\n"
          ]
        }
      ],
      "source": [
        "%%time\n",
        "# Linear Classifier on Word Level TF IDF Vectors\n",
        "accuracy2 = train_model(LogisticRegression(solver = 'lbfgs', max_iter = 100), X_train_tfidf, y_train, X_test_tfidf)\n",
        "print('LR, WordLevel TF-IDF : %.4f\\n' % accuracy2)"
      ]
    },
    {
      "cell_type": "code",
      "execution_count": 42,
      "metadata": {
        "ExecuteTime": {
          "end_time": "2019-06-17T02:34:51.749258Z",
          "start_time": "2019-06-17T02:34:51.683435Z"
        },
        "id": "MvhV1jC6LtD9",
        "colab": {
          "base_uri": "https://localhost:8080/"
        },
        "outputId": "3c9e093c-1729-4490-8916-00babc46d603"
      },
      "outputs": [
        {
          "output_type": "stream",
          "name": "stdout",
          "text": [
            "LR, N-Gram Vectors   : 0.8305\n",
            "\n",
            "CPU times: user 49.3 ms, sys: 1.99 ms, total: 51.3 ms\n",
            "Wall time: 32.4 ms\n"
          ]
        }
      ],
      "source": [
        "%%time\n",
        "# Linear Classifier on Ngram Level TF IDF Vectors\n",
        "accuracy3 = train_model(LogisticRegression(solver = 'lbfgs', max_iter = 100), X_train_tfidf_ngram, y_train, X_test_tfidf_ngram)\n",
        "print('LR, N-Gram Vectors   : %.4f\\n' % accuracy3)"
      ]
    },
    {
      "cell_type": "code",
      "execution_count": 43,
      "metadata": {
        "ExecuteTime": {
          "end_time": "2019-06-17T02:34:52.635899Z",
          "start_time": "2019-06-17T02:34:52.175122Z"
        },
        "id": "XPjIxmtKLtEA",
        "colab": {
          "base_uri": "https://localhost:8080/"
        },
        "outputId": "976dd95c-0f57-4fb6-d4a3-37525177a857"
      },
      "outputs": [
        {
          "output_type": "stream",
          "name": "stdout",
          "text": [
            "LR, CharLevel Vectors: 0.8485\n",
            "\n",
            "CPU times: user 464 ms, sys: 5 ms, total: 469 ms\n",
            "Wall time: 297 ms\n"
          ]
        }
      ],
      "source": [
        "%%time\n",
        "# Linear Classifier on Character Level TF IDF Vectors\n",
        "accuracy4 = train_model(LogisticRegression(solver = 'lbfgs', max_iter = 100), X_train_tfidf_ngram_chars, y_train, X_test_tfidf_ngram_chars)\n",
        "print('LR, CharLevel Vectors: %.4f\\n' % accuracy4)"
      ]
    },
    {
      "cell_type": "code",
      "execution_count": 44,
      "metadata": {
        "ExecuteTime": {
          "end_time": "2019-06-17T02:34:53.029844Z",
          "start_time": "2019-06-17T02:34:53.018872Z"
        },
        "id": "ZFK_LWTcLtED"
      },
      "outputs": [],
      "source": [
        "results.loc['Logistic Regression'] = {\n",
        "    'Count Vectors': accuracy1,\n",
        "    'WordLevel TF-IDF': accuracy2,\n",
        "    'N-Gram Vectors': accuracy3,\n",
        "    'CharLevel Vectors': accuracy4}"
      ]
    },
    {
      "cell_type": "markdown",
      "metadata": {
        "id": "q1wYto68LtEE"
      },
      "source": [
        "### Support Vector Machine"
      ]
    },
    {
      "cell_type": "code",
      "execution_count": 45,
      "metadata": {
        "ExecuteTime": {
          "end_time": "2019-06-17T02:34:54.237613Z",
          "start_time": "2019-06-17T02:34:53.406835Z"
        },
        "id": "yYGz8he5LtEE",
        "colab": {
          "base_uri": "https://localhost:8080/"
        },
        "outputId": "86b5177a-2255-4e8c-de30-30f5c4ce9e5b"
      },
      "outputs": [
        {
          "output_type": "stream",
          "name": "stdout",
          "text": [
            "SVM, Count Vectors    : 0.8345\n",
            "\n",
            "CPU times: user 489 ms, sys: 0 ns, total: 489 ms\n",
            "Wall time: 487 ms\n"
          ]
        }
      ],
      "source": [
        "%%time\n",
        "# Support Vector Machine on Count Vectors\n",
        "accuracy1 = train_model(LinearSVC(), X_train_count, y_train, X_test_count)\n",
        "print('SVM, Count Vectors    : %.4f\\n' % accuracy1)"
      ]
    },
    {
      "cell_type": "code",
      "execution_count": 46,
      "metadata": {
        "ExecuteTime": {
          "end_time": "2019-06-17T02:34:54.743263Z",
          "start_time": "2019-06-17T02:34:54.606629Z"
        },
        "id": "wMt26K0cLtEG",
        "colab": {
          "base_uri": "https://localhost:8080/"
        },
        "outputId": "e1044eab-8e89-4f69-d47e-46d6e0292b25"
      },
      "outputs": [
        {
          "output_type": "stream",
          "name": "stdout",
          "text": [
            "SVM, WordLevel TF-IDF : 0.8630\n",
            "\n",
            "CPU times: user 93.6 ms, sys: 2.99 ms, total: 96.5 ms\n",
            "Wall time: 96.2 ms\n"
          ]
        }
      ],
      "source": [
        "%%time\n",
        "# Support Vector Machine on Word Level TF IDF Vectors\n",
        "accuracy2 = train_model(LinearSVC(), X_train_tfidf, y_train, X_test_tfidf)\n",
        "print('SVM, WordLevel TF-IDF : %.4f\\n' % accuracy2)"
      ]
    },
    {
      "cell_type": "code",
      "execution_count": 47,
      "metadata": {
        "ExecuteTime": {
          "end_time": "2019-06-17T02:34:55.220003Z",
          "start_time": "2019-06-17T02:34:55.119256Z"
        },
        "id": "eFt6Y1VvLtEI",
        "colab": {
          "base_uri": "https://localhost:8080/"
        },
        "outputId": "c2acf7a0-cd01-4121-b3f8-dbdd58011ca3"
      },
      "outputs": [
        {
          "output_type": "stream",
          "name": "stdout",
          "text": [
            "SVM, N-Gram Vectors   : 0.8135\n",
            "\n",
            "CPU times: user 57.2 ms, sys: 1 µs, total: 57.2 ms\n",
            "Wall time: 57 ms\n"
          ]
        }
      ],
      "source": [
        "%%time\n",
        "# Support Vector Machine on Ngram Level TF IDF Vectors\n",
        "accuracy3 = train_model(LinearSVC(), X_train_tfidf_ngram, y_train, X_test_tfidf_ngram)\n",
        "print('SVM, N-Gram Vectors   : %.4f\\n' % accuracy3)"
      ]
    },
    {
      "cell_type": "code",
      "execution_count": 48,
      "metadata": {
        "ExecuteTime": {
          "end_time": "2019-06-17T02:34:56.139528Z",
          "start_time": "2019-06-17T02:34:55.585010Z"
        },
        "id": "iqhsS579LtEL",
        "colab": {
          "base_uri": "https://localhost:8080/"
        },
        "outputId": "57d01050-f9c8-4f0d-c6e7-dd3583fa0e22"
      },
      "outputs": [
        {
          "output_type": "stream",
          "name": "stdout",
          "text": [
            "SVM, CharLevel Vectors: 0.8600\n",
            "\n",
            "CPU times: user 1.01 s, sys: 28 ms, total: 1.04 s\n",
            "Wall time: 1.04 s\n"
          ]
        }
      ],
      "source": [
        "%%time\n",
        "# Support Vector Machine on Character Level TF IDF Vectors\n",
        "accuracy4 = train_model(LinearSVC(), X_train_tfidf_ngram_chars, y_train, X_test_tfidf_ngram_chars)\n",
        "print('SVM, CharLevel Vectors: %.4f\\n' % accuracy4)"
      ]
    },
    {
      "cell_type": "code",
      "execution_count": 49,
      "metadata": {
        "ExecuteTime": {
          "end_time": "2019-06-17T02:34:56.501558Z",
          "start_time": "2019-06-17T02:34:56.492592Z"
        },
        "id": "go0bcKeILtEN"
      },
      "outputs": [],
      "source": [
        "results.loc['Support Vector Machine'] = {\n",
        "    'Count Vectors': accuracy1,\n",
        "    'WordLevel TF-IDF': accuracy2,\n",
        "    'N-Gram Vectors': accuracy3,\n",
        "    'CharLevel Vectors': accuracy4}"
      ]
    },
    {
      "cell_type": "markdown",
      "metadata": {
        "id": "gLGxWK0yLtEO"
      },
      "source": [
        "### Bagging Models"
      ]
    },
    {
      "cell_type": "code",
      "execution_count": 50,
      "metadata": {
        "ExecuteTime": {
          "end_time": "2019-06-17T02:35:20.807157Z",
          "start_time": "2019-06-17T02:34:56.823697Z"
        },
        "id": "HR8aOytWLtEO",
        "colab": {
          "base_uri": "https://localhost:8080/"
        },
        "outputId": "38dc0912-4a1e-4c74-d3cd-c44644ba755e"
      },
      "outputs": [
        {
          "output_type": "stream",
          "name": "stdout",
          "text": [
            "RF, Count Vectors    : 0.8300\n",
            "\n",
            "CPU times: user 14.3 s, sys: 28.4 ms, total: 14.3 s\n",
            "Wall time: 14.4 s\n"
          ]
        }
      ],
      "source": [
        "%%time\n",
        "# Bagging (Random Forest) on Count Vectors\n",
        "accuracy1 = train_model(RandomForestClassifier(n_estimators = 100), X_train_count, y_train, X_test_count)\n",
        "print('RF, Count Vectors    : %.4f\\n' % accuracy1)"
      ]
    },
    {
      "cell_type": "code",
      "execution_count": 51,
      "metadata": {
        "ExecuteTime": {
          "end_time": "2019-06-17T02:35:30.127233Z",
          "start_time": "2019-06-17T02:35:21.198110Z"
        },
        "id": "zXcTCTEGLtET",
        "colab": {
          "base_uri": "https://localhost:8080/"
        },
        "outputId": "f0864543-0a63-40f8-c25c-9b9c47cc9c7f"
      },
      "outputs": [
        {
          "output_type": "stream",
          "name": "stdout",
          "text": [
            "RF, WordLevel TF-IDF : 0.8360\n",
            "\n",
            "CPU times: user 9.21 s, sys: 10.7 ms, total: 9.22 s\n",
            "Wall time: 9.2 s\n"
          ]
        }
      ],
      "source": [
        "%%time\n",
        "# Bagging (Random Forest) on Word Level TF IDF Vectors\n",
        "accuracy2 = train_model(RandomForestClassifier(n_estimators = 100), X_train_tfidf, y_train, X_test_tfidf)\n",
        "print('RF, WordLevel TF-IDF : %.4f\\n' % accuracy2)"
      ]
    },
    {
      "cell_type": "code",
      "execution_count": 52,
      "metadata": {
        "ExecuteTime": {
          "end_time": "2019-06-17T02:35:40.162390Z",
          "start_time": "2019-06-17T02:35:30.607944Z"
        },
        "id": "EnvT8qvSLtEW",
        "colab": {
          "base_uri": "https://localhost:8080/"
        },
        "outputId": "622eb740-17a0-4b21-c617-09e9e48c4a2d"
      },
      "outputs": [
        {
          "output_type": "stream",
          "name": "stdout",
          "text": [
            "RF, N-Gram Vectors   : 0.7825\n",
            "\n",
            "CPU times: user 9.2 s, sys: 10.6 ms, total: 9.21 s\n",
            "Wall time: 9.19 s\n"
          ]
        }
      ],
      "source": [
        "%%time\n",
        "# Bagging (Random Forest) on Ngram Level TF IDF Vectors\n",
        "accuracy3 = train_model(RandomForestClassifier(n_estimators = 100), X_train_tfidf_ngram, y_train, X_test_tfidf_ngram)\n",
        "print('RF, N-Gram Vectors   : %.4f\\n' % accuracy3)"
      ]
    },
    {
      "cell_type": "code",
      "execution_count": 53,
      "metadata": {
        "ExecuteTime": {
          "end_time": "2019-06-17T02:36:07.640904Z",
          "start_time": "2019-06-17T02:35:40.542371Z"
        },
        "id": "8jt-dTVELtEX",
        "colab": {
          "base_uri": "https://localhost:8080/"
        },
        "outputId": "885cda17-a654-45b3-8664-339579a75271"
      },
      "outputs": [
        {
          "output_type": "stream",
          "name": "stdout",
          "text": [
            "RF, CharLevel Vectors: 0.7830\n",
            "\n",
            "CPU times: user 30.8 s, sys: 68.7 ms, total: 30.8 s\n",
            "Wall time: 30.9 s\n"
          ]
        }
      ],
      "source": [
        "%%time\n",
        "# Bagging (Random Forest) on Character Level TF IDF Vectors\n",
        "accuracy4 = train_model(RandomForestClassifier(n_estimators = 100), X_train_tfidf_ngram_chars, y_train, X_test_tfidf_ngram_chars)\n",
        "print('RF, CharLevel Vectors: %.4f\\n' % accuracy4)"
      ]
    },
    {
      "cell_type": "code",
      "execution_count": 54,
      "metadata": {
        "ExecuteTime": {
          "end_time": "2019-06-17T02:36:08.104108Z",
          "start_time": "2019-06-17T02:36:08.097127Z"
        },
        "id": "fVKeCH_VLtEZ"
      },
      "outputs": [],
      "source": [
        "results.loc['Random Forest'] = {\n",
        "    'Count Vectors': accuracy1,\n",
        "    'WordLevel TF-IDF': accuracy2,\n",
        "    'N-Gram Vectors': accuracy3,\n",
        "    'CharLevel Vectors': accuracy4}"
      ]
    },
    {
      "cell_type": "markdown",
      "metadata": {
        "id": "oyVz4Q6ILtEa"
      },
      "source": [
        "### Boosting Models"
      ]
    },
    {
      "cell_type": "code",
      "execution_count": 55,
      "metadata": {
        "ExecuteTime": {
          "end_time": "2019-06-17T02:36:37.197296Z",
          "start_time": "2019-06-17T02:36:08.451184Z"
        },
        "id": "8wGvHTg-LtEb",
        "colab": {
          "base_uri": "https://localhost:8080/"
        },
        "outputId": "ab6f262a-accb-41f6-b383-557a85377f31"
      },
      "outputs": [
        {
          "output_type": "stream",
          "name": "stdout",
          "text": [
            "GB, Count Vectors    : 0.7985\n",
            "\n",
            "CPU times: user 9.41 s, sys: 12.6 ms, total: 9.42 s\n",
            "Wall time: 9.49 s\n"
          ]
        }
      ],
      "source": [
        "%%time\n",
        "# Gradient Boosting on Count Vectors\n",
        "accuracy1 = train_model(GradientBoostingClassifier(), X_train_count, y_train, X_test_count)\n",
        "print('GB, Count Vectors    : %.4f\\n' % accuracy1)"
      ]
    },
    {
      "cell_type": "code",
      "execution_count": 56,
      "metadata": {
        "ExecuteTime": {
          "end_time": "2019-06-17T02:36:52.852454Z",
          "start_time": "2019-06-17T02:36:37.714920Z"
        },
        "id": "HJNwQf57LtEd",
        "colab": {
          "base_uri": "https://localhost:8080/"
        },
        "outputId": "fda08624-9422-4927-9e6a-0d1fb58434aa"
      },
      "outputs": [
        {
          "output_type": "stream",
          "name": "stdout",
          "text": [
            "GB, WordLevel TF-IDF : 0.8015\n",
            "\n",
            "CPU times: user 21.8 s, sys: 27 ms, total: 21.8 s\n",
            "Wall time: 21.9 s\n"
          ]
        }
      ],
      "source": [
        "%%time\n",
        "# Gradient Boosting on Word Level TF IDF Vectors\n",
        "accuracy2 = train_model(GradientBoostingClassifier(), X_train_tfidf, y_train, X_test_tfidf)\n",
        "print('GB, WordLevel TF-IDF : %.4f\\n' % accuracy2)"
      ]
    },
    {
      "cell_type": "code",
      "execution_count": 57,
      "metadata": {
        "ExecuteTime": {
          "end_time": "2019-06-17T02:37:02.608379Z",
          "start_time": "2019-06-17T02:36:53.252355Z"
        },
        "id": "iyPqLMgkLtEe",
        "colab": {
          "base_uri": "https://localhost:8080/"
        },
        "outputId": "eaad9f8e-02f0-4259-ee1a-cdc6ad9abf01"
      },
      "outputs": [
        {
          "output_type": "stream",
          "name": "stdout",
          "text": [
            "GB, N-Gram Vectors   : 0.7405\n",
            "\n",
            "CPU times: user 13.3 s, sys: 12.4 ms, total: 13.3 s\n",
            "Wall time: 13.4 s\n"
          ]
        }
      ],
      "source": [
        "%%time\n",
        "# Gradient Boosting on Ngram Level TF IDF Vectors\n",
        "accuracy3 = train_model(GradientBoostingClassifier(), X_train_tfidf_ngram, y_train, X_test_tfidf_ngram)\n",
        "print('GB, N-Gram Vectors   : %.4f\\n' % accuracy3)"
      ]
    },
    {
      "cell_type": "code",
      "execution_count": 58,
      "metadata": {
        "ExecuteTime": {
          "end_time": "2019-06-17T02:39:14.314194Z",
          "start_time": "2019-06-17T02:37:03.039224Z"
        },
        "id": "1KYdyatTLtEg",
        "colab": {
          "base_uri": "https://localhost:8080/"
        },
        "outputId": "7e05e2a8-5da0-4713-c949-67a0bd69b788"
      },
      "outputs": [
        {
          "output_type": "stream",
          "name": "stdout",
          "text": [
            "GB, CharLevel Vectors: 0.8030\n",
            "\n",
            "CPU times: user 3min 12s, sys: 184 ms, total: 3min 12s\n",
            "Wall time: 3min 13s\n"
          ]
        }
      ],
      "source": [
        "%%time\n",
        "# Gradient Boosting on Character Level TF IDF Vectors\n",
        "accuracy4 = train_model(GradientBoostingClassifier(), X_train_tfidf_ngram_chars, y_train, X_test_tfidf_ngram_chars)\n",
        "print('GB, CharLevel Vectors: %.4f\\n' % accuracy4)"
      ]
    },
    {
      "cell_type": "code",
      "execution_count": 59,
      "metadata": {
        "ExecuteTime": {
          "end_time": "2019-06-17T02:39:14.683222Z",
          "start_time": "2019-06-17T02:39:14.675213Z"
        },
        "id": "AC0hWO59LtEj",
        "scrolled": true
      },
      "outputs": [],
      "source": [
        "results.loc['Gradient Boosting'] = {\n",
        "    'Count Vectors': accuracy1,\n",
        "    'WordLevel TF-IDF': accuracy2,\n",
        "    'N-Gram Vectors': accuracy3,\n",
        "    'CharLevel Vectors': accuracy4}"
      ]
    },
    {
      "cell_type": "code",
      "execution_count": 60,
      "metadata": {
        "ExecuteTime": {
          "end_time": "2019-06-17T02:39:15.024279Z",
          "start_time": "2019-06-17T02:39:15.010319Z"
        },
        "id": "b9fY4J7XLtEk",
        "colab": {
          "base_uri": "https://localhost:8080/",
          "height": 246
        },
        "outputId": "10c5c9ea-8ff7-4c4c-a348-b263ea5b979f"
      },
      "outputs": [
        {
          "output_type": "execute_result",
          "data": {
            "text/plain": [
              "                        Count Vectors  WordLevel TF-IDF  N-Gram Vectors  \\\n",
              "Naïve Bayes                    0.8520            0.8560          0.8375   \n",
              "Logistic Regression            0.8515            0.8710          0.8305   \n",
              "Support Vector Machine         0.8345            0.8630          0.8135   \n",
              "Random Forest                  0.8300            0.8360          0.7825   \n",
              "Gradient Boosting              0.7985            0.8015          0.7405   \n",
              "\n",
              "                        CharLevel Vectors  \n",
              "Naïve Bayes                        0.8195  \n",
              "Logistic Regression                0.8485  \n",
              "Support Vector Machine             0.8600  \n",
              "Random Forest                      0.7830  \n",
              "Gradient Boosting                  0.8030  "
            ],
            "text/html": [
              "\n",
              "  <div id=\"df-8586f80d-5311-4cb5-a4c3-1356d033fe53\" class=\"colab-df-container\">\n",
              "    <div>\n",
              "<style scoped>\n",
              "    .dataframe tbody tr th:only-of-type {\n",
              "        vertical-align: middle;\n",
              "    }\n",
              "\n",
              "    .dataframe tbody tr th {\n",
              "        vertical-align: top;\n",
              "    }\n",
              "\n",
              "    .dataframe thead th {\n",
              "        text-align: right;\n",
              "    }\n",
              "</style>\n",
              "<table border=\"1\" class=\"dataframe\">\n",
              "  <thead>\n",
              "    <tr style=\"text-align: right;\">\n",
              "      <th></th>\n",
              "      <th>Count Vectors</th>\n",
              "      <th>WordLevel TF-IDF</th>\n",
              "      <th>N-Gram Vectors</th>\n",
              "      <th>CharLevel Vectors</th>\n",
              "    </tr>\n",
              "  </thead>\n",
              "  <tbody>\n",
              "    <tr>\n",
              "      <th>Naïve Bayes</th>\n",
              "      <td>0.8520</td>\n",
              "      <td>0.8560</td>\n",
              "      <td>0.8375</td>\n",
              "      <td>0.8195</td>\n",
              "    </tr>\n",
              "    <tr>\n",
              "      <th>Logistic Regression</th>\n",
              "      <td>0.8515</td>\n",
              "      <td>0.8710</td>\n",
              "      <td>0.8305</td>\n",
              "      <td>0.8485</td>\n",
              "    </tr>\n",
              "    <tr>\n",
              "      <th>Support Vector Machine</th>\n",
              "      <td>0.8345</td>\n",
              "      <td>0.8630</td>\n",
              "      <td>0.8135</td>\n",
              "      <td>0.8600</td>\n",
              "    </tr>\n",
              "    <tr>\n",
              "      <th>Random Forest</th>\n",
              "      <td>0.8300</td>\n",
              "      <td>0.8360</td>\n",
              "      <td>0.7825</td>\n",
              "      <td>0.7830</td>\n",
              "    </tr>\n",
              "    <tr>\n",
              "      <th>Gradient Boosting</th>\n",
              "      <td>0.7985</td>\n",
              "      <td>0.8015</td>\n",
              "      <td>0.7405</td>\n",
              "      <td>0.8030</td>\n",
              "    </tr>\n",
              "  </tbody>\n",
              "</table>\n",
              "</div>\n",
              "    <div class=\"colab-df-buttons\">\n",
              "\n",
              "  <div class=\"colab-df-container\">\n",
              "    <button class=\"colab-df-convert\" onclick=\"convertToInteractive('df-8586f80d-5311-4cb5-a4c3-1356d033fe53')\"\n",
              "            title=\"Convert this dataframe to an interactive table.\"\n",
              "            style=\"display:none;\">\n",
              "\n",
              "  <svg xmlns=\"http://www.w3.org/2000/svg\" height=\"24px\" viewBox=\"0 -960 960 960\">\n",
              "    <path d=\"M120-120v-720h720v720H120Zm60-500h600v-160H180v160Zm220 220h160v-160H400v160Zm0 220h160v-160H400v160ZM180-400h160v-160H180v160Zm440 0h160v-160H620v160ZM180-180h160v-160H180v160Zm440 0h160v-160H620v160Z\"/>\n",
              "  </svg>\n",
              "    </button>\n",
              "\n",
              "  <style>\n",
              "    .colab-df-container {\n",
              "      display:flex;\n",
              "      gap: 12px;\n",
              "    }\n",
              "\n",
              "    .colab-df-convert {\n",
              "      background-color: #E8F0FE;\n",
              "      border: none;\n",
              "      border-radius: 50%;\n",
              "      cursor: pointer;\n",
              "      display: none;\n",
              "      fill: #1967D2;\n",
              "      height: 32px;\n",
              "      padding: 0 0 0 0;\n",
              "      width: 32px;\n",
              "    }\n",
              "\n",
              "    .colab-df-convert:hover {\n",
              "      background-color: #E2EBFA;\n",
              "      box-shadow: 0px 1px 2px rgba(60, 64, 67, 0.3), 0px 1px 3px 1px rgba(60, 64, 67, 0.15);\n",
              "      fill: #174EA6;\n",
              "    }\n",
              "\n",
              "    .colab-df-buttons div {\n",
              "      margin-bottom: 4px;\n",
              "    }\n",
              "\n",
              "    [theme=dark] .colab-df-convert {\n",
              "      background-color: #3B4455;\n",
              "      fill: #D2E3FC;\n",
              "    }\n",
              "\n",
              "    [theme=dark] .colab-df-convert:hover {\n",
              "      background-color: #434B5C;\n",
              "      box-shadow: 0px 1px 3px 1px rgba(0, 0, 0, 0.15);\n",
              "      filter: drop-shadow(0px 1px 2px rgba(0, 0, 0, 0.3));\n",
              "      fill: #FFFFFF;\n",
              "    }\n",
              "  </style>\n",
              "\n",
              "    <script>\n",
              "      const buttonEl =\n",
              "        document.querySelector('#df-8586f80d-5311-4cb5-a4c3-1356d033fe53 button.colab-df-convert');\n",
              "      buttonEl.style.display =\n",
              "        google.colab.kernel.accessAllowed ? 'block' : 'none';\n",
              "\n",
              "      async function convertToInteractive(key) {\n",
              "        const element = document.querySelector('#df-8586f80d-5311-4cb5-a4c3-1356d033fe53');\n",
              "        const dataTable =\n",
              "          await google.colab.kernel.invokeFunction('convertToInteractive',\n",
              "                                                    [key], {});\n",
              "        if (!dataTable) return;\n",
              "\n",
              "        const docLinkHtml = 'Like what you see? Visit the ' +\n",
              "          '<a target=\"_blank\" href=https://colab.research.google.com/notebooks/data_table.ipynb>data table notebook</a>'\n",
              "          + ' to learn more about interactive tables.';\n",
              "        element.innerHTML = '';\n",
              "        dataTable['output_type'] = 'display_data';\n",
              "        await google.colab.output.renderOutput(dataTable, element);\n",
              "        const docLink = document.createElement('div');\n",
              "        docLink.innerHTML = docLinkHtml;\n",
              "        element.appendChild(docLink);\n",
              "      }\n",
              "    </script>\n",
              "  </div>\n",
              "\n",
              "\n",
              "    <div id=\"df-42e4f568-822f-4533-8622-c8ce6a0e3839\">\n",
              "      <button class=\"colab-df-quickchart\" onclick=\"quickchart('df-42e4f568-822f-4533-8622-c8ce6a0e3839')\"\n",
              "                title=\"Suggest charts\"\n",
              "                style=\"display:none;\">\n",
              "\n",
              "<svg xmlns=\"http://www.w3.org/2000/svg\" height=\"24px\"viewBox=\"0 0 24 24\"\n",
              "     width=\"24px\">\n",
              "    <g>\n",
              "        <path d=\"M19 3H5c-1.1 0-2 .9-2 2v14c0 1.1.9 2 2 2h14c1.1 0 2-.9 2-2V5c0-1.1-.9-2-2-2zM9 17H7v-7h2v7zm4 0h-2V7h2v10zm4 0h-2v-4h2v4z\"/>\n",
              "    </g>\n",
              "</svg>\n",
              "      </button>\n",
              "\n",
              "<style>\n",
              "  .colab-df-quickchart {\n",
              "      --bg-color: #E8F0FE;\n",
              "      --fill-color: #1967D2;\n",
              "      --hover-bg-color: #E2EBFA;\n",
              "      --hover-fill-color: #174EA6;\n",
              "      --disabled-fill-color: #AAA;\n",
              "      --disabled-bg-color: #DDD;\n",
              "  }\n",
              "\n",
              "  [theme=dark] .colab-df-quickchart {\n",
              "      --bg-color: #3B4455;\n",
              "      --fill-color: #D2E3FC;\n",
              "      --hover-bg-color: #434B5C;\n",
              "      --hover-fill-color: #FFFFFF;\n",
              "      --disabled-bg-color: #3B4455;\n",
              "      --disabled-fill-color: #666;\n",
              "  }\n",
              "\n",
              "  .colab-df-quickchart {\n",
              "    background-color: var(--bg-color);\n",
              "    border: none;\n",
              "    border-radius: 50%;\n",
              "    cursor: pointer;\n",
              "    display: none;\n",
              "    fill: var(--fill-color);\n",
              "    height: 32px;\n",
              "    padding: 0;\n",
              "    width: 32px;\n",
              "  }\n",
              "\n",
              "  .colab-df-quickchart:hover {\n",
              "    background-color: var(--hover-bg-color);\n",
              "    box-shadow: 0 1px 2px rgba(60, 64, 67, 0.3), 0 1px 3px 1px rgba(60, 64, 67, 0.15);\n",
              "    fill: var(--button-hover-fill-color);\n",
              "  }\n",
              "\n",
              "  .colab-df-quickchart-complete:disabled,\n",
              "  .colab-df-quickchart-complete:disabled:hover {\n",
              "    background-color: var(--disabled-bg-color);\n",
              "    fill: var(--disabled-fill-color);\n",
              "    box-shadow: none;\n",
              "  }\n",
              "\n",
              "  .colab-df-spinner {\n",
              "    border: 2px solid var(--fill-color);\n",
              "    border-color: transparent;\n",
              "    border-bottom-color: var(--fill-color);\n",
              "    animation:\n",
              "      spin 1s steps(1) infinite;\n",
              "  }\n",
              "\n",
              "  @keyframes spin {\n",
              "    0% {\n",
              "      border-color: transparent;\n",
              "      border-bottom-color: var(--fill-color);\n",
              "      border-left-color: var(--fill-color);\n",
              "    }\n",
              "    20% {\n",
              "      border-color: transparent;\n",
              "      border-left-color: var(--fill-color);\n",
              "      border-top-color: var(--fill-color);\n",
              "    }\n",
              "    30% {\n",
              "      border-color: transparent;\n",
              "      border-left-color: var(--fill-color);\n",
              "      border-top-color: var(--fill-color);\n",
              "      border-right-color: var(--fill-color);\n",
              "    }\n",
              "    40% {\n",
              "      border-color: transparent;\n",
              "      border-right-color: var(--fill-color);\n",
              "      border-top-color: var(--fill-color);\n",
              "    }\n",
              "    60% {\n",
              "      border-color: transparent;\n",
              "      border-right-color: var(--fill-color);\n",
              "    }\n",
              "    80% {\n",
              "      border-color: transparent;\n",
              "      border-right-color: var(--fill-color);\n",
              "      border-bottom-color: var(--fill-color);\n",
              "    }\n",
              "    90% {\n",
              "      border-color: transparent;\n",
              "      border-bottom-color: var(--fill-color);\n",
              "    }\n",
              "  }\n",
              "</style>\n",
              "\n",
              "      <script>\n",
              "        async function quickchart(key) {\n",
              "          const quickchartButtonEl =\n",
              "            document.querySelector('#' + key + ' button');\n",
              "          quickchartButtonEl.disabled = true;  // To prevent multiple clicks.\n",
              "          quickchartButtonEl.classList.add('colab-df-spinner');\n",
              "          try {\n",
              "            const charts = await google.colab.kernel.invokeFunction(\n",
              "                'suggestCharts', [key], {});\n",
              "          } catch (error) {\n",
              "            console.error('Error during call to suggestCharts:', error);\n",
              "          }\n",
              "          quickchartButtonEl.classList.remove('colab-df-spinner');\n",
              "          quickchartButtonEl.classList.add('colab-df-quickchart-complete');\n",
              "        }\n",
              "        (() => {\n",
              "          let quickchartButtonEl =\n",
              "            document.querySelector('#df-42e4f568-822f-4533-8622-c8ce6a0e3839 button');\n",
              "          quickchartButtonEl.style.display =\n",
              "            google.colab.kernel.accessAllowed ? 'block' : 'none';\n",
              "        })();\n",
              "      </script>\n",
              "    </div>\n",
              "\n",
              "  <div id=\"id_81fda272-08c8-4e72-a6ac-13f2433eca75\">\n",
              "    <style>\n",
              "      .colab-df-generate {\n",
              "        background-color: #E8F0FE;\n",
              "        border: none;\n",
              "        border-radius: 50%;\n",
              "        cursor: pointer;\n",
              "        display: none;\n",
              "        fill: #1967D2;\n",
              "        height: 32px;\n",
              "        padding: 0 0 0 0;\n",
              "        width: 32px;\n",
              "      }\n",
              "\n",
              "      .colab-df-generate:hover {\n",
              "        background-color: #E2EBFA;\n",
              "        box-shadow: 0px 1px 2px rgba(60, 64, 67, 0.3), 0px 1px 3px 1px rgba(60, 64, 67, 0.15);\n",
              "        fill: #174EA6;\n",
              "      }\n",
              "\n",
              "      [theme=dark] .colab-df-generate {\n",
              "        background-color: #3B4455;\n",
              "        fill: #D2E3FC;\n",
              "      }\n",
              "\n",
              "      [theme=dark] .colab-df-generate:hover {\n",
              "        background-color: #434B5C;\n",
              "        box-shadow: 0px 1px 3px 1px rgba(0, 0, 0, 0.15);\n",
              "        filter: drop-shadow(0px 1px 2px rgba(0, 0, 0, 0.3));\n",
              "        fill: #FFFFFF;\n",
              "      }\n",
              "    </style>\n",
              "    <button class=\"colab-df-generate\" onclick=\"generateWithVariable('results')\"\n",
              "            title=\"Generate code using this dataframe.\"\n",
              "            style=\"display:none;\">\n",
              "\n",
              "  <svg xmlns=\"http://www.w3.org/2000/svg\" height=\"24px\"viewBox=\"0 0 24 24\"\n",
              "       width=\"24px\">\n",
              "    <path d=\"M7,19H8.4L18.45,9,17,7.55,7,17.6ZM5,21V16.75L18.45,3.32a2,2,0,0,1,2.83,0l1.4,1.43a1.91,1.91,0,0,1,.58,1.4,1.91,1.91,0,0,1-.58,1.4L9.25,21ZM18.45,9,17,7.55Zm-12,3A5.31,5.31,0,0,0,4.9,8.1,5.31,5.31,0,0,0,1,6.5,5.31,5.31,0,0,0,4.9,4.9,5.31,5.31,0,0,0,6.5,1,5.31,5.31,0,0,0,8.1,4.9,5.31,5.31,0,0,0,12,6.5,5.46,5.46,0,0,0,6.5,12Z\"/>\n",
              "  </svg>\n",
              "    </button>\n",
              "    <script>\n",
              "      (() => {\n",
              "      const buttonEl =\n",
              "        document.querySelector('#id_81fda272-08c8-4e72-a6ac-13f2433eca75 button.colab-df-generate');\n",
              "      buttonEl.style.display =\n",
              "        google.colab.kernel.accessAllowed ? 'block' : 'none';\n",
              "\n",
              "      buttonEl.onclick = () => {\n",
              "        google.colab.notebook.generateWithVariable('results');\n",
              "      }\n",
              "      })();\n",
              "    </script>\n",
              "  </div>\n",
              "\n",
              "    </div>\n",
              "  </div>\n"
            ],
            "application/vnd.google.colaboratory.intrinsic+json": {
              "type": "dataframe",
              "variable_name": "results",
              "summary": "{\n  \"name\": \"results\",\n  \"rows\": 5,\n  \"fields\": [\n    {\n      \"column\": \"Count Vectors\",\n      \"properties\": {\n        \"dtype\": \"number\",\n        \"std\": 0.021819142971253487,\n        \"min\": 0.7985,\n        \"max\": 0.852,\n        \"num_unique_values\": 5,\n        \"samples\": [\n          0.8515,\n          0.7985,\n          0.8345\n        ],\n        \"semantic_type\": \"\",\n        \"description\": \"\"\n      }\n    },\n    {\n      \"column\": \"WordLevel TF-IDF\",\n      \"properties\": {\n        \"dtype\": \"number\",\n        \"std\": 0.027807373122968666,\n        \"min\": 0.8015,\n        \"max\": 0.871,\n        \"num_unique_values\": 5,\n        \"samples\": [\n          0.871,\n          0.8015,\n          0.863\n        ],\n        \"semantic_type\": \"\",\n        \"description\": \"\"\n      }\n    },\n    {\n      \"column\": \"N-Gram Vectors\",\n      \"properties\": {\n        \"dtype\": \"number\",\n        \"std\": 0.03987856567129765,\n        \"min\": 0.7405,\n        \"max\": 0.8375,\n        \"num_unique_values\": 5,\n        \"samples\": [\n          0.8305,\n          0.7405,\n          0.8135\n        ],\n        \"semantic_type\": \"\",\n        \"description\": \"\"\n      }\n    },\n    {\n      \"column\": \"CharLevel Vectors\",\n      \"properties\": {\n        \"dtype\": \"number\",\n        \"std\": 0.031746259622198,\n        \"min\": 0.783,\n        \"max\": 0.86,\n        \"num_unique_values\": 5,\n        \"samples\": [\n          0.8485,\n          0.803,\n          0.86\n        ],\n        \"semantic_type\": \"\",\n        \"description\": \"\"\n      }\n    }\n  ]\n}"
            }
          },
          "metadata": {},
          "execution_count": 60
        }
      ],
      "source": [
        "results"
      ]
    },
    {
      "cell_type": "markdown",
      "metadata": {
        "id": "ZGs7S0Ge3psJ"
      },
      "source": [
        "Which combination of features and model performed the best?"
      ]
    },
    {
      "cell_type": "code",
      "source": [
        "#Answer: WordLevel TF-IDF and Logistic Regression performed the best"
      ],
      "metadata": {
        "id": "ULOaoVqaW5dz"
      },
      "execution_count": 61,
      "outputs": []
    },
    {
      "cell_type": "markdown",
      "metadata": {
        "id": "RERADKgNFq9T"
      },
      "source": [
        "\n",
        "\n",
        "---\n",
        "\n",
        "\n",
        "\n",
        "---\n",
        "\n",
        "\n",
        "\n",
        "> > > > > > > > > © 2025 Institute of Data\n",
        "\n",
        "\n",
        "---\n",
        "\n",
        "\n",
        "\n",
        "---\n",
        "\n",
        "\n",
        "\n"
      ]
    }
  ],
  "metadata": {
    "colab": {
      "collapsed_sections": [
        "mQCAUFWYLtDb",
        "OXwLriDpLtDq",
        "-2oNfajULtD4",
        "q1wYto68LtEE",
        "gLGxWK0yLtEO"
      ],
      "provenance": []
    },
    "kernelspec": {
      "display_name": "Python 3 (ipykernel)",
      "language": "python",
      "name": "python3"
    },
    "language_info": {
      "codemirror_mode": {
        "name": "ipython",
        "version": 3
      },
      "file_extension": ".py",
      "mimetype": "text/x-python",
      "name": "python",
      "nbconvert_exporter": "python",
      "pygments_lexer": "ipython3",
      "version": "3.11.7"
    },
    "varInspector": {
      "cols": {
        "lenName": 16,
        "lenType": 16,
        "lenVar": 40
      },
      "kernels_config": {
        "python": {
          "delete_cmd_postfix": "",
          "delete_cmd_prefix": "del ",
          "library": "var_list.py",
          "varRefreshCmd": "print(var_dic_list())"
        },
        "r": {
          "delete_cmd_postfix": ") ",
          "delete_cmd_prefix": "rm(",
          "library": "var_list.r",
          "varRefreshCmd": "cat(var_dic_list()) "
        }
      },
      "types_to_exclude": [
        "module",
        "function",
        "builtin_function_or_method",
        "instance",
        "_Feature"
      ],
      "window_display": false
    }
  },
  "nbformat": 4,
  "nbformat_minor": 0
}