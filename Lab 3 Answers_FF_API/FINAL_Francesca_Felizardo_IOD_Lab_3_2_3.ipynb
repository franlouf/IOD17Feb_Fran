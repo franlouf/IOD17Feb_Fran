{
  "cells": [
    {
      "cell_type": "markdown",
      "metadata": {
        "id": "2H4rNmz9QMoq"
      },
      "source": [
        "<div>\n",
        "<img src=https://www.institutedata.com/wp-content/uploads/2019/10/iod_h_tp_primary_c.svg width=\"300\">\n",
        "</div>"
      ]
    },
    {
      "cell_type": "markdown",
      "metadata": {
        "id": "-z0xtWELQMot"
      },
      "source": [
        "# Lab 3.2.3\n",
        "# *Google BigQuery and Gemini API*"
      ]
    },
    {
      "cell_type": "markdown",
      "metadata": {
        "id": "Fyl3eBVAQMox"
      },
      "source": [
        "## Introduction"
      ]
    },
    {
      "cell_type": "markdown",
      "metadata": {
        "id": "xDR6T_maQMo0"
      },
      "source": [
        "The Google BigQuery UI provides access to Google's extensive collection of public data sets via an SQL-based query engine.\n",
        "\n",
        "The BigQuery API provides programmatic access to the data sets.\n",
        "\n",
        "The Google Gemini API provides programmatic access to Google's Generative AI models.\n",
        "\n",
        "Each of these is explored in this lab."
      ]
    },
    {
      "cell_type": "markdown",
      "metadata": {
        "id": "g2EqZVSGQMo3"
      },
      "source": [
        "## BigQuery Web UI\n",
        "\n",
        "The Google BigQuery UI can be used to discover interesting data before writing Python code to access it. Then we can reproduce it in an API request so as to aggregate large amounts of data on Google's infrastructure before pulling the results into our application.\n",
        "\n",
        "Work through the Quickstart at https://cloud.google.com/bigquery/docs/quickstarts/quickstart-web-ui.\n",
        "\n",
        "You will need to set up a Google Cloud Platform account if you don't already have one. (This should not cost anything during the trial period unless you perform a large amount of querying. Afterwards, costs are based on actual resource usage, but most offerings have a free tier.)"
      ]
    },
    {
      "cell_type": "markdown",
      "metadata": {
        "id": "JM7ACBFEQMo6"
      },
      "source": [
        "## BigQuery API\n",
        "\n",
        "- Open Google Cloud Console (https://console.cloud.google.com/home/) and select to create a project. A project is required to enable access to Google Cloud services such as BigQuery and Gemini.\n",
        "\n",
        "- Check that the BigQuery API is enabled in your project by visiting https://console.cloud.google.com/apis/library/bigquery.googleapis.com."
      ]
    },
    {
      "cell_type": "markdown",
      "metadata": {
        "id": "peKoqVLaQMpA"
      },
      "source": [
        "### Authentication\n",
        "\n",
        "Create a **service account** at https://console.cloud.google.com/iam-admin/serviceaccounts/create. A service account is used by an application to access Google Cloud Platform's services and has an associated email address (different from your own).\n"
      ]
    },
    {
      "cell_type": "markdown",
      "metadata": {
        "id": "RprZFRn6QMpB"
      },
      "source": [
        "- Give the account an appropriate name, and under step 2 (Grant this service account access to project (optional)), choose \"Owner\" under the \"Select a Role\" dropdown.\n",
        "\n",
        "- Ignore step 3 and click \"Done\"."
      ]
    },
    {
      "cell_type": "markdown",
      "metadata": {
        "id": "Vs9LutadQMpD"
      },
      "source": [
        "Go to https://console.cloud.google.com/iam-admin/serviceaccounts to create a **service account key**. This will be downloaded to your computer so that you can connect to the BigQuery API via this Jupyter notebook.\n",
        "\n",
        "- Select your recently created project.\n",
        "- Click the email address of the service account.\n",
        "- Click the Keys tab.\n",
        "- Click the Add key drop-down menu, then select Create new key.\n",
        "- Select JSON as the Key type and click Create.\n",
        "- The keys will get saved to your computer.\n",
        "\n",
        "Note the location and copy the file path (of the json file) to somewhere safe, for future reference."
      ]
    },
    {
      "cell_type": "markdown",
      "metadata": {
        "id": "F4c4B7yHQMpH"
      },
      "source": [
        "See here for more information:\n",
        "\n",
        "Service Account creation: https://cloud.google.com/iam/docs/service-accounts-create#creating (under Console)\n",
        "\n",
        "Service Account key creation: https://cloud.google.com/iam/docs/keys-create-delete#iam-service-account-keys-create-console (under Console)\n"
      ]
    },
    {
      "cell_type": "markdown",
      "metadata": {
        "id": "LycUcpuhQMpK"
      },
      "source": [
        "### Using the Python API\n",
        "\n",
        "Google provides Python libraries for wrapping the Google APIs.\n",
        "\n",
        "Installing the \"google-cloud-bigquery\", \"google-cloud-storage\", and \"google-cloud-bigquery-storage\" libraries should cover all the dependencies for the BigQuery section of this lab."
      ]
    },
    {
      "cell_type": "code",
      "execution_count": 1,
      "metadata": {
        "colab": {
          "base_uri": "https://localhost:8080/"
        },
        "id": "Jbt_Jj3N9-3E",
        "outputId": "9dbfc7fa-4141-4d1f-f67d-26c66819201a"
      },
      "outputs": [
        {
          "output_type": "stream",
          "name": "stdout",
          "text": [
            "Requirement already satisfied: google-cloud-storage in /usr/local/lib/python3.11/dist-packages (2.19.0)\n",
            "Requirement already satisfied: google-auth<3.0dev,>=2.26.1 in /usr/local/lib/python3.11/dist-packages (from google-cloud-storage) (2.38.0)\n",
            "Requirement already satisfied: google-api-core<3.0.0dev,>=2.15.0 in /usr/local/lib/python3.11/dist-packages (from google-cloud-storage) (2.25.1)\n",
            "Requirement already satisfied: google-cloud-core<3.0dev,>=2.3.0 in /usr/local/lib/python3.11/dist-packages (from google-cloud-storage) (2.4.3)\n",
            "Requirement already satisfied: google-resumable-media>=2.7.2 in /usr/local/lib/python3.11/dist-packages (from google-cloud-storage) (2.7.2)\n",
            "Requirement already satisfied: requests<3.0.0dev,>=2.18.0 in /usr/local/lib/python3.11/dist-packages (from google-cloud-storage) (2.32.3)\n",
            "Requirement already satisfied: google-crc32c<2.0dev,>=1.0 in /usr/local/lib/python3.11/dist-packages (from google-cloud-storage) (1.7.1)\n",
            "Requirement already satisfied: googleapis-common-protos<2.0.0,>=1.56.2 in /usr/local/lib/python3.11/dist-packages (from google-api-core<3.0.0dev,>=2.15.0->google-cloud-storage) (1.70.0)\n",
            "Requirement already satisfied: protobuf!=3.20.0,!=3.20.1,!=4.21.0,!=4.21.1,!=4.21.2,!=4.21.3,!=4.21.4,!=4.21.5,<7.0.0,>=3.19.5 in /usr/local/lib/python3.11/dist-packages (from google-api-core<3.0.0dev,>=2.15.0->google-cloud-storage) (5.29.5)\n",
            "Requirement already satisfied: proto-plus<2.0.0,>=1.22.3 in /usr/local/lib/python3.11/dist-packages (from google-api-core<3.0.0dev,>=2.15.0->google-cloud-storage) (1.26.1)\n",
            "Requirement already satisfied: cachetools<6.0,>=2.0.0 in /usr/local/lib/python3.11/dist-packages (from google-auth<3.0dev,>=2.26.1->google-cloud-storage) (5.5.2)\n",
            "Requirement already satisfied: pyasn1-modules>=0.2.1 in /usr/local/lib/python3.11/dist-packages (from google-auth<3.0dev,>=2.26.1->google-cloud-storage) (0.4.2)\n",
            "Requirement already satisfied: rsa<5,>=3.1.4 in /usr/local/lib/python3.11/dist-packages (from google-auth<3.0dev,>=2.26.1->google-cloud-storage) (4.9.1)\n",
            "Requirement already satisfied: charset-normalizer<4,>=2 in /usr/local/lib/python3.11/dist-packages (from requests<3.0.0dev,>=2.18.0->google-cloud-storage) (3.4.2)\n",
            "Requirement already satisfied: idna<4,>=2.5 in /usr/local/lib/python3.11/dist-packages (from requests<3.0.0dev,>=2.18.0->google-cloud-storage) (3.10)\n",
            "Requirement already satisfied: urllib3<3,>=1.21.1 in /usr/local/lib/python3.11/dist-packages (from requests<3.0.0dev,>=2.18.0->google-cloud-storage) (2.4.0)\n",
            "Requirement already satisfied: certifi>=2017.4.17 in /usr/local/lib/python3.11/dist-packages (from requests<3.0.0dev,>=2.18.0->google-cloud-storage) (2025.7.14)\n",
            "Requirement already satisfied: pyasn1<0.7.0,>=0.6.1 in /usr/local/lib/python3.11/dist-packages (from pyasn1-modules>=0.2.1->google-auth<3.0dev,>=2.26.1->google-cloud-storage) (0.6.1)\n"
          ]
        }
      ],
      "source": [
        "!pip install google-cloud-storage"
      ]
    },
    {
      "cell_type": "code",
      "execution_count": 2,
      "metadata": {
        "colab": {
          "base_uri": "https://localhost:8080/"
        },
        "id": "8tO6_nRZ9-3F",
        "outputId": "8d5c3294-10c7-4416-aa3c-17d24391f824"
      },
      "outputs": [
        {
          "output_type": "stream",
          "name": "stdout",
          "text": [
            "Requirement already satisfied: google-cloud-bigquery in /usr/local/lib/python3.11/dist-packages (3.34.0)\n",
            "Requirement already satisfied: google-api-core<3.0.0,>=2.11.1 in /usr/local/lib/python3.11/dist-packages (from google-api-core[grpc]<3.0.0,>=2.11.1->google-cloud-bigquery) (2.25.1)\n",
            "Requirement already satisfied: google-auth<3.0.0,>=2.14.1 in /usr/local/lib/python3.11/dist-packages (from google-cloud-bigquery) (2.38.0)\n",
            "Requirement already satisfied: google-cloud-core<3.0.0,>=2.4.1 in /usr/local/lib/python3.11/dist-packages (from google-cloud-bigquery) (2.4.3)\n",
            "Requirement already satisfied: google-resumable-media<3.0.0,>=2.0.0 in /usr/local/lib/python3.11/dist-packages (from google-cloud-bigquery) (2.7.2)\n",
            "Requirement already satisfied: packaging>=24.2.0 in /usr/local/lib/python3.11/dist-packages (from google-cloud-bigquery) (25.0)\n",
            "Requirement already satisfied: python-dateutil<3.0.0,>=2.8.2 in /usr/local/lib/python3.11/dist-packages (from google-cloud-bigquery) (2.9.0.post0)\n",
            "Requirement already satisfied: requests<3.0.0,>=2.21.0 in /usr/local/lib/python3.11/dist-packages (from google-cloud-bigquery) (2.32.3)\n",
            "Requirement already satisfied: googleapis-common-protos<2.0.0,>=1.56.2 in /usr/local/lib/python3.11/dist-packages (from google-api-core<3.0.0,>=2.11.1->google-api-core[grpc]<3.0.0,>=2.11.1->google-cloud-bigquery) (1.70.0)\n",
            "Requirement already satisfied: protobuf!=3.20.0,!=3.20.1,!=4.21.0,!=4.21.1,!=4.21.2,!=4.21.3,!=4.21.4,!=4.21.5,<7.0.0,>=3.19.5 in /usr/local/lib/python3.11/dist-packages (from google-api-core<3.0.0,>=2.11.1->google-api-core[grpc]<3.0.0,>=2.11.1->google-cloud-bigquery) (5.29.5)\n",
            "Requirement already satisfied: proto-plus<2.0.0,>=1.22.3 in /usr/local/lib/python3.11/dist-packages (from google-api-core<3.0.0,>=2.11.1->google-api-core[grpc]<3.0.0,>=2.11.1->google-cloud-bigquery) (1.26.1)\n",
            "Requirement already satisfied: grpcio<2.0.0,>=1.33.2 in /usr/local/lib/python3.11/dist-packages (from google-api-core[grpc]<3.0.0,>=2.11.1->google-cloud-bigquery) (1.73.1)\n",
            "Requirement already satisfied: grpcio-status<2.0.0,>=1.33.2 in /usr/local/lib/python3.11/dist-packages (from google-api-core[grpc]<3.0.0,>=2.11.1->google-cloud-bigquery) (1.71.2)\n",
            "Requirement already satisfied: cachetools<6.0,>=2.0.0 in /usr/local/lib/python3.11/dist-packages (from google-auth<3.0.0,>=2.14.1->google-cloud-bigquery) (5.5.2)\n",
            "Requirement already satisfied: pyasn1-modules>=0.2.1 in /usr/local/lib/python3.11/dist-packages (from google-auth<3.0.0,>=2.14.1->google-cloud-bigquery) (0.4.2)\n",
            "Requirement already satisfied: rsa<5,>=3.1.4 in /usr/local/lib/python3.11/dist-packages (from google-auth<3.0.0,>=2.14.1->google-cloud-bigquery) (4.9.1)\n",
            "Requirement already satisfied: google-crc32c<2.0dev,>=1.0 in /usr/local/lib/python3.11/dist-packages (from google-resumable-media<3.0.0,>=2.0.0->google-cloud-bigquery) (1.7.1)\n",
            "Requirement already satisfied: six>=1.5 in /usr/local/lib/python3.11/dist-packages (from python-dateutil<3.0.0,>=2.8.2->google-cloud-bigquery) (1.17.0)\n",
            "Requirement already satisfied: charset-normalizer<4,>=2 in /usr/local/lib/python3.11/dist-packages (from requests<3.0.0,>=2.21.0->google-cloud-bigquery) (3.4.2)\n",
            "Requirement already satisfied: idna<4,>=2.5 in /usr/local/lib/python3.11/dist-packages (from requests<3.0.0,>=2.21.0->google-cloud-bigquery) (3.10)\n",
            "Requirement already satisfied: urllib3<3,>=1.21.1 in /usr/local/lib/python3.11/dist-packages (from requests<3.0.0,>=2.21.0->google-cloud-bigquery) (2.4.0)\n",
            "Requirement already satisfied: certifi>=2017.4.17 in /usr/local/lib/python3.11/dist-packages (from requests<3.0.0,>=2.21.0->google-cloud-bigquery) (2025.7.14)\n",
            "Requirement already satisfied: pyasn1<0.7.0,>=0.6.1 in /usr/local/lib/python3.11/dist-packages (from pyasn1-modules>=0.2.1->google-auth<3.0.0,>=2.14.1->google-cloud-bigquery) (0.6.1)\n"
          ]
        }
      ],
      "source": [
        "!pip install google-cloud-bigquery"
      ]
    },
    {
      "cell_type": "code",
      "execution_count": 3,
      "metadata": {
        "id": "OrjH1yqXxpwe",
        "colab": {
          "base_uri": "https://localhost:8080/"
        },
        "outputId": "496f9a27-9a70-4209-c5f7-3177695750ac"
      },
      "outputs": [
        {
          "output_type": "stream",
          "name": "stdout",
          "text": [
            "Requirement already satisfied: google-cloud-bigquery-storage in /usr/local/lib/python3.11/dist-packages (2.32.0)\n",
            "Requirement already satisfied: google-api-core!=2.0.*,!=2.1.*,!=2.10.*,!=2.2.*,!=2.3.*,!=2.4.*,!=2.5.*,!=2.6.*,!=2.7.*,!=2.8.*,!=2.9.*,<3.0.0,>=1.34.0 in /usr/local/lib/python3.11/dist-packages (from google-api-core[grpc]!=2.0.*,!=2.1.*,!=2.10.*,!=2.2.*,!=2.3.*,!=2.4.*,!=2.5.*,!=2.6.*,!=2.7.*,!=2.8.*,!=2.9.*,<3.0.0,>=1.34.0->google-cloud-bigquery-storage) (2.25.1)\n",
            "Requirement already satisfied: google-auth<3.0.0,>=2.14.1 in /usr/local/lib/python3.11/dist-packages (from google-cloud-bigquery-storage) (2.38.0)\n",
            "Requirement already satisfied: proto-plus<2.0.0,>=1.22.0 in /usr/local/lib/python3.11/dist-packages (from google-cloud-bigquery-storage) (1.26.1)\n",
            "Requirement already satisfied: protobuf!=3.20.0,!=3.20.1,!=4.21.0,!=4.21.1,!=4.21.2,!=4.21.3,!=4.21.4,!=4.21.5,<7.0.0,>=3.20.2 in /usr/local/lib/python3.11/dist-packages (from google-cloud-bigquery-storage) (5.29.5)\n",
            "Requirement already satisfied: googleapis-common-protos<2.0.0,>=1.56.2 in /usr/local/lib/python3.11/dist-packages (from google-api-core!=2.0.*,!=2.1.*,!=2.10.*,!=2.2.*,!=2.3.*,!=2.4.*,!=2.5.*,!=2.6.*,!=2.7.*,!=2.8.*,!=2.9.*,<3.0.0,>=1.34.0->google-api-core[grpc]!=2.0.*,!=2.1.*,!=2.10.*,!=2.2.*,!=2.3.*,!=2.4.*,!=2.5.*,!=2.6.*,!=2.7.*,!=2.8.*,!=2.9.*,<3.0.0,>=1.34.0->google-cloud-bigquery-storage) (1.70.0)\n",
            "Requirement already satisfied: requests<3.0.0,>=2.18.0 in /usr/local/lib/python3.11/dist-packages (from google-api-core!=2.0.*,!=2.1.*,!=2.10.*,!=2.2.*,!=2.3.*,!=2.4.*,!=2.5.*,!=2.6.*,!=2.7.*,!=2.8.*,!=2.9.*,<3.0.0,>=1.34.0->google-api-core[grpc]!=2.0.*,!=2.1.*,!=2.10.*,!=2.2.*,!=2.3.*,!=2.4.*,!=2.5.*,!=2.6.*,!=2.7.*,!=2.8.*,!=2.9.*,<3.0.0,>=1.34.0->google-cloud-bigquery-storage) (2.32.3)\n",
            "Requirement already satisfied: grpcio<2.0.0,>=1.33.2 in /usr/local/lib/python3.11/dist-packages (from google-api-core[grpc]!=2.0.*,!=2.1.*,!=2.10.*,!=2.2.*,!=2.3.*,!=2.4.*,!=2.5.*,!=2.6.*,!=2.7.*,!=2.8.*,!=2.9.*,<3.0.0,>=1.34.0->google-cloud-bigquery-storage) (1.73.1)\n",
            "Requirement already satisfied: grpcio-status<2.0.0,>=1.33.2 in /usr/local/lib/python3.11/dist-packages (from google-api-core[grpc]!=2.0.*,!=2.1.*,!=2.10.*,!=2.2.*,!=2.3.*,!=2.4.*,!=2.5.*,!=2.6.*,!=2.7.*,!=2.8.*,!=2.9.*,<3.0.0,>=1.34.0->google-cloud-bigquery-storage) (1.71.2)\n",
            "Requirement already satisfied: cachetools<6.0,>=2.0.0 in /usr/local/lib/python3.11/dist-packages (from google-auth<3.0.0,>=2.14.1->google-cloud-bigquery-storage) (5.5.2)\n",
            "Requirement already satisfied: pyasn1-modules>=0.2.1 in /usr/local/lib/python3.11/dist-packages (from google-auth<3.0.0,>=2.14.1->google-cloud-bigquery-storage) (0.4.2)\n",
            "Requirement already satisfied: rsa<5,>=3.1.4 in /usr/local/lib/python3.11/dist-packages (from google-auth<3.0.0,>=2.14.1->google-cloud-bigquery-storage) (4.9.1)\n",
            "Requirement already satisfied: pyasn1<0.7.0,>=0.6.1 in /usr/local/lib/python3.11/dist-packages (from pyasn1-modules>=0.2.1->google-auth<3.0.0,>=2.14.1->google-cloud-bigquery-storage) (0.6.1)\n",
            "Requirement already satisfied: charset-normalizer<4,>=2 in /usr/local/lib/python3.11/dist-packages (from requests<3.0.0,>=2.18.0->google-api-core!=2.0.*,!=2.1.*,!=2.10.*,!=2.2.*,!=2.3.*,!=2.4.*,!=2.5.*,!=2.6.*,!=2.7.*,!=2.8.*,!=2.9.*,<3.0.0,>=1.34.0->google-api-core[grpc]!=2.0.*,!=2.1.*,!=2.10.*,!=2.2.*,!=2.3.*,!=2.4.*,!=2.5.*,!=2.6.*,!=2.7.*,!=2.8.*,!=2.9.*,<3.0.0,>=1.34.0->google-cloud-bigquery-storage) (3.4.2)\n",
            "Requirement already satisfied: idna<4,>=2.5 in /usr/local/lib/python3.11/dist-packages (from requests<3.0.0,>=2.18.0->google-api-core!=2.0.*,!=2.1.*,!=2.10.*,!=2.2.*,!=2.3.*,!=2.4.*,!=2.5.*,!=2.6.*,!=2.7.*,!=2.8.*,!=2.9.*,<3.0.0,>=1.34.0->google-api-core[grpc]!=2.0.*,!=2.1.*,!=2.10.*,!=2.2.*,!=2.3.*,!=2.4.*,!=2.5.*,!=2.6.*,!=2.7.*,!=2.8.*,!=2.9.*,<3.0.0,>=1.34.0->google-cloud-bigquery-storage) (3.10)\n",
            "Requirement already satisfied: urllib3<3,>=1.21.1 in /usr/local/lib/python3.11/dist-packages (from requests<3.0.0,>=2.18.0->google-api-core!=2.0.*,!=2.1.*,!=2.10.*,!=2.2.*,!=2.3.*,!=2.4.*,!=2.5.*,!=2.6.*,!=2.7.*,!=2.8.*,!=2.9.*,<3.0.0,>=1.34.0->google-api-core[grpc]!=2.0.*,!=2.1.*,!=2.10.*,!=2.2.*,!=2.3.*,!=2.4.*,!=2.5.*,!=2.6.*,!=2.7.*,!=2.8.*,!=2.9.*,<3.0.0,>=1.34.0->google-cloud-bigquery-storage) (2.4.0)\n",
            "Requirement already satisfied: certifi>=2017.4.17 in /usr/local/lib/python3.11/dist-packages (from requests<3.0.0,>=2.18.0->google-api-core!=2.0.*,!=2.1.*,!=2.10.*,!=2.2.*,!=2.3.*,!=2.4.*,!=2.5.*,!=2.6.*,!=2.7.*,!=2.8.*,!=2.9.*,<3.0.0,>=1.34.0->google-api-core[grpc]!=2.0.*,!=2.1.*,!=2.10.*,!=2.2.*,!=2.3.*,!=2.4.*,!=2.5.*,!=2.6.*,!=2.7.*,!=2.8.*,!=2.9.*,<3.0.0,>=1.34.0->google-cloud-bigquery-storage) (2025.7.14)\n"
          ]
        }
      ],
      "source": [
        "!pip install google-cloud-bigquery-storage # has additional capabilities for reading data from BigQuery using the BigQuery Storage API"
      ]
    },
    {
      "cell_type": "code",
      "execution_count": 30,
      "metadata": {
        "id": "eKCOlUl8QMpL"
      },
      "outputs": [],
      "source": [
        "from google.cloud import bigquery\n",
        "from google.cloud import storage\n",
        "from google.cloud import bigquery_storage"
      ]
    },
    {
      "cell_type": "markdown",
      "metadata": {
        "id": "sJfytyHnQMpZ"
      },
      "source": [
        "Invoke a method of the `.Client` object that takes the path to your key files as a string argument:"
      ]
    },
    {
      "cell_type": "code",
      "source": [
        "from google.colab import files\n",
        "uploaded = files.upload()\n"
      ],
      "metadata": {
        "colab": {
          "base_uri": "https://localhost:8080/",
          "height": 74
        },
        "id": "8Af20oieC4zx",
        "outputId": "c6bc5e12-2d96-4ab3-f5b8-4249f255428f"
      },
      "execution_count": 5,
      "outputs": [
        {
          "output_type": "display_data",
          "data": {
            "text/plain": [
              "<IPython.core.display.HTML object>"
            ],
            "text/html": [
              "\n",
              "     <input type=\"file\" id=\"files-09f2a37e-e1ec-4868-9937-75b2b262a61a\" name=\"files[]\" multiple disabled\n",
              "        style=\"border:none\" />\n",
              "     <output id=\"result-09f2a37e-e1ec-4868-9937-75b2b262a61a\">\n",
              "      Upload widget is only available when the cell has been executed in the\n",
              "      current browser session. Please rerun this cell to enable.\n",
              "      </output>\n",
              "      <script>// Copyright 2017 Google LLC\n",
              "//\n",
              "// Licensed under the Apache License, Version 2.0 (the \"License\");\n",
              "// you may not use this file except in compliance with the License.\n",
              "// You may obtain a copy of the License at\n",
              "//\n",
              "//      http://www.apache.org/licenses/LICENSE-2.0\n",
              "//\n",
              "// Unless required by applicable law or agreed to in writing, software\n",
              "// distributed under the License is distributed on an \"AS IS\" BASIS,\n",
              "// WITHOUT WARRANTIES OR CONDITIONS OF ANY KIND, either express or implied.\n",
              "// See the License for the specific language governing permissions and\n",
              "// limitations under the License.\n",
              "\n",
              "/**\n",
              " * @fileoverview Helpers for google.colab Python module.\n",
              " */\n",
              "(function(scope) {\n",
              "function span(text, styleAttributes = {}) {\n",
              "  const element = document.createElement('span');\n",
              "  element.textContent = text;\n",
              "  for (const key of Object.keys(styleAttributes)) {\n",
              "    element.style[key] = styleAttributes[key];\n",
              "  }\n",
              "  return element;\n",
              "}\n",
              "\n",
              "// Max number of bytes which will be uploaded at a time.\n",
              "const MAX_PAYLOAD_SIZE = 100 * 1024;\n",
              "\n",
              "function _uploadFiles(inputId, outputId) {\n",
              "  const steps = uploadFilesStep(inputId, outputId);\n",
              "  const outputElement = document.getElementById(outputId);\n",
              "  // Cache steps on the outputElement to make it available for the next call\n",
              "  // to uploadFilesContinue from Python.\n",
              "  outputElement.steps = steps;\n",
              "\n",
              "  return _uploadFilesContinue(outputId);\n",
              "}\n",
              "\n",
              "// This is roughly an async generator (not supported in the browser yet),\n",
              "// where there are multiple asynchronous steps and the Python side is going\n",
              "// to poll for completion of each step.\n",
              "// This uses a Promise to block the python side on completion of each step,\n",
              "// then passes the result of the previous step as the input to the next step.\n",
              "function _uploadFilesContinue(outputId) {\n",
              "  const outputElement = document.getElementById(outputId);\n",
              "  const steps = outputElement.steps;\n",
              "\n",
              "  const next = steps.next(outputElement.lastPromiseValue);\n",
              "  return Promise.resolve(next.value.promise).then((value) => {\n",
              "    // Cache the last promise value to make it available to the next\n",
              "    // step of the generator.\n",
              "    outputElement.lastPromiseValue = value;\n",
              "    return next.value.response;\n",
              "  });\n",
              "}\n",
              "\n",
              "/**\n",
              " * Generator function which is called between each async step of the upload\n",
              " * process.\n",
              " * @param {string} inputId Element ID of the input file picker element.\n",
              " * @param {string} outputId Element ID of the output display.\n",
              " * @return {!Iterable<!Object>} Iterable of next steps.\n",
              " */\n",
              "function* uploadFilesStep(inputId, outputId) {\n",
              "  const inputElement = document.getElementById(inputId);\n",
              "  inputElement.disabled = false;\n",
              "\n",
              "  const outputElement = document.getElementById(outputId);\n",
              "  outputElement.innerHTML = '';\n",
              "\n",
              "  const pickedPromise = new Promise((resolve) => {\n",
              "    inputElement.addEventListener('change', (e) => {\n",
              "      resolve(e.target.files);\n",
              "    });\n",
              "  });\n",
              "\n",
              "  const cancel = document.createElement('button');\n",
              "  inputElement.parentElement.appendChild(cancel);\n",
              "  cancel.textContent = 'Cancel upload';\n",
              "  const cancelPromise = new Promise((resolve) => {\n",
              "    cancel.onclick = () => {\n",
              "      resolve(null);\n",
              "    };\n",
              "  });\n",
              "\n",
              "  // Wait for the user to pick the files.\n",
              "  const files = yield {\n",
              "    promise: Promise.race([pickedPromise, cancelPromise]),\n",
              "    response: {\n",
              "      action: 'starting',\n",
              "    }\n",
              "  };\n",
              "\n",
              "  cancel.remove();\n",
              "\n",
              "  // Disable the input element since further picks are not allowed.\n",
              "  inputElement.disabled = true;\n",
              "\n",
              "  if (!files) {\n",
              "    return {\n",
              "      response: {\n",
              "        action: 'complete',\n",
              "      }\n",
              "    };\n",
              "  }\n",
              "\n",
              "  for (const file of files) {\n",
              "    const li = document.createElement('li');\n",
              "    li.append(span(file.name, {fontWeight: 'bold'}));\n",
              "    li.append(span(\n",
              "        `(${file.type || 'n/a'}) - ${file.size} bytes, ` +\n",
              "        `last modified: ${\n",
              "            file.lastModifiedDate ? file.lastModifiedDate.toLocaleDateString() :\n",
              "                                    'n/a'} - `));\n",
              "    const percent = span('0% done');\n",
              "    li.appendChild(percent);\n",
              "\n",
              "    outputElement.appendChild(li);\n",
              "\n",
              "    const fileDataPromise = new Promise((resolve) => {\n",
              "      const reader = new FileReader();\n",
              "      reader.onload = (e) => {\n",
              "        resolve(e.target.result);\n",
              "      };\n",
              "      reader.readAsArrayBuffer(file);\n",
              "    });\n",
              "    // Wait for the data to be ready.\n",
              "    let fileData = yield {\n",
              "      promise: fileDataPromise,\n",
              "      response: {\n",
              "        action: 'continue',\n",
              "      }\n",
              "    };\n",
              "\n",
              "    // Use a chunked sending to avoid message size limits. See b/62115660.\n",
              "    let position = 0;\n",
              "    do {\n",
              "      const length = Math.min(fileData.byteLength - position, MAX_PAYLOAD_SIZE);\n",
              "      const chunk = new Uint8Array(fileData, position, length);\n",
              "      position += length;\n",
              "\n",
              "      const base64 = btoa(String.fromCharCode.apply(null, chunk));\n",
              "      yield {\n",
              "        response: {\n",
              "          action: 'append',\n",
              "          file: file.name,\n",
              "          data: base64,\n",
              "        },\n",
              "      };\n",
              "\n",
              "      let percentDone = fileData.byteLength === 0 ?\n",
              "          100 :\n",
              "          Math.round((position / fileData.byteLength) * 100);\n",
              "      percent.textContent = `${percentDone}% done`;\n",
              "\n",
              "    } while (position < fileData.byteLength);\n",
              "  }\n",
              "\n",
              "  // All done.\n",
              "  yield {\n",
              "    response: {\n",
              "      action: 'complete',\n",
              "    }\n",
              "  };\n",
              "}\n",
              "\n",
              "scope.google = scope.google || {};\n",
              "scope.google.colab = scope.google.colab || {};\n",
              "scope.google.colab._files = {\n",
              "  _uploadFiles,\n",
              "  _uploadFilesContinue,\n",
              "};\n",
              "})(self);\n",
              "</script> "
            ]
          },
          "metadata": {}
        },
        {
          "output_type": "stream",
          "name": "stdout",
          "text": [
            "Saving my-project-iod-ff-a2efdb087076.json to my-project-iod-ff-a2efdb087076.json\n"
          ]
        }
      ]
    },
    {
      "cell_type": "code",
      "execution_count": 12,
      "metadata": {
        "id": "-L6z5aQRQMpZ"
      },
      "outputs": [],
      "source": [
        "key_path = 'my-project-iod-ff-a2efdb087076.json'          #: Change this to match your key filename"
      ]
    },
    {
      "cell_type": "markdown",
      "metadata": {
        "id": "00HRXCrbQMpb"
      },
      "source": [
        "This should not throw an error if key retrieval / assignment worked:"
      ]
    },
    {
      "cell_type": "code",
      "execution_count": 13,
      "metadata": {
        "id": "EaI5dybYQMpc"
      },
      "outputs": [],
      "source": [
        "storage_client = storage.Client.from_service_account_json(key_path)"
      ]
    },
    {
      "cell_type": "markdown",
      "metadata": {
        "id": "XyF90p35QMpf"
      },
      "source": [
        "*Nb. The `storage` object was used in the above example, but there are other objects of interest that have polymorphic `Client` members that are used similarly, such as `bigquery`, which is used below.*"
      ]
    },
    {
      "cell_type": "markdown",
      "metadata": {
        "id": "U2ejMLo5QMpj"
      },
      "source": [
        "Next, execute this:"
      ]
    },
    {
      "cell_type": "code",
      "execution_count": 14,
      "metadata": {
        "id": "Lwfj-eI5QMpk"
      },
      "outputs": [],
      "source": [
        "client = bigquery.Client.from_service_account_json(key_path)"
      ]
    },
    {
      "cell_type": "markdown",
      "metadata": {
        "id": "vpF3Gu-iQMpm"
      },
      "source": [
        "This client is associated with the default project (which was set or defaulted in the BigQuery UI):"
      ]
    },
    {
      "cell_type": "code",
      "execution_count": 32,
      "metadata": {
        "id": "kO2v-luMQMpn",
        "colab": {
          "base_uri": "https://localhost:8080/",
          "height": 35
        },
        "outputId": "479f64de-979d-4cdb-bf89-712d69bff52c"
      },
      "outputs": [
        {
          "output_type": "execute_result",
          "data": {
            "text/plain": [
              "'bigquery-public-data'"
            ],
            "application/vnd.google.colaboratory.intrinsic+json": {
              "type": "string"
            }
          },
          "metadata": {},
          "execution_count": 32
        }
      ],
      "source": [
        "client.project"
      ]
    },
    {
      "cell_type": "markdown",
      "metadata": {
        "id": "w_pX9XbnQMpr"
      },
      "source": [
        "A BigQuery project contains datasets. Datasets contain tables. To get at the data in a table we need to create a reference that covers this hierarchy; in the `bigquery` library this looks like `project.dataset.table`.  \n",
        "\n",
        "(Nb. Queries can be performed on projects and datasets, but most queries are performed on tables.)"
      ]
    },
    {
      "cell_type": "markdown",
      "metadata": {
        "id": "JyJVwEuyQMps"
      },
      "source": [
        "To explore the public datasets we will start by reassigning our `client` variable using optional `project` parameter (set to `bigquery-public-data`):"
      ]
    },
    {
      "cell_type": "code",
      "execution_count": 16,
      "metadata": {
        "id": "cqpyCYo5QMps",
        "colab": {
          "base_uri": "https://localhost:8080/"
        },
        "outputId": "f1c09ab1-f563-48da-b78c-e3bbc8fc8363"
      },
      "outputs": [
        {
          "output_type": "stream",
          "name": "stdout",
          "text": [
            "bigquery-public-data\n"
          ]
        }
      ],
      "source": [
        "#project = 'bigquery-public-data'\n",
        "client = bigquery.Client.from_service_account_json(key_path, project = 'bigquery-public-data')\n",
        "print(client.project)"
      ]
    },
    {
      "cell_type": "markdown",
      "metadata": {
        "id": "MLI1MOiqQMpw"
      },
      "source": [
        "Here is how to get a list of the datasets in the current project:"
      ]
    },
    {
      "cell_type": "code",
      "execution_count": 17,
      "metadata": {
        "id": "_81SBSwKQMpx",
        "colab": {
          "base_uri": "https://localhost:8080/"
        },
        "outputId": "2a6a0ff0-ca2a-465a-b38c-e40471053f83"
      },
      "outputs": [
        {
          "output_type": "stream",
          "name": "stdout",
          "text": [
            "[<google.cloud.bigquery.dataset.DatasetListItem object at 0x795c14e82a10>, <google.cloud.bigquery.dataset.DatasetListItem object at 0x795c14e9c850>, <google.cloud.bigquery.dataset.DatasetListItem object at 0x795c14e9cd90>, <google.cloud.bigquery.dataset.DatasetListItem object at 0x795c14e9f950>, <google.cloud.bigquery.dataset.DatasetListItem object at 0x795c14e9f7d0>, <google.cloud.bigquery.dataset.DatasetListItem object at 0x795c14e9f8d0>, <google.cloud.bigquery.dataset.DatasetListItem object at 0x795c14e9d690>, <google.cloud.bigquery.dataset.DatasetListItem object at 0x795c14e9cf50>, <google.cloud.bigquery.dataset.DatasetListItem object at 0x795c14e9e350>, <google.cloud.bigquery.dataset.DatasetListItem object at 0x795c14e9cfd0>, <google.cloud.bigquery.dataset.DatasetListItem object at 0x795c14e9f3d0>, <google.cloud.bigquery.dataset.DatasetListItem object at 0x795c14e9e950>, <google.cloud.bigquery.dataset.DatasetListItem object at 0x795c14e8d4d0>, <google.cloud.bigquery.dataset.DatasetListItem object at 0x795c14e8ca50>, <google.cloud.bigquery.dataset.DatasetListItem object at 0x795c14e8d7d0>, <google.cloud.bigquery.dataset.DatasetListItem object at 0x795c14e8fbd0>, <google.cloud.bigquery.dataset.DatasetListItem object at 0x795c14e8d810>, <google.cloud.bigquery.dataset.DatasetListItem object at 0x795c14eb4350>, <google.cloud.bigquery.dataset.DatasetListItem object at 0x795c14eb4210>, <google.cloud.bigquery.dataset.DatasetListItem object at 0x795c14eb4150>, <google.cloud.bigquery.dataset.DatasetListItem object at 0x795c14eb4110>, <google.cloud.bigquery.dataset.DatasetListItem object at 0x795c14eb4090>, <google.cloud.bigquery.dataset.DatasetListItem object at 0x795c14eb40d0>, <google.cloud.bigquery.dataset.DatasetListItem object at 0x795c14eb41d0>, <google.cloud.bigquery.dataset.DatasetListItem object at 0x795c14eb4290>, <google.cloud.bigquery.dataset.DatasetListItem object at 0x795c14eb4250>, <google.cloud.bigquery.dataset.DatasetListItem object at 0x795c14eb4190>, <google.cloud.bigquery.dataset.DatasetListItem object at 0x795c14ea4d90>, <google.cloud.bigquery.dataset.DatasetListItem object at 0x795c14ea4210>, <google.cloud.bigquery.dataset.DatasetListItem object at 0x795c14ea4dd0>, <google.cloud.bigquery.dataset.DatasetListItem object at 0x795c14ea4d50>, <google.cloud.bigquery.dataset.DatasetListItem object at 0x795c14ea7410>, <google.cloud.bigquery.dataset.DatasetListItem object at 0x795c14ea76d0>, <google.cloud.bigquery.dataset.DatasetListItem object at 0x795c14ea7690>, <google.cloud.bigquery.dataset.DatasetListItem object at 0x795c14ea4a50>, <google.cloud.bigquery.dataset.DatasetListItem object at 0x795c14ea64d0>, <google.cloud.bigquery.dataset.DatasetListItem object at 0x795c14ea7c10>, <google.cloud.bigquery.dataset.DatasetListItem object at 0x795c14ea7a90>, <google.cloud.bigquery.dataset.DatasetListItem object at 0x795c14ea7b90>, <google.cloud.bigquery.dataset.DatasetListItem object at 0x795c14ea6810>, <google.cloud.bigquery.dataset.DatasetListItem object at 0x795c14ea7590>, <google.cloud.bigquery.dataset.DatasetListItem object at 0x795c14eba010>, <google.cloud.bigquery.dataset.DatasetListItem object at 0x795c14eba050>, <google.cloud.bigquery.dataset.DatasetListItem object at 0x795c14eba090>, <google.cloud.bigquery.dataset.DatasetListItem object at 0x795c14eba0d0>, <google.cloud.bigquery.dataset.DatasetListItem object at 0x795c14eba110>, <google.cloud.bigquery.dataset.DatasetListItem object at 0x795c14eba150>, <google.cloud.bigquery.dataset.DatasetListItem object at 0x795c14eba190>, <google.cloud.bigquery.dataset.DatasetListItem object at 0x795c14eba1d0>, <google.cloud.bigquery.dataset.DatasetListItem object at 0x795c14eba210>, <google.cloud.bigquery.dataset.DatasetListItem object at 0x795c14e82c10>, <google.cloud.bigquery.dataset.DatasetListItem object at 0x795c14e29a10>, <google.cloud.bigquery.dataset.DatasetListItem object at 0x795c30cf58d0>, <google.cloud.bigquery.dataset.DatasetListItem object at 0x795c14fe2610>, <google.cloud.bigquery.dataset.DatasetListItem object at 0x795c14e9e910>, <google.cloud.bigquery.dataset.DatasetListItem object at 0x795c14e8c050>, <google.cloud.bigquery.dataset.DatasetListItem object at 0x795c14e8d610>, <google.cloud.bigquery.dataset.DatasetListItem object at 0x795c14eb4050>, <google.cloud.bigquery.dataset.DatasetListItem object at 0x795c14ea6390>, <google.cloud.bigquery.dataset.DatasetListItem object at 0x795c14ea7fd0>, <google.cloud.bigquery.dataset.DatasetListItem object at 0x795c14ea7ed0>, <google.cloud.bigquery.dataset.DatasetListItem object at 0x795c14ea7f90>, <google.cloud.bigquery.dataset.DatasetListItem object at 0x795c14ea7f50>, <google.cloud.bigquery.dataset.DatasetListItem object at 0x795c14ea7d90>, <google.cloud.bigquery.dataset.DatasetListItem object at 0x795c14ea7f10>, <google.cloud.bigquery.dataset.DatasetListItem object at 0x795c14ea7c50>, <google.cloud.bigquery.dataset.DatasetListItem object at 0x795c14ea7e50>, <google.cloud.bigquery.dataset.DatasetListItem object at 0x795c14ea7d50>, <google.cloud.bigquery.dataset.DatasetListItem object at 0x795c14eba250>, <google.cloud.bigquery.dataset.DatasetListItem object at 0x795c14eba290>, <google.cloud.bigquery.dataset.DatasetListItem object at 0x795c14eba2d0>, <google.cloud.bigquery.dataset.DatasetListItem object at 0x795c14eba3d0>, <google.cloud.bigquery.dataset.DatasetListItem object at 0x795c14eba310>, <google.cloud.bigquery.dataset.DatasetListItem object at 0x795c14eba350>, <google.cloud.bigquery.dataset.DatasetListItem object at 0x795c14eba890>, <google.cloud.bigquery.dataset.DatasetListItem object at 0x795c14eba750>, <google.cloud.bigquery.dataset.DatasetListItem object at 0x795c14eba690>, <google.cloud.bigquery.dataset.DatasetListItem object at 0x795c14eba710>, <google.cloud.bigquery.dataset.DatasetListItem object at 0x795c14eba6d0>, <google.cloud.bigquery.dataset.DatasetListItem object at 0x795c14ebac10>, <google.cloud.bigquery.dataset.DatasetListItem object at 0x795c14ebac90>, <google.cloud.bigquery.dataset.DatasetListItem object at 0x795c14ebac50>, <google.cloud.bigquery.dataset.DatasetListItem object at 0x795c14ebab50>, <google.cloud.bigquery.dataset.DatasetListItem object at 0x795c14eba9d0>, <google.cloud.bigquery.dataset.DatasetListItem object at 0x795c14ebabd0>, <google.cloud.bigquery.dataset.DatasetListItem object at 0x795c14ebafd0>, <google.cloud.bigquery.dataset.DatasetListItem object at 0x795c14ebb450>, <google.cloud.bigquery.dataset.DatasetListItem object at 0x795c14eba790>, <google.cloud.bigquery.dataset.DatasetListItem object at 0x795c14ebaed0>, <google.cloud.bigquery.dataset.DatasetListItem object at 0x795c14ebb010>, <google.cloud.bigquery.dataset.DatasetListItem object at 0x795c14ebb3d0>, <google.cloud.bigquery.dataset.DatasetListItem object at 0x795c14ebb050>, <google.cloud.bigquery.dataset.DatasetListItem object at 0x795c14ebae90>, <google.cloud.bigquery.dataset.DatasetListItem object at 0x795c14ebaf90>, <google.cloud.bigquery.dataset.DatasetListItem object at 0x795c14ebaf50>, <google.cloud.bigquery.dataset.DatasetListItem object at 0x795c14ecce10>, <google.cloud.bigquery.dataset.DatasetListItem object at 0x795c14ecce50>, <google.cloud.bigquery.dataset.DatasetListItem object at 0x795c14ecce90>, <google.cloud.bigquery.dataset.DatasetListItem object at 0x795c14ecced0>, <google.cloud.bigquery.dataset.DatasetListItem object at 0x795c14eccf10>, <google.cloud.bigquery.dataset.DatasetListItem object at 0x795c14e9c5d0>, <google.cloud.bigquery.dataset.DatasetListItem object at 0x795c14ea61d0>, <google.cloud.bigquery.dataset.DatasetListItem object at 0x795c14ea7cd0>, <google.cloud.bigquery.dataset.DatasetListItem object at 0x795c14ea7e90>, <google.cloud.bigquery.dataset.DatasetListItem object at 0x795c14ea7dd0>, <google.cloud.bigquery.dataset.DatasetListItem object at 0x795c14eba410>, <google.cloud.bigquery.dataset.DatasetListItem object at 0x795c14ebb350>, <google.cloud.bigquery.dataset.DatasetListItem object at 0x795c14ebb310>, <google.cloud.bigquery.dataset.DatasetListItem object at 0x795c14ebb090>, <google.cloud.bigquery.dataset.DatasetListItem object at 0x795c14ebb250>, <google.cloud.bigquery.dataset.DatasetListItem object at 0x795c14ebb2d0>, <google.cloud.bigquery.dataset.DatasetListItem object at 0x795c14ebad50>, <google.cloud.bigquery.dataset.DatasetListItem object at 0x795c14ebb290>, <google.cloud.bigquery.dataset.DatasetListItem object at 0x795c14ebb210>, <google.cloud.bigquery.dataset.DatasetListItem object at 0x795c14eba8d0>, <google.cloud.bigquery.dataset.DatasetListItem object at 0x795c14ebb0d0>, <google.cloud.bigquery.dataset.DatasetListItem object at 0x795c14eccf50>, <google.cloud.bigquery.dataset.DatasetListItem object at 0x795c14eccf90>, <google.cloud.bigquery.dataset.DatasetListItem object at 0x795c14eccfd0>, <google.cloud.bigquery.dataset.DatasetListItem object at 0x795c14ecd0d0>, <google.cloud.bigquery.dataset.DatasetListItem object at 0x795c14ecd010>, <google.cloud.bigquery.dataset.DatasetListItem object at 0x795c14ecd050>, <google.cloud.bigquery.dataset.DatasetListItem object at 0x795c14ecd550>, <google.cloud.bigquery.dataset.DatasetListItem object at 0x795c14ecd410>, <google.cloud.bigquery.dataset.DatasetListItem object at 0x795c14ecd350>, <google.cloud.bigquery.dataset.DatasetListItem object at 0x795c14ecd3d0>, <google.cloud.bigquery.dataset.DatasetListItem object at 0x795c14ecd390>, <google.cloud.bigquery.dataset.DatasetListItem object at 0x795c14ecd8d0>, <google.cloud.bigquery.dataset.DatasetListItem object at 0x795c14ecd950>, <google.cloud.bigquery.dataset.DatasetListItem object at 0x795c14ecd910>, <google.cloud.bigquery.dataset.DatasetListItem object at 0x795c14ecd810>, <google.cloud.bigquery.dataset.DatasetListItem object at 0x795c14ecd690>, <google.cloud.bigquery.dataset.DatasetListItem object at 0x795c14ecd510>, <google.cloud.bigquery.dataset.DatasetListItem object at 0x795c14ecdc50>, <google.cloud.bigquery.dataset.DatasetListItem object at 0x795c14ecdb90>, <google.cloud.bigquery.dataset.DatasetListItem object at 0x795c14ecdc90>, <google.cloud.bigquery.dataset.DatasetListItem object at 0x795c14ece190>, <google.cloud.bigquery.dataset.DatasetListItem object at 0x795c14ecd450>, <google.cloud.bigquery.dataset.DatasetListItem object at 0x795c14ecdc10>, <google.cloud.bigquery.dataset.DatasetListItem object at 0x795c14ecdb50>, <google.cloud.bigquery.dataset.DatasetListItem object at 0x795c14ece110>, <google.cloud.bigquery.dataset.DatasetListItem object at 0x795c14ecda10>, <google.cloud.bigquery.dataset.DatasetListItem object at 0x795c14ece0d0>, <google.cloud.bigquery.dataset.DatasetListItem object at 0x795c14ecdd10>, <google.cloud.bigquery.dataset.DatasetListItem object at 0x795c14ecda50>, <google.cloud.bigquery.dataset.DatasetListItem object at 0x795c14ed9fd0>, <google.cloud.bigquery.dataset.DatasetListItem object at 0x795c14eda010>, <google.cloud.bigquery.dataset.DatasetListItem object at 0x795c14eda050>, <google.cloud.bigquery.dataset.DatasetListItem object at 0x795c14eda090>, <google.cloud.bigquery.dataset.DatasetListItem object at 0x795c14eda0d0>, <google.cloud.bigquery.dataset.DatasetListItem object at 0x795c15386810>, <google.cloud.bigquery.dataset.DatasetListItem object at 0x795c14ea4f90>, <google.cloud.bigquery.dataset.DatasetListItem object at 0x795c14ea6950>, <google.cloud.bigquery.dataset.DatasetListItem object at 0x795c14ea4050>, <google.cloud.bigquery.dataset.DatasetListItem object at 0x795c14ecd150>, <google.cloud.bigquery.dataset.DatasetListItem object at 0x795c14ecd190>, <google.cloud.bigquery.dataset.DatasetListItem object at 0x795c14ece050>, <google.cloud.bigquery.dataset.DatasetListItem object at 0x795c14ece010>, <google.cloud.bigquery.dataset.DatasetListItem object at 0x795c14ecdd90>, <google.cloud.bigquery.dataset.DatasetListItem object at 0x795c14ecdf50>, <google.cloud.bigquery.dataset.DatasetListItem object at 0x795c14ecdfd0>, <google.cloud.bigquery.dataset.DatasetListItem object at 0x795c14ecd310>, <google.cloud.bigquery.dataset.DatasetListItem object at 0x795c14ecdf90>, <google.cloud.bigquery.dataset.DatasetListItem object at 0x795c14ecde90>, <google.cloud.bigquery.dataset.DatasetListItem object at 0x795c14ecd590>, <google.cloud.bigquery.dataset.DatasetListItem object at 0x795c14ecded0>, <google.cloud.bigquery.dataset.DatasetListItem object at 0x795c14eda110>, <google.cloud.bigquery.dataset.DatasetListItem object at 0x795c14eda150>, <google.cloud.bigquery.dataset.DatasetListItem object at 0x795c14eda190>, <google.cloud.bigquery.dataset.DatasetListItem object at 0x795c14eda290>, <google.cloud.bigquery.dataset.DatasetListItem object at 0x795c14eda1d0>, <google.cloud.bigquery.dataset.DatasetListItem object at 0x795c14eda210>, <google.cloud.bigquery.dataset.DatasetListItem object at 0x795c14eda710>, <google.cloud.bigquery.dataset.DatasetListItem object at 0x795c14eda5d0>, <google.cloud.bigquery.dataset.DatasetListItem object at 0x795c14eda510>, <google.cloud.bigquery.dataset.DatasetListItem object at 0x795c14eda590>, <google.cloud.bigquery.dataset.DatasetListItem object at 0x795c14eda550>, <google.cloud.bigquery.dataset.DatasetListItem object at 0x795c14edaa90>, <google.cloud.bigquery.dataset.DatasetListItem object at 0x795c14edaa50>, <google.cloud.bigquery.dataset.DatasetListItem object at 0x795c14edab50>, <google.cloud.bigquery.dataset.DatasetListItem object at 0x795c14edab10>, <google.cloud.bigquery.dataset.DatasetListItem object at 0x795c14edaad0>, <google.cloud.bigquery.dataset.DatasetListItem object at 0x795c14eda9d0>, <google.cloud.bigquery.dataset.DatasetListItem object at 0x795c14edaa10>, <google.cloud.bigquery.dataset.DatasetListItem object at 0x795c14edae90>, <google.cloud.bigquery.dataset.DatasetListItem object at 0x795c14edad90>, <google.cloud.bigquery.dataset.DatasetListItem object at 0x795c14edac50>, <google.cloud.bigquery.dataset.DatasetListItem object at 0x795c14edb390>, <google.cloud.bigquery.dataset.DatasetListItem object at 0x795c14eda610>, <google.cloud.bigquery.dataset.DatasetListItem object at 0x795c14edae10>, <google.cloud.bigquery.dataset.DatasetListItem object at 0x795c14edad50>, <google.cloud.bigquery.dataset.DatasetListItem object at 0x795c14edb310>, <google.cloud.bigquery.dataset.DatasetListItem object at 0x795c14edac10>, <google.cloud.bigquery.dataset.DatasetListItem object at 0x795c14edb2d0>, <google.cloud.bigquery.dataset.DatasetListItem object at 0x795c14edaf10>, <google.cloud.bigquery.dataset.DatasetListItem object at 0x795c14edae50>, <google.cloud.bigquery.dataset.DatasetListItem object at 0x795c14ee20d0>, <google.cloud.bigquery.dataset.DatasetListItem object at 0x795c14ee2110>, <google.cloud.bigquery.dataset.DatasetListItem object at 0x795c14ee2150>, <google.cloud.bigquery.dataset.DatasetListItem object at 0x795c14ee2190>, <google.cloud.bigquery.dataset.DatasetListItem object at 0x795c14ebad90>, <google.cloud.bigquery.dataset.DatasetListItem object at 0x795c14e8f510>, <google.cloud.bigquery.dataset.DatasetListItem object at 0x795c14ea7d10>, <google.cloud.bigquery.dataset.DatasetListItem object at 0x795c14ea73d0>, <google.cloud.bigquery.dataset.DatasetListItem object at 0x795c14eda310>, <google.cloud.bigquery.dataset.DatasetListItem object at 0x795c14eda350>, <google.cloud.bigquery.dataset.DatasetListItem object at 0x795c14edb250>, <google.cloud.bigquery.dataset.DatasetListItem object at 0x795c14edb210>, <google.cloud.bigquery.dataset.DatasetListItem object at 0x795c14edaf90>, <google.cloud.bigquery.dataset.DatasetListItem object at 0x795c14edb150>, <google.cloud.bigquery.dataset.DatasetListItem object at 0x795c14edb1d0>, <google.cloud.bigquery.dataset.DatasetListItem object at 0x795c14eda4d0>, <google.cloud.bigquery.dataset.DatasetListItem object at 0x795c14edb190>, <google.cloud.bigquery.dataset.DatasetListItem object at 0x795c14edb090>, <google.cloud.bigquery.dataset.DatasetListItem object at 0x795c14eda750>, <google.cloud.bigquery.dataset.DatasetListItem object at 0x795c14edb0d0>, <google.cloud.bigquery.dataset.DatasetListItem object at 0x795c14ee21d0>, <google.cloud.bigquery.dataset.DatasetListItem object at 0x795c14ee2210>, <google.cloud.bigquery.dataset.DatasetListItem object at 0x795c14ee2250>, <google.cloud.bigquery.dataset.DatasetListItem object at 0x795c14ee2350>, <google.cloud.bigquery.dataset.DatasetListItem object at 0x795c14ee2290>, <google.cloud.bigquery.dataset.DatasetListItem object at 0x795c14ee22d0>, <google.cloud.bigquery.dataset.DatasetListItem object at 0x795c14ee27d0>, <google.cloud.bigquery.dataset.DatasetListItem object at 0x795c14ee2690>, <google.cloud.bigquery.dataset.DatasetListItem object at 0x795c14ee25d0>, <google.cloud.bigquery.dataset.DatasetListItem object at 0x795c14ee2650>, <google.cloud.bigquery.dataset.DatasetListItem object at 0x795c14ee2610>, <google.cloud.bigquery.dataset.DatasetListItem object at 0x795c14ee2b10>, <google.cloud.bigquery.dataset.DatasetListItem object at 0x795c14ee2bd0>, <google.cloud.bigquery.dataset.DatasetListItem object at 0x795c14ee2b90>, <google.cloud.bigquery.dataset.DatasetListItem object at 0x795c14ee2a90>, <google.cloud.bigquery.dataset.DatasetListItem object at 0x795c14ee2910>, <google.cloud.bigquery.dataset.DatasetListItem object at 0x795c14ee2790>, <google.cloud.bigquery.dataset.DatasetListItem object at 0x795c14ee2ed0>, <google.cloud.bigquery.dataset.DatasetListItem object at 0x795c14ee2e10>, <google.cloud.bigquery.dataset.DatasetListItem object at 0x795c14ee2f10>, <google.cloud.bigquery.dataset.DatasetListItem object at 0x795c14ee3410>, <google.cloud.bigquery.dataset.DatasetListItem object at 0x795c14ee26d0>, <google.cloud.bigquery.dataset.DatasetListItem object at 0x795c14ee2e90>, <google.cloud.bigquery.dataset.DatasetListItem object at 0x795c14ee2dd0>, <google.cloud.bigquery.dataset.DatasetListItem object at 0x795c14ee3390>, <google.cloud.bigquery.dataset.DatasetListItem object at 0x795c14ee2c90>, <google.cloud.bigquery.dataset.DatasetListItem object at 0x795c14ee3350>, <google.cloud.bigquery.dataset.DatasetListItem object at 0x795c14ee2f90>, <google.cloud.bigquery.dataset.DatasetListItem object at 0x795c14ee2cd0>, <google.cloud.bigquery.dataset.DatasetListItem object at 0x795c14eeffd0>, <google.cloud.bigquery.dataset.DatasetListItem object at 0x795c14ef4050>, <google.cloud.bigquery.dataset.DatasetListItem object at 0x795c14ef4090>, <google.cloud.bigquery.dataset.DatasetListItem object at 0x795c14ef40d0>, <google.cloud.bigquery.dataset.DatasetListItem object at 0x795c14ef4110>, <google.cloud.bigquery.dataset.DatasetListItem object at 0x795c14ecdbd0>, <google.cloud.bigquery.dataset.DatasetListItem object at 0x795c14ea7bd0>, <google.cloud.bigquery.dataset.DatasetListItem object at 0x795c14ea7e10>, <google.cloud.bigquery.dataset.DatasetListItem object at 0x795c14e9d010>, <google.cloud.bigquery.dataset.DatasetListItem object at 0x795c14ee23d0>, <google.cloud.bigquery.dataset.DatasetListItem object at 0x795c14ee2410>, <google.cloud.bigquery.dataset.DatasetListItem object at 0x795c14ee32d0>, <google.cloud.bigquery.dataset.DatasetListItem object at 0x795c14ee3290>, <google.cloud.bigquery.dataset.DatasetListItem object at 0x795c14ee3010>, <google.cloud.bigquery.dataset.DatasetListItem object at 0x795c14ee31d0>, <google.cloud.bigquery.dataset.DatasetListItem object at 0x795c14ee3250>, <google.cloud.bigquery.dataset.DatasetListItem object at 0x795c14ee2590>, <google.cloud.bigquery.dataset.DatasetListItem object at 0x795c14ee3210>, <google.cloud.bigquery.dataset.DatasetListItem object at 0x795c14ee3110>, <google.cloud.bigquery.dataset.DatasetListItem object at 0x795c14ee2810>, <google.cloud.bigquery.dataset.DatasetListItem object at 0x795c14ee3150>, <google.cloud.bigquery.dataset.DatasetListItem object at 0x795c14ef4150>, <google.cloud.bigquery.dataset.DatasetListItem object at 0x795c14ef4190>, <google.cloud.bigquery.dataset.DatasetListItem object at 0x795c14ef41d0>, <google.cloud.bigquery.dataset.DatasetListItem object at 0x795c14ef42d0>, <google.cloud.bigquery.dataset.DatasetListItem object at 0x795c14ef4210>, <google.cloud.bigquery.dataset.DatasetListItem object at 0x795c14ef4250>, <google.cloud.bigquery.dataset.DatasetListItem object at 0x795c14ef4750>, <google.cloud.bigquery.dataset.DatasetListItem object at 0x795c14ef4610>, <google.cloud.bigquery.dataset.DatasetListItem object at 0x795c14ef4550>, <google.cloud.bigquery.dataset.DatasetListItem object at 0x795c14ef45d0>, <google.cloud.bigquery.dataset.DatasetListItem object at 0x795c14ef4590>, <google.cloud.bigquery.dataset.DatasetListItem object at 0x795c14ef4ad0>, <google.cloud.bigquery.dataset.DatasetListItem object at 0x795c14ef4b50>, <google.cloud.bigquery.dataset.DatasetListItem object at 0x795c14ef4b10>, <google.cloud.bigquery.dataset.DatasetListItem object at 0x795c14ef4a10>, <google.cloud.bigquery.dataset.DatasetListItem object at 0x795c14ef4890>, <google.cloud.bigquery.dataset.DatasetListItem object at 0x795c14ef4710>, <google.cloud.bigquery.dataset.DatasetListItem object at 0x795c14ef4e50>, <google.cloud.bigquery.dataset.DatasetListItem object at 0x795c14ef4d90>, <google.cloud.bigquery.dataset.DatasetListItem object at 0x795c14ef4e90>, <google.cloud.bigquery.dataset.DatasetListItem object at 0x795c14ef5390>, <google.cloud.bigquery.dataset.DatasetListItem object at 0x795c14ef4650>, <google.cloud.bigquery.dataset.DatasetListItem object at 0x795c14ef4e10>, <google.cloud.bigquery.dataset.DatasetListItem object at 0x795c14ef4d50>, <google.cloud.bigquery.dataset.DatasetListItem object at 0x795c14ef5310>, <google.cloud.bigquery.dataset.DatasetListItem object at 0x795c14ef4c10>, <google.cloud.bigquery.dataset.DatasetListItem object at 0x795c14ef52d0>, <google.cloud.bigquery.dataset.DatasetListItem object at 0x795c14ef4f10>, <google.cloud.bigquery.dataset.DatasetListItem object at 0x795c14ef4c50>, <google.cloud.bigquery.dataset.DatasetListItem object at 0x795c14efe910>, <google.cloud.bigquery.dataset.DatasetListItem object at 0x795c14efe950>, <google.cloud.bigquery.dataset.DatasetListItem object at 0x795c14efe990>, <google.cloud.bigquery.dataset.DatasetListItem object at 0x795c14efe9d0>, <google.cloud.bigquery.dataset.DatasetListItem object at 0x795c14efea10>, <google.cloud.bigquery.dataset.DatasetListItem object at 0x795c14ebb150>, <google.cloud.bigquery.dataset.DatasetListItem object at 0x795c14e9fa10>, <google.cloud.bigquery.dataset.DatasetListItem object at 0x795c14edadd0>, <google.cloud.bigquery.dataset.DatasetListItem object at 0x795c14eda990>, <google.cloud.bigquery.dataset.DatasetListItem object at 0x795c14ef4350>, <google.cloud.bigquery.dataset.DatasetListItem object at 0x795c14ef4390>, <google.cloud.bigquery.dataset.DatasetListItem object at 0x795c14ef5250>, <google.cloud.bigquery.dataset.DatasetListItem object at 0x795c14ef5210>, <google.cloud.bigquery.dataset.DatasetListItem object at 0x795c14ef4f90>, <google.cloud.bigquery.dataset.DatasetListItem object at 0x795c14ef5150>, <google.cloud.bigquery.dataset.DatasetListItem object at 0x795c14ef51d0>, <google.cloud.bigquery.dataset.DatasetListItem object at 0x795c14ef4510>, <google.cloud.bigquery.dataset.DatasetListItem object at 0x795c14ef5190>, <google.cloud.bigquery.dataset.DatasetListItem object at 0x795c14ef5090>, <google.cloud.bigquery.dataset.DatasetListItem object at 0x795c14ef4790>, <google.cloud.bigquery.dataset.DatasetListItem object at 0x795c14ef50d0>, <google.cloud.bigquery.dataset.DatasetListItem object at 0x795c14efea50>, <google.cloud.bigquery.dataset.DatasetListItem object at 0x795c14efea90>, <google.cloud.bigquery.dataset.DatasetListItem object at 0x795c14efead0>, <google.cloud.bigquery.dataset.DatasetListItem object at 0x795c14efebd0>, <google.cloud.bigquery.dataset.DatasetListItem object at 0x795c14efeb10>, <google.cloud.bigquery.dataset.DatasetListItem object at 0x795c14efeb50>, <google.cloud.bigquery.dataset.DatasetListItem object at 0x795c14eff090>, <google.cloud.bigquery.dataset.DatasetListItem object at 0x795c14efef50>, <google.cloud.bigquery.dataset.DatasetListItem object at 0x795c14efee90>, <google.cloud.bigquery.dataset.DatasetListItem object at 0x795c14efef10>, <google.cloud.bigquery.dataset.DatasetListItem object at 0x795c14efeed0>, <google.cloud.bigquery.dataset.DatasetListItem object at 0x795c14eff3d0>, <google.cloud.bigquery.dataset.DatasetListItem object at 0x795c14eff490>, <google.cloud.bigquery.dataset.DatasetListItem object at 0x795c14eff450>, <google.cloud.bigquery.dataset.DatasetListItem object at 0x795c14eff350>, <google.cloud.bigquery.dataset.DatasetListItem object at 0x795c14eff1d0>, <google.cloud.bigquery.dataset.DatasetListItem object at 0x795c14eff050>, <google.cloud.bigquery.dataset.DatasetListItem object at 0x795c14eff710>, <google.cloud.bigquery.dataset.DatasetListItem object at 0x795c14eff650>, <google.cloud.bigquery.dataset.DatasetListItem object at 0x795c14eff750>, <google.cloud.bigquery.dataset.DatasetListItem object at 0x795c14effcd0>, <google.cloud.bigquery.dataset.DatasetListItem object at 0x795c14eff290>, <google.cloud.bigquery.dataset.DatasetListItem object at 0x795c14eff6d0>, <google.cloud.bigquery.dataset.DatasetListItem object at 0x795c14eff850>, <google.cloud.bigquery.dataset.DatasetListItem object at 0x795c14effc50>]\n"
          ]
        }
      ],
      "source": [
        "datasets = list(client.list_datasets())\n",
        "print(datasets)"
      ]
    },
    {
      "cell_type": "markdown",
      "metadata": {
        "id": "WsLMF5p_QMp2"
      },
      "source": [
        "That wasn't helpful. We need to go deeper into the object structure to get at something meaningful. Below is a function that exploits the `format` method of `project` and `dataset_id`, providing an easy way to list datasets:"
      ]
    },
    {
      "cell_type": "code",
      "execution_count": 18,
      "metadata": {
        "id": "afIVw6FNQMp6"
      },
      "outputs": [],
      "source": [
        "# function for listing datasets in a project:\n",
        "def printDatasetList(client):\n",
        "    project = client.project    #: only one project can be associated with a client instance\n",
        "    datasets = list(client.list_datasets())\n",
        "    if datasets:\n",
        "        print('Datasets in project {}:'.format(project))\n",
        "        for dataset in datasets:\n",
        "            print('\\t{}'.format(dataset.dataset_id))\n",
        "        found = True\n",
        "    else:\n",
        "        print('{} project does not contain any datasets.'.format(project))\n",
        "        found = False\n",
        "    return found"
      ]
    },
    {
      "cell_type": "code",
      "execution_count": 19,
      "metadata": {
        "id": "LHsC_THYQMp7",
        "colab": {
          "base_uri": "https://localhost:8080/"
        },
        "outputId": "4a32cf15-a25f-4f85-edb7-69f6eee46697"
      },
      "outputs": [
        {
          "output_type": "stream",
          "name": "stdout",
          "text": [
            "Datasets in project bigquery-public-data:\n",
            "\tamerica_health_rankings\n",
            "\taustin_311\n",
            "\taustin_bikeshare\n",
            "\taustin_crime\n",
            "\taustin_incidents\n",
            "\taustin_waste\n",
            "\tbaseball\n",
            "\tbbc_news\n",
            "\tbigqueryml_ncaa\n",
            "\tbitcoin_blockchain\n",
            "\tblackhole_database\n",
            "\tblockchain_analytics_ethereum_mainnet_us\n",
            "\tbls\n",
            "\tbls_qcew\n",
            "\tbreathe\n",
            "\tbroadstreet_adi\n",
            "\tcatalonian_mobile_coverage\n",
            "\tcatalonian_mobile_coverage_eu\n",
            "\tcensus_bureau_acs\n",
            "\tcensus_bureau_construction\n",
            "\tcensus_bureau_international\n",
            "\tcensus_bureau_usa\n",
            "\tcensus_opportunity_atlas\n",
            "\tcensus_utility\n",
            "\tcfpb_complaints\n",
            "\tchicago_crime\n",
            "\tchicago_taxi_trips\n",
            "\tclemson_dice\n",
            "\tcloud_storage_geo_index\n",
            "\tcms_codes\n",
            "\tcms_medicare\n",
            "\tcms_synthetic_patient_data_omop\n",
            "\tcountry_codes\n",
            "\tcovid19_aha\n",
            "\tcovid19_covidtracking\n",
            "\tcovid19_ecdc\n",
            "\tcovid19_ecdc_eu\n",
            "\tcovid19_genome_sequence\n",
            "\tcovid19_geotab_mobility_impact\n",
            "\tcovid19_geotab_mobility_impact_eu\n",
            "\tcovid19_google_mobility\n",
            "\tcovid19_google_mobility_eu\n",
            "\tcovid19_govt_response\n",
            "\tcovid19_italy\n",
            "\tcovid19_italy_eu\n",
            "\tcovid19_jhu_csse\n",
            "\tcovid19_jhu_csse_eu\n",
            "\tcovid19_nyt\n",
            "\tcovid19_open_data\n",
            "\tcovid19_open_data_eu\n",
            "\tcovid19_public_forecasts\n",
            "\tcovid19_public_forecasts_asia_ne1\n",
            "\tcovid19_rxrx19\n",
            "\tcovid19_symptom_search\n",
            "\tcovid19_tracking\n",
            "\tcovid19_usafacts\n",
            "\tcovid19_vaccination_access\n",
            "\tcovid19_vaccination_search_insights\n",
            "\tcovid19_weathersource_com\n",
            "\tcrypto_aptos_mainnet_us\n",
            "\tcrypto_aptos_testnet_us\n",
            "\tcrypto_band\n",
            "\tcrypto_bitcoin\n",
            "\tcrypto_bitcoin_cash\n",
            "\tcrypto_dash\n",
            "\tcrypto_dogecoin\n",
            "\tcrypto_ethereum\n",
            "\tcrypto_ethereum_classic\n",
            "\tcrypto_iotex\n",
            "\tcrypto_kusama\n",
            "\tcrypto_litecoin\n",
            "\tcrypto_multiversx_mainnet_eu\n",
            "\tcrypto_near_mainnet_us\n",
            "\tcrypto_polkadot\n",
            "\tcrypto_polygon\n",
            "\tcrypto_solana_mainnet_us\n",
            "\tcrypto_sui_mainnet_us\n",
            "\tcrypto_tezos\n",
            "\tcrypto_theta\n",
            "\tcrypto_zcash\n",
            "\tcrypto_zilliqa\n",
            "\tcymbal_investments\n",
            "\tdataflix_covid\n",
            "\tdataflix_traffic_safety\n",
            "\tdeepmind_alphafold\n",
            "\tdeps_dev_v1\n",
            "\tdimensions_ai_covid19\n",
            "\tebi_chembl\n",
            "\tebi_mgnify\n",
            "\tebi_surechembl\n",
            "\teclipse_megamovie\n",
            "\tepa_historical_air_quality\n",
            "\tethereum_blockchain\n",
            "\tetsi_technical_standards\n",
            "\tfaa\n",
            "\tfcc_political_ads\n",
            "\tfda_drug\n",
            "\tfda_food\n",
            "\tfdic_banks\n",
            "\tfec\n",
            "\tfhir_synthea\n",
            "\tga4_obfuscated_sample_ecommerce\n",
            "\tgbif\n",
            "\tgdelt_hathitrustbooks\n",
            "\tgdelt_internetarchivebooks\n",
            "\tgenomics_cannabis\n",
            "\tgenomics_rice\n",
            "\tgeo_census_blockgroups\n",
            "\tgeo_census_tracts\n",
            "\tgeo_international_ports\n",
            "\tgeo_openstreetmap\n",
            "\tgeo_us_boundaries\n",
            "\tgeo_us_census_places\n",
            "\tgeo_us_roads\n",
            "\tgeo_whos_on_first\n",
            "\tghcn_d\n",
            "\tghcn_m\n",
            "\tgithub_repos\n",
            "\tgnomAD\n",
            "\tgnomAD_asiane1\n",
            "\tgnomAD_eu\n",
            "\tgoog_blockchain_arbitrum_one_us\n",
            "\tgoog_blockchain_avalanche_contract_chain_us\n",
            "\tgoog_blockchain_cronos_mainnet_us\n",
            "\tgoog_blockchain_ethereum_goerli_us\n",
            "\tgoog_blockchain_ethereum_mainnet_us\n",
            "\tgoog_blockchain_fantom_opera_us\n",
            "\tgoog_blockchain_optimism_mainnet_us\n",
            "\tgoog_blockchain_polygon_mainnet_us\n",
            "\tgoog_blockchain_tron_mainnet_us\n",
            "\tgoogle_ads\n",
            "\tgoogle_ads_geo_mapping_asia_east1\n",
            "\tgoogle_ads_geo_mapping_asia_east2\n",
            "\tgoogle_ads_geo_mapping_asia_northeast1\n",
            "\tgoogle_ads_geo_mapping_asia_northeast2\n",
            "\tgoogle_ads_geo_mapping_asia_northeast3\n",
            "\tgoogle_ads_geo_mapping_asia_south1\n",
            "\tgoogle_ads_geo_mapping_asia_south2\n",
            "\tgoogle_ads_geo_mapping_asia_southeast1\n",
            "\tgoogle_ads_geo_mapping_asia_southeast2\n",
            "\tgoogle_ads_geo_mapping_australia_southeast1\n",
            "\tgoogle_ads_geo_mapping_australia_southeast2\n",
            "\tgoogle_ads_geo_mapping_eu\n",
            "\tgoogle_ads_geo_mapping_europe_central2\n",
            "\tgoogle_ads_geo_mapping_europe_north1\n",
            "\tgoogle_ads_geo_mapping_europe_southwest1\n",
            "\tgoogle_ads_geo_mapping_europe_west1\n",
            "\tgoogle_ads_geo_mapping_europe_west12\n",
            "\tgoogle_ads_geo_mapping_europe_west2\n",
            "\tgoogle_ads_geo_mapping_europe_west3\n",
            "\tgoogle_ads_geo_mapping_europe_west4\n",
            "\tgoogle_ads_geo_mapping_europe_west6\n",
            "\tgoogle_ads_geo_mapping_europe_west8\n",
            "\tgoogle_ads_geo_mapping_europe_west9\n",
            "\tgoogle_ads_geo_mapping_me_central1\n",
            "\tgoogle_ads_geo_mapping_me_central2\n",
            "\tgoogle_ads_geo_mapping_me_west1\n",
            "\tgoogle_ads_geo_mapping_northamerica_northeast1\n",
            "\tgoogle_ads_geo_mapping_northamerica_northeast2\n",
            "\tgoogle_ads_geo_mapping_southamerica_east1\n",
            "\tgoogle_ads_geo_mapping_southamerica_west1\n",
            "\tgoogle_ads_geo_mapping_us\n",
            "\tgoogle_ads_geo_mapping_us_central1\n",
            "\tgoogle_ads_geo_mapping_us_central2\n",
            "\tgoogle_ads_geo_mapping_us_east1\n",
            "\tgoogle_ads_geo_mapping_us_east4\n",
            "\tgoogle_ads_geo_mapping_us_east5\n",
            "\tgoogle_ads_geo_mapping_us_south1\n",
            "\tgoogle_ads_geo_mapping_us_west1\n",
            "\tgoogle_ads_geo_mapping_us_west2\n",
            "\tgoogle_ads_geo_mapping_us_west3\n",
            "\tgoogle_ads_geo_mapping_us_west4\n",
            "\tgoogle_ads_transparency_center\n",
            "\tgoogle_analytics_sample\n",
            "\tgoogle_books_ngrams_2020\n",
            "\tgoogle_cfe\n",
            "\tgoogle_cloud_release_notes\n",
            "\tgoogle_dei\n",
            "\tgoogle_patents_research\n",
            "\tgoogle_political_ads\n",
            "\tgoogle_trends\n",
            "\tgretel_synthetic_text_to_sql\n",
            "\thacker_news\n",
            "\thud_zipcode_crosswalk\n",
            "\thuman_genome_variants\n",
            "\thuman_variant_annotation\n",
            "\tidc_current\n",
            "\tidc_current_clinical\n",
            "\tidc_v1\n",
            "\tidc_v10\n",
            "\tidc_v11\n",
            "\tidc_v11_clinical\n",
            "\tidc_v12\n",
            "\tidc_v12_clinical\n",
            "\tidc_v13\n",
            "\tidc_v13_clinical\n",
            "\tidc_v14\n",
            "\tidc_v14_clinical\n",
            "\tidc_v15\n",
            "\tidc_v15_clinical\n",
            "\tidc_v16\n",
            "\tidc_v16_clinical\n",
            "\tidc_v17\n",
            "\tidc_v17_clinical\n",
            "\tidc_v18\n",
            "\tidc_v18_clinical\n",
            "\tidc_v19\n",
            "\tidc_v19_clinical\n",
            "\tidc_v2\n",
            "\tidc_v20\n",
            "\tidc_v20_clinical\n",
            "\tidc_v21\n",
            "\tidc_v21_clinical\n",
            "\tidc_v3\n",
            "\tidc_v4\n",
            "\tidc_v5\n",
            "\tidc_v6\n",
            "\tidc_v7\n",
            "\tidc_v8\n",
            "\tidc_v9\n",
            "\timdb\n",
            "\timmune_epitope_db\n",
            "\tiowa_liquor_sales\n",
            "\tiowa_liquor_sales_forecasting\n",
            "\tirs_990\n",
            "\tlabeled_patents\n",
            "\tlibraries_io\n",
            "\tlistenbrainz\n",
            "\tlondon_bicycles\n",
            "\tlondon_crime\n",
            "\tlondon_fire_brigade\n",
            "\tmarec\n",
            "\tmedicare\n",
            "\tml_datasets\n",
            "\tml_datasets_uscentral1\n",
            "\tmodis_terra_net_primary_production\n",
            "\tmoon_phases\n",
            "\tmultilingual_spoken_words_corpus\n",
            "\tnasa_wildfire\n",
            "\tnational_water_model\n",
            "\tncaa_basketball\n",
            "\tnces_ipeds\n",
            "\tnew_york\n",
            "\tnew_york_311\n",
            "\tnew_york_citibike\n",
            "\tnew_york_mv_collisions\n",
            "\tnew_york_subway\n",
            "\tnew_york_taxi_trips\n",
            "\tnew_york_trees\n",
            "\tnhtsa_traffic_fatalities\n",
            "\tnih_gudid\n",
            "\tnih_sequence_read\n",
            "\tnlm_rxnorm\n",
            "\tnoaa_global_forecast_system\n",
            "\tnoaa_goes16\n",
            "\tnoaa_goes17\n",
            "\tnoaa_gsod\n",
            "\tnoaa_historic_severe_storms\n",
            "\tnoaa_hurricanes\n",
            "\tnoaa_icoads\n",
            "\tnoaa_lightning\n",
            "\tnoaa_passive_acoustic_index\n",
            "\tnoaa_passive_bioacoustic\n",
            "\tnoaa_pifsc_metadata\n",
            "\tnoaa_preliminary_severe_storms\n",
            "\tnoaa_significant_earthquakes\n",
            "\tnoaa_tsunami\n",
            "\tnppes\n",
            "\tnrel_nsrdb\n",
            "\topen_buildings\n",
            "\topen_images\n",
            "\topen_targets_genetics\n",
            "\topen_targets_platform\n",
            "\topenaq\n",
            "\toverture_maps\n",
            "\tpatents\n",
            "\tpatents_cpc\n",
            "\tpatents_dsep\n",
            "\tpatents_view\n",
            "\tpersistent_udfs\n",
            "\tproperati_properties_ar\n",
            "\tproperati_properties_br\n",
            "\tproperati_properties_cl\n",
            "\tproperati_properties_co\n",
            "\tproperati_properties_mx\n",
            "\tproperati_properties_pe\n",
            "\tproperati_properties_uy\n",
            "\tpypi\n",
            "\trekor\n",
            "\tsamples\n",
            "\tsan_francisco\n",
            "\tsan_francisco_311\n",
            "\tsan_francisco_bikeshare\n",
            "\tsan_francisco_film_locations\n",
            "\tsan_francisco_neighborhoods\n",
            "\tsan_francisco_sffd_service_calls\n",
            "\tsan_francisco_sfpd_incidents\n",
            "\tsan_francisco_transit_muni\n",
            "\tsan_francisco_trees\n",
            "\tsdoh_bea_cainc30\n",
            "\tsdoh_cdc_wonder_natality\n",
            "\tsdoh_cms_dual_eligible_enrollment\n",
            "\tsdoh_hrsa_shortage_areas\n",
            "\tsdoh_hud_housing\n",
            "\tsdoh_hud_pit_homelessness\n",
            "\tsdoh_snap_enrollment\n",
            "\tsec_quarterly_financials\n",
            "\tstackoverflow\n",
            "\tsunroof_solar\n",
            "\tthe_general_index\n",
            "\tthe_met\n",
            "\tthelook_ecommerce\n",
            "\ttpc_ds_10t\n",
            "\ttravel_impact_model\n",
            "\tucb_fung_patent_data\n",
            "\tumiami_lincs\n",
            "\tun_sdg\n",
            "\tus_res_real_est_data\n",
            "\tusa_contagious_disease\n",
            "\tusa_names\n",
            "\tusda_nass_agriculture\n",
            "\tusfs_fia\n",
            "\tusitc_investigations\n",
            "\tuspto_oce_assignment\n",
            "\tuspto_oce_cancer\n",
            "\tuspto_oce_claims\n",
            "\tuspto_oce_litigation\n",
            "\tuspto_oce_office_actions\n",
            "\tuspto_oce_pair\n",
            "\tuspto_ptab\n",
            "\tutility_eu\n",
            "\tutility_us\n",
            "\twikipedia\n",
            "\twise_all_sky_data_release\n",
            "\tworld_bank_global_population\n",
            "\tworld_bank_health_population\n",
            "\tworld_bank_intl_debt\n",
            "\tworld_bank_intl_education\n",
            "\tworld_bank_wdi\n",
            "\tworldbank_wdi\n",
            "\tworldpop\n"
          ]
        }
      ],
      "source": [
        "# list datasets in the default project:\n",
        "flag = printDatasetList(client)  #: assigning to `flag` suppresses printing the return value (normally `True`)"
      ]
    },
    {
      "cell_type": "markdown",
      "metadata": {
        "id": "PUB7M5KEQMp-"
      },
      "source": [
        "This list should correspond to what is shown here https://bigquery.cloud.google.com/publicdatasets under the **bigquery-public-data** item."
      ]
    },
    {
      "cell_type": "markdown",
      "metadata": {
        "id": "1eGTZqizQMp-"
      },
      "source": [
        "Here is how to create a dataset reference object by assigning a project and a dataset name:"
      ]
    },
    {
      "cell_type": "code",
      "execution_count": 20,
      "metadata": {
        "id": "Rja9NOTyQMp_"
      },
      "outputs": [],
      "source": [
        "dataset_id = 'samples'\n",
        "dataset_ref = client.dataset(dataset_id)"
      ]
    },
    {
      "cell_type": "markdown",
      "metadata": {
        "id": "wVeBwg8JQMqB"
      },
      "source": [
        "If our current project was something other than `bigquery-public-data`, we could still create this reference by specifying the project that contains the dataset:"
      ]
    },
    {
      "cell_type": "code",
      "execution_count": 21,
      "metadata": {
        "id": "pUcHVtXYQMqB"
      },
      "outputs": [],
      "source": [
        "dataset_id = 'samples'\n",
        "dataset_ref = client.dataset(dataset_id, project = 'bigquery-public-data')"
      ]
    },
    {
      "cell_type": "markdown",
      "metadata": {
        "id": "JfrckJFYQMqE"
      },
      "source": [
        "How can we get the path of the dataset?"
      ]
    },
    {
      "cell_type": "code",
      "execution_count": 22,
      "metadata": {
        "id": "aqKCkd8zQMqE",
        "colab": {
          "base_uri": "https://localhost:8080/",
          "height": 35
        },
        "outputId": "d1538903-d67f-4b44-9884-f444cb066165"
      },
      "outputs": [
        {
          "output_type": "execute_result",
          "data": {
            "text/plain": [
              "'/projects/bigquery-public-data/datasets/samples'"
            ],
            "application/vnd.google.colaboratory.intrinsic+json": {
              "type": "string"
            }
          },
          "metadata": {},
          "execution_count": 22
        }
      ],
      "source": [
        "#ANSWER:\n",
        "dataset_ref.path"
      ]
    },
    {
      "cell_type": "markdown",
      "metadata": {
        "id": "fz7DDChLQMqH"
      },
      "source": [
        "Explore more of this object's members:\n",
        "\n",
        "*(HINT: You can type `dataset_ref.` in a new line, then hit the [Tab] key to see the available members for the object.)*"
      ]
    },
    {
      "cell_type": "code",
      "execution_count": 34,
      "metadata": {
        "id": "_UJplaMnQMqH",
        "colab": {
          "base_uri": "https://localhost:8080/",
          "height": 35
        },
        "outputId": "c497eb75-4d8d-4e73-976b-3505e20619ca"
      },
      "outputs": [
        {
          "output_type": "execute_result",
          "data": {
            "text/plain": [
              "'bigquery-public-data'"
            ],
            "application/vnd.google.colaboratory.intrinsic+json": {
              "type": "string"
            }
          },
          "metadata": {},
          "execution_count": 34
        }
      ],
      "source": [
        "#?\n",
        "dataset_ref.project"
      ]
    },
    {
      "cell_type": "markdown",
      "metadata": {
        "id": "DBPXcGciQMqJ"
      },
      "source": [
        "Here is a function for listing the tables in a dataset:"
      ]
    },
    {
      "cell_type": "code",
      "execution_count": 24,
      "metadata": {
        "id": "yLvSI1HiQMqK"
      },
      "outputs": [],
      "source": [
        "# function for listing tables in a dataset:\n",
        "def printTableList(client, dataset_id):\n",
        "    project = client.project\n",
        "    dataset_ref = client.dataset(dataset_id, project = project)\n",
        "    tables = list(client.list_tables(dataset_ref))\n",
        "    if tables:\n",
        "        print('Tables in dataset {}:'.format(dataset_id))\n",
        "        for table in tables:\n",
        "            print('\\t{}'.format(table.table_id))\n",
        "        found = True\n",
        "    else:\n",
        "        print('{} dataset does not contain any tables.'.format(dataset_id))\n",
        "        found = False\n",
        "    return found"
      ]
    },
    {
      "cell_type": "markdown",
      "metadata": {
        "id": "a-K9gx_ZQMqL"
      },
      "source": [
        "Use this function to list the tables in the current dataset:"
      ]
    },
    {
      "cell_type": "code",
      "execution_count": 19,
      "metadata": {
        "id": "iQVbZwLRQMqL",
        "colab": {
          "base_uri": "https://localhost:8080/"
        },
        "outputId": "b661f851-5151-45d0-cabe-5ab5b1424273"
      },
      "outputs": [
        {
          "output_type": "stream",
          "name": "stdout",
          "text": [
            "Tables in dataset samples:\n",
            "\tgithub_nested\n",
            "\tgithub_timeline\n",
            "\tgsod\n",
            "\tnatality\n",
            "\tshakespeare\n",
            "\ttrigrams\n",
            "\twikipedia\n"
          ]
        },
        {
          "output_type": "execute_result",
          "data": {
            "text/plain": [
              "True"
            ]
          },
          "metadata": {},
          "execution_count": 19
        }
      ],
      "source": [
        "#ANSWER\n",
        "printTableList(client, dataset_id)"
      ]
    },
    {
      "cell_type": "markdown",
      "metadata": {
        "id": "F6CzLw6YQMqN"
      },
      "source": [
        "To create a reference to a table within the dataset, we use the `table_id` attribute:"
      ]
    },
    {
      "cell_type": "code",
      "execution_count": 25,
      "metadata": {
        "id": "OIAuOmziQMqO"
      },
      "outputs": [],
      "source": [
        "table_id = 'shakespeare'\n",
        "table_ref = dataset_ref.table(table_id)"
      ]
    },
    {
      "cell_type": "markdown",
      "metadata": {
        "id": "A7LCWxz9QMqQ"
      },
      "source": [
        "To access the data in the table itself, we use the `get_table()` method:"
      ]
    },
    {
      "cell_type": "code",
      "execution_count": 26,
      "metadata": {
        "id": "l0-fX9j0QMqR"
      },
      "outputs": [],
      "source": [
        "table = client.get_table(table_ref)  # API Request"
      ]
    },
    {
      "cell_type": "markdown",
      "metadata": {
        "id": "TuWzIYpEQMqS"
      },
      "source": [
        "NOTE: The contents of the table are not actually in our memory after this call! We are working with a Big Data platform, now, and we could easily end up pulling GBs or TBs of data by accident.\n",
        "\n",
        "To minimise data bandwidth, memory consumption, and processing time, Big Data platforms employ ***lazy evaluation***. This means that no computation or data transfer actually takes place until we *realise* (use) the data. Even if we execute subsequent code that performs calculations on the data, no data flow or computation actually occurs until we request output (e.g. by executing a print to stdout or writing to a file)."
      ]
    },
    {
      "cell_type": "markdown",
      "metadata": {
        "id": "A5sefu0lQMqS"
      },
      "source": [
        "What kind of object is returned by `client.get_table`?"
      ]
    },
    {
      "cell_type": "code",
      "execution_count": 22,
      "metadata": {
        "id": "kF-aRGZsQMqS",
        "colab": {
          "base_uri": "https://localhost:8080/",
          "height": 187
        },
        "outputId": "43c95908-9ac3-4787-c159-79d77894c4bc"
      },
      "outputs": [
        {
          "output_type": "execute_result",
          "data": {
            "text/plain": [
              "google.cloud.bigquery.table.Table"
            ],
            "text/html": [
              "<div style=\"max-width:800px; border: 1px solid var(--colab-border-color);\"><style>\n",
              "      pre.function-repr-contents {\n",
              "        overflow-x: auto;\n",
              "        padding: 8px 12px;\n",
              "        max-height: 500px;\n",
              "      }\n",
              "\n",
              "      pre.function-repr-contents.function-repr-contents-collapsed {\n",
              "        cursor: pointer;\n",
              "        max-height: 100px;\n",
              "      }\n",
              "    </style>\n",
              "    <pre style=\"white-space: initial; background:\n",
              "         var(--colab-secondary-surface-color); padding: 8px 12px;\n",
              "         border-bottom: 1px solid var(--colab-border-color);\"><b>google.cloud.bigquery.table.Table</b><br/>def __init__(table_ref, schema=None) -&gt; None</pre><pre class=\"function-repr-contents function-repr-contents-collapsed\" style=\"\"><a class=\"filepath\" style=\"display:none\" href=\"#\">/usr/local/lib/python3.11/dist-packages/google/cloud/bigquery/table.py</a>Tables represent a set of rows whose values correspond to a schema.\n",
              "\n",
              "See\n",
              "https://cloud.google.com/bigquery/docs/reference/rest/v2/tables#resource-table\n",
              "\n",
              "Args:\n",
              "    table_ref (Union[google.cloud.bigquery.table.TableReference, str]):\n",
              "        A pointer to a table. If ``table_ref`` is a string, it must\n",
              "        included a project ID, dataset ID, and table ID, each separated\n",
              "        by ``.``.\n",
              "    schema (Optional[Sequence[Union[                 :class:`~google.cloud.bigquery.schema.SchemaField`,                 Mapping[str, Any]         ]]]):\n",
              "        The table&#x27;s schema. If any item is a mapping, its content must be\n",
              "        compatible with\n",
              "        :meth:`~google.cloud.bigquery.schema.SchemaField.from_api_repr`.</pre>\n",
              "      <script>\n",
              "      if (google.colab.kernel.accessAllowed && google.colab.files && google.colab.files.view) {\n",
              "        for (const element of document.querySelectorAll('.filepath')) {\n",
              "          element.style.display = 'block'\n",
              "          element.onclick = (event) => {\n",
              "            event.preventDefault();\n",
              "            event.stopPropagation();\n",
              "            google.colab.files.view(element.textContent, 361);\n",
              "          };\n",
              "        }\n",
              "      }\n",
              "      for (const element of document.querySelectorAll('.function-repr-contents')) {\n",
              "        element.onclick = (event) => {\n",
              "          event.preventDefault();\n",
              "          event.stopPropagation();\n",
              "          element.classList.toggle('function-repr-contents-collapsed');\n",
              "        };\n",
              "      }\n",
              "      </script>\n",
              "      </div>"
            ]
          },
          "metadata": {},
          "execution_count": 22
        }
      ],
      "source": [
        "#ANSWER:\n",
        "type(table)"
      ]
    },
    {
      "cell_type": "markdown",
      "metadata": {
        "id": "fPiGLOjnQMqU"
      },
      "source": [
        "How can we view the design of the table (column names and types)? The name of the object attribute we need is the same term we learned in the module on databases:"
      ]
    },
    {
      "cell_type": "code",
      "execution_count": 23,
      "metadata": {
        "id": "lBNJqT9EQMqU",
        "colab": {
          "base_uri": "https://localhost:8080/"
        },
        "outputId": "0cbdde09-9bad-41ca-f432-897cfe45951b"
      },
      "outputs": [
        {
          "output_type": "stream",
          "name": "stdout",
          "text": [
            "[SchemaField('word', 'STRING', 'REQUIRED', None, 'A single unique word (where whitespace is the delimiter) extracted from a corpus.', (), None), SchemaField('word_count', 'INTEGER', 'REQUIRED', None, 'The number of times this word appears in this corpus.', (), None), SchemaField('corpus', 'STRING', 'REQUIRED', None, 'The work from which this word was extracted.', (), None), SchemaField('corpus_date', 'INTEGER', 'REQUIRED', None, 'The year in which this corpus was published.', (), None)]\n"
          ]
        }
      ],
      "source": [
        "#ANSWER\n",
        "print(table.schema)"
      ]
    },
    {
      "cell_type": "markdown",
      "metadata": {
        "id": "iGrt3XsIQMqW"
      },
      "source": [
        "Again, this is messy. If we wanted to refer to the column names and types in code, we might use something like this (which we could then parse into a dict):"
      ]
    },
    {
      "cell_type": "code",
      "execution_count": 27,
      "metadata": {
        "id": "G27W0Q9QQMqX",
        "colab": {
          "base_uri": "https://localhost:8080/"
        },
        "outputId": "cd4c8225-4fa2-4019-e8df-36265a98a25f"
      },
      "outputs": [
        {
          "output_type": "stream",
          "name": "stdout",
          "text": [
            "['word STRING', 'word_count INTEGER', 'corpus STRING', 'corpus_date INTEGER']\n"
          ]
        }
      ],
      "source": [
        "result = [\"{0} {1}\".format(schema.name,schema.field_type) for schema in table.schema]\n",
        "print(result)"
      ]
    },
    {
      "cell_type": "markdown",
      "metadata": {
        "id": "EKV8IsmlQMqY"
      },
      "source": [
        "But if we just want to print them, here is another neat function for that:"
      ]
    },
    {
      "cell_type": "code",
      "execution_count": 28,
      "metadata": {
        "id": "m1uf0jPxQMqZ"
      },
      "outputs": [],
      "source": [
        "# function to print a table schema:\n",
        "def printTableSchema(aTable):\n",
        "    schemas = list(aTable.schema)\n",
        "    if schemas:\n",
        "        print('Table schema for {}:'.format(aTable.table_id))\n",
        "        for aSchema in schemas:\n",
        "            print('\\t{0} {1}'.format(aSchema.name, aSchema.field_type))\n",
        "        found = True\n",
        "    else:\n",
        "        found = False\n",
        "    return found"
      ]
    },
    {
      "cell_type": "markdown",
      "metadata": {
        "id": "3-l8kOkVQMqa"
      },
      "source": [
        "Use this function to print the table schema:"
      ]
    },
    {
      "cell_type": "code",
      "execution_count": 26,
      "metadata": {
        "id": "zc10udqtQMqa",
        "colab": {
          "base_uri": "https://localhost:8080/"
        },
        "outputId": "8c7f0919-16ca-4529-98b5-629d22dfe7b3"
      },
      "outputs": [
        {
          "output_type": "stream",
          "name": "stdout",
          "text": [
            "Table schema for shakespeare:\n",
            "\tword STRING\n",
            "\tword_count INTEGER\n",
            "\tcorpus STRING\n",
            "\tcorpus_date INTEGER\n"
          ]
        },
        {
          "output_type": "execute_result",
          "data": {
            "text/plain": [
              "True"
            ]
          },
          "metadata": {},
          "execution_count": 26
        }
      ],
      "source": [
        "#ANSWER:\n",
        "printTableSchema(table)"
      ]
    },
    {
      "cell_type": "markdown",
      "metadata": {
        "id": "b8CKkZBPQMqc"
      },
      "source": [
        "Now that we know what the columns are, we can write queries. Actually, we construct a query job by assigning an SQL statement to a method of the `client` object:"
      ]
    },
    {
      "cell_type": "code",
      "source": [
        "# Step 2: Authenticate\n",
        "from google.colab import auth\n",
        "auth.authenticate_user()\n"
      ],
      "metadata": {
        "id": "gNOzi8WRHGEW"
      },
      "execution_count": 35,
      "outputs": []
    },
    {
      "cell_type": "code",
      "source": [
        "# Step 3: Import libraries and set project ID\n",
        "from google.cloud import bigquery\n",
        "from google.cloud import bigquery_storage\n",
        "\n",
        "project_id = \"my-project-iod-ff\"  # your GCP project\n",
        "client = bigquery.Client(project=project_id)\n",
        "bqstorage_client = bigquery_storage.BigQueryReadClient()\n"
      ],
      "metadata": {
        "id": "yzHe1_7ZHOg7"
      },
      "execution_count": 36,
      "outputs": []
    },
    {
      "cell_type": "code",
      "source": [
        "# Step 4: Run a public dataset query using your project as the billing project\n",
        "query_job = client.query(\"\"\"\n",
        "    SELECT name, gender, number\n",
        "    FROM `bigquery-public-data.usa_names.usa_1910_2013`\n",
        "    WHERE state = 'TX'\n",
        "    LIMIT 10\n",
        "\"\"\", project=project_id)\n",
        "\n",
        "# Step 5: Convert to DataFrame\n",
        "df = query_job.to_dataframe(bqstorage_client=bqstorage_client)\n",
        "df\n"
      ],
      "metadata": {
        "colab": {
          "base_uri": "https://localhost:8080/",
          "height": 363
        },
        "id": "AQmzRBHjHP87",
        "outputId": "33708dda-1c98-46ee-ceb1-9f3cc6bee41d"
      },
      "execution_count": 39,
      "outputs": [
        {
          "output_type": "execute_result",
          "data": {
            "text/plain": [
              "        name gender  number\n",
              "0     Willie      F     260\n",
              "1      Flora      F      40\n",
              "2     Stella      F      69\n",
              "3     Esther      F      69\n",
              "4       Erma      F      38\n",
              "5      Katie      F      58\n",
              "6      Ethel      F     154\n",
              "7       Cora      F      61\n",
              "8  Margarita      F      47\n",
              "9        Mae      F      63"
            ],
            "text/html": [
              "\n",
              "  <div id=\"df-70f90e5d-43a0-442a-949e-3e020f7f3555\" class=\"colab-df-container\">\n",
              "    <div>\n",
              "<style scoped>\n",
              "    .dataframe tbody tr th:only-of-type {\n",
              "        vertical-align: middle;\n",
              "    }\n",
              "\n",
              "    .dataframe tbody tr th {\n",
              "        vertical-align: top;\n",
              "    }\n",
              "\n",
              "    .dataframe thead th {\n",
              "        text-align: right;\n",
              "    }\n",
              "</style>\n",
              "<table border=\"1\" class=\"dataframe\">\n",
              "  <thead>\n",
              "    <tr style=\"text-align: right;\">\n",
              "      <th></th>\n",
              "      <th>name</th>\n",
              "      <th>gender</th>\n",
              "      <th>number</th>\n",
              "    </tr>\n",
              "  </thead>\n",
              "  <tbody>\n",
              "    <tr>\n",
              "      <th>0</th>\n",
              "      <td>Willie</td>\n",
              "      <td>F</td>\n",
              "      <td>260</td>\n",
              "    </tr>\n",
              "    <tr>\n",
              "      <th>1</th>\n",
              "      <td>Flora</td>\n",
              "      <td>F</td>\n",
              "      <td>40</td>\n",
              "    </tr>\n",
              "    <tr>\n",
              "      <th>2</th>\n",
              "      <td>Stella</td>\n",
              "      <td>F</td>\n",
              "      <td>69</td>\n",
              "    </tr>\n",
              "    <tr>\n",
              "      <th>3</th>\n",
              "      <td>Esther</td>\n",
              "      <td>F</td>\n",
              "      <td>69</td>\n",
              "    </tr>\n",
              "    <tr>\n",
              "      <th>4</th>\n",
              "      <td>Erma</td>\n",
              "      <td>F</td>\n",
              "      <td>38</td>\n",
              "    </tr>\n",
              "    <tr>\n",
              "      <th>5</th>\n",
              "      <td>Katie</td>\n",
              "      <td>F</td>\n",
              "      <td>58</td>\n",
              "    </tr>\n",
              "    <tr>\n",
              "      <th>6</th>\n",
              "      <td>Ethel</td>\n",
              "      <td>F</td>\n",
              "      <td>154</td>\n",
              "    </tr>\n",
              "    <tr>\n",
              "      <th>7</th>\n",
              "      <td>Cora</td>\n",
              "      <td>F</td>\n",
              "      <td>61</td>\n",
              "    </tr>\n",
              "    <tr>\n",
              "      <th>8</th>\n",
              "      <td>Margarita</td>\n",
              "      <td>F</td>\n",
              "      <td>47</td>\n",
              "    </tr>\n",
              "    <tr>\n",
              "      <th>9</th>\n",
              "      <td>Mae</td>\n",
              "      <td>F</td>\n",
              "      <td>63</td>\n",
              "    </tr>\n",
              "  </tbody>\n",
              "</table>\n",
              "</div>\n",
              "    <div class=\"colab-df-buttons\">\n",
              "\n",
              "  <div class=\"colab-df-container\">\n",
              "    <button class=\"colab-df-convert\" onclick=\"convertToInteractive('df-70f90e5d-43a0-442a-949e-3e020f7f3555')\"\n",
              "            title=\"Convert this dataframe to an interactive table.\"\n",
              "            style=\"display:none;\">\n",
              "\n",
              "  <svg xmlns=\"http://www.w3.org/2000/svg\" height=\"24px\" viewBox=\"0 -960 960 960\">\n",
              "    <path d=\"M120-120v-720h720v720H120Zm60-500h600v-160H180v160Zm220 220h160v-160H400v160Zm0 220h160v-160H400v160ZM180-400h160v-160H180v160Zm440 0h160v-160H620v160ZM180-180h160v-160H180v160Zm440 0h160v-160H620v160Z\"/>\n",
              "  </svg>\n",
              "    </button>\n",
              "\n",
              "  <style>\n",
              "    .colab-df-container {\n",
              "      display:flex;\n",
              "      gap: 12px;\n",
              "    }\n",
              "\n",
              "    .colab-df-convert {\n",
              "      background-color: #E8F0FE;\n",
              "      border: none;\n",
              "      border-radius: 50%;\n",
              "      cursor: pointer;\n",
              "      display: none;\n",
              "      fill: #1967D2;\n",
              "      height: 32px;\n",
              "      padding: 0 0 0 0;\n",
              "      width: 32px;\n",
              "    }\n",
              "\n",
              "    .colab-df-convert:hover {\n",
              "      background-color: #E2EBFA;\n",
              "      box-shadow: 0px 1px 2px rgba(60, 64, 67, 0.3), 0px 1px 3px 1px rgba(60, 64, 67, 0.15);\n",
              "      fill: #174EA6;\n",
              "    }\n",
              "\n",
              "    .colab-df-buttons div {\n",
              "      margin-bottom: 4px;\n",
              "    }\n",
              "\n",
              "    [theme=dark] .colab-df-convert {\n",
              "      background-color: #3B4455;\n",
              "      fill: #D2E3FC;\n",
              "    }\n",
              "\n",
              "    [theme=dark] .colab-df-convert:hover {\n",
              "      background-color: #434B5C;\n",
              "      box-shadow: 0px 1px 3px 1px rgba(0, 0, 0, 0.15);\n",
              "      filter: drop-shadow(0px 1px 2px rgba(0, 0, 0, 0.3));\n",
              "      fill: #FFFFFF;\n",
              "    }\n",
              "  </style>\n",
              "\n",
              "    <script>\n",
              "      const buttonEl =\n",
              "        document.querySelector('#df-70f90e5d-43a0-442a-949e-3e020f7f3555 button.colab-df-convert');\n",
              "      buttonEl.style.display =\n",
              "        google.colab.kernel.accessAllowed ? 'block' : 'none';\n",
              "\n",
              "      async function convertToInteractive(key) {\n",
              "        const element = document.querySelector('#df-70f90e5d-43a0-442a-949e-3e020f7f3555');\n",
              "        const dataTable =\n",
              "          await google.colab.kernel.invokeFunction('convertToInteractive',\n",
              "                                                    [key], {});\n",
              "        if (!dataTable) return;\n",
              "\n",
              "        const docLinkHtml = 'Like what you see? Visit the ' +\n",
              "          '<a target=\"_blank\" href=https://colab.research.google.com/notebooks/data_table.ipynb>data table notebook</a>'\n",
              "          + ' to learn more about interactive tables.';\n",
              "        element.innerHTML = '';\n",
              "        dataTable['output_type'] = 'display_data';\n",
              "        await google.colab.output.renderOutput(dataTable, element);\n",
              "        const docLink = document.createElement('div');\n",
              "        docLink.innerHTML = docLinkHtml;\n",
              "        element.appendChild(docLink);\n",
              "      }\n",
              "    </script>\n",
              "  </div>\n",
              "\n",
              "\n",
              "    <div id=\"df-84fd9557-70a8-4db4-b8f6-77c41f7866a5\">\n",
              "      <button class=\"colab-df-quickchart\" onclick=\"quickchart('df-84fd9557-70a8-4db4-b8f6-77c41f7866a5')\"\n",
              "                title=\"Suggest charts\"\n",
              "                style=\"display:none;\">\n",
              "\n",
              "<svg xmlns=\"http://www.w3.org/2000/svg\" height=\"24px\"viewBox=\"0 0 24 24\"\n",
              "     width=\"24px\">\n",
              "    <g>\n",
              "        <path d=\"M19 3H5c-1.1 0-2 .9-2 2v14c0 1.1.9 2 2 2h14c1.1 0 2-.9 2-2V5c0-1.1-.9-2-2-2zM9 17H7v-7h2v7zm4 0h-2V7h2v10zm4 0h-2v-4h2v4z\"/>\n",
              "    </g>\n",
              "</svg>\n",
              "      </button>\n",
              "\n",
              "<style>\n",
              "  .colab-df-quickchart {\n",
              "      --bg-color: #E8F0FE;\n",
              "      --fill-color: #1967D2;\n",
              "      --hover-bg-color: #E2EBFA;\n",
              "      --hover-fill-color: #174EA6;\n",
              "      --disabled-fill-color: #AAA;\n",
              "      --disabled-bg-color: #DDD;\n",
              "  }\n",
              "\n",
              "  [theme=dark] .colab-df-quickchart {\n",
              "      --bg-color: #3B4455;\n",
              "      --fill-color: #D2E3FC;\n",
              "      --hover-bg-color: #434B5C;\n",
              "      --hover-fill-color: #FFFFFF;\n",
              "      --disabled-bg-color: #3B4455;\n",
              "      --disabled-fill-color: #666;\n",
              "  }\n",
              "\n",
              "  .colab-df-quickchart {\n",
              "    background-color: var(--bg-color);\n",
              "    border: none;\n",
              "    border-radius: 50%;\n",
              "    cursor: pointer;\n",
              "    display: none;\n",
              "    fill: var(--fill-color);\n",
              "    height: 32px;\n",
              "    padding: 0;\n",
              "    width: 32px;\n",
              "  }\n",
              "\n",
              "  .colab-df-quickchart:hover {\n",
              "    background-color: var(--hover-bg-color);\n",
              "    box-shadow: 0 1px 2px rgba(60, 64, 67, 0.3), 0 1px 3px 1px rgba(60, 64, 67, 0.15);\n",
              "    fill: var(--button-hover-fill-color);\n",
              "  }\n",
              "\n",
              "  .colab-df-quickchart-complete:disabled,\n",
              "  .colab-df-quickchart-complete:disabled:hover {\n",
              "    background-color: var(--disabled-bg-color);\n",
              "    fill: var(--disabled-fill-color);\n",
              "    box-shadow: none;\n",
              "  }\n",
              "\n",
              "  .colab-df-spinner {\n",
              "    border: 2px solid var(--fill-color);\n",
              "    border-color: transparent;\n",
              "    border-bottom-color: var(--fill-color);\n",
              "    animation:\n",
              "      spin 1s steps(1) infinite;\n",
              "  }\n",
              "\n",
              "  @keyframes spin {\n",
              "    0% {\n",
              "      border-color: transparent;\n",
              "      border-bottom-color: var(--fill-color);\n",
              "      border-left-color: var(--fill-color);\n",
              "    }\n",
              "    20% {\n",
              "      border-color: transparent;\n",
              "      border-left-color: var(--fill-color);\n",
              "      border-top-color: var(--fill-color);\n",
              "    }\n",
              "    30% {\n",
              "      border-color: transparent;\n",
              "      border-left-color: var(--fill-color);\n",
              "      border-top-color: var(--fill-color);\n",
              "      border-right-color: var(--fill-color);\n",
              "    }\n",
              "    40% {\n",
              "      border-color: transparent;\n",
              "      border-right-color: var(--fill-color);\n",
              "      border-top-color: var(--fill-color);\n",
              "    }\n",
              "    60% {\n",
              "      border-color: transparent;\n",
              "      border-right-color: var(--fill-color);\n",
              "    }\n",
              "    80% {\n",
              "      border-color: transparent;\n",
              "      border-right-color: var(--fill-color);\n",
              "      border-bottom-color: var(--fill-color);\n",
              "    }\n",
              "    90% {\n",
              "      border-color: transparent;\n",
              "      border-bottom-color: var(--fill-color);\n",
              "    }\n",
              "  }\n",
              "</style>\n",
              "\n",
              "      <script>\n",
              "        async function quickchart(key) {\n",
              "          const quickchartButtonEl =\n",
              "            document.querySelector('#' + key + ' button');\n",
              "          quickchartButtonEl.disabled = true;  // To prevent multiple clicks.\n",
              "          quickchartButtonEl.classList.add('colab-df-spinner');\n",
              "          try {\n",
              "            const charts = await google.colab.kernel.invokeFunction(\n",
              "                'suggestCharts', [key], {});\n",
              "          } catch (error) {\n",
              "            console.error('Error during call to suggestCharts:', error);\n",
              "          }\n",
              "          quickchartButtonEl.classList.remove('colab-df-spinner');\n",
              "          quickchartButtonEl.classList.add('colab-df-quickchart-complete');\n",
              "        }\n",
              "        (() => {\n",
              "          let quickchartButtonEl =\n",
              "            document.querySelector('#df-84fd9557-70a8-4db4-b8f6-77c41f7866a5 button');\n",
              "          quickchartButtonEl.style.display =\n",
              "            google.colab.kernel.accessAllowed ? 'block' : 'none';\n",
              "        })();\n",
              "      </script>\n",
              "    </div>\n",
              "\n",
              "  <div id=\"id_0816c615-86de-4a8e-b7e3-5b45c1720b6e\">\n",
              "    <style>\n",
              "      .colab-df-generate {\n",
              "        background-color: #E8F0FE;\n",
              "        border: none;\n",
              "        border-radius: 50%;\n",
              "        cursor: pointer;\n",
              "        display: none;\n",
              "        fill: #1967D2;\n",
              "        height: 32px;\n",
              "        padding: 0 0 0 0;\n",
              "        width: 32px;\n",
              "      }\n",
              "\n",
              "      .colab-df-generate:hover {\n",
              "        background-color: #E2EBFA;\n",
              "        box-shadow: 0px 1px 2px rgba(60, 64, 67, 0.3), 0px 1px 3px 1px rgba(60, 64, 67, 0.15);\n",
              "        fill: #174EA6;\n",
              "      }\n",
              "\n",
              "      [theme=dark] .colab-df-generate {\n",
              "        background-color: #3B4455;\n",
              "        fill: #D2E3FC;\n",
              "      }\n",
              "\n",
              "      [theme=dark] .colab-df-generate:hover {\n",
              "        background-color: #434B5C;\n",
              "        box-shadow: 0px 1px 3px 1px rgba(0, 0, 0, 0.15);\n",
              "        filter: drop-shadow(0px 1px 2px rgba(0, 0, 0, 0.3));\n",
              "        fill: #FFFFFF;\n",
              "      }\n",
              "    </style>\n",
              "    <button class=\"colab-df-generate\" onclick=\"generateWithVariable('df')\"\n",
              "            title=\"Generate code using this dataframe.\"\n",
              "            style=\"display:none;\">\n",
              "\n",
              "  <svg xmlns=\"http://www.w3.org/2000/svg\" height=\"24px\"viewBox=\"0 0 24 24\"\n",
              "       width=\"24px\">\n",
              "    <path d=\"M7,19H8.4L18.45,9,17,7.55,7,17.6ZM5,21V16.75L18.45,3.32a2,2,0,0,1,2.83,0l1.4,1.43a1.91,1.91,0,0,1,.58,1.4,1.91,1.91,0,0,1-.58,1.4L9.25,21ZM18.45,9,17,7.55Zm-12,3A5.31,5.31,0,0,0,4.9,8.1,5.31,5.31,0,0,0,1,6.5,5.31,5.31,0,0,0,4.9,4.9,5.31,5.31,0,0,0,6.5,1,5.31,5.31,0,0,0,8.1,4.9,5.31,5.31,0,0,0,12,6.5,5.46,5.46,0,0,0,6.5,12Z\"/>\n",
              "  </svg>\n",
              "    </button>\n",
              "    <script>\n",
              "      (() => {\n",
              "      const buttonEl =\n",
              "        document.querySelector('#id_0816c615-86de-4a8e-b7e3-5b45c1720b6e button.colab-df-generate');\n",
              "      buttonEl.style.display =\n",
              "        google.colab.kernel.accessAllowed ? 'block' : 'none';\n",
              "\n",
              "      buttonEl.onclick = () => {\n",
              "        google.colab.notebook.generateWithVariable('df');\n",
              "      }\n",
              "      })();\n",
              "    </script>\n",
              "  </div>\n",
              "\n",
              "    </div>\n",
              "  </div>\n"
            ],
            "application/vnd.google.colaboratory.intrinsic+json": {
              "type": "dataframe",
              "variable_name": "df",
              "summary": "{\n  \"name\": \"df\",\n  \"rows\": 10,\n  \"fields\": [\n    {\n      \"column\": \"name\",\n      \"properties\": {\n        \"dtype\": \"string\",\n        \"num_unique_values\": 10,\n        \"samples\": [\n          \"Margarita\",\n          \"Flora\",\n          \"Katie\"\n        ],\n        \"semantic_type\": \"\",\n        \"description\": \"\"\n      }\n    },\n    {\n      \"column\": \"gender\",\n      \"properties\": {\n        \"dtype\": \"category\",\n        \"num_unique_values\": 1,\n        \"samples\": [\n          \"F\"\n        ],\n        \"semantic_type\": \"\",\n        \"description\": \"\"\n      }\n    },\n    {\n      \"column\": \"number\",\n      \"properties\": {\n        \"dtype\": \"Int64\",\n        \"num_unique_values\": 9,\n        \"samples\": [\n          47\n        ],\n        \"semantic_type\": \"\",\n        \"description\": \"\"\n      }\n    }\n  ]\n}"
            }
          },
          "metadata": {},
          "execution_count": 39
        }
      ]
    },
    {
      "cell_type": "code",
      "execution_count": 40,
      "metadata": {
        "id": "yfsmLuJHQMqd"
      },
      "outputs": [],
      "source": [
        "sql = \"SELECT COUNT(1) FROM bigquery-public-data.samples.shakespeare\"\n",
        "query_job = client.query(sql)"
      ]
    },
    {
      "cell_type": "markdown",
      "metadata": {
        "id": "CAaHnxvuQMqf"
      },
      "source": [
        "This will throw an error since we don't have permission to create queries inside the `bigquery-public-data` project. Instead we set the project to our BigQuery project name."
      ]
    },
    {
      "cell_type": "code",
      "execution_count": 41,
      "metadata": {
        "id": "5D9V0KjiQMqf"
      },
      "outputs": [],
      "source": [
        "client = bigquery.Client.from_service_account_json(key_path, project = 'my-project-iod-ff') #<<< your BigQuery project ID here!\n",
        "query_job = client.query(sql)"
      ]
    },
    {
      "cell_type": "markdown",
      "metadata": {
        "id": "79jeDjSUQMqg"
      },
      "source": [
        "If that worked, show what query_job is:"
      ]
    },
    {
      "cell_type": "code",
      "execution_count": 42,
      "metadata": {
        "id": "9-cJTROVxpw0",
        "colab": {
          "base_uri": "https://localhost:8080/",
          "height": 187
        },
        "outputId": "d9668cd3-7875-493c-86cf-730915ee9e63"
      },
      "outputs": [
        {
          "output_type": "execute_result",
          "data": {
            "text/plain": [
              "google.cloud.bigquery.job.query.QueryJob"
            ],
            "text/html": [
              "<div style=\"max-width:800px; border: 1px solid var(--colab-border-color);\"><style>\n",
              "      pre.function-repr-contents {\n",
              "        overflow-x: auto;\n",
              "        padding: 8px 12px;\n",
              "        max-height: 500px;\n",
              "      }\n",
              "\n",
              "      pre.function-repr-contents.function-repr-contents-collapsed {\n",
              "        cursor: pointer;\n",
              "        max-height: 100px;\n",
              "      }\n",
              "    </style>\n",
              "    <pre style=\"white-space: initial; background:\n",
              "         var(--colab-secondary-surface-color); padding: 8px 12px;\n",
              "         border-bottom: 1px solid var(--colab-border-color);\"><b>google.cloud.bigquery.job.query.QueryJob</b><br/>def __init__(job_id, query, client, job_config=None)</pre><pre class=\"function-repr-contents function-repr-contents-collapsed\" style=\"\"><a class=\"filepath\" style=\"display:none\" href=\"#\">/usr/local/lib/python3.11/dist-packages/google/cloud/bigquery/job/query.py</a>Asynchronous job: query tables.\n",
              "\n",
              "Args:\n",
              "    job_id (str): the job&#x27;s ID, within the project belonging to ``client``.\n",
              "\n",
              "    query (str): SQL query string.\n",
              "\n",
              "    client (google.cloud.bigquery.client.Client):\n",
              "        A client which holds credentials and project configuration\n",
              "        for the dataset (which requires a project).\n",
              "\n",
              "    job_config (Optional[google.cloud.bigquery.job.QueryJobConfig]):\n",
              "        Extra configuration options for the query job.</pre>\n",
              "      <script>\n",
              "      if (google.colab.kernel.accessAllowed && google.colab.files && google.colab.files.view) {\n",
              "        for (const element of document.querySelectorAll('.filepath')) {\n",
              "          element.style.display = 'block'\n",
              "          element.onclick = (event) => {\n",
              "            event.preventDefault();\n",
              "            event.stopPropagation();\n",
              "            google.colab.files.view(element.textContent, 811);\n",
              "          };\n",
              "        }\n",
              "      }\n",
              "      for (const element of document.querySelectorAll('.function-repr-contents')) {\n",
              "        element.onclick = (event) => {\n",
              "          event.preventDefault();\n",
              "          event.stopPropagation();\n",
              "          element.classList.toggle('function-repr-contents-collapsed');\n",
              "        };\n",
              "      }\n",
              "      </script>\n",
              "      </div>"
            ]
          },
          "metadata": {},
          "execution_count": 42
        }
      ],
      "source": [
        "# ANSWER\n",
        "type(query_job)"
      ]
    },
    {
      "cell_type": "markdown",
      "metadata": {
        "id": "k9lZ6v0cQMqi"
      },
      "source": [
        "Once again, due to lazy execution, no actual execution occurs until we request output:"
      ]
    },
    {
      "cell_type": "code",
      "execution_count": 43,
      "metadata": {
        "id": "SSw6zneJQMqi",
        "colab": {
          "base_uri": "https://localhost:8080/"
        },
        "outputId": "5d93c155-6bad-458b-f786-c141c76702e2"
      },
      "outputs": [
        {
          "output_type": "stream",
          "name": "stdout",
          "text": [
            "Row((164656,), {'f0_': 0})\n"
          ]
        }
      ],
      "source": [
        "for row in query_job:  # API request - fetches results\n",
        "    print(row)"
      ]
    },
    {
      "cell_type": "markdown",
      "metadata": {
        "id": "ItvCscRsQMqk"
      },
      "source": [
        "And, again, we need to manipulate this to make it neat. Each member of the rowset is a list and we only want to extract the value, which is in the first member:"
      ]
    },
    {
      "cell_type": "code",
      "execution_count": 31,
      "metadata": {
        "id": "9rB2rpmoQMqk",
        "colab": {
          "base_uri": "https://localhost:8080/"
        },
        "outputId": "6867268d-f4f3-4d52-df60-258c4aeac606"
      },
      "outputs": [
        {
          "output_type": "stream",
          "name": "stdout",
          "text": [
            "164656\n"
          ]
        }
      ],
      "source": [
        "print(row[0])"
      ]
    },
    {
      "cell_type": "markdown",
      "metadata": {
        "id": "UE_dP3i2QMqn"
      },
      "source": [
        "So, we now know that this table has 164,656 rows. (We would not want to print it!)"
      ]
    },
    {
      "cell_type": "markdown",
      "metadata": {
        "id": "Hd4SdhDwQMqr"
      },
      "source": [
        "Write, execute, and print the results of a query that fetches 10 rows from the table, each containing the \"word\", \"word_count\", and \"corpus\" fields:"
      ]
    },
    {
      "cell_type": "code",
      "execution_count": 44,
      "metadata": {
        "id": "KiQXzKCbQMqr",
        "colab": {
          "base_uri": "https://localhost:8080/"
        },
        "outputId": "b0586680-51e4-4642-fab6-ed4b799770a3"
      },
      "outputs": [
        {
          "output_type": "stream",
          "name": "stdout",
          "text": [
            "LVII 1 sonnets\n",
            "augurs 1 sonnets\n",
            "dimm'd 1 sonnets\n",
            "plagues 1 sonnets\n",
            "treason 1 sonnets\n",
            "surmise 1 sonnets\n",
            "heed 1 sonnets\n",
            "Unthrifty 1 sonnets\n",
            "quality 1 sonnets\n",
            "wherever 1 sonnets\n"
          ]
        }
      ],
      "source": [
        "#ANSWER\n",
        "sql = \"SELECT word, word_count, corpus FROM bigquery-public-data.samples.shakespeare LIMIT 10\"\n",
        "query_job = client.query(sql) #E: , location='US') #: OK if client.project = 'myreallybigquery'\n",
        "\n",
        "# print these as above:\n",
        "for row in query_job:  # API request - fetches results\n",
        "    # Now have 3 fields to test (Nb. this approach may be overkill for non-production code):\n",
        "    assert row[0] == row.word == row['word']\n",
        "    assert row[1] == row.word_count == row['word_count']\n",
        "    assert row[2] == row.corpus == row['corpus']\n",
        "    print(row['word'], row['word_count'], row['corpus'])\n"
      ]
    },
    {
      "cell_type": "markdown",
      "metadata": {
        "id": "o-_rW8ApQMqu"
      },
      "source": [
        "Whenever you catch yourself writing a swag of code to do something that seems rudimentary or low-level, there is a very good chance that you don't need to. A much easier way to handle the above requirement is to use the `to_dataframe` method of the QueryJob object:"
      ]
    },
    {
      "cell_type": "code",
      "execution_count": 33,
      "metadata": {
        "colab": {
          "base_uri": "https://localhost:8080/",
          "height": 403
        },
        "id": "iHWkOVWS9-3O",
        "outputId": "b9f90e35-e6ce-44b8-e37c-b3dff2e764fc"
      },
      "outputs": [
        {
          "output_type": "stream",
          "name": "stdout",
          "text": [
            "Found existing installation: numpy 2.0.2\n",
            "Uninstalling numpy-2.0.2:\n",
            "  Successfully uninstalled numpy-2.0.2\n",
            "Collecting numpy\n",
            "  Downloading numpy-2.3.1-cp311-cp311-manylinux_2_28_x86_64.whl.metadata (62 kB)\n",
            "\u001b[2K     \u001b[90m━━━━━━━━━━━━━━━━━━━━━━━━━━━━━━━━━━━━━━━\u001b[0m \u001b[32m62.1/62.1 kB\u001b[0m \u001b[31m488.7 kB/s\u001b[0m eta \u001b[36m0:00:00\u001b[0m\n",
            "\u001b[?25hDownloading numpy-2.3.1-cp311-cp311-manylinux_2_28_x86_64.whl (16.9 MB)\n",
            "\u001b[2K   \u001b[90m━━━━━━━━━━━━━━━━━━━━━━━━━━━━━━━━━━━━━━━━\u001b[0m \u001b[32m16.9/16.9 MB\u001b[0m \u001b[31m67.5 MB/s\u001b[0m eta \u001b[36m0:00:00\u001b[0m\n",
            "\u001b[?25hInstalling collected packages: numpy\n",
            "\u001b[31mERROR: pip's dependency resolver does not currently take into account all the packages that are installed. This behaviour is the source of the following dependency conflicts.\n",
            "opencv-python-headless 4.12.0.88 requires numpy<2.3.0,>=2; python_version >= \"3.9\", but you have numpy 2.3.1 which is incompatible.\n",
            "cupy-cuda12x 13.3.0 requires numpy<2.3,>=1.22, but you have numpy 2.3.1 which is incompatible.\n",
            "numba 0.60.0 requires numpy<2.1,>=1.22, but you have numpy 2.3.1 which is incompatible.\n",
            "tensorflow 2.18.0 requires numpy<2.1.0,>=1.26.0, but you have numpy 2.3.1 which is incompatible.\u001b[0m\u001b[31m\n",
            "\u001b[0mSuccessfully installed numpy-2.3.1\n"
          ]
        },
        {
          "output_type": "display_data",
          "data": {
            "application/vnd.colab-display-data+json": {
              "pip_warning": {
                "packages": [
                  "numpy"
                ]
              },
              "id": "898491abd6bb4828acf0c9d59142b336"
            }
          },
          "metadata": {}
        }
      ],
      "source": [
        "!pip uninstall numpy -y\n",
        "!pip install --no-cache-dir numpy"
      ]
    },
    {
      "cell_type": "code",
      "execution_count": 1,
      "metadata": {
        "colab": {
          "base_uri": "https://localhost:8080/"
        },
        "id": "8nj9lths9-3O",
        "outputId": "03274719-6c0a-449f-9ac2-3c2289182aab"
      },
      "outputs": [
        {
          "output_type": "stream",
          "name": "stdout",
          "text": [
            "2.3.1\n"
          ]
        }
      ],
      "source": [
        "import numpy\n",
        "print(numpy.__version__)\n"
      ]
    },
    {
      "cell_type": "code",
      "execution_count": 2,
      "metadata": {
        "colab": {
          "base_uri": "https://localhost:8080/",
          "height": 1000
        },
        "id": "mlj1qkzp9-3O",
        "outputId": "ead70d90-1b42-46b7-aae3-96885f58c175"
      },
      "outputs": [
        {
          "output_type": "stream",
          "name": "stdout",
          "text": [
            "Requirement already satisfied: numpy in /usr/local/lib/python3.11/dist-packages (2.3.1)\n",
            "Requirement already satisfied: pandas in /usr/local/lib/python3.11/dist-packages (2.2.2)\n",
            "Collecting pandas\n",
            "  Downloading pandas-2.3.1-cp311-cp311-manylinux_2_17_x86_64.manylinux2014_x86_64.whl.metadata (91 kB)\n",
            "\u001b[2K     \u001b[90m━━━━━━━━━━━━━━━━━━━━━━━━━━━━━━━━━━━━━━━━\u001b[0m \u001b[32m91.2/91.2 kB\u001b[0m \u001b[31m1.1 MB/s\u001b[0m eta \u001b[36m0:00:00\u001b[0m\n",
            "\u001b[?25hRequirement already satisfied: pyarrow in /usr/local/lib/python3.11/dist-packages (18.1.0)\n",
            "Collecting pyarrow\n",
            "  Downloading pyarrow-21.0.0-cp311-cp311-manylinux_2_28_x86_64.whl.metadata (3.3 kB)\n",
            "Requirement already satisfied: db-dtypes in /usr/local/lib/python3.11/dist-packages (1.4.3)\n",
            "Requirement already satisfied: google-cloud-bigquery in /usr/local/lib/python3.11/dist-packages (3.34.0)\n",
            "Collecting google-cloud-bigquery\n",
            "  Downloading google_cloud_bigquery-3.35.0-py3-none-any.whl.metadata (8.0 kB)\n",
            "Requirement already satisfied: python-dateutil>=2.8.2 in /usr/local/lib/python3.11/dist-packages (from pandas) (2.9.0.post0)\n",
            "Requirement already satisfied: pytz>=2020.1 in /usr/local/lib/python3.11/dist-packages (from pandas) (2025.2)\n",
            "Requirement already satisfied: tzdata>=2022.7 in /usr/local/lib/python3.11/dist-packages (from pandas) (2025.2)\n",
            "Requirement already satisfied: packaging>=24.2.0 in /usr/local/lib/python3.11/dist-packages (from db-dtypes) (25.0)\n",
            "Requirement already satisfied: google-api-core<3.0.0,>=2.11.1 in /usr/local/lib/python3.11/dist-packages (from google-api-core[grpc]<3.0.0,>=2.11.1->google-cloud-bigquery) (2.25.1)\n",
            "Requirement already satisfied: google-auth<3.0.0,>=2.14.1 in /usr/local/lib/python3.11/dist-packages (from google-cloud-bigquery) (2.38.0)\n",
            "Requirement already satisfied: google-cloud-core<3.0.0,>=2.4.1 in /usr/local/lib/python3.11/dist-packages (from google-cloud-bigquery) (2.4.3)\n",
            "Requirement already satisfied: google-resumable-media<3.0.0,>=2.0.0 in /usr/local/lib/python3.11/dist-packages (from google-cloud-bigquery) (2.7.2)\n",
            "Requirement already satisfied: requests<3.0.0,>=2.21.0 in /usr/local/lib/python3.11/dist-packages (from google-cloud-bigquery) (2.32.3)\n",
            "Requirement already satisfied: googleapis-common-protos<2.0.0,>=1.56.2 in /usr/local/lib/python3.11/dist-packages (from google-api-core<3.0.0,>=2.11.1->google-api-core[grpc]<3.0.0,>=2.11.1->google-cloud-bigquery) (1.70.0)\n",
            "Requirement already satisfied: protobuf!=3.20.0,!=3.20.1,!=4.21.0,!=4.21.1,!=4.21.2,!=4.21.3,!=4.21.4,!=4.21.5,<7.0.0,>=3.19.5 in /usr/local/lib/python3.11/dist-packages (from google-api-core<3.0.0,>=2.11.1->google-api-core[grpc]<3.0.0,>=2.11.1->google-cloud-bigquery) (5.29.5)\n",
            "Requirement already satisfied: proto-plus<2.0.0,>=1.22.3 in /usr/local/lib/python3.11/dist-packages (from google-api-core<3.0.0,>=2.11.1->google-api-core[grpc]<3.0.0,>=2.11.1->google-cloud-bigquery) (1.26.1)\n",
            "Requirement already satisfied: grpcio<2.0.0,>=1.33.2 in /usr/local/lib/python3.11/dist-packages (from google-api-core[grpc]<3.0.0,>=2.11.1->google-cloud-bigquery) (1.73.1)\n",
            "Requirement already satisfied: grpcio-status<2.0.0,>=1.33.2 in /usr/local/lib/python3.11/dist-packages (from google-api-core[grpc]<3.0.0,>=2.11.1->google-cloud-bigquery) (1.71.2)\n",
            "Requirement already satisfied: cachetools<6.0,>=2.0.0 in /usr/local/lib/python3.11/dist-packages (from google-auth<3.0.0,>=2.14.1->google-cloud-bigquery) (5.5.2)\n",
            "Requirement already satisfied: pyasn1-modules>=0.2.1 in /usr/local/lib/python3.11/dist-packages (from google-auth<3.0.0,>=2.14.1->google-cloud-bigquery) (0.4.2)\n",
            "Requirement already satisfied: rsa<5,>=3.1.4 in /usr/local/lib/python3.11/dist-packages (from google-auth<3.0.0,>=2.14.1->google-cloud-bigquery) (4.9.1)\n",
            "Requirement already satisfied: google-crc32c<2.0dev,>=1.0 in /usr/local/lib/python3.11/dist-packages (from google-resumable-media<3.0.0,>=2.0.0->google-cloud-bigquery) (1.7.1)\n",
            "Requirement already satisfied: six>=1.5 in /usr/local/lib/python3.11/dist-packages (from python-dateutil>=2.8.2->pandas) (1.17.0)\n",
            "Requirement already satisfied: charset-normalizer<4,>=2 in /usr/local/lib/python3.11/dist-packages (from requests<3.0.0,>=2.21.0->google-cloud-bigquery) (3.4.2)\n",
            "Requirement already satisfied: idna<4,>=2.5 in /usr/local/lib/python3.11/dist-packages (from requests<3.0.0,>=2.21.0->google-cloud-bigquery) (3.10)\n",
            "Requirement already satisfied: urllib3<3,>=1.21.1 in /usr/local/lib/python3.11/dist-packages (from requests<3.0.0,>=2.21.0->google-cloud-bigquery) (2.4.0)\n",
            "Requirement already satisfied: certifi>=2017.4.17 in /usr/local/lib/python3.11/dist-packages (from requests<3.0.0,>=2.21.0->google-cloud-bigquery) (2025.7.14)\n",
            "Requirement already satisfied: pyasn1<0.7.0,>=0.6.1 in /usr/local/lib/python3.11/dist-packages (from pyasn1-modules>=0.2.1->google-auth<3.0.0,>=2.14.1->google-cloud-bigquery) (0.6.1)\n",
            "Downloading pandas-2.3.1-cp311-cp311-manylinux_2_17_x86_64.manylinux2014_x86_64.whl (12.4 MB)\n",
            "\u001b[2K   \u001b[90m━━━━━━━━━━━━━━━━━━━━━━━━━━━━━━━━━━━━━━━━\u001b[0m \u001b[32m12.4/12.4 MB\u001b[0m \u001b[31m46.6 MB/s\u001b[0m eta \u001b[36m0:00:00\u001b[0m\n",
            "\u001b[?25hDownloading pyarrow-21.0.0-cp311-cp311-manylinux_2_28_x86_64.whl (42.8 MB)\n",
            "\u001b[2K   \u001b[90m━━━━━━━━━━━━━━━━━━━━━━━━━━━━━━━━━━━━━━━━\u001b[0m \u001b[32m42.8/42.8 MB\u001b[0m \u001b[31m13.5 MB/s\u001b[0m eta \u001b[36m0:00:00\u001b[0m\n",
            "\u001b[?25hDownloading google_cloud_bigquery-3.35.0-py3-none-any.whl (256 kB)\n",
            "\u001b[2K   \u001b[90m━━━━━━━━━━━━━━━━━━━━━━━━━━━━━━━━━━━━━━━━\u001b[0m \u001b[32m256.9/256.9 kB\u001b[0m \u001b[31m16.4 MB/s\u001b[0m eta \u001b[36m0:00:00\u001b[0m\n",
            "\u001b[?25hInstalling collected packages: pyarrow, pandas, google-cloud-bigquery\n",
            "  Attempting uninstall: pyarrow\n",
            "    Found existing installation: pyarrow 18.1.0\n",
            "    Uninstalling pyarrow-18.1.0:\n",
            "      Successfully uninstalled pyarrow-18.1.0\n",
            "  Attempting uninstall: pandas\n",
            "    Found existing installation: pandas 2.2.2\n",
            "    Uninstalling pandas-2.2.2:\n",
            "      Successfully uninstalled pandas-2.2.2\n",
            "  Attempting uninstall: google-cloud-bigquery\n",
            "    Found existing installation: google-cloud-bigquery 3.34.0\n",
            "    Uninstalling google-cloud-bigquery-3.34.0:\n",
            "      Successfully uninstalled google-cloud-bigquery-3.34.0\n",
            "\u001b[31mERROR: pip's dependency resolver does not currently take into account all the packages that are installed. This behaviour is the source of the following dependency conflicts.\n",
            "google-colab 1.0.0 requires pandas==2.2.2, but you have pandas 2.3.1 which is incompatible.\n",
            "cudf-cu12 25.6.0 requires pandas<2.2.4dev0,>=2.0, but you have pandas 2.3.1 which is incompatible.\n",
            "cudf-cu12 25.6.0 requires pyarrow<20.0.0a0,>=14.0.0; platform_machine == \"x86_64\", but you have pyarrow 21.0.0 which is incompatible.\n",
            "dask-cudf-cu12 25.6.0 requires pandas<2.2.4dev0,>=2.0, but you have pandas 2.3.1 which is incompatible.\n",
            "pylibcudf-cu12 25.6.0 requires pyarrow<20.0.0a0,>=14.0.0; platform_machine == \"x86_64\", but you have pyarrow 21.0.0 which is incompatible.\u001b[0m\u001b[31m\n",
            "\u001b[0mSuccessfully installed google-cloud-bigquery-3.35.0 pandas-2.3.1 pyarrow-21.0.0\n"
          ]
        },
        {
          "output_type": "display_data",
          "data": {
            "application/vnd.colab-display-data+json": {
              "pip_warning": {
                "packages": [
                  "google"
                ]
              },
              "id": "47b21a14c0a2453fbd8104cd59ad377e"
            }
          },
          "metadata": {}
        }
      ],
      "source": [
        "pip install --upgrade numpy pandas pyarrow db-dtypes google-cloud-bigquery\n"
      ]
    },
    {
      "cell_type": "code",
      "execution_count": 1,
      "metadata": {
        "colab": {
          "base_uri": "https://localhost:8080/"
        },
        "id": "xa4ojFv69-3O",
        "outputId": "06cf459e-c080-4971-9c8f-0c54a3f9975c"
      },
      "outputs": [
        {
          "output_type": "stream",
          "name": "stdout",
          "text": [
            "2.3.1\n"
          ]
        }
      ],
      "source": [
        "import pandas as pd\n",
        "print(pd.__version__)\n"
      ]
    },
    {
      "cell_type": "code",
      "execution_count": 2,
      "metadata": {
        "colab": {
          "base_uri": "https://localhost:8080/"
        },
        "id": "PLhSRErU9-3O",
        "outputId": "87e14d14-5b58-4672-99c7-6eee37857177"
      },
      "outputs": [
        {
          "output_type": "stream",
          "name": "stdout",
          "text": [
            "Requirement already satisfied: db-dtypes in /usr/local/lib/python3.11/dist-packages (1.4.3)\n",
            "Requirement already satisfied: numpy>=1.24.0 in /usr/local/lib/python3.11/dist-packages (from db-dtypes) (2.3.1)\n",
            "Requirement already satisfied: packaging>=24.2.0 in /usr/local/lib/python3.11/dist-packages (from db-dtypes) (25.0)\n",
            "Requirement already satisfied: pandas>=1.5.3 in /usr/local/lib/python3.11/dist-packages (from db-dtypes) (2.3.1)\n",
            "Requirement already satisfied: pyarrow>=13.0.0 in /usr/local/lib/python3.11/dist-packages (from db-dtypes) (21.0.0)\n",
            "Requirement already satisfied: python-dateutil>=2.8.2 in /usr/local/lib/python3.11/dist-packages (from pandas>=1.5.3->db-dtypes) (2.9.0.post0)\n",
            "Requirement already satisfied: pytz>=2020.1 in /usr/local/lib/python3.11/dist-packages (from pandas>=1.5.3->db-dtypes) (2025.2)\n",
            "Requirement already satisfied: tzdata>=2022.7 in /usr/local/lib/python3.11/dist-packages (from pandas>=1.5.3->db-dtypes) (2025.2)\n",
            "Requirement already satisfied: six>=1.5 in /usr/local/lib/python3.11/dist-packages (from python-dateutil>=2.8.2->pandas>=1.5.3->db-dtypes) (1.17.0)\n"
          ]
        }
      ],
      "source": [
        "!pip install db-dtypes\n"
      ]
    },
    {
      "cell_type": "code",
      "execution_count": 3,
      "metadata": {
        "colab": {
          "base_uri": "https://localhost:8080/"
        },
        "id": "8QU03R0v9-3O",
        "outputId": "c159f272-2174-4a41-ba45-3d3213e65833"
      },
      "outputs": [
        {
          "output_type": "stream",
          "name": "stdout",
          "text": [
            "db-dtypes is installed!\n"
          ]
        }
      ],
      "source": [
        "import db_dtypes\n",
        "print(\"db-dtypes is installed!\")\n"
      ]
    },
    {
      "cell_type": "code",
      "source": [
        "!pip install --quiet db-dtypes google-cloud-bigquery google-cloud-bigquery-storage\n"
      ],
      "metadata": {
        "id": "B_XIwBhEEKi-"
      },
      "execution_count": 6,
      "outputs": []
    },
    {
      "cell_type": "code",
      "execution_count": 45,
      "metadata": {
        "id": "oZ25oiMOQMqu",
        "colab": {
          "base_uri": "https://localhost:8080/",
          "height": 363
        },
        "outputId": "ac3a62b1-1311-4dce-b0c3-99a462b577f0"
      },
      "outputs": [
        {
          "output_type": "execute_result",
          "data": {
            "text/plain": [
              "        word  word_count   corpus\n",
              "0       LVII           1  sonnets\n",
              "1     augurs           1  sonnets\n",
              "2     dimm'd           1  sonnets\n",
              "3    plagues           1  sonnets\n",
              "4    treason           1  sonnets\n",
              "5    surmise           1  sonnets\n",
              "6       heed           1  sonnets\n",
              "7  Unthrifty           1  sonnets\n",
              "8    quality           1  sonnets\n",
              "9   wherever           1  sonnets"
            ],
            "text/html": [
              "\n",
              "  <div id=\"df-d8bdfb4e-52e8-48b4-aa46-05f79a2892ac\" class=\"colab-df-container\">\n",
              "    <div>\n",
              "<style scoped>\n",
              "    .dataframe tbody tr th:only-of-type {\n",
              "        vertical-align: middle;\n",
              "    }\n",
              "\n",
              "    .dataframe tbody tr th {\n",
              "        vertical-align: top;\n",
              "    }\n",
              "\n",
              "    .dataframe thead th {\n",
              "        text-align: right;\n",
              "    }\n",
              "</style>\n",
              "<table border=\"1\" class=\"dataframe\">\n",
              "  <thead>\n",
              "    <tr style=\"text-align: right;\">\n",
              "      <th></th>\n",
              "      <th>word</th>\n",
              "      <th>word_count</th>\n",
              "      <th>corpus</th>\n",
              "    </tr>\n",
              "  </thead>\n",
              "  <tbody>\n",
              "    <tr>\n",
              "      <th>0</th>\n",
              "      <td>LVII</td>\n",
              "      <td>1</td>\n",
              "      <td>sonnets</td>\n",
              "    </tr>\n",
              "    <tr>\n",
              "      <th>1</th>\n",
              "      <td>augurs</td>\n",
              "      <td>1</td>\n",
              "      <td>sonnets</td>\n",
              "    </tr>\n",
              "    <tr>\n",
              "      <th>2</th>\n",
              "      <td>dimm'd</td>\n",
              "      <td>1</td>\n",
              "      <td>sonnets</td>\n",
              "    </tr>\n",
              "    <tr>\n",
              "      <th>3</th>\n",
              "      <td>plagues</td>\n",
              "      <td>1</td>\n",
              "      <td>sonnets</td>\n",
              "    </tr>\n",
              "    <tr>\n",
              "      <th>4</th>\n",
              "      <td>treason</td>\n",
              "      <td>1</td>\n",
              "      <td>sonnets</td>\n",
              "    </tr>\n",
              "    <tr>\n",
              "      <th>5</th>\n",
              "      <td>surmise</td>\n",
              "      <td>1</td>\n",
              "      <td>sonnets</td>\n",
              "    </tr>\n",
              "    <tr>\n",
              "      <th>6</th>\n",
              "      <td>heed</td>\n",
              "      <td>1</td>\n",
              "      <td>sonnets</td>\n",
              "    </tr>\n",
              "    <tr>\n",
              "      <th>7</th>\n",
              "      <td>Unthrifty</td>\n",
              "      <td>1</td>\n",
              "      <td>sonnets</td>\n",
              "    </tr>\n",
              "    <tr>\n",
              "      <th>8</th>\n",
              "      <td>quality</td>\n",
              "      <td>1</td>\n",
              "      <td>sonnets</td>\n",
              "    </tr>\n",
              "    <tr>\n",
              "      <th>9</th>\n",
              "      <td>wherever</td>\n",
              "      <td>1</td>\n",
              "      <td>sonnets</td>\n",
              "    </tr>\n",
              "  </tbody>\n",
              "</table>\n",
              "</div>\n",
              "    <div class=\"colab-df-buttons\">\n",
              "\n",
              "  <div class=\"colab-df-container\">\n",
              "    <button class=\"colab-df-convert\" onclick=\"convertToInteractive('df-d8bdfb4e-52e8-48b4-aa46-05f79a2892ac')\"\n",
              "            title=\"Convert this dataframe to an interactive table.\"\n",
              "            style=\"display:none;\">\n",
              "\n",
              "  <svg xmlns=\"http://www.w3.org/2000/svg\" height=\"24px\" viewBox=\"0 -960 960 960\">\n",
              "    <path d=\"M120-120v-720h720v720H120Zm60-500h600v-160H180v160Zm220 220h160v-160H400v160Zm0 220h160v-160H400v160ZM180-400h160v-160H180v160Zm440 0h160v-160H620v160ZM180-180h160v-160H180v160Zm440 0h160v-160H620v160Z\"/>\n",
              "  </svg>\n",
              "    </button>\n",
              "\n",
              "  <style>\n",
              "    .colab-df-container {\n",
              "      display:flex;\n",
              "      gap: 12px;\n",
              "    }\n",
              "\n",
              "    .colab-df-convert {\n",
              "      background-color: #E8F0FE;\n",
              "      border: none;\n",
              "      border-radius: 50%;\n",
              "      cursor: pointer;\n",
              "      display: none;\n",
              "      fill: #1967D2;\n",
              "      height: 32px;\n",
              "      padding: 0 0 0 0;\n",
              "      width: 32px;\n",
              "    }\n",
              "\n",
              "    .colab-df-convert:hover {\n",
              "      background-color: #E2EBFA;\n",
              "      box-shadow: 0px 1px 2px rgba(60, 64, 67, 0.3), 0px 1px 3px 1px rgba(60, 64, 67, 0.15);\n",
              "      fill: #174EA6;\n",
              "    }\n",
              "\n",
              "    .colab-df-buttons div {\n",
              "      margin-bottom: 4px;\n",
              "    }\n",
              "\n",
              "    [theme=dark] .colab-df-convert {\n",
              "      background-color: #3B4455;\n",
              "      fill: #D2E3FC;\n",
              "    }\n",
              "\n",
              "    [theme=dark] .colab-df-convert:hover {\n",
              "      background-color: #434B5C;\n",
              "      box-shadow: 0px 1px 3px 1px rgba(0, 0, 0, 0.15);\n",
              "      filter: drop-shadow(0px 1px 2px rgba(0, 0, 0, 0.3));\n",
              "      fill: #FFFFFF;\n",
              "    }\n",
              "  </style>\n",
              "\n",
              "    <script>\n",
              "      const buttonEl =\n",
              "        document.querySelector('#df-d8bdfb4e-52e8-48b4-aa46-05f79a2892ac button.colab-df-convert');\n",
              "      buttonEl.style.display =\n",
              "        google.colab.kernel.accessAllowed ? 'block' : 'none';\n",
              "\n",
              "      async function convertToInteractive(key) {\n",
              "        const element = document.querySelector('#df-d8bdfb4e-52e8-48b4-aa46-05f79a2892ac');\n",
              "        const dataTable =\n",
              "          await google.colab.kernel.invokeFunction('convertToInteractive',\n",
              "                                                    [key], {});\n",
              "        if (!dataTable) return;\n",
              "\n",
              "        const docLinkHtml = 'Like what you see? Visit the ' +\n",
              "          '<a target=\"_blank\" href=https://colab.research.google.com/notebooks/data_table.ipynb>data table notebook</a>'\n",
              "          + ' to learn more about interactive tables.';\n",
              "        element.innerHTML = '';\n",
              "        dataTable['output_type'] = 'display_data';\n",
              "        await google.colab.output.renderOutput(dataTable, element);\n",
              "        const docLink = document.createElement('div');\n",
              "        docLink.innerHTML = docLinkHtml;\n",
              "        element.appendChild(docLink);\n",
              "      }\n",
              "    </script>\n",
              "  </div>\n",
              "\n",
              "\n",
              "    <div id=\"df-d2288eac-14a5-4c2c-9b19-467cba08fb2a\">\n",
              "      <button class=\"colab-df-quickchart\" onclick=\"quickchart('df-d2288eac-14a5-4c2c-9b19-467cba08fb2a')\"\n",
              "                title=\"Suggest charts\"\n",
              "                style=\"display:none;\">\n",
              "\n",
              "<svg xmlns=\"http://www.w3.org/2000/svg\" height=\"24px\"viewBox=\"0 0 24 24\"\n",
              "     width=\"24px\">\n",
              "    <g>\n",
              "        <path d=\"M19 3H5c-1.1 0-2 .9-2 2v14c0 1.1.9 2 2 2h14c1.1 0 2-.9 2-2V5c0-1.1-.9-2-2-2zM9 17H7v-7h2v7zm4 0h-2V7h2v10zm4 0h-2v-4h2v4z\"/>\n",
              "    </g>\n",
              "</svg>\n",
              "      </button>\n",
              "\n",
              "<style>\n",
              "  .colab-df-quickchart {\n",
              "      --bg-color: #E8F0FE;\n",
              "      --fill-color: #1967D2;\n",
              "      --hover-bg-color: #E2EBFA;\n",
              "      --hover-fill-color: #174EA6;\n",
              "      --disabled-fill-color: #AAA;\n",
              "      --disabled-bg-color: #DDD;\n",
              "  }\n",
              "\n",
              "  [theme=dark] .colab-df-quickchart {\n",
              "      --bg-color: #3B4455;\n",
              "      --fill-color: #D2E3FC;\n",
              "      --hover-bg-color: #434B5C;\n",
              "      --hover-fill-color: #FFFFFF;\n",
              "      --disabled-bg-color: #3B4455;\n",
              "      --disabled-fill-color: #666;\n",
              "  }\n",
              "\n",
              "  .colab-df-quickchart {\n",
              "    background-color: var(--bg-color);\n",
              "    border: none;\n",
              "    border-radius: 50%;\n",
              "    cursor: pointer;\n",
              "    display: none;\n",
              "    fill: var(--fill-color);\n",
              "    height: 32px;\n",
              "    padding: 0;\n",
              "    width: 32px;\n",
              "  }\n",
              "\n",
              "  .colab-df-quickchart:hover {\n",
              "    background-color: var(--hover-bg-color);\n",
              "    box-shadow: 0 1px 2px rgba(60, 64, 67, 0.3), 0 1px 3px 1px rgba(60, 64, 67, 0.15);\n",
              "    fill: var(--button-hover-fill-color);\n",
              "  }\n",
              "\n",
              "  .colab-df-quickchart-complete:disabled,\n",
              "  .colab-df-quickchart-complete:disabled:hover {\n",
              "    background-color: var(--disabled-bg-color);\n",
              "    fill: var(--disabled-fill-color);\n",
              "    box-shadow: none;\n",
              "  }\n",
              "\n",
              "  .colab-df-spinner {\n",
              "    border: 2px solid var(--fill-color);\n",
              "    border-color: transparent;\n",
              "    border-bottom-color: var(--fill-color);\n",
              "    animation:\n",
              "      spin 1s steps(1) infinite;\n",
              "  }\n",
              "\n",
              "  @keyframes spin {\n",
              "    0% {\n",
              "      border-color: transparent;\n",
              "      border-bottom-color: var(--fill-color);\n",
              "      border-left-color: var(--fill-color);\n",
              "    }\n",
              "    20% {\n",
              "      border-color: transparent;\n",
              "      border-left-color: var(--fill-color);\n",
              "      border-top-color: var(--fill-color);\n",
              "    }\n",
              "    30% {\n",
              "      border-color: transparent;\n",
              "      border-left-color: var(--fill-color);\n",
              "      border-top-color: var(--fill-color);\n",
              "      border-right-color: var(--fill-color);\n",
              "    }\n",
              "    40% {\n",
              "      border-color: transparent;\n",
              "      border-right-color: var(--fill-color);\n",
              "      border-top-color: var(--fill-color);\n",
              "    }\n",
              "    60% {\n",
              "      border-color: transparent;\n",
              "      border-right-color: var(--fill-color);\n",
              "    }\n",
              "    80% {\n",
              "      border-color: transparent;\n",
              "      border-right-color: var(--fill-color);\n",
              "      border-bottom-color: var(--fill-color);\n",
              "    }\n",
              "    90% {\n",
              "      border-color: transparent;\n",
              "      border-bottom-color: var(--fill-color);\n",
              "    }\n",
              "  }\n",
              "</style>\n",
              "\n",
              "      <script>\n",
              "        async function quickchart(key) {\n",
              "          const quickchartButtonEl =\n",
              "            document.querySelector('#' + key + ' button');\n",
              "          quickchartButtonEl.disabled = true;  // To prevent multiple clicks.\n",
              "          quickchartButtonEl.classList.add('colab-df-spinner');\n",
              "          try {\n",
              "            const charts = await google.colab.kernel.invokeFunction(\n",
              "                'suggestCharts', [key], {});\n",
              "          } catch (error) {\n",
              "            console.error('Error during call to suggestCharts:', error);\n",
              "          }\n",
              "          quickchartButtonEl.classList.remove('colab-df-spinner');\n",
              "          quickchartButtonEl.classList.add('colab-df-quickchart-complete');\n",
              "        }\n",
              "        (() => {\n",
              "          let quickchartButtonEl =\n",
              "            document.querySelector('#df-d2288eac-14a5-4c2c-9b19-467cba08fb2a button');\n",
              "          quickchartButtonEl.style.display =\n",
              "            google.colab.kernel.accessAllowed ? 'block' : 'none';\n",
              "        })();\n",
              "      </script>\n",
              "    </div>\n",
              "\n",
              "  <div id=\"id_eebbe058-69f4-47ff-b270-ac4d4cf46a68\">\n",
              "    <style>\n",
              "      .colab-df-generate {\n",
              "        background-color: #E8F0FE;\n",
              "        border: none;\n",
              "        border-radius: 50%;\n",
              "        cursor: pointer;\n",
              "        display: none;\n",
              "        fill: #1967D2;\n",
              "        height: 32px;\n",
              "        padding: 0 0 0 0;\n",
              "        width: 32px;\n",
              "      }\n",
              "\n",
              "      .colab-df-generate:hover {\n",
              "        background-color: #E2EBFA;\n",
              "        box-shadow: 0px 1px 2px rgba(60, 64, 67, 0.3), 0px 1px 3px 1px rgba(60, 64, 67, 0.15);\n",
              "        fill: #174EA6;\n",
              "      }\n",
              "\n",
              "      [theme=dark] .colab-df-generate {\n",
              "        background-color: #3B4455;\n",
              "        fill: #D2E3FC;\n",
              "      }\n",
              "\n",
              "      [theme=dark] .colab-df-generate:hover {\n",
              "        background-color: #434B5C;\n",
              "        box-shadow: 0px 1px 3px 1px rgba(0, 0, 0, 0.15);\n",
              "        filter: drop-shadow(0px 1px 2px rgba(0, 0, 0, 0.3));\n",
              "        fill: #FFFFFF;\n",
              "      }\n",
              "    </style>\n",
              "    <button class=\"colab-df-generate\" onclick=\"generateWithVariable('df')\"\n",
              "            title=\"Generate code using this dataframe.\"\n",
              "            style=\"display:none;\">\n",
              "\n",
              "  <svg xmlns=\"http://www.w3.org/2000/svg\" height=\"24px\"viewBox=\"0 0 24 24\"\n",
              "       width=\"24px\">\n",
              "    <path d=\"M7,19H8.4L18.45,9,17,7.55,7,17.6ZM5,21V16.75L18.45,3.32a2,2,0,0,1,2.83,0l1.4,1.43a1.91,1.91,0,0,1,.58,1.4,1.91,1.91,0,0,1-.58,1.4L9.25,21ZM18.45,9,17,7.55Zm-12,3A5.31,5.31,0,0,0,4.9,8.1,5.31,5.31,0,0,0,1,6.5,5.31,5.31,0,0,0,4.9,4.9,5.31,5.31,0,0,0,6.5,1,5.31,5.31,0,0,0,8.1,4.9,5.31,5.31,0,0,0,12,6.5,5.46,5.46,0,0,0,6.5,12Z\"/>\n",
              "  </svg>\n",
              "    </button>\n",
              "    <script>\n",
              "      (() => {\n",
              "      const buttonEl =\n",
              "        document.querySelector('#id_eebbe058-69f4-47ff-b270-ac4d4cf46a68 button.colab-df-generate');\n",
              "      buttonEl.style.display =\n",
              "        google.colab.kernel.accessAllowed ? 'block' : 'none';\n",
              "\n",
              "      buttonEl.onclick = () => {\n",
              "        google.colab.notebook.generateWithVariable('df');\n",
              "      }\n",
              "      })();\n",
              "    </script>\n",
              "  </div>\n",
              "\n",
              "    </div>\n",
              "  </div>\n"
            ],
            "application/vnd.google.colaboratory.intrinsic+json": {
              "type": "dataframe",
              "variable_name": "df",
              "summary": "{\n  \"name\": \"df\",\n  \"rows\": 10,\n  \"fields\": [\n    {\n      \"column\": \"word\",\n      \"properties\": {\n        \"dtype\": \"string\",\n        \"num_unique_values\": 10,\n        \"samples\": [\n          \"quality\",\n          \"augurs\",\n          \"surmise\"\n        ],\n        \"semantic_type\": \"\",\n        \"description\": \"\"\n      }\n    },\n    {\n      \"column\": \"word_count\",\n      \"properties\": {\n        \"dtype\": \"Int64\",\n        \"num_unique_values\": 1,\n        \"samples\": [\n          1\n        ],\n        \"semantic_type\": \"\",\n        \"description\": \"\"\n      }\n    },\n    {\n      \"column\": \"corpus\",\n      \"properties\": {\n        \"dtype\": \"category\",\n        \"num_unique_values\": 1,\n        \"samples\": [\n          \"sonnets\"\n        ],\n        \"semantic_type\": \"\",\n        \"description\": \"\"\n      }\n    }\n  ]\n}"
            }
          },
          "metadata": {},
          "execution_count": 45
        }
      ],
      "source": [
        "df = query_job.to_dataframe()\n",
        "df"
      ]
    },
    {
      "cell_type": "markdown",
      "metadata": {
        "id": "3iNOJ-cnQMqv"
      },
      "source": [
        "#### Additional Notes"
      ]
    },
    {
      "cell_type": "markdown",
      "metadata": {
        "id": "1DFF38wvQMqv"
      },
      "source": [
        "1. Here is a readable way to code long SQL statements:"
      ]
    },
    {
      "cell_type": "code",
      "execution_count": null,
      "metadata": {
        "id": "C1rUFwnnQMqv"
      },
      "outputs": [],
      "source": [
        "sql = \"\"\"\n",
        "    SELECT word, word_count, corpus\n",
        "    FROM bigquery-public-data.samples.shakespeare\n",
        "    LIMIT 10\n",
        "    \"\"\""
      ]
    },
    {
      "cell_type": "markdown",
      "metadata": {
        "id": "ey8f9Hg_QMqw"
      },
      "source": [
        "2. If you had an application that needed to modify the tables or datasets in the `bigquery-public-data` is project, you could copy them to our own project, where you would have the permissions to do as you please with the data (subject to Google's terms of use)."
      ]
    },
    {
      "cell_type": "markdown",
      "metadata": {
        "id": "bMrmiDRJQMqw"
      },
      "source": [
        "3. We aren't limited to the datasets that are already in BigQuery. We can upload tables from our computer, and we can pull data in from other online sources."
      ]
    },
    {
      "cell_type": "markdown",
      "metadata": {
        "id": "KpCJE78Cxpw4"
      },
      "source": [
        "## Google Gemini"
      ]
    },
    {
      "cell_type": "markdown",
      "metadata": {
        "id": "y42HUkiyxpw4"
      },
      "source": [
        "Google Gemini (formerly Bard) is a multimodal generative AI chatbot. It can process text, audio, images and video.\n",
        "\n",
        "Create an API key at https://aistudio.google.com/app/apikey . Copy the key and paste it into a text file called 'gemini_key.txt'"
      ]
    },
    {
      "cell_type": "markdown",
      "metadata": {
        "id": "2778CTfIxpw4"
      },
      "source": [
        "## Google Gemini UI\n",
        "While signed into Google experiment with some prompts at https://aistudio.google.com/app/prompts/new_chat. A prompt gallery is available at https://aistudio.google.com/app/gallery."
      ]
    },
    {
      "cell_type": "markdown",
      "metadata": {
        "id": "5VtWkTPixpw4"
      },
      "source": [
        "## Google Gemini API"
      ]
    },
    {
      "cell_type": "markdown",
      "metadata": {
        "id": "1sr2VmOgxpw4"
      },
      "source": [
        "The library `google-generativeai` gives access to Gemini models. For this section download the following two files from the DATA folder:\n",
        "\n",
        "* `equation.jpg`\n",
        "* `JFK.mp3`"
      ]
    },
    {
      "cell_type": "code",
      "execution_count": 46,
      "metadata": {
        "id": "Wfv8zvH1xpw5",
        "colab": {
          "base_uri": "https://localhost:8080/"
        },
        "outputId": "c4279e4d-d306-4d01-b62d-8ee0b86793c7"
      },
      "outputs": [
        {
          "output_type": "stream",
          "name": "stdout",
          "text": [
            "Requirement already satisfied: google-generativeai in /usr/local/lib/python3.11/dist-packages (0.8.5)\n",
            "Requirement already satisfied: google-ai-generativelanguage==0.6.15 in /usr/local/lib/python3.11/dist-packages (from google-generativeai) (0.6.15)\n",
            "Requirement already satisfied: google-api-core in /usr/local/lib/python3.11/dist-packages (from google-generativeai) (2.25.1)\n",
            "Requirement already satisfied: google-api-python-client in /usr/local/lib/python3.11/dist-packages (from google-generativeai) (2.176.0)\n",
            "Requirement already satisfied: google-auth>=2.15.0 in /usr/local/lib/python3.11/dist-packages (from google-generativeai) (2.38.0)\n",
            "Requirement already satisfied: protobuf in /usr/local/lib/python3.11/dist-packages (from google-generativeai) (5.29.5)\n",
            "Requirement already satisfied: pydantic in /usr/local/lib/python3.11/dist-packages (from google-generativeai) (2.11.7)\n",
            "Requirement already satisfied: tqdm in /usr/local/lib/python3.11/dist-packages (from google-generativeai) (4.67.1)\n",
            "Requirement already satisfied: typing-extensions in /usr/local/lib/python3.11/dist-packages (from google-generativeai) (4.14.1)\n",
            "Requirement already satisfied: proto-plus<2.0.0dev,>=1.22.3 in /usr/local/lib/python3.11/dist-packages (from google-ai-generativelanguage==0.6.15->google-generativeai) (1.26.1)\n",
            "Requirement already satisfied: googleapis-common-protos<2.0.0,>=1.56.2 in /usr/local/lib/python3.11/dist-packages (from google-api-core->google-generativeai) (1.70.0)\n",
            "Requirement already satisfied: requests<3.0.0,>=2.18.0 in /usr/local/lib/python3.11/dist-packages (from google-api-core->google-generativeai) (2.32.3)\n",
            "Requirement already satisfied: cachetools<6.0,>=2.0.0 in /usr/local/lib/python3.11/dist-packages (from google-auth>=2.15.0->google-generativeai) (5.5.2)\n",
            "Requirement already satisfied: pyasn1-modules>=0.2.1 in /usr/local/lib/python3.11/dist-packages (from google-auth>=2.15.0->google-generativeai) (0.4.2)\n",
            "Requirement already satisfied: rsa<5,>=3.1.4 in /usr/local/lib/python3.11/dist-packages (from google-auth>=2.15.0->google-generativeai) (4.9.1)\n",
            "Requirement already satisfied: httplib2<1.0.0,>=0.19.0 in /usr/local/lib/python3.11/dist-packages (from google-api-python-client->google-generativeai) (0.22.0)\n",
            "Requirement already satisfied: google-auth-httplib2<1.0.0,>=0.2.0 in /usr/local/lib/python3.11/dist-packages (from google-api-python-client->google-generativeai) (0.2.0)\n",
            "Requirement already satisfied: uritemplate<5,>=3.0.1 in /usr/local/lib/python3.11/dist-packages (from google-api-python-client->google-generativeai) (4.2.0)\n",
            "Requirement already satisfied: annotated-types>=0.6.0 in /usr/local/lib/python3.11/dist-packages (from pydantic->google-generativeai) (0.7.0)\n",
            "Requirement already satisfied: pydantic-core==2.33.2 in /usr/local/lib/python3.11/dist-packages (from pydantic->google-generativeai) (2.33.2)\n",
            "Requirement already satisfied: typing-inspection>=0.4.0 in /usr/local/lib/python3.11/dist-packages (from pydantic->google-generativeai) (0.4.1)\n",
            "Requirement already satisfied: grpcio<2.0.0,>=1.33.2 in /usr/local/lib/python3.11/dist-packages (from google-api-core[grpc]!=2.0.*,!=2.1.*,!=2.10.*,!=2.2.*,!=2.3.*,!=2.4.*,!=2.5.*,!=2.6.*,!=2.7.*,!=2.8.*,!=2.9.*,<3.0.0dev,>=1.34.1->google-ai-generativelanguage==0.6.15->google-generativeai) (1.73.1)\n",
            "Requirement already satisfied: grpcio-status<2.0.0,>=1.33.2 in /usr/local/lib/python3.11/dist-packages (from google-api-core[grpc]!=2.0.*,!=2.1.*,!=2.10.*,!=2.2.*,!=2.3.*,!=2.4.*,!=2.5.*,!=2.6.*,!=2.7.*,!=2.8.*,!=2.9.*,<3.0.0dev,>=1.34.1->google-ai-generativelanguage==0.6.15->google-generativeai) (1.71.2)\n",
            "Requirement already satisfied: pyparsing!=3.0.0,!=3.0.1,!=3.0.2,!=3.0.3,<4,>=2.4.2 in /usr/local/lib/python3.11/dist-packages (from httplib2<1.0.0,>=0.19.0->google-api-python-client->google-generativeai) (3.2.3)\n",
            "Requirement already satisfied: pyasn1<0.7.0,>=0.6.1 in /usr/local/lib/python3.11/dist-packages (from pyasn1-modules>=0.2.1->google-auth>=2.15.0->google-generativeai) (0.6.1)\n",
            "Requirement already satisfied: charset-normalizer<4,>=2 in /usr/local/lib/python3.11/dist-packages (from requests<3.0.0,>=2.18.0->google-api-core->google-generativeai) (3.4.2)\n",
            "Requirement already satisfied: idna<4,>=2.5 in /usr/local/lib/python3.11/dist-packages (from requests<3.0.0,>=2.18.0->google-api-core->google-generativeai) (3.10)\n",
            "Requirement already satisfied: urllib3<3,>=1.21.1 in /usr/local/lib/python3.11/dist-packages (from requests<3.0.0,>=2.18.0->google-api-core->google-generativeai) (2.4.0)\n",
            "Requirement already satisfied: certifi>=2017.4.17 in /usr/local/lib/python3.11/dist-packages (from requests<3.0.0,>=2.18.0->google-api-core->google-generativeai) (2025.7.14)\n"
          ]
        }
      ],
      "source": [
        "# -U gives the latest version\n",
        "!pip install -U google-generativeai"
      ]
    },
    {
      "cell_type": "code",
      "execution_count": 47,
      "metadata": {
        "id": "_rwuMn5Bxpw5"
      },
      "outputs": [],
      "source": [
        "import google.generativeai as genai\n",
        "from IPython.display import Markdown # allows Markdown text to be displayed in the notebook"
      ]
    },
    {
      "cell_type": "markdown",
      "metadata": {
        "id": "fLIKAdCwxpw5"
      },
      "source": [
        "Firstly we read our API key from `gemini_key.txt`:"
      ]
    },
    {
      "cell_type": "code",
      "source": [
        "from google.colab import files\n",
        "uploaded = files.upload()\n"
      ],
      "metadata": {
        "colab": {
          "base_uri": "https://localhost:8080/",
          "height": 74
        },
        "id": "jFZ_6_WcH-7R",
        "outputId": "a81ec3f7-7721-46b6-973c-1ef2697fb821"
      },
      "execution_count": 48,
      "outputs": [
        {
          "output_type": "display_data",
          "data": {
            "text/plain": [
              "<IPython.core.display.HTML object>"
            ],
            "text/html": [
              "\n",
              "     <input type=\"file\" id=\"files-e26f790a-ceed-4a34-8529-96e285a6e582\" name=\"files[]\" multiple disabled\n",
              "        style=\"border:none\" />\n",
              "     <output id=\"result-e26f790a-ceed-4a34-8529-96e285a6e582\">\n",
              "      Upload widget is only available when the cell has been executed in the\n",
              "      current browser session. Please rerun this cell to enable.\n",
              "      </output>\n",
              "      <script>// Copyright 2017 Google LLC\n",
              "//\n",
              "// Licensed under the Apache License, Version 2.0 (the \"License\");\n",
              "// you may not use this file except in compliance with the License.\n",
              "// You may obtain a copy of the License at\n",
              "//\n",
              "//      http://www.apache.org/licenses/LICENSE-2.0\n",
              "//\n",
              "// Unless required by applicable law or agreed to in writing, software\n",
              "// distributed under the License is distributed on an \"AS IS\" BASIS,\n",
              "// WITHOUT WARRANTIES OR CONDITIONS OF ANY KIND, either express or implied.\n",
              "// See the License for the specific language governing permissions and\n",
              "// limitations under the License.\n",
              "\n",
              "/**\n",
              " * @fileoverview Helpers for google.colab Python module.\n",
              " */\n",
              "(function(scope) {\n",
              "function span(text, styleAttributes = {}) {\n",
              "  const element = document.createElement('span');\n",
              "  element.textContent = text;\n",
              "  for (const key of Object.keys(styleAttributes)) {\n",
              "    element.style[key] = styleAttributes[key];\n",
              "  }\n",
              "  return element;\n",
              "}\n",
              "\n",
              "// Max number of bytes which will be uploaded at a time.\n",
              "const MAX_PAYLOAD_SIZE = 100 * 1024;\n",
              "\n",
              "function _uploadFiles(inputId, outputId) {\n",
              "  const steps = uploadFilesStep(inputId, outputId);\n",
              "  const outputElement = document.getElementById(outputId);\n",
              "  // Cache steps on the outputElement to make it available for the next call\n",
              "  // to uploadFilesContinue from Python.\n",
              "  outputElement.steps = steps;\n",
              "\n",
              "  return _uploadFilesContinue(outputId);\n",
              "}\n",
              "\n",
              "// This is roughly an async generator (not supported in the browser yet),\n",
              "// where there are multiple asynchronous steps and the Python side is going\n",
              "// to poll for completion of each step.\n",
              "// This uses a Promise to block the python side on completion of each step,\n",
              "// then passes the result of the previous step as the input to the next step.\n",
              "function _uploadFilesContinue(outputId) {\n",
              "  const outputElement = document.getElementById(outputId);\n",
              "  const steps = outputElement.steps;\n",
              "\n",
              "  const next = steps.next(outputElement.lastPromiseValue);\n",
              "  return Promise.resolve(next.value.promise).then((value) => {\n",
              "    // Cache the last promise value to make it available to the next\n",
              "    // step of the generator.\n",
              "    outputElement.lastPromiseValue = value;\n",
              "    return next.value.response;\n",
              "  });\n",
              "}\n",
              "\n",
              "/**\n",
              " * Generator function which is called between each async step of the upload\n",
              " * process.\n",
              " * @param {string} inputId Element ID of the input file picker element.\n",
              " * @param {string} outputId Element ID of the output display.\n",
              " * @return {!Iterable<!Object>} Iterable of next steps.\n",
              " */\n",
              "function* uploadFilesStep(inputId, outputId) {\n",
              "  const inputElement = document.getElementById(inputId);\n",
              "  inputElement.disabled = false;\n",
              "\n",
              "  const outputElement = document.getElementById(outputId);\n",
              "  outputElement.innerHTML = '';\n",
              "\n",
              "  const pickedPromise = new Promise((resolve) => {\n",
              "    inputElement.addEventListener('change', (e) => {\n",
              "      resolve(e.target.files);\n",
              "    });\n",
              "  });\n",
              "\n",
              "  const cancel = document.createElement('button');\n",
              "  inputElement.parentElement.appendChild(cancel);\n",
              "  cancel.textContent = 'Cancel upload';\n",
              "  const cancelPromise = new Promise((resolve) => {\n",
              "    cancel.onclick = () => {\n",
              "      resolve(null);\n",
              "    };\n",
              "  });\n",
              "\n",
              "  // Wait for the user to pick the files.\n",
              "  const files = yield {\n",
              "    promise: Promise.race([pickedPromise, cancelPromise]),\n",
              "    response: {\n",
              "      action: 'starting',\n",
              "    }\n",
              "  };\n",
              "\n",
              "  cancel.remove();\n",
              "\n",
              "  // Disable the input element since further picks are not allowed.\n",
              "  inputElement.disabled = true;\n",
              "\n",
              "  if (!files) {\n",
              "    return {\n",
              "      response: {\n",
              "        action: 'complete',\n",
              "      }\n",
              "    };\n",
              "  }\n",
              "\n",
              "  for (const file of files) {\n",
              "    const li = document.createElement('li');\n",
              "    li.append(span(file.name, {fontWeight: 'bold'}));\n",
              "    li.append(span(\n",
              "        `(${file.type || 'n/a'}) - ${file.size} bytes, ` +\n",
              "        `last modified: ${\n",
              "            file.lastModifiedDate ? file.lastModifiedDate.toLocaleDateString() :\n",
              "                                    'n/a'} - `));\n",
              "    const percent = span('0% done');\n",
              "    li.appendChild(percent);\n",
              "\n",
              "    outputElement.appendChild(li);\n",
              "\n",
              "    const fileDataPromise = new Promise((resolve) => {\n",
              "      const reader = new FileReader();\n",
              "      reader.onload = (e) => {\n",
              "        resolve(e.target.result);\n",
              "      };\n",
              "      reader.readAsArrayBuffer(file);\n",
              "    });\n",
              "    // Wait for the data to be ready.\n",
              "    let fileData = yield {\n",
              "      promise: fileDataPromise,\n",
              "      response: {\n",
              "        action: 'continue',\n",
              "      }\n",
              "    };\n",
              "\n",
              "    // Use a chunked sending to avoid message size limits. See b/62115660.\n",
              "    let position = 0;\n",
              "    do {\n",
              "      const length = Math.min(fileData.byteLength - position, MAX_PAYLOAD_SIZE);\n",
              "      const chunk = new Uint8Array(fileData, position, length);\n",
              "      position += length;\n",
              "\n",
              "      const base64 = btoa(String.fromCharCode.apply(null, chunk));\n",
              "      yield {\n",
              "        response: {\n",
              "          action: 'append',\n",
              "          file: file.name,\n",
              "          data: base64,\n",
              "        },\n",
              "      };\n",
              "\n",
              "      let percentDone = fileData.byteLength === 0 ?\n",
              "          100 :\n",
              "          Math.round((position / fileData.byteLength) * 100);\n",
              "      percent.textContent = `${percentDone}% done`;\n",
              "\n",
              "    } while (position < fileData.byteLength);\n",
              "  }\n",
              "\n",
              "  // All done.\n",
              "  yield {\n",
              "    response: {\n",
              "      action: 'complete',\n",
              "    }\n",
              "  };\n",
              "}\n",
              "\n",
              "scope.google = scope.google || {};\n",
              "scope.google.colab = scope.google.colab || {};\n",
              "scope.google.colab._files = {\n",
              "  _uploadFiles,\n",
              "  _uploadFilesContinue,\n",
              "};\n",
              "})(self);\n",
              "</script> "
            ]
          },
          "metadata": {}
        },
        {
          "output_type": "stream",
          "name": "stdout",
          "text": [
            "Saving gemini_key.txt to gemini_key.txt\n"
          ]
        }
      ]
    },
    {
      "cell_type": "code",
      "execution_count": 49,
      "metadata": {
        "id": "locq-5Cxxpw6"
      },
      "outputs": [],
      "source": [
        "filename = 'gemini_key.txt'\n",
        "try:\n",
        "    with open(filename, 'r') as f:\n",
        "        # It's assumed your file contains a single line containing your API key only\n",
        "        key = f.read().strip()\n",
        "except FileNotFoundError:\n",
        "    print(\"'%s' file not found\" % filename)"
      ]
    },
    {
      "cell_type": "code",
      "execution_count": 50,
      "metadata": {
        "id": "57kbcoErxpw6"
      },
      "outputs": [],
      "source": [
        "genai.configure(api_key=key)"
      ]
    },
    {
      "cell_type": "markdown",
      "metadata": {
        "id": "oD4bAhVoxpw6"
      },
      "source": [
        "A list of methods in `google.generativeai` can be seen at https://github.com/google-gemini/generative-ai-python/blob/main/docs/api/google/generativeai.md. We shall use the following:\n",
        "\n",
        "* `configure()`: creates a client object by passing in the API key\n",
        "* `GenerativeModel()`: used to access the model\n",
        "  * `generate_content()`: used to generate responses from the model\n",
        "* `list_models()`: used to see available models\n",
        "* `upload_file()`: used to upload image/audio files"
      ]
    },
    {
      "cell_type": "markdown",
      "metadata": {
        "id": "yLdPzZGMxpw6"
      },
      "source": [
        "The following code lists the available models for text generation:"
      ]
    },
    {
      "cell_type": "code",
      "execution_count": 51,
      "metadata": {
        "id": "hGfNEiAuxpw7",
        "colab": {
          "base_uri": "https://localhost:8080/",
          "height": 767
        },
        "outputId": "3b280419-4ca4-4adb-d18c-85a4e47dfac0"
      },
      "outputs": [
        {
          "output_type": "stream",
          "name": "stdout",
          "text": [
            "models/gemini-1.0-pro-vision-latest\n",
            "models/gemini-pro-vision\n",
            "models/gemini-1.5-pro-latest\n",
            "models/gemini-1.5-pro-002\n",
            "models/gemini-1.5-pro\n",
            "models/gemini-1.5-flash-latest\n",
            "models/gemini-1.5-flash\n",
            "models/gemini-1.5-flash-002\n",
            "models/gemini-1.5-flash-8b\n",
            "models/gemini-1.5-flash-8b-001\n",
            "models/gemini-1.5-flash-8b-latest\n",
            "models/gemini-2.5-pro-preview-03-25\n",
            "models/gemini-2.5-flash-preview-05-20\n",
            "models/gemini-2.5-flash\n",
            "models/gemini-2.5-flash-lite-preview-06-17\n",
            "models/gemini-2.5-pro-preview-05-06\n",
            "models/gemini-2.5-pro-preview-06-05\n",
            "models/gemini-2.5-pro\n",
            "models/gemini-2.0-flash-exp\n",
            "models/gemini-2.0-flash\n",
            "models/gemini-2.0-flash-001\n",
            "models/gemini-2.0-flash-exp-image-generation\n",
            "models/gemini-2.0-flash-lite-001\n",
            "models/gemini-2.0-flash-lite\n",
            "models/gemini-2.0-flash-preview-image-generation\n",
            "models/gemini-2.0-flash-lite-preview-02-05\n",
            "models/gemini-2.0-flash-lite-preview\n",
            "models/gemini-2.0-pro-exp\n",
            "models/gemini-2.0-pro-exp-02-05\n",
            "models/gemini-exp-1206\n",
            "models/gemini-2.0-flash-thinking-exp-01-21\n",
            "models/gemini-2.0-flash-thinking-exp\n",
            "models/gemini-2.0-flash-thinking-exp-1219\n",
            "models/gemini-2.5-flash-preview-tts\n",
            "models/gemini-2.5-pro-preview-tts\n",
            "models/learnlm-2.0-flash-experimental\n",
            "models/gemma-3-1b-it\n",
            "models/gemma-3-4b-it\n",
            "models/gemma-3-12b-it\n",
            "models/gemma-3-27b-it\n",
            "models/gemma-3n-e4b-it\n",
            "models/gemma-3n-e2b-it\n"
          ]
        }
      ],
      "source": [
        "for m in genai.list_models():\n",
        "    if \"generateContent\" in m.supported_generation_methods:\n",
        "        print(m.name)"
      ]
    },
    {
      "cell_type": "markdown",
      "metadata": {
        "id": "7gXcb3_axpw7"
      },
      "source": [
        "As suggested by the name, Gemini Flash is designed for faster responses while Gemini Pro works better at more challenging tasks. Pro has a lower rate limit of 2 requests per minute as seen in https://ai.google.dev/pricing."
      ]
    },
    {
      "cell_type": "code",
      "execution_count": 52,
      "metadata": {
        "id": "nM7O6cazxpw7"
      },
      "outputs": [],
      "source": [
        "model = genai.GenerativeModel('gemini-1.5-flash')\n",
        "response = model.generate_content(\"What is an API?\")"
      ]
    },
    {
      "cell_type": "markdown",
      "metadata": {
        "id": "r25EuFCFxpw7"
      },
      "source": [
        "The attribute `text` shows in Markdown format the response of the model to the question."
      ]
    },
    {
      "cell_type": "code",
      "execution_count": 53,
      "metadata": {
        "id": "tVpmzYEXxpw7",
        "colab": {
          "base_uri": "https://localhost:8080/",
          "height": 360
        },
        "outputId": "1999a024-3015-475b-8c81-d89e66d4c431"
      },
      "outputs": [
        {
          "output_type": "execute_result",
          "data": {
            "text/plain": [
              "<IPython.core.display.Markdown object>"
            ],
            "text/markdown": "API stands for **Application Programming Interface**.  It's essentially a messenger that allows different software systems to talk to each other.  Think of it as a menu in a restaurant.  You (the application) don't need to know how the kitchen (the other software system) prepares the food (data), you just need to know what options are available (the API's functions) and how to order them (the API's requests).\n\nMore technically, an API is a set of rules and specifications that software programs can follow to communicate and exchange information. It defines how one application can request services or data from another application.  This communication typically involves sending requests and receiving responses, often in formats like JSON or XML.\n\nHere's a breakdown of key aspects:\n\n* **Requests:**  An application sends a request to the API, specifying what it needs.\n* **Responses:** The API processes the request and sends back a response containing the requested data or information.\n* **Functions/Endpoints:** These are specific tasks or data points the API can provide access to. For example, a weather API might have endpoints for \"get current temperature,\" \"get forecast,\" etc.\n* **Documentation:**  Good APIs come with detailed documentation explaining how to use them.\n\n**Examples:**\n\n* **Google Maps API:** Allows developers to embed maps and location-based services into their applications.\n* **Twitter API:** Allows developers to access and interact with Twitter data, such as tweets and user profiles.\n* **Payment gateway APIs:**  Allow online businesses to process payments securely.\n\nIn short, APIs are crucial for modern software development, enabling modularity, reusability, and integration between different systems.\n"
          },
          "metadata": {},
          "execution_count": 53
        }
      ],
      "source": [
        "Markdown(response.text)"
      ]
    },
    {
      "cell_type": "markdown",
      "metadata": {
        "id": "7DKf8jEUxpw8"
      },
      "source": [
        "Study the response object and identify the total token count."
      ]
    },
    {
      "cell_type": "code",
      "execution_count": 54,
      "metadata": {
        "id": "GWJKsCqvxpw8",
        "colab": {
          "base_uri": "https://localhost:8080/"
        },
        "outputId": "4a7ba50b-6b56-4adf-b4f0-0aa1673c0394"
      },
      "outputs": [
        {
          "output_type": "execute_result",
          "data": {
            "text/plain": [
              "356"
            ]
          },
          "metadata": {},
          "execution_count": 54
        }
      ],
      "source": [
        "# ANSWER\n",
        "response.usage_metadata.total_token_count"
      ]
    },
    {
      "cell_type": "markdown",
      "metadata": {
        "id": "D4ArzGbKxpw8"
      },
      "source": [
        "Next, we have Gemini process a mathematical equation in an image."
      ]
    },
    {
      "cell_type": "code",
      "source": [
        "from google.colab import files\n",
        "uploaded = files.upload()"
      ],
      "metadata": {
        "colab": {
          "base_uri": "https://localhost:8080/",
          "height": 74
        },
        "id": "a6MfAgkpIhsL",
        "outputId": "9a134ed8-b736-4568-e253-e0ce0e0151d4"
      },
      "execution_count": 56,
      "outputs": [
        {
          "output_type": "display_data",
          "data": {
            "text/plain": [
              "<IPython.core.display.HTML object>"
            ],
            "text/html": [
              "\n",
              "     <input type=\"file\" id=\"files-ae7ecb2f-a13d-48fe-a5a8-e191226abc50\" name=\"files[]\" multiple disabled\n",
              "        style=\"border:none\" />\n",
              "     <output id=\"result-ae7ecb2f-a13d-48fe-a5a8-e191226abc50\">\n",
              "      Upload widget is only available when the cell has been executed in the\n",
              "      current browser session. Please rerun this cell to enable.\n",
              "      </output>\n",
              "      <script>// Copyright 2017 Google LLC\n",
              "//\n",
              "// Licensed under the Apache License, Version 2.0 (the \"License\");\n",
              "// you may not use this file except in compliance with the License.\n",
              "// You may obtain a copy of the License at\n",
              "//\n",
              "//      http://www.apache.org/licenses/LICENSE-2.0\n",
              "//\n",
              "// Unless required by applicable law or agreed to in writing, software\n",
              "// distributed under the License is distributed on an \"AS IS\" BASIS,\n",
              "// WITHOUT WARRANTIES OR CONDITIONS OF ANY KIND, either express or implied.\n",
              "// See the License for the specific language governing permissions and\n",
              "// limitations under the License.\n",
              "\n",
              "/**\n",
              " * @fileoverview Helpers for google.colab Python module.\n",
              " */\n",
              "(function(scope) {\n",
              "function span(text, styleAttributes = {}) {\n",
              "  const element = document.createElement('span');\n",
              "  element.textContent = text;\n",
              "  for (const key of Object.keys(styleAttributes)) {\n",
              "    element.style[key] = styleAttributes[key];\n",
              "  }\n",
              "  return element;\n",
              "}\n",
              "\n",
              "// Max number of bytes which will be uploaded at a time.\n",
              "const MAX_PAYLOAD_SIZE = 100 * 1024;\n",
              "\n",
              "function _uploadFiles(inputId, outputId) {\n",
              "  const steps = uploadFilesStep(inputId, outputId);\n",
              "  const outputElement = document.getElementById(outputId);\n",
              "  // Cache steps on the outputElement to make it available for the next call\n",
              "  // to uploadFilesContinue from Python.\n",
              "  outputElement.steps = steps;\n",
              "\n",
              "  return _uploadFilesContinue(outputId);\n",
              "}\n",
              "\n",
              "// This is roughly an async generator (not supported in the browser yet),\n",
              "// where there are multiple asynchronous steps and the Python side is going\n",
              "// to poll for completion of each step.\n",
              "// This uses a Promise to block the python side on completion of each step,\n",
              "// then passes the result of the previous step as the input to the next step.\n",
              "function _uploadFilesContinue(outputId) {\n",
              "  const outputElement = document.getElementById(outputId);\n",
              "  const steps = outputElement.steps;\n",
              "\n",
              "  const next = steps.next(outputElement.lastPromiseValue);\n",
              "  return Promise.resolve(next.value.promise).then((value) => {\n",
              "    // Cache the last promise value to make it available to the next\n",
              "    // step of the generator.\n",
              "    outputElement.lastPromiseValue = value;\n",
              "    return next.value.response;\n",
              "  });\n",
              "}\n",
              "\n",
              "/**\n",
              " * Generator function which is called between each async step of the upload\n",
              " * process.\n",
              " * @param {string} inputId Element ID of the input file picker element.\n",
              " * @param {string} outputId Element ID of the output display.\n",
              " * @return {!Iterable<!Object>} Iterable of next steps.\n",
              " */\n",
              "function* uploadFilesStep(inputId, outputId) {\n",
              "  const inputElement = document.getElementById(inputId);\n",
              "  inputElement.disabled = false;\n",
              "\n",
              "  const outputElement = document.getElementById(outputId);\n",
              "  outputElement.innerHTML = '';\n",
              "\n",
              "  const pickedPromise = new Promise((resolve) => {\n",
              "    inputElement.addEventListener('change', (e) => {\n",
              "      resolve(e.target.files);\n",
              "    });\n",
              "  });\n",
              "\n",
              "  const cancel = document.createElement('button');\n",
              "  inputElement.parentElement.appendChild(cancel);\n",
              "  cancel.textContent = 'Cancel upload';\n",
              "  const cancelPromise = new Promise((resolve) => {\n",
              "    cancel.onclick = () => {\n",
              "      resolve(null);\n",
              "    };\n",
              "  });\n",
              "\n",
              "  // Wait for the user to pick the files.\n",
              "  const files = yield {\n",
              "    promise: Promise.race([pickedPromise, cancelPromise]),\n",
              "    response: {\n",
              "      action: 'starting',\n",
              "    }\n",
              "  };\n",
              "\n",
              "  cancel.remove();\n",
              "\n",
              "  // Disable the input element since further picks are not allowed.\n",
              "  inputElement.disabled = true;\n",
              "\n",
              "  if (!files) {\n",
              "    return {\n",
              "      response: {\n",
              "        action: 'complete',\n",
              "      }\n",
              "    };\n",
              "  }\n",
              "\n",
              "  for (const file of files) {\n",
              "    const li = document.createElement('li');\n",
              "    li.append(span(file.name, {fontWeight: 'bold'}));\n",
              "    li.append(span(\n",
              "        `(${file.type || 'n/a'}) - ${file.size} bytes, ` +\n",
              "        `last modified: ${\n",
              "            file.lastModifiedDate ? file.lastModifiedDate.toLocaleDateString() :\n",
              "                                    'n/a'} - `));\n",
              "    const percent = span('0% done');\n",
              "    li.appendChild(percent);\n",
              "\n",
              "    outputElement.appendChild(li);\n",
              "\n",
              "    const fileDataPromise = new Promise((resolve) => {\n",
              "      const reader = new FileReader();\n",
              "      reader.onload = (e) => {\n",
              "        resolve(e.target.result);\n",
              "      };\n",
              "      reader.readAsArrayBuffer(file);\n",
              "    });\n",
              "    // Wait for the data to be ready.\n",
              "    let fileData = yield {\n",
              "      promise: fileDataPromise,\n",
              "      response: {\n",
              "        action: 'continue',\n",
              "      }\n",
              "    };\n",
              "\n",
              "    // Use a chunked sending to avoid message size limits. See b/62115660.\n",
              "    let position = 0;\n",
              "    do {\n",
              "      const length = Math.min(fileData.byteLength - position, MAX_PAYLOAD_SIZE);\n",
              "      const chunk = new Uint8Array(fileData, position, length);\n",
              "      position += length;\n",
              "\n",
              "      const base64 = btoa(String.fromCharCode.apply(null, chunk));\n",
              "      yield {\n",
              "        response: {\n",
              "          action: 'append',\n",
              "          file: file.name,\n",
              "          data: base64,\n",
              "        },\n",
              "      };\n",
              "\n",
              "      let percentDone = fileData.byteLength === 0 ?\n",
              "          100 :\n",
              "          Math.round((position / fileData.byteLength) * 100);\n",
              "      percent.textContent = `${percentDone}% done`;\n",
              "\n",
              "    } while (position < fileData.byteLength);\n",
              "  }\n",
              "\n",
              "  // All done.\n",
              "  yield {\n",
              "    response: {\n",
              "      action: 'complete',\n",
              "    }\n",
              "  };\n",
              "}\n",
              "\n",
              "scope.google = scope.google || {};\n",
              "scope.google.colab = scope.google.colab || {};\n",
              "scope.google.colab._files = {\n",
              "  _uploadFiles,\n",
              "  _uploadFilesContinue,\n",
              "};\n",
              "})(self);\n",
              "</script> "
            ]
          },
          "metadata": {}
        },
        {
          "output_type": "stream",
          "name": "stdout",
          "text": [
            "Saving equation.jpg to equation.jpg\n"
          ]
        }
      ]
    },
    {
      "cell_type": "code",
      "execution_count": 57,
      "metadata": {
        "id": "wcxC9JItxpw8"
      },
      "outputs": [],
      "source": [
        "sample_image = genai.upload_file(path=\"equation.jpg\")"
      ]
    },
    {
      "cell_type": "code",
      "execution_count": 58,
      "metadata": {
        "id": "oM27gjfJxpw8",
        "colab": {
          "base_uri": "https://localhost:8080/",
          "height": 93
        },
        "outputId": "60e12d06-a4aa-4f70-8c0f-d39fcf5dfc7f"
      },
      "outputs": [
        {
          "output_type": "execute_result",
          "data": {
            "text/plain": [
              "<IPython.core.display.Markdown object>"
            ],
            "text/markdown": "That's a quadratic equation:\n\n0 = x² - 5x + 6\n\nIt's set equal to zero, meaning it's ready to be solved for the values of *x* that make the equation true.  These values are called the roots or solutions of the equation.\n"
          },
          "metadata": {},
          "execution_count": 58
        }
      ],
      "source": [
        "prompt = \"What is in this image?\"\n",
        "Markdown(model.generate_content([prompt, sample_image]).text)"
      ]
    },
    {
      "cell_type": "markdown",
      "metadata": {
        "id": "tuKbviaNxpw8"
      },
      "source": [
        "Use the Gemini 1.5 Pro model to solve the equation in the image."
      ]
    },
    {
      "cell_type": "code",
      "execution_count": 59,
      "metadata": {
        "id": "eHIqvaj9xpw8",
        "colab": {
          "base_uri": "https://localhost:8080/",
          "height": 179
        },
        "outputId": "bdc12282-ffc3-4a43-9a2e-48f2b57f60ed"
      },
      "outputs": [
        {
          "output_type": "execute_result",
          "data": {
            "text/plain": [
              "<IPython.core.display.Markdown object>"
            ],
            "text/markdown": ">The equation is:\n\n0 = x² - 5x + 6\n\nThis is a quadratic equation, and we can solve it by factoring:\n\n0 = (x - 2)(x - 3)\n\nThis equation is true if either (x - 2) = 0 or (x - 3) = 0.  Therefore, the solutions are:\n\nx = 2  or  x = 3"
          },
          "metadata": {},
          "execution_count": 59
        }
      ],
      "source": [
        "# REPLACE ??? with code\n",
        "model = genai.GenerativeModel(model_name=\"gemini-1.5-pro\")\n",
        "\n",
        "prompt = \"Solve the equation in this image.\"\n",
        "\n",
        "response = model.generate_content([prompt, sample_image])\n",
        "\n",
        "Markdown(\">\" + response.text)"
      ]
    },
    {
      "cell_type": "markdown",
      "metadata": {
        "id": "9luhD3Jnxpw9"
      },
      "source": [
        "Finally we transcribe a short audio clip."
      ]
    },
    {
      "cell_type": "code",
      "source": [
        "from google.colab import files\n",
        "uploaded = files.upload()"
      ],
      "metadata": {
        "colab": {
          "base_uri": "https://localhost:8080/",
          "height": 74
        },
        "id": "X796BbwCI9go",
        "outputId": "00dd4cdc-a868-41a5-ad3c-8a4a94f6a47f"
      },
      "execution_count": 60,
      "outputs": [
        {
          "output_type": "display_data",
          "data": {
            "text/plain": [
              "<IPython.core.display.HTML object>"
            ],
            "text/html": [
              "\n",
              "     <input type=\"file\" id=\"files-5ada51b6-5637-4faf-adb1-cafccdd2d00b\" name=\"files[]\" multiple disabled\n",
              "        style=\"border:none\" />\n",
              "     <output id=\"result-5ada51b6-5637-4faf-adb1-cafccdd2d00b\">\n",
              "      Upload widget is only available when the cell has been executed in the\n",
              "      current browser session. Please rerun this cell to enable.\n",
              "      </output>\n",
              "      <script>// Copyright 2017 Google LLC\n",
              "//\n",
              "// Licensed under the Apache License, Version 2.0 (the \"License\");\n",
              "// you may not use this file except in compliance with the License.\n",
              "// You may obtain a copy of the License at\n",
              "//\n",
              "//      http://www.apache.org/licenses/LICENSE-2.0\n",
              "//\n",
              "// Unless required by applicable law or agreed to in writing, software\n",
              "// distributed under the License is distributed on an \"AS IS\" BASIS,\n",
              "// WITHOUT WARRANTIES OR CONDITIONS OF ANY KIND, either express or implied.\n",
              "// See the License for the specific language governing permissions and\n",
              "// limitations under the License.\n",
              "\n",
              "/**\n",
              " * @fileoverview Helpers for google.colab Python module.\n",
              " */\n",
              "(function(scope) {\n",
              "function span(text, styleAttributes = {}) {\n",
              "  const element = document.createElement('span');\n",
              "  element.textContent = text;\n",
              "  for (const key of Object.keys(styleAttributes)) {\n",
              "    element.style[key] = styleAttributes[key];\n",
              "  }\n",
              "  return element;\n",
              "}\n",
              "\n",
              "// Max number of bytes which will be uploaded at a time.\n",
              "const MAX_PAYLOAD_SIZE = 100 * 1024;\n",
              "\n",
              "function _uploadFiles(inputId, outputId) {\n",
              "  const steps = uploadFilesStep(inputId, outputId);\n",
              "  const outputElement = document.getElementById(outputId);\n",
              "  // Cache steps on the outputElement to make it available for the next call\n",
              "  // to uploadFilesContinue from Python.\n",
              "  outputElement.steps = steps;\n",
              "\n",
              "  return _uploadFilesContinue(outputId);\n",
              "}\n",
              "\n",
              "// This is roughly an async generator (not supported in the browser yet),\n",
              "// where there are multiple asynchronous steps and the Python side is going\n",
              "// to poll for completion of each step.\n",
              "// This uses a Promise to block the python side on completion of each step,\n",
              "// then passes the result of the previous step as the input to the next step.\n",
              "function _uploadFilesContinue(outputId) {\n",
              "  const outputElement = document.getElementById(outputId);\n",
              "  const steps = outputElement.steps;\n",
              "\n",
              "  const next = steps.next(outputElement.lastPromiseValue);\n",
              "  return Promise.resolve(next.value.promise).then((value) => {\n",
              "    // Cache the last promise value to make it available to the next\n",
              "    // step of the generator.\n",
              "    outputElement.lastPromiseValue = value;\n",
              "    return next.value.response;\n",
              "  });\n",
              "}\n",
              "\n",
              "/**\n",
              " * Generator function which is called between each async step of the upload\n",
              " * process.\n",
              " * @param {string} inputId Element ID of the input file picker element.\n",
              " * @param {string} outputId Element ID of the output display.\n",
              " * @return {!Iterable<!Object>} Iterable of next steps.\n",
              " */\n",
              "function* uploadFilesStep(inputId, outputId) {\n",
              "  const inputElement = document.getElementById(inputId);\n",
              "  inputElement.disabled = false;\n",
              "\n",
              "  const outputElement = document.getElementById(outputId);\n",
              "  outputElement.innerHTML = '';\n",
              "\n",
              "  const pickedPromise = new Promise((resolve) => {\n",
              "    inputElement.addEventListener('change', (e) => {\n",
              "      resolve(e.target.files);\n",
              "    });\n",
              "  });\n",
              "\n",
              "  const cancel = document.createElement('button');\n",
              "  inputElement.parentElement.appendChild(cancel);\n",
              "  cancel.textContent = 'Cancel upload';\n",
              "  const cancelPromise = new Promise((resolve) => {\n",
              "    cancel.onclick = () => {\n",
              "      resolve(null);\n",
              "    };\n",
              "  });\n",
              "\n",
              "  // Wait for the user to pick the files.\n",
              "  const files = yield {\n",
              "    promise: Promise.race([pickedPromise, cancelPromise]),\n",
              "    response: {\n",
              "      action: 'starting',\n",
              "    }\n",
              "  };\n",
              "\n",
              "  cancel.remove();\n",
              "\n",
              "  // Disable the input element since further picks are not allowed.\n",
              "  inputElement.disabled = true;\n",
              "\n",
              "  if (!files) {\n",
              "    return {\n",
              "      response: {\n",
              "        action: 'complete',\n",
              "      }\n",
              "    };\n",
              "  }\n",
              "\n",
              "  for (const file of files) {\n",
              "    const li = document.createElement('li');\n",
              "    li.append(span(file.name, {fontWeight: 'bold'}));\n",
              "    li.append(span(\n",
              "        `(${file.type || 'n/a'}) - ${file.size} bytes, ` +\n",
              "        `last modified: ${\n",
              "            file.lastModifiedDate ? file.lastModifiedDate.toLocaleDateString() :\n",
              "                                    'n/a'} - `));\n",
              "    const percent = span('0% done');\n",
              "    li.appendChild(percent);\n",
              "\n",
              "    outputElement.appendChild(li);\n",
              "\n",
              "    const fileDataPromise = new Promise((resolve) => {\n",
              "      const reader = new FileReader();\n",
              "      reader.onload = (e) => {\n",
              "        resolve(e.target.result);\n",
              "      };\n",
              "      reader.readAsArrayBuffer(file);\n",
              "    });\n",
              "    // Wait for the data to be ready.\n",
              "    let fileData = yield {\n",
              "      promise: fileDataPromise,\n",
              "      response: {\n",
              "        action: 'continue',\n",
              "      }\n",
              "    };\n",
              "\n",
              "    // Use a chunked sending to avoid message size limits. See b/62115660.\n",
              "    let position = 0;\n",
              "    do {\n",
              "      const length = Math.min(fileData.byteLength - position, MAX_PAYLOAD_SIZE);\n",
              "      const chunk = new Uint8Array(fileData, position, length);\n",
              "      position += length;\n",
              "\n",
              "      const base64 = btoa(String.fromCharCode.apply(null, chunk));\n",
              "      yield {\n",
              "        response: {\n",
              "          action: 'append',\n",
              "          file: file.name,\n",
              "          data: base64,\n",
              "        },\n",
              "      };\n",
              "\n",
              "      let percentDone = fileData.byteLength === 0 ?\n",
              "          100 :\n",
              "          Math.round((position / fileData.byteLength) * 100);\n",
              "      percent.textContent = `${percentDone}% done`;\n",
              "\n",
              "    } while (position < fileData.byteLength);\n",
              "  }\n",
              "\n",
              "  // All done.\n",
              "  yield {\n",
              "    response: {\n",
              "      action: 'complete',\n",
              "    }\n",
              "  };\n",
              "}\n",
              "\n",
              "scope.google = scope.google || {};\n",
              "scope.google.colab = scope.google.colab || {};\n",
              "scope.google.colab._files = {\n",
              "  _uploadFiles,\n",
              "  _uploadFilesContinue,\n",
              "};\n",
              "})(self);\n",
              "</script> "
            ]
          },
          "metadata": {}
        },
        {
          "output_type": "stream",
          "name": "stdout",
          "text": [
            "Saving JFK.mp3 to JFK.mp3\n"
          ]
        }
      ]
    },
    {
      "cell_type": "code",
      "execution_count": 61,
      "metadata": {
        "id": "IUO21JIuxpw9",
        "colab": {
          "base_uri": "https://localhost:8080/",
          "height": 53
        },
        "outputId": "8addbabf-365e-42f0-c62b-e10fd7685c74"
      },
      "outputs": [
        {
          "output_type": "stream",
          "name": "stdout",
          "text": [
            "And so, my fellow Americans, ask not what your country can do for you, ask what you can do for your country.\n",
            "\n"
          ]
        }
      ],
      "source": [
        "audio_file = genai.upload_file(path='JFK.mp3')\n",
        "\n",
        "model = genai.GenerativeModel(model_name=\"gemini-1.5-flash\")\n",
        "\n",
        "# Create a prompt.\n",
        "prompt = \"Transcribe the audio.\"\n",
        "\n",
        "# Pass the prompt and the audio file to Gemini using generate_content\n",
        "response = model.generate_content([prompt, audio_file]) #???\n",
        "\n",
        "# Print the response.\n",
        "print(response.text)"
      ]
    },
    {
      "cell_type": "markdown",
      "metadata": {
        "id": "BbB6B7r3QMqx"
      },
      "source": [
        "## Further reading\n",
        "\n",
        "If you wish to pick up a few more skills in BigQuery you can go to https://cloud.google.com/bigquery/create-simple-app-api and https://cloud.google.com/bigquery/docs/samples.\n",
        "\n",
        "Alternatively, you can take a deeper dive into the API here: https://googlecloudplatform.github.io/google-cloud-python/latest/bigquery/usage.html.\n",
        "\n",
        "The Google Gemini API documentation is at https://ai.google.dev/gemini-api/docs"
      ]
    },
    {
      "cell_type": "markdown",
      "metadata": {
        "id": "c6jzTfrZQMqx"
      },
      "source": [
        "## - END -"
      ]
    },
    {
      "cell_type": "markdown",
      "metadata": {
        "id": "fWOk43cgN71c"
      },
      "source": [
        "\n",
        "\n",
        "---\n",
        "\n",
        "\n",
        "\n",
        "---\n",
        "\n",
        "\n",
        "\n",
        "> > > > > > > > > © 2025 Institute of Data\n",
        "\n",
        "\n",
        "---\n",
        "\n",
        "\n",
        "\n",
        "---\n",
        "\n",
        "\n",
        "\n"
      ]
    }
  ],
  "metadata": {
    "colab": {
      "collapsed_sections": [
        "BbB6B7r3QMqx"
      ],
      "provenance": []
    },
    "kernelspec": {
      "display_name": "Python [conda env:base] *",
      "language": "python",
      "name": "conda-base-py"
    },
    "language_info": {
      "codemirror_mode": {
        "name": "ipython",
        "version": 3
      },
      "file_extension": ".py",
      "mimetype": "text/x-python",
      "name": "python",
      "nbconvert_exporter": "python",
      "pygments_lexer": "ipython3",
      "version": "3.12.7"
    }
  },
  "nbformat": 4,
  "nbformat_minor": 0
}