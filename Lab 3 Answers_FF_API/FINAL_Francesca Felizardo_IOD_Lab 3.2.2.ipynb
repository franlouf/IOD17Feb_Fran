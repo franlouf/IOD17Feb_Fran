{
 "cells": [
  {
   "cell_type": "markdown",
   "metadata": {
    "id": "nOGGU7gNKck0"
   },
   "source": [
    "<div>\n",
    "<img src=https://www.institutedata.com/wp-content/uploads/2019/10/iod_h_tp_primary_c.svg width=\"300\">\n",
    "</div>"
   ]
  },
  {
   "cell_type": "markdown",
   "metadata": {
    "id": "_D_idRWZKck4"
   },
   "source": [
    "# Lab 3.2.2\n",
    "# *Mining Social Media on Reddit*"
   ]
  },
  {
   "cell_type": "markdown",
   "metadata": {
    "id": "atJ1XMr3Kck7"
   },
   "source": [
    "## The Reddit API and the PRAW Package"
   ]
  },
  {
   "cell_type": "markdown",
   "metadata": {
    "id": "aJ9o1EfAKck-"
   },
   "source": [
    "The Reddit API is rich and complex, with many endpoints (https://www.reddit.com/dev/api/). It includes methods for navigating its collections, which include various kinds of media as well as comments. Fortunately, the Python library PRAW reduces much of this complexity.\n",
    "\n",
    "Reddit requires developers to create and authenticate an app before they can use the API, but the process is much less onerous than some, and does not have waiting period for approval of new developers."
   ]
  },
  {
   "cell_type": "markdown",
   "metadata": {
    "id": "egz9IUhlKclB"
   },
   "source": [
    "### 1. Create a Reddit App\n",
    "\n",
    "Go to https://www.reddit.com/prefs/apps and click \"create an app\".\n",
    "\n",
    "Enter the following in the form:\n",
    "\n",
    "- a name for your app\n",
    "- select \"script\" radio button\n",
    "- a description\n",
    "- a redirect URI\n",
    "\n",
    "(Nb. For pulling data into a data science experiment, a local port can be used for the Redirect URI; try http://127.0.0.1:1410)\n",
    "\n",
    "\n",
    "- click \"create app\"\n",
    "- from the form that displays, copy the following to a local text file (or to this notebook):\n",
    "\n",
    "  - name (the name you gave to your app)\n",
    "  - redirect URI\n",
    "  - personal use script (this is your OAuth 2 Client ID)\n",
    "  - secret (this is your OAuth 2 Secret)"
   ]
  },
  {
   "cell_type": "code",
   "execution_count": 55,
   "metadata": {},
   "outputs": [
    {
     "data": {
      "text/plain": [
       "'\\n  - name (the name you gave to your app) - IOD_FF\\n  - redirect URI - http://127.0.0.1:1410\\n  - personal use script (this is your OAuth 2 Client ID) - NK098qckT7VishDakSA_pg\\n  - secret (this is your OAuth 2 Secret) - 8kE8KSQTMjkrK-JqXbmY1ZwfTnesOw\\n'"
      ]
     },
     "execution_count": 55,
     "metadata": {},
     "output_type": "execute_result"
    }
   ],
   "source": [
    "'''\n",
    "  - name (the name you gave to your app) - IOD_FF\n",
    "  - redirect URI - http://127.0.0.1:1410\n",
    "  - personal use script (this is your OAuth 2 Client ID) - NK098qckT7VishDakSA_pg\n",
    "  - secret (this is your OAuth 2 Secret) - 8kE8KSQTMjkrK-JqXbmY1ZwfTnesOw\n",
    "'''"
   ]
  },
  {
   "cell_type": "markdown",
   "metadata": {
    "id": "LF9V-LJ2KclE"
   },
   "source": [
    "### 2. Register for API Access\n",
    "\n",
    "- follow the link at https://www.reddit.com/wiki/api and read the terms of use for Reddit API access\n",
    "- fill in the form fields at the bottom\n",
    "  - make sure to enter your new OAuth Client ID where indicated\n",
    "  - your use case could be something like \"Training in API usage for data science projects\"\n",
    "  - your platform could be something like \"Jupyter Notebooks / Python\"\n",
    "  \n",
    "- click \"SUBMIT\"\n",
    "\n",
    "- when asked for User-Agent, enter something that fits this pattern:\n",
    "  `your_os-python:your_reddit_appname:v1.0 (by /u/your_reddit_username)`"
   ]
  },
  {
   "cell_type": "markdown",
   "metadata": {
    "id": "JIsv8YAMKclG"
   },
   "source": [
    "### 3. Load Python Libraries"
   ]
  },
  {
   "cell_type": "code",
   "execution_count": 58,
   "metadata": {
    "colab": {
     "base_uri": "https://localhost:8080/"
    },
    "executionInfo": {
     "elapsed": 4231,
     "status": "ok",
     "timestamp": 1685516919188,
     "user": {
      "displayName": "Maheshkumar Paik",
      "userId": "02349378107593826691"
     },
     "user_tz": -480
    },
    "id": "U3ZVHsiYoubq",
    "outputId": "ab731409-5046-47f5-aeed-c7d5a5b8f4bb"
   },
   "outputs": [
    {
     "name": "stdout",
     "output_type": "stream",
     "text": [
      "Requirement already satisfied: praw in /opt/anaconda3/lib/python3.12/site-packages (7.8.1)\n",
      "Requirement already satisfied: prawcore<3,>=2.4 in /opt/anaconda3/lib/python3.12/site-packages (from praw) (2.4.0)\n",
      "Requirement already satisfied: update_checker>=0.18 in /opt/anaconda3/lib/python3.12/site-packages (from praw) (0.18.0)\n",
      "Requirement already satisfied: websocket-client>=0.54.0 in /opt/anaconda3/lib/python3.12/site-packages (from praw) (1.8.0)\n",
      "Requirement already satisfied: requests<3.0,>=2.6.0 in /opt/anaconda3/lib/python3.12/site-packages (from prawcore<3,>=2.4->praw) (2.32.3)\n",
      "Requirement already satisfied: charset-normalizer<4,>=2 in /opt/anaconda3/lib/python3.12/site-packages (from requests<3.0,>=2.6.0->prawcore<3,>=2.4->praw) (3.3.2)\n",
      "Requirement already satisfied: idna<4,>=2.5 in /opt/anaconda3/lib/python3.12/site-packages (from requests<3.0,>=2.6.0->prawcore<3,>=2.4->praw) (3.7)\n",
      "Requirement already satisfied: urllib3<3,>=1.21.1 in /opt/anaconda3/lib/python3.12/site-packages (from requests<3.0,>=2.6.0->prawcore<3,>=2.4->praw) (2.2.3)\n",
      "Requirement already satisfied: certifi>=2017.4.17 in /opt/anaconda3/lib/python3.12/site-packages (from requests<3.0,>=2.6.0->prawcore<3,>=2.4->praw) (2025.4.26)\n"
     ]
    }
   ],
   "source": [
    "!pip install praw"
   ]
  },
  {
   "cell_type": "code",
   "execution_count": 1,
   "metadata": {
    "id": "xqi2BT66KclI"
   },
   "outputs": [],
   "source": [
    "import praw\n",
    "import requests\n",
    "import json\n",
    "import pprint\n",
    "from datetime import datetime, date, time"
   ]
  },
  {
   "cell_type": "markdown",
   "metadata": {
    "id": "wwXaO9GPKclP"
   },
   "source": [
    "### 4. Authenticate from your Python script"
   ]
  },
  {
   "cell_type": "markdown",
   "metadata": {
    "id": "ZF5oh54RKclR"
   },
   "source": [
    "You could assign your authentication details explicitly, as follows:"
   ]
  },
  {
   "cell_type": "code",
   "execution_count": 62,
   "metadata": {
    "id": "qH2-X9juKclS"
   },
   "outputs": [],
   "source": [
    "my_user_agent = ''   # your user Agent string goes in here\n",
    "my_client_id = ''   # your Client ID string goes in here\n",
    "my_client_secret = ''   # your Secret string goes in here"
   ]
  },
  {
   "cell_type": "code",
   "execution_count": 3,
   "metadata": {},
   "outputs": [],
   "source": [
    "my_user_agent = 'IOD_FF:v1.0 (by /u/AsparagusNo3311)'   # your user Agent string goes in here\n",
    "my_client_id = 'NK098qckT7VishDakSA_pg'   # your Client ID string goes in here\n",
    "my_client_secret = '8kE8KSQTMjkrK-JqXbmY1ZwfTnesOw'   # your Secret string goes in here"
   ]
  },
  {
   "cell_type": "markdown",
   "metadata": {
    "id": "1TmzPxHIKclX"
   },
   "source": [
    "A better way would be to store these details externally, so they are not displayed in the notebook:\n",
    "\n",
    "- create a file called \"auth_reddit.json\" in your \"notebooks\" directory, and save your credentials there in JSON format:\n",
    "\n",
    "`{   \"my_client_id\": \"your Client ID string goes in here\",` <br>\n",
    "&nbsp;&nbsp;&nbsp;&nbsp;&nbsp;&nbsp;&nbsp;&nbsp;` \"my_client_secret\": \"your Secret string goes in here\",` <br>\n",
    "&nbsp;&nbsp;&nbsp;&nbsp;&nbsp;&nbsp;&nbsp;&nbsp;`\"my_user_agent\": \"your user Agent string goes in here\"` <br>\n",
    "`}`\n",
    "\n",
    "Use the following code to load the credentials:  "
   ]
  },
  {
   "cell_type": "code",
   "execution_count": 5,
   "metadata": {
    "colab": {
     "base_uri": "https://localhost:8080/",
     "height": 35
    },
    "executionInfo": {
     "elapsed": 324,
     "status": "ok",
     "timestamp": 1685517832027,
     "user": {
      "displayName": "Maheshkumar Paik",
      "userId": "02349378107593826691"
     },
     "user_tz": -480
    },
    "id": "mFbFWGnVKclY",
    "outputId": "97c00516-ffaa-4ea3-a62f-943f12278dcf"
   },
   "outputs": [
    {
     "data": {
      "text/plain": [
       "'/Users/francescafelizardo/Documents/Francesca/IOD - UTS - Data Analytics and AI Program/Modules/Module 3/FF Answered Labs 3'"
      ]
     },
     "execution_count": 5,
     "metadata": {},
     "output_type": "execute_result"
    }
   ],
   "source": [
    "pwd()  # make sure your working directory is where the file is"
   ]
  },
  {
   "cell_type": "code",
   "execution_count": 7,
   "metadata": {
    "id": "Jc5_dh-jKclc"
   },
   "outputs": [
    {
     "name": "stdout",
     "output_type": "stream",
     "text": [
      "{   'my_client_id': 'NK098qckT7VishDakSA_pg',\n",
      "    'my_client_secret': '8kE8KSQTMjkrK-JqXbmY1ZwfTnesOw',\n",
      "    'my_user_agent': 'IOD_FF:v1.0 (by /u/AsparagusNo3311)'}\n"
     ]
    }
   ],
   "source": [
    "path_auth = '/Users/francescafelizardo/Documents/Francesca/IOD - UTS - Data Analytics and AI Program/Modules/Module 3/FF Answered Labs 3/auth_reddit2.json'\n",
    "auth = json.loads(open(path_auth).read())\n",
    "pp = pprint.PrettyPrinter(indent=4)\n",
    "# For debugging only:\n",
    "\n",
    "pp.pprint(auth)\n"
   ]
  },
  {
   "cell_type": "code",
   "execution_count": 9,
   "metadata": {
    "id": "IyPlUZ-wtRrS"
   },
   "outputs": [],
   "source": [
    "my_user_agent = auth['my_user_agent']\n",
    "my_client_id = auth['my_client_id']\n",
    "my_client_secret = auth['my_client_secret']"
   ]
  },
  {
   "cell_type": "markdown",
   "metadata": {
    "id": "lVKFy9rZKclf"
   },
   "source": [
    "Security considerations:\n",
    "- this method only keeps your credentials invisible as long as nobody else gets access to this notebook file\n",
    "- if you wanted another user to have access to the executable notebook without divulging your credentials you should set up an OAuth 2.0 workflow to let them obtain and apply their own API tokens when using your app\n",
    "- if you just want to share your analyses, you could use a separate script (which you don't share) to fetch the data and save it locally, then use a second notebook (with no API access) to load and analyse the locally stored data"
   ]
  },
  {
   "cell_type": "markdown",
   "metadata": {
    "id": "fgHqt72rKclg"
   },
   "source": [
    "### 5. Exploring the API"
   ]
  },
  {
   "cell_type": "markdown",
   "metadata": {
    "id": "ByEQS6QsKclh"
   },
   "source": [
    "Here is how to connect to Reddit with read-only access:"
   ]
  },
  {
   "cell_type": "code",
   "execution_count": 11,
   "metadata": {
    "colab": {
     "base_uri": "https://localhost:8080/"
    },
    "executionInfo": {
     "elapsed": 392,
     "status": "ok",
     "timestamp": 1685518185231,
     "user": {
      "displayName": "Maheshkumar Paik",
      "userId": "02349378107593826691"
     },
     "user_tz": -480
    },
    "id": "8hkZJlcJKcli",
    "outputId": "8e736632-b9cc-4ddd-808c-9fa125dada0f"
   },
   "outputs": [
    {
     "name": "stdout",
     "output_type": "stream",
     "text": [
      "Read-only = True\n"
     ]
    }
   ],
   "source": [
    "reddit = praw.Reddit(client_id = my_client_id,\n",
    "                     client_secret = my_client_secret,\n",
    "                     user_agent = my_user_agent)\n",
    "\n",
    "print('Read-only = ' + str(reddit.read_only))  # Output: True"
   ]
  },
  {
   "cell_type": "markdown",
   "metadata": {
    "id": "slGz0lS5Kclk"
   },
   "source": [
    "In the next cell, put the cursor after the '.' and hit the [tab] key to see the available members and methods in the response object:"
   ]
  },
  {
   "cell_type": "code",
   "execution_count": 13,
   "metadata": {
    "id": "McKdW7YGqmk3"
   },
   "outputs": [
    {
     "data": {
      "text/plain": [
       "<praw.reddit.Reddit at 0x10ccc2570>"
      ]
     },
     "execution_count": 13,
     "metadata": {},
     "output_type": "execute_result"
    }
   ],
   "source": [
    "reddit"
   ]
  },
  {
   "cell_type": "code",
   "execution_count": 15,
   "metadata": {
    "id": "poGsr4X9tv42"
   },
   "outputs": [],
   "source": [
    "subreddit_name = 'malaysia'\n",
    "subreddit = reddit.subreddit(subreddit_name)"
   ]
  },
  {
   "cell_type": "code",
   "execution_count": 17,
   "metadata": {
    "colab": {
     "base_uri": "https://localhost:8080/"
    },
    "executionInfo": {
     "elapsed": 96527,
     "status": "ok",
     "timestamp": 1685518357553,
     "user": {
      "displayName": "Maheshkumar Paik",
      "userId": "02349378107593826691"
     },
     "user_tz": -480
    },
    "id": "_iuNlRadtx9T",
    "outputId": "deee9289-d1f9-4811-eb8e-80db3438e8f1"
   },
   "outputs": [],
   "source": [
    "comments = []\n",
    "for comment in subreddit.comments(limit=1000):\n",
    "    comments.append(comment)"
   ]
  },
  {
   "cell_type": "code",
   "execution_count": null,
   "metadata": {
    "colab": {
     "base_uri": "https://localhost:8080/"
    },
    "executionInfo": {
     "elapsed": 7,
     "status": "ok",
     "timestamp": 1685521538900,
     "user": {
      "displayName": "Maheshkumar Paik",
      "userId": "02349378107593826691"
     },
     "user_tz": -480
    },
    "id": "6MvyYewEKcll",
    "outputId": "3c40f831-334b-4f57-bd1b-d229134ae7f8"
   },
   "outputs": [],
   "source": [
    "reddit.subreddit(subreddit_name)"
   ]
  },
  {
   "cell_type": "markdown",
   "metadata": {
    "id": "AKfXBu7yKcln"
   },
   "source": [
    "Consult the PRAW and Reddit API documentation. Print a few of the response members below:"
   ]
  },
  {
   "cell_type": "markdown",
   "metadata": {
    "id": "5L10cuKfKclp"
   },
   "source": [
    "Content in Reddit is grouped by topics called \"subreddits\". Content, called \"submissions\", is fetched by calling the `subreddit` method of the connection object (which is our `reddit` variable) with an argument that matches an actual topic.\n",
    "\n",
    "We also need to append a further method call to a \"subinstance\", such as one of the following:\n",
    "\n",
    "- controversial\n",
    "- gilded\n",
    "- hot\n",
    "- new\n",
    "- rising\n",
    "- top\n",
    "\n",
    "One of the submission objects members is `title`. Fetch and print 10 submission titles from the 'learnpython' subreddit using one of the subinstances above:"
   ]
  },
  {
   "cell_type": "code",
   "execution_count": 19,
   "metadata": {
    "colab": {
     "base_uri": "https://localhost:8080/"
    },
    "executionInfo": {
     "elapsed": 433,
     "status": "ok",
     "timestamp": 1685521546523,
     "user": {
      "displayName": "Maheshkumar Paik",
      "userId": "02349378107593826691"
     },
     "user_tz": -480
    },
    "id": "2W1iCDE9Kclp",
    "outputId": "1af1e406-d056-4cf6-da9c-e80705981b37"
   },
   "outputs": [
    {
     "name": "stdout",
     "output_type": "stream",
     "text": [
      "Ask Anything Monday - Weekly Thread\n",
      "What book is the Python equivalent of the C K&R\n",
      "How to really start learning python\n",
      "Function argument with a default value is not like Optional\n",
      "Self-taught Python learner aiming for AI/ML career...Struggling to find an efficient path. Advice?\n",
      "Method that calls another method\n",
      "How do you structure modular Jupyter notebooks for deep learning projects to avoid clutter and improve maintainability? Is it even a thing?\n",
      "Project code base organisation , dependency management and releases\n",
      "Asking advise in python\n",
      "Looking for Library to predict category name based on text field\n"
     ]
    }
   ],
   "source": [
    "for submission in reddit.subreddit('learnpython').hot(limit=10):\n",
    "    print(submission.title)"
   ]
  },
  {
   "cell_type": "markdown",
   "metadata": {
    "id": "00coF0YJKclr"
   },
   "source": [
    "Now retrieve 10 authors:"
   ]
  },
  {
   "cell_type": "code",
   "execution_count": 27,
   "metadata": {
    "colab": {
     "base_uri": "https://localhost:8080/"
    },
    "executionInfo": {
     "elapsed": 7086,
     "status": "ok",
     "timestamp": 1685521557229,
     "user": {
      "displayName": "Maheshkumar Paik",
      "userId": "02349378107593826691"
     },
     "user_tz": -480
    },
    "id": "U1vTByCGKclr",
    "outputId": "836a8bf7-dbaa-45f2-ae11-559bee7c2744"
   },
   "outputs": [
    {
     "name": "stdout",
     "output_type": "stream",
     "text": [
      "Author: AutoModerator | Title: Ask Anything Monday - Weekly Thread\n",
      "Author: Yelebear | Title: What book is the Python equivalent of the C K&R\n",
      "Author: HussamSawaftah | Title: How to really start learning python\n",
      "Author: Neither_Garage_758 | Title: Function argument with a default value is not like Optional\n",
      "Author: Able-Lawfulness-1412 | Title: Self-taught Python learner aiming for AI/ML career...Struggling to find an efficient path. Advice?\n",
      "Author: Dear_Bowler_1707 | Title: Method that calls another method\n",
      "Author: Syntaxerr69 | Title: How do you structure modular Jupyter notebooks for deep learning projects to avoid clutter and improve maintainability? Is it even a thing?\n",
      "Author: shreeneewas | Title: Project code base organisation , dependency management and releases\n",
      "Author: golden_Braine | Title: Asking advise in python\n",
      "Author: BariFan410 | Title: Looking for Library to predict category name based on text field\n"
     ]
    }
   ],
   "source": [
    "submissions = reddit.subreddit('learnpython').hot(limit=10)\n",
    "for submission in submissions:\n",
    "    print(\"Author: {} | Title: {}\".format(submission.author, submission.title))"
   ]
  },
  {
   "cell_type": "markdown",
   "metadata": {
    "id": "dOFMMl6AKclt"
   },
   "source": [
    "Note that we obtained the titles and authors from separate API calls. Can we expect these to correspond to the same submissions? If not, how could we gurantee that they do?"
   ]
  },
  {
   "cell_type": "code",
   "execution_count": 29,
   "metadata": {
    "id": "eIPVr-WaKclu"
   },
   "outputs": [],
   "source": [
    "submissions=reddit.subreddit('learnpython')"
   ]
  },
  {
   "cell_type": "markdown",
   "metadata": {
    "id": "IjIJ6ojAKclv"
   },
   "source": [
    "Why doesn't the next cell produce output?"
   ]
  },
  {
   "cell_type": "code",
   "execution_count": 35,
   "metadata": {
    "colab": {
     "base_uri": "https://localhost:8080/",
     "height": 183
    },
    "executionInfo": {
     "elapsed": 6,
     "status": "error",
     "timestamp": 1685521616248,
     "user": {
      "displayName": "Maheshkumar Paik",
      "userId": "02349378107593826691"
     },
     "user_tz": -480
    },
    "id": "ifxjcJ2aKclw",
    "outputId": "7e555d2c-0489-4eaa-888d-66fe598c1bf9"
   },
   "outputs": [
    {
     "name": "stdout",
     "output_type": "stream",
     "text": [
      "<praw.models.comment_forest.CommentForest object at 0x1180be7e0>\n",
      "<praw.models.comment_forest.CommentForest object at 0x11811fad0>\n",
      "<praw.models.comment_forest.CommentForest object at 0x1181f4f80>\n",
      "<praw.models.comment_forest.CommentForest object at 0x1182b2cf0>\n",
      "<praw.models.comment_forest.CommentForest object at 0x118396c60>\n"
     ]
    }
   ],
   "source": [
    "for submission in subreddit.top(limit=5):\n",
    "    print(submission.comments)"
   ]
  },
  {
   "cell_type": "markdown",
   "metadata": {
    "id": "4aZ2OSd_Kclz"
   },
   "source": [
    "Print two comments associated with each of these submissions:"
   ]
  },
  {
   "cell_type": "code",
   "execution_count": 37,
   "metadata": {
    "colab": {
     "base_uri": "https://localhost:8080/"
    },
    "executionInfo": {
     "elapsed": 81419,
     "status": "ok",
     "timestamp": 1685521718870,
     "user": {
      "displayName": "Maheshkumar Paik",
      "userId": "02349378107593826691"
     },
     "user_tz": -480
    },
    "id": "RO4ppDPJKcl0",
    "outputId": "523482f9-0c62-42c2-d039-f0b34962ba26"
   },
   "outputs": [
    {
     "name": "stdout",
     "output_type": "stream",
     "text": [
      "How to understand that I’ve mastered the basics? And what are they? I watched video where man recommended this order of skills learning. \n",
      "\n",
      "DATA TYPES\n",
      "Operators\n",
      "Variables\n",
      "Conditions \n",
      "Conditionals\n",
      "Looping\n",
      "Functions\n",
      "What are the best online resources for learning pandas, numpy and mapplot?\n",
      "Python.org\n",
      "I’m probably never going to learn C so I’ll never read this book. But I see this question a lot for different programming languages where someone is looking for the equivalent of this book. \n",
      "\n",
      "Why is it so revered? What’s unique about the way it presents the information?\n",
      "Stop following courses or tutorial series as you will only get so far. You need to learn to brainstorm project ideas and then make them. \n",
      "Sounds like you're stuck in tutorial hell. Pick a project and learn by doing.\n",
      "> Why a function default argument is not a syntactic sugar for Optional so one can programmatically pass `None` to get the default value ?\n",
      "\n",
      "Because that's how it was designed. What, exactly, are you looking for here?\n",
      "\n",
      "> How should we do wrappers functions without copying the default values of the wrapped function ?\n",
      "\n",
      "`args` / `kwargs`\n",
      "> Why a function default argument is not a syntactic sugar for Optional so one can programmatically pass `None` to get the default value ? What's the benefit ?\n",
      "\n",
      "How would you pass None to it then if that's the actual value you want to pass? What would be the benefit of losing that distinction between passing None and not including the parameter altogether? Mentioning my grade is None because I didn't take the exam is still different from not mentioning my grade at all.\n",
      "\n",
      "> How should we do wrappers functions without copying the default values of the wrapped function ?\n",
      "\n",
      "Not sure if I follow but wrappers use `*args` and `**kwargs` to blindly passhtrough the parameters.\n",
      "You just started college, which is 4 years or 6 years away? \n",
      "\n",
      "Why are you not using resources from your college like guidance counselors, career, and speaking with instructors, I mean you are paying for this assistance, right?\n",
      "Many of the lucrative, high-paying AI/ML roles say they don't require degrees but require extensive experience. Unfortunately, the roles that allow you to gain extensive experience do seem to require Masters/PhDs. On that front, there will be no quick and easy ways--you're looking at a 6- to 10-year timeline. I know a couple of data scientists who make big money but both have PhDs.\n",
      "\n",
      "\\- Hold off on an online tutor: all the free-tier LLMs make great tutors. You can tell them that you're a beginner and it can simplify explanations further.\n",
      "\n",
      "\\- AI/ML is going to contain a lot of math.\n",
      "\n",
      "\\- I've only picked up Python (and programming in general) a little over a year ago and I can make decent submissions to basic Kaggle ML competitions and have built a multi-agent AI workflow for my own work. My track: Harvardx CS50x, CS50p, CS50sql, 100 day of code:python (udemy), CS50ai, and Kaggle mini courses. Most of these are free (udemy course was $20). \n",
      "\n",
      "\\- Running into walls is a good thing. I learned the most when I struggled.\n",
      "> we are looking at something that sits between devops and production quality applications.\n",
      "\n",
      "IMO, there should be no difference in quality for any of your code. Doing so is just a way to encourage low quality code. Do it right the first time, and every time.\n",
      "\n",
      "> how are internal and external dependencies are managed and finally how the finished products are built and delivered to production.\n",
      "\n",
      "I have no idea what you mean by \"internal and external dependencies\". Python has the local app, and installed libraries. Both end up being just dependencies.\n",
      "\n",
      "You should be using a package manager, and every project should be organizes as a package. `uv` is the current tool of choice.\n",
      "\n",
      "> when I open a GitHub repository of python code, how should I read the code base ?\n",
      "\n",
      "Read it in the same path as it executes. There is no one way a collection of Python code executes, so there is no one answer.\n",
      "I'm not usually one to just suggest using an LLM in this subreddit, but this kind of task seems perfect for an LLM: how often does one of these particular genre words appear near the names of these particular authors or book titles with these particular words?\n",
      "I was picturing something like an LLM, but because of the nature of the data, the only training data would be the data frame I input. Im not looking for something that is using outside data. \n",
      "\n",
      "In my data the \"genre\" might use similar key words within the title, or might share similar subcategories like if one author always worked in the same genre\n"
     ]
    }
   ],
   "source": [
    "submissions = reddit.subreddit('learnpython').hot(limit=10)\n",
    "for submission in submissions:\n",
    "    top_level_comments = list(submission.comments)\n",
    "    all_comments = submission.comments.list()[:2]\n",
    "    for comment in all_comments:\n",
    "        print(comment.body)"
   ]
  },
  {
   "cell_type": "markdown",
   "metadata": {
    "id": "JvYEOesKKcl2"
   },
   "source": [
    "Referring to the API documentation, explore the submissions object and print some interesting data:"
   ]
  },
  {
   "cell_type": "markdown",
   "metadata": {
    "id": "Khno5kpWKcl5"
   },
   "source": [
    "#### Posting to Reddit"
   ]
  },
  {
   "cell_type": "markdown",
   "metadata": {
    "id": "zjnyN1OfKcl6"
   },
   "source": [
    "To be able to post to your Reddit account (i.e. contribute submissions), you need to connect to the API with read/write privilege. This requires an *authorised instance*, which is obtained by including your Reddit user name and password in the connection request:"
   ]
  },
  {
   "cell_type": "code",
   "execution_count": 41,
   "metadata": {
    "colab": {
     "base_uri": "https://localhost:8080/"
    },
    "executionInfo": {
     "elapsed": 12,
     "status": "ok",
     "timestamp": 1685521718870,
     "user": {
      "displayName": "Maheshkumar Paik",
      "userId": "02349378107593826691"
     },
     "user_tz": -480
    },
    "id": "ZXG7kouZKcl7",
    "outputId": "5afb108d-aab6-4bb9-af3e-8329d75b1c72"
   },
   "outputs": [
    {
     "name": "stdout",
     "output_type": "stream",
     "text": [
      "False\n"
     ]
    }
   ],
   "source": [
    "reddit = praw.Reddit(client_id='my client id',\n",
    "                     client_secret='my client secret',\n",
    "                     user_agent='my user agent',\n",
    "                     username='my username',\n",
    "                     password='my password')\n",
    "print(reddit.read_only)  # Output: False"
   ]
  },
  {
   "cell_type": "markdown",
   "metadata": {
    "id": "nEjrsF9vKcl-"
   },
   "source": [
    "You could hide these last two credentials by adding them to your JSON file and then reading all five values at once."
   ]
  },
  {
   "cell_type": "markdown",
   "metadata": {
    "id": "WqBG4xS5Kk3X"
   },
   "source": [
    ">\n",
    ">\n"
   ]
  },
  {
   "cell_type": "markdown",
   "metadata": {
    "id": "EfPDz2gEKnRn"
   },
   "source": [
    ">\n",
    ">\n"
   ]
  },
  {
   "cell_type": "markdown",
   "metadata": {
    "id": "5Uo-KnYhKoRA"
   },
   "source": [
    "\n",
    "\n",
    "---\n",
    "\n",
    "\n",
    "\n",
    "---\n",
    "\n",
    "\n",
    "\n",
    "> > > > > > > > > © 2025 Institute of Data\n",
    "\n",
    "\n",
    "---\n",
    "\n",
    "\n",
    "\n",
    "---\n",
    "\n",
    "\n",
    "\n"
   ]
  }
 ],
 "metadata": {
  "colab": {
   "provenance": []
  },
  "kernelspec": {
   "display_name": "Python [conda env:base] *",
   "language": "python",
   "name": "conda-base-py"
  },
  "language_info": {
   "codemirror_mode": {
    "name": "ipython",
    "version": 3
   },
   "file_extension": ".py",
   "mimetype": "text/x-python",
   "name": "python",
   "nbconvert_exporter": "python",
   "pygments_lexer": "ipython3",
   "version": "3.12.7"
  }
 },
 "nbformat": 4,
 "nbformat_minor": 4
}
